{
 "cells": [
  {
   "cell_type": "markdown",
   "metadata": {},
   "source": [
    "# Lab 2: Supervised Learning"
   ]
  },
  {
   "cell_type": "markdown",
   "metadata": {},
   "source": [
    "In this lab, we prepare our Kiva data for a linear model, partake in additional exploratory analysis in order to engineer explanatory features that attempt to answer a question we are interested in: \n",
    "\n",
    "*What drives the loan amount requested by KIVA borrowers? * \n",
    "\n",
    "In the language of Module 1, our outcome feature is **loan_amount**. \n",
    "\n",
    "Here's a look ahead at what we'll be doing in this notebook: \n",
    "\n",
    "1. Load data and packages \n",
    "\n",
    "2. Feature engineering and selection"
   ]
  },
  {
   "cell_type": "markdown",
   "metadata": {},
   "source": [
    "## **If you haven't already, please run through Notebook 1!**  You need the final ouput df_module_1.csv. You also need to pip install geopy in your terminal.\n",
    "\n",
    "As a reminder, we had 3 raw data files (loans_full, loans_detail, and loans_partner_details). In Notebook 1 module_1_exploratory_analysis_with_solutions, we merged these data files and created new variables to form the data frame \"df_module_1\", we exported it as df_module_1.csv. We will use this dataframe now. "
   ]
  },
  {
   "cell_type": "markdown",
   "metadata": {},
   "source": [
    "First, we will load the packages we need for this section, and our data. "
   ]
  },
  {
   "cell_type": "code",
   "execution_count": 2,
   "metadata": {},
   "outputs": [
    {
     "name": "stderr",
     "output_type": "stream",
     "text": [
      "/Library/Frameworks/Python.framework/Versions/3.5/lib/python3.5/site-packages/ggplot/utils.py:81: FutureWarning: pandas.tslib is deprecated and will be removed in a future version.\n",
      "You can access Timestamp as pandas.Timestamp\n",
      "  pd.tslib.Timestamp,\n",
      "/Library/Frameworks/Python.framework/Versions/3.5/lib/python3.5/site-packages/ggplot/stats/smoothers.py:4: FutureWarning: The pandas.lib module is deprecated and will be removed in a future version. These are private functions and can be accessed from pandas._libs.lib instead\n",
      "  from pandas.lib import Timestamp\n",
      "/Library/Frameworks/Python.framework/Versions/3.5/lib/python3.5/site-packages/statsmodels/compat/pandas.py:56: FutureWarning: The pandas.core.datetools module is deprecated and will be removed in a future version. Please use the pandas.tseries module instead.\n",
      "  from pandas.core import datetools\n"
     ]
    }
   ],
   "source": [
    "## Import packages\n",
    "\n",
    "import pandas as pd\n",
    "import numpy as np\n",
    "from datetime import datetime\n",
    "from ggplot import *\n",
    "from bs4 import BeautifulSoup\n",
    "import re as re\n",
    "import types\n",
    "import seaborn as sns\n",
    "%matplotlib inline\n",
    "\n",
    "# packages for checking assumptions\n",
    "from scipy import stats as stats\n",
    "\n",
    "import matplotlib.pyplot as plt\n",
    "import time\n",
    "plt.style.use('bmh') \n",
    "\n",
    "#package for location features, if you do not already have this and it throws an error run pip install geopy from your\n",
    "#terminal\n",
    "from geopy.geocoders import Nominatim\n",
    "from geopy.exc import GeocoderTimedOut"
   ]
  },
  {
   "cell_type": "code",
   "execution_count": 3,
   "metadata": {
    "collapsed": true
   },
   "outputs": [],
   "source": [
    "# the command below means that the output of multiple commands in a cell will be output at once.\n",
    "from IPython.core.interactiveshell import InteractiveShell\n",
    "InteractiveShell.ast_node_interactivity = \"all\""
   ]
  },
  {
   "cell_type": "code",
   "execution_count": 4,
   "metadata": {
    "collapsed": true
   },
   "outputs": [],
   "source": [
    "# the command below tells jupyter to display up to 100 columns, this keeps everything visible\n",
    "pd.set_option('display.max_columns', 100)\n",
    "pd.set_option('expand_frame_repr', True)"
   ]
  },
  {
   "cell_type": "code",
   "execution_count": 5,
   "metadata": {},
   "outputs": [],
   "source": [
    "# Read in data\n",
    "data_path = '~/AnacondaProjects/intro_to_machine_learning/data/'\n",
    "df = pd.read_csv(data_path+'df_module_1.csv', low_memory=False)\n",
    "df = pd.read_csv(data_path+'province_counties_KE.csv', low_memory=False)\n",
    "# Read in data\n",
    "data_path = '~/AnacondaProjects/intro_to_machine_learning/data/'\n",
    "df = pd.read_csv(data_path+'df_module_1.csv', low_memory=False)"
   ]
  },
  {
   "cell_type": "code",
   "execution_count": 6,
   "metadata": {},
   "outputs": [
    {
     "data": {
      "text/plain": [
       "118316"
      ]
     },
     "execution_count": 6,
     "metadata": {},
     "output_type": "execute_result"
    }
   ],
   "source": [
    "len(df.index)"
   ]
  },
  {
   "cell_type": "code",
   "execution_count": 6,
   "metadata": {
    "collapsed": true
   },
   "outputs": [],
   "source": []
  },
  {
   "cell_type": "markdown",
   "metadata": {},
   "source": [
    "## Remove Loan Amount Outliers"
   ]
  },
  {
   "cell_type": "markdown",
   "metadata": {},
   "source": [
    "In the exploratory module we introduced the concept of outliers and showed why it might be important to remove outlier loan amounts. Outliers are not strictly defined, but here, we suggest that a reasonable definition of an outlier is an observation that falls outside 3 standard deviations from the mean. In laymans terms, this means that an outlier is on the very tail end of a distribution. For a more rigorous definition of a standard deviation, read [here](http://mathworld.wolfram.com/Outlier.html).\n",
    "\n",
    "Our data is very skewed by several extreme loan amount outliers. Now that we are considering a linear regression model, we should revisit removing our loan_amount outliers completely since they will cause bias in our results.\n",
    "\n",
    "First, we look at the distribution of loans with outliers included."
   ]
  },
  {
   "cell_type": "code",
   "execution_count": 8,
   "metadata": {
    "scrolled": true
   },
   "outputs": [
    {
     "data": {
      "image/png": "[encoded data removed]",
      "text/plain": [
       "<matplotlib.figure.Figure at 0x1048769b0>"
      ]
     },
     "metadata": {},
     "output_type": "display_data"
    },
    {
     "data": {
      "text/plain": [
       "<ggplot: (-9223372036581576886)>"
      ]
     },
     "execution_count": 8,
     "metadata": {},
     "output_type": "execute_result"
    }
   ],
   "source": [
    "ggplot(df, aes(x='loan_amount')) + geom_histogram(binwidth=100, fill=\"blue\") + xlim(0, 10000) + \\\n",
    "ggtitle(\"Loan Amounts Requested on Kiva\") + xlab(\"Loan Amounts\") + ylab(\"Count of Loans\")"
   ]
  },
  {
   "cell_type": "markdown",
   "metadata": {},
   "source": [
    "We first analyze the implications of removing outliers by creating a new dataframe without outliers. We call this df_removed_outliers. We can immediately see that the data is less skewed. This suggests we should remove outliers from our df dataframe permanently."
   ]
  },
  {
   "cell_type": "code",
   "execution_count": 9,
   "metadata": {
    "collapsed": true
   },
   "outputs": [],
   "source": [
    "# dataset without outliers\n",
    "df_removed_outliers=df[(((df['loan_amount']-df['loan_amount'].mean())/(df['loan_amount'].std())).abs()<3)] "
   ]
  },
  {
   "cell_type": "code",
   "execution_count": 10,
   "metadata": {},
   "outputs": [
    {
     "data": {
      "image/png": "[encoded data removed]",
      "text/plain": [
       "<matplotlib.figure.Figure at 0x11678add8>"
      ]
     },
     "metadata": {},
     "output_type": "display_data"
    },
    {
     "data": {
      "text/plain": [
       "<ggplot: (288483255)>"
      ]
     },
     "execution_count": 10,
     "metadata": {},
     "output_type": "execute_result"
    }
   ],
   "source": [
    "ggplot(df_removed_outliers, aes(x='loan_amount')) + geom_histogram(binwidth=100, fill=\"blue\") + xlim(0, 2000) + \\\n",
    "ggtitle(\"Loan Amounts Requested on Kiva\") + xlab(\"Loan Amounts\") + ylab(\"Count of Loans\")"
   ]
  },
  {
   "cell_type": "markdown",
   "metadata": {},
   "source": [
    "We should also examine what these outliers are to make sure they make sense excluding. We can see from the sample below that many of the biggest loans are for education grants. However, since so many of our loans are for $250, we conclude that the outliers are not representative of the typical Kiva borrower. But which loan should we exclude? Using the metric of standard deviation, it appears that many of the outliers as defined by those that lie outside the standard deviation are in fact for reasonable amounts. It is not clear we should simply exclude all of these loans."
   ]
  },
  {
   "cell_type": "code",
   "execution_count": 11,
   "metadata": {
    "collapsed": true,
    "scrolled": false
   },
   "outputs": [],
   "source": [
    "outliers=df[~(((df['loan_amount']-df['loan_amount'].mean())/(df['loan_amount'].std())).abs()<3)] "
   ]
  },
  {
   "cell_type": "code",
   "execution_count": 12,
   "metadata": {},
   "outputs": [
    {
     "data": {
      "text/html": [
       "<div>\n",
       "<style>\n",
       "    .dataframe thead tr:only-child th {\n",
       "        text-align: right;\n",
       "    }\n",
       "\n",
       "    .dataframe thead th {\n",
       "        text-align: left;\n",
       "    }\n",
       "\n",
       "    .dataframe tbody tr th {\n",
       "        vertical-align: top;\n",
       "    }\n",
       "</style>\n",
       "<table border=\"1\" class=\"dataframe\">\n",
       "  <thead>\n",
       "    <tr style=\"text-align: right;\">\n",
       "      <th></th>\n",
       "      <th>Unnamed: 0</th>\n",
       "      <th>Unnamed: 0.1</th>\n",
       "      <th>activity</th>\n",
       "      <th>basket_amount</th>\n",
       "      <th>bonus_credit_eligibility</th>\n",
       "      <th>borrowers</th>\n",
       "      <th>currency_exchange_loss_amount</th>\n",
       "      <th>description.languages</th>\n",
       "      <th>description.texts.en</th>\n",
       "      <th>description.texts.es</th>\n",
       "      <th>description.texts.fr</th>\n",
       "      <th>description.texts.ru</th>\n",
       "      <th>funded_amount</th>\n",
       "      <th>funded_date</th>\n",
       "      <th>id</th>\n",
       "      <th>image.id</th>\n",
       "      <th>image.template_id</th>\n",
       "      <th>journal_totals.bulkEntries</th>\n",
       "      <th>journal_totals.entries</th>\n",
       "      <th>lender_count</th>\n",
       "      <th>loan_amount</th>\n",
       "      <th>location.country</th>\n",
       "      <th>location.country_code</th>\n",
       "      <th>location.geo.level</th>\n",
       "      <th>location.geo.pairs</th>\n",
       "      <th>location.geo.type</th>\n",
       "      <th>location.town</th>\n",
       "      <th>name</th>\n",
       "      <th>partner_id</th>\n",
       "      <th>payments</th>\n",
       "      <th>planned_expiration_date</th>\n",
       "      <th>posted_date</th>\n",
       "      <th>sector</th>\n",
       "      <th>status</th>\n",
       "      <th>tags</th>\n",
       "      <th>terms.disbursal_amount</th>\n",
       "      <th>terms.disbursal_currency</th>\n",
       "      <th>terms.disbursal_date</th>\n",
       "      <th>terms.loan_amount</th>\n",
       "      <th>terms.local_payments</th>\n",
       "      <th>terms.loss_liability.currency_exchange</th>\n",
       "      <th>terms.loss_liability.currency_exchange_coverage_rate</th>\n",
       "      <th>terms.loss_liability.nonpayment</th>\n",
       "      <th>terms.repayment_interval</th>\n",
       "      <th>terms.repayment_term</th>\n",
       "      <th>terms.scheduled_payments</th>\n",
       "      <th>themes</th>\n",
       "      <th>translator.byline</th>\n",
       "      <th>translator.image</th>\n",
       "      <th>use</th>\n",
       "      <th>video.id</th>\n",
       "      <th>video.thumbnailImageId</th>\n",
       "      <th>video.title</th>\n",
       "      <th>video.youtubeId</th>\n",
       "      <th>borrower_count</th>\n",
       "      <th>partner_average_loan_size_percent_per_capita_income</th>\n",
       "      <th>partner_charges_fees_and_interest</th>\n",
       "      <th>partner_countries</th>\n",
       "      <th>partner_currency_exchange_loss_rate</th>\n",
       "      <th>partner_default_rate</th>\n",
       "      <th>partner_default_rate_note</th>\n",
       "      <th>partner_delinquency_rate</th>\n",
       "      <th>partner_delinquency_rate_note</th>\n",
       "      <th>partner_image.id</th>\n",
       "      <th>partner_image.template_id</th>\n",
       "      <th>partner_loans_at_risk_rate</th>\n",
       "      <th>partner_loans_posted</th>\n",
       "      <th>partner_name</th>\n",
       "      <th>partner_portfolio_yield</th>\n",
       "      <th>partner_portfolio_yield_note</th>\n",
       "      <th>partner_profitability</th>\n",
       "      <th>partner_rating</th>\n",
       "      <th>partner_social_performance_strengths</th>\n",
       "      <th>partner_start_date</th>\n",
       "      <th>partner_status</th>\n",
       "      <th>partner_total_amount_raised</th>\n",
       "      <th>partner_url</th>\n",
       "      <th>posted_datetime</th>\n",
       "      <th>planned_expiration_datetime</th>\n",
       "      <th>funded_datetime</th>\n",
       "      <th>dispursal_datetime</th>\n",
       "      <th>dispersal_date</th>\n",
       "      <th>posted_year</th>\n",
       "      <th>number_of_loans</th>\n",
       "      <th>gender</th>\n",
       "    </tr>\n",
       "  </thead>\n",
       "  <tbody>\n",
       "    <tr>\n",
       "      <th>2446</th>\n",
       "      <td>2446</td>\n",
       "      <td>76</td>\n",
       "      <td>Cereals</td>\n",
       "      <td>0.0</td>\n",
       "      <td>False</td>\n",
       "      <td>[{'first_name': 'Emmy', 'last_name': '', 'gend...</td>\n",
       "      <td>NaN</td>\n",
       "      <td>['en']</td>\n",
       "      <td>Emmy would be characterized by her neighbours ...</td>\n",
       "      <td>NaN</td>\n",
       "      <td>NaN</td>\n",
       "      <td>NaN</td>\n",
       "      <td>0</td>\n",
       "      <td>NaN</td>\n",
       "      <td>1290670</td>\n",
       "      <td>2514887</td>\n",
       "      <td>1</td>\n",
       "      <td>0</td>\n",
       "      <td>0</td>\n",
       "      <td>0</td>\n",
       "      <td>2825</td>\n",
       "      <td>Kenya</td>\n",
       "      <td>KE</td>\n",
       "      <td>town</td>\n",
       "      <td>1 38</td>\n",
       "      <td>point</td>\n",
       "      <td>Bomet</td>\n",
       "      <td>Emmy</td>\n",
       "      <td>156.0</td>\n",
       "      <td>[]</td>\n",
       "      <td>2017-06-06</td>\n",
       "      <td>2017-05-07</td>\n",
       "      <td>Food</td>\n",
       "      <td>fundraising</td>\n",
       "      <td>[{'name': '#Woman Owned Biz'}, {'name': '#Pare...</td>\n",
       "      <td>290000.0</td>\n",
       "      <td>KES</td>\n",
       "      <td>2017-04-29T07:00:00Z</td>\n",
       "      <td>2825</td>\n",
       "      <td>[{'due_date': '2017-05-29T07:00:00Z', 'amount'...</td>\n",
       "      <td>shared</td>\n",
       "      <td>0.1</td>\n",
       "      <td>lender</td>\n",
       "      <td>Monthly</td>\n",
       "      <td>20</td>\n",
       "      <td>[{'due_date': '2017-07-01T07:00:00Z', 'amount'...</td>\n",
       "      <td>NaN</td>\n",
       "      <td>NaN</td>\n",
       "      <td>NaN</td>\n",
       "      <td>to buy cereals.</td>\n",
       "      <td>NaN</td>\n",
       "      <td>NaN</td>\n",
       "      <td>NaN</td>\n",
       "      <td>NaN</td>\n",
       "      <td>1</td>\n",
       "      <td>49.6</td>\n",
       "      <td>True</td>\n",
       "      <td>[{'iso_code': 'KE', 'region': 'Africa', 'name'...</td>\n",
       "      <td>0.431935</td>\n",
       "      <td>2.575299</td>\n",
       "      <td>NaN</td>\n",
       "      <td>2.536684</td>\n",
       "      <td>NaN</td>\n",
       "      <td>1834079</td>\n",
       "      <td>1</td>\n",
       "      <td>24.200354</td>\n",
       "      <td>18150</td>\n",
       "      <td>Juhudi Kilimo</td>\n",
       "      <td>33.0</td>\n",
       "      <td>NaN</td>\n",
       "      <td>-7.1</td>\n",
       "      <td>2.0</td>\n",
       "      <td>[{'id': 1, 'name': 'Anti-Poverty Focus', 'desc...</td>\n",
       "      <td>2010-01-15T20:20:17Z</td>\n",
       "      <td>active</td>\n",
       "      <td>7705925</td>\n",
       "      <td>http://www.juhudikilimo.com/</td>\n",
       "      <td>2017-05-07 21:10:03</td>\n",
       "      <td>2017-06-06 21:10:03</td>\n",
       "      <td>NaN</td>\n",
       "      <td>2017-04-29 07:00:00</td>\n",
       "      <td>2017-04-29</td>\n",
       "      <td>2017</td>\n",
       "      <td>1</td>\n",
       "      <td>Female</td>\n",
       "    </tr>\n",
       "    <tr>\n",
       "      <th>2665</th>\n",
       "      <td>2665</td>\n",
       "      <td>724</td>\n",
       "      <td>Higher education costs</td>\n",
       "      <td>NaN</td>\n",
       "      <td>False</td>\n",
       "      <td>[{'first_name': 'Emma', 'last_name': '', 'gend...</td>\n",
       "      <td>NaN</td>\n",
       "      <td>['en']</td>\n",
       "      <td>Greetings from Nairobi, Kenya! &lt;br /&gt;&lt;br /&gt;Thi...</td>\n",
       "      <td>NaN</td>\n",
       "      <td>NaN</td>\n",
       "      <td>NaN</td>\n",
       "      <td>3375</td>\n",
       "      <td>2017-05-01</td>\n",
       "      <td>1283742</td>\n",
       "      <td>2505410</td>\n",
       "      <td>1</td>\n",
       "      <td>0</td>\n",
       "      <td>0</td>\n",
       "      <td>119</td>\n",
       "      <td>3375</td>\n",
       "      <td>Kenya</td>\n",
       "      <td>KE</td>\n",
       "      <td>town</td>\n",
       "      <td>-1.283333 36.816667</td>\n",
       "      <td>point</td>\n",
       "      <td>Nairobi</td>\n",
       "      <td>Emma</td>\n",
       "      <td>156.0</td>\n",
       "      <td>[]</td>\n",
       "      <td>2017-05-30</td>\n",
       "      <td>2017-04-30</td>\n",
       "      <td>Education</td>\n",
       "      <td>funded</td>\n",
       "      <td>[{'name': '#Parent'}, {'name': '#Schooling'}, ...</td>\n",
       "      <td>347200.0</td>\n",
       "      <td>KES</td>\n",
       "      <td>2017-04-23T07:00:00Z</td>\n",
       "      <td>3375</td>\n",
       "      <td>[]</td>\n",
       "      <td>shared</td>\n",
       "      <td>0.1</td>\n",
       "      <td>lender</td>\n",
       "      <td>NaN</td>\n",
       "      <td>62</td>\n",
       "      <td>[]</td>\n",
       "      <td>['Higher Education']</td>\n",
       "      <td>Usha Schmit</td>\n",
       "      <td>2047322.0</td>\n",
       "      <td>to pay for a course in human resource managment.</td>\n",
       "      <td>NaN</td>\n",
       "      <td>NaN</td>\n",
       "      <td>NaN</td>\n",
       "      <td>NaN</td>\n",
       "      <td>1</td>\n",
       "      <td>49.6</td>\n",
       "      <td>True</td>\n",
       "      <td>[{'iso_code': 'KE', 'region': 'Africa', 'name'...</td>\n",
       "      <td>0.431935</td>\n",
       "      <td>2.575299</td>\n",
       "      <td>NaN</td>\n",
       "      <td>2.536684</td>\n",
       "      <td>NaN</td>\n",
       "      <td>1834079</td>\n",
       "      <td>1</td>\n",
       "      <td>24.200354</td>\n",
       "      <td>18150</td>\n",
       "      <td>Juhudi Kilimo</td>\n",
       "      <td>33.0</td>\n",
       "      <td>NaN</td>\n",
       "      <td>-7.1</td>\n",
       "      <td>2.0</td>\n",
       "      <td>[{'id': 1, 'name': 'Anti-Poverty Focus', 'desc...</td>\n",
       "      <td>2010-01-15T20:20:17Z</td>\n",
       "      <td>active</td>\n",
       "      <td>7705925</td>\n",
       "      <td>http://www.juhudikilimo.com/</td>\n",
       "      <td>2017-04-30 02:20:02</td>\n",
       "      <td>2017-05-30 02:20:02</td>\n",
       "      <td>2017-05-01 14:38:23</td>\n",
       "      <td>2017-04-23 07:00:00</td>\n",
       "      <td>2017-04-23</td>\n",
       "      <td>2017</td>\n",
       "      <td>1</td>\n",
       "      <td>Female</td>\n",
       "    </tr>\n",
       "  </tbody>\n",
       "</table>\n",
       "</div>"
      ],
      "text/plain": [
       "      Unnamed: 0  Unnamed: 0.1                activity  basket_amount  \\\n",
       "2446        2446            76                 Cereals            0.0   \n",
       "2665        2665           724  Higher education costs            NaN   \n",
       "\n",
       "      bonus_credit_eligibility  \\\n",
       "2446                     False   \n",
       "2665                     False   \n",
       "\n",
       "                                              borrowers  \\\n",
       "2446  [{'first_name': 'Emmy', 'last_name': '', 'gend...   \n",
       "2665  [{'first_name': 'Emma', 'last_name': '', 'gend...   \n",
       "\n",
       "      currency_exchange_loss_amount description.languages  \\\n",
       "2446                            NaN                ['en']   \n",
       "2665                            NaN                ['en']   \n",
       "\n",
       "                                   description.texts.en description.texts.es  \\\n",
       "2446  Emmy would be characterized by her neighbours ...                  NaN   \n",
       "2665  Greetings from Nairobi, Kenya! <br /><br />Thi...                  NaN   \n",
       "\n",
       "     description.texts.fr description.texts.ru  funded_amount funded_date  \\\n",
       "2446                  NaN                  NaN              0         NaN   \n",
       "2665                  NaN                  NaN           3375  2017-05-01   \n",
       "\n",
       "           id  image.id  image.template_id  journal_totals.bulkEntries  \\\n",
       "2446  1290670   2514887                  1                           0   \n",
       "2665  1283742   2505410                  1                           0   \n",
       "\n",
       "      journal_totals.entries  lender_count  loan_amount location.country  \\\n",
       "2446                       0             0         2825            Kenya   \n",
       "2665                       0           119         3375            Kenya   \n",
       "\n",
       "     location.country_code location.geo.level   location.geo.pairs  \\\n",
       "2446                    KE               town                 1 38   \n",
       "2665                    KE               town  -1.283333 36.816667   \n",
       "\n",
       "     location.geo.type location.town  name  partner_id payments  \\\n",
       "2446             point         Bomet  Emmy       156.0       []   \n",
       "2665             point       Nairobi  Emma       156.0       []   \n",
       "\n",
       "     planned_expiration_date posted_date     sector       status  \\\n",
       "2446              2017-06-06  2017-05-07       Food  fundraising   \n",
       "2665              2017-05-30  2017-04-30  Education       funded   \n",
       "\n",
       "                                                   tags  \\\n",
       "2446  [{'name': '#Woman Owned Biz'}, {'name': '#Pare...   \n",
       "2665  [{'name': '#Parent'}, {'name': '#Schooling'}, ...   \n",
       "\n",
       "      terms.disbursal_amount terms.disbursal_currency  terms.disbursal_date  \\\n",
       "2446                290000.0                      KES  2017-04-29T07:00:00Z   \n",
       "2665                347200.0                      KES  2017-04-23T07:00:00Z   \n",
       "\n",
       "      terms.loan_amount                               terms.local_payments  \\\n",
       "2446               2825  [{'due_date': '2017-05-29T07:00:00Z', 'amount'...   \n",
       "2665               3375                                                 []   \n",
       "\n",
       "     terms.loss_liability.currency_exchange  \\\n",
       "2446                                 shared   \n",
       "2665                                 shared   \n",
       "\n",
       "      terms.loss_liability.currency_exchange_coverage_rate  \\\n",
       "2446                                                0.1      \n",
       "2665                                                0.1      \n",
       "\n",
       "     terms.loss_liability.nonpayment terms.repayment_interval  \\\n",
       "2446                          lender                  Monthly   \n",
       "2665                          lender                      NaN   \n",
       "\n",
       "      terms.repayment_term                           terms.scheduled_payments  \\\n",
       "2446                    20  [{'due_date': '2017-07-01T07:00:00Z', 'amount'...   \n",
       "2665                    62                                                 []   \n",
       "\n",
       "                    themes translator.byline  translator.image  \\\n",
       "2446                   NaN               NaN               NaN   \n",
       "2665  ['Higher Education']       Usha Schmit         2047322.0   \n",
       "\n",
       "                                                   use  video.id  \\\n",
       "2446                                   to buy cereals.       NaN   \n",
       "2665  to pay for a course in human resource managment.       NaN   \n",
       "\n",
       "      video.thumbnailImageId video.title video.youtubeId  borrower_count  \\\n",
       "2446                     NaN         NaN             NaN               1   \n",
       "2665                     NaN         NaN             NaN               1   \n",
       "\n",
       "      partner_average_loan_size_percent_per_capita_income  \\\n",
       "2446                                               49.6     \n",
       "2665                                               49.6     \n",
       "\n",
       "      partner_charges_fees_and_interest  \\\n",
       "2446                               True   \n",
       "2665                               True   \n",
       "\n",
       "                                      partner_countries  \\\n",
       "2446  [{'iso_code': 'KE', 'region': 'Africa', 'name'...   \n",
       "2665  [{'iso_code': 'KE', 'region': 'Africa', 'name'...   \n",
       "\n",
       "      partner_currency_exchange_loss_rate  partner_default_rate  \\\n",
       "2446                             0.431935              2.575299   \n",
       "2665                             0.431935              2.575299   \n",
       "\n",
       "      partner_default_rate_note  partner_delinquency_rate  \\\n",
       "2446                        NaN                  2.536684   \n",
       "2665                        NaN                  2.536684   \n",
       "\n",
       "      partner_delinquency_rate_note  partner_image.id  \\\n",
       "2446                            NaN           1834079   \n",
       "2665                            NaN           1834079   \n",
       "\n",
       "      partner_image.template_id  partner_loans_at_risk_rate  \\\n",
       "2446                          1                   24.200354   \n",
       "2665                          1                   24.200354   \n",
       "\n",
       "      partner_loans_posted   partner_name  partner_portfolio_yield  \\\n",
       "2446                 18150  Juhudi Kilimo                     33.0   \n",
       "2665                 18150  Juhudi Kilimo                     33.0   \n",
       "\n",
       "      partner_portfolio_yield_note  partner_profitability partner_rating  \\\n",
       "2446                           NaN                   -7.1            2.0   \n",
       "2665                           NaN                   -7.1            2.0   \n",
       "\n",
       "                   partner_social_performance_strengths    partner_start_date  \\\n",
       "2446  [{'id': 1, 'name': 'Anti-Poverty Focus', 'desc...  2010-01-15T20:20:17Z   \n",
       "2665  [{'id': 1, 'name': 'Anti-Poverty Focus', 'desc...  2010-01-15T20:20:17Z   \n",
       "\n",
       "     partner_status  partner_total_amount_raised  \\\n",
       "2446         active                      7705925   \n",
       "2665         active                      7705925   \n",
       "\n",
       "                       partner_url      posted_datetime  \\\n",
       "2446  http://www.juhudikilimo.com/  2017-05-07 21:10:03   \n",
       "2665  http://www.juhudikilimo.com/  2017-04-30 02:20:02   \n",
       "\n",
       "     planned_expiration_datetime      funded_datetime   dispursal_datetime  \\\n",
       "2446         2017-06-06 21:10:03                  NaN  2017-04-29 07:00:00   \n",
       "2665         2017-05-30 02:20:02  2017-05-01 14:38:23  2017-04-23 07:00:00   \n",
       "\n",
       "     dispersal_date  posted_year  number_of_loans  gender  \n",
       "2446     2017-04-29         2017                1  Female  \n",
       "2665     2017-04-23         2017                1  Female  "
      ]
     },
     "execution_count": 12,
     "metadata": {},
     "output_type": "execute_result"
    }
   ],
   "source": [
    "outliers.head(2)"
   ]
  },
  {
   "cell_type": "markdown",
   "metadata": {},
   "source": [
    "For now, let's be a little conservative. Instead of removing all observations that fall outside a standard deviation, let's simply restrict our analysis to loans below $6000. We can always come back and restrict it further using our outlier definition. We have commented out the code below, so we can come back and change what loans we exclude from our analysis."
   ]
  },
  {
   "cell_type": "code",
   "execution_count": 13,
   "metadata": {
    "collapsed": true
   },
   "outputs": [],
   "source": [
    "# remove outliers from dataframe\n",
    "#df=df[(((df['loan_amount']-df['loan_amount'].mean())/(df['loan_amount'].std())).abs()<3)] "
   ]
  },
  {
   "cell_type": "code",
   "execution_count": 14,
   "metadata": {
    "collapsed": true
   },
   "outputs": [],
   "source": [
    "df=df[df['loan_amount']<=6000]"
   ]
  },
  {
   "cell_type": "code",
   "execution_count": 15,
   "metadata": {},
   "outputs": [
    {
     "data": {
      "text/plain": [
       "118199"
      ]
     },
     "execution_count": 15,
     "metadata": {},
     "output_type": "execute_result"
    }
   ],
   "source": [
    "len(df)"
   ]
  },
  {
   "cell_type": "code",
   "execution_count": 16,
   "metadata": {},
   "outputs": [
    {
     "name": "stdout",
     "output_type": "stream",
     "text": [
      "         Unnamed: 0   Unnamed: 0.1  basket_amount  \\\n",
      "count  118199.00000  118199.000000     942.000000   \n",
      "mean    59142.69641   64399.551942       0.185775   \n",
      "std     34155.11655   38166.408127       2.148199   \n",
      "min         0.00000       0.000000       0.000000   \n",
      "25%     29557.50000   29555.500000       0.000000   \n",
      "50%     59157.00000   66501.000000       0.000000   \n",
      "75%     88706.50000   98264.500000       0.000000   \n",
      "max    118315.00000  127899.000000      25.000000   \n",
      "\n",
      "       currency_exchange_loss_amount  funded_amount            id  \\\n",
      "count                   15675.000000  118199.000000  1.181990e+05   \n",
      "mean                        6.792162     460.031811  7.095884e+05   \n",
      "std                         9.857512     394.928783  3.413792e+05   \n",
      "min                         0.010000       0.000000  2.510000e+02   \n",
      "25%                         1.220000     250.000000  4.198620e+05   \n",
      "50%                         3.490000     350.000000  6.976380e+05   \n",
      "75%                         8.260000     600.000000  1.003973e+06   \n",
      "max                       181.270000    6000.000000  1.292273e+06   \n",
      "\n",
      "           image.id  image.template_id  journal_totals.bulkEntries  \\\n",
      "count  1.181990e+05           118199.0                    118199.0   \n",
      "mean   1.540860e+06                1.0                         0.0   \n",
      "std    6.045076e+05                0.0                         0.0   \n",
      "min    4.090000e+02                1.0                         0.0   \n",
      "25%    1.012860e+06                1.0                         0.0   \n",
      "50%    1.575848e+06                1.0                         0.0   \n",
      "75%    2.053477e+06                1.0                         0.0   \n",
      "max    2.516905e+06                1.0                         0.0   \n",
      "\n",
      "       journal_totals.entries   lender_count    loan_amount     partner_id  \\\n",
      "count                118199.0  118199.000000  118199.000000  118199.000000   \n",
      "mean                      0.0      14.222303     481.271838     164.943231   \n",
      "std                       0.0      12.654955     417.259618      65.911965   \n",
      "min                       0.0       0.000000      25.000000       6.000000   \n",
      "25%                       0.0       7.000000     250.000000     133.000000   \n",
      "50%                       0.0      11.000000     375.000000     156.000000   \n",
      "75%                       0.0      18.000000     600.000000     164.000000   \n",
      "max                       0.0     218.000000    6000.000000     473.000000   \n",
      "\n",
      "       terms.disbursal_amount  terms.loan_amount  \\\n",
      "count           118199.000000      118199.000000   \n",
      "mean             41104.558639         481.271838   \n",
      "std              35795.447209         417.259618   \n",
      "min                 25.000000          25.000000   \n",
      "25%              20000.000000         250.000000   \n",
      "50%              30000.000000         375.000000   \n",
      "75%              50000.000000         600.000000   \n",
      "max             624390.000000        6000.000000   \n",
      "\n",
      "       terms.loss_liability.currency_exchange_coverage_rate  \\\n",
      "count                                      114350.000000      \n",
      "mean                                            0.122171      \n",
      "std                                             0.041540      \n",
      "min                                             0.100000      \n",
      "25%                                             0.100000      \n",
      "50%                                             0.100000      \n",
      "75%                                             0.100000      \n",
      "max                                             0.200000      \n",
      "\n",
      "       terms.repayment_term  translator.image     video.id  \\\n",
      "count         118199.000000      6.297600e+04    66.000000   \n",
      "mean              13.404386      1.165682e+06  1038.878788   \n",
      "std                7.785041      7.036804e+05   851.989988   \n",
      "min                2.000000      2.392400e+04   150.000000   \n",
      "25%               11.000000      5.186710e+05   470.250000   \n",
      "50%               14.000000      1.186147e+06   552.500000   \n",
      "75%               14.000000      1.668411e+06  2038.750000   \n",
      "max              122.000000      2.499150e+06  2816.000000   \n",
      "\n",
      "       video.thumbnailImageId  borrower_count  \\\n",
      "count            6.600000e+01   118199.000000   \n",
      "mean             4.639814e+05        1.929306   \n",
      "std              2.600692e+05        3.028876   \n",
      "min              2.975740e+05        1.000000   \n",
      "25%              3.235038e+05        1.000000   \n",
      "50%              3.282225e+05        1.000000   \n",
      "75%              5.735100e+05        1.000000   \n",
      "max              1.256913e+06       46.000000   \n",
      "\n",
      "       partner_average_loan_size_percent_per_capita_income  \\\n",
      "count                                      118199.000000     \n",
      "mean                                           30.053112     \n",
      "std                                            17.083295     \n",
      "min                                             0.000000     \n",
      "25%                                            24.300000     \n",
      "50%                                            34.900000     \n",
      "75%                                            40.100000     \n",
      "max                                            54.800000     \n",
      "\n",
      "       partner_currency_exchange_loss_rate  partner_default_rate  \\\n",
      "count                        118199.000000         118199.000000   \n",
      "mean                              0.212500              3.823391   \n",
      "std                               0.262511             10.482077   \n",
      "min                               0.000000              0.000000   \n",
      "25%                               0.089354              0.085473   \n",
      "50%                               0.164711              1.483890   \n",
      "75%                               0.364948              3.652283   \n",
      "max                               7.513861             94.939083   \n",
      "\n",
      "       partner_default_rate_note  partner_delinquency_rate  \\\n",
      "count                        0.0             118199.000000   \n",
      "mean                         NaN                  4.346358   \n",
      "std                          NaN                  5.366385   \n",
      "min                          NaN                  0.000000   \n",
      "25%                          NaN                  0.000000   \n",
      "50%                          NaN                  2.536684   \n",
      "75%                          NaN                  8.017062   \n",
      "max                          NaN                100.000000   \n",
      "\n",
      "       partner_delinquency_rate_note  partner_image.id  \\\n",
      "count                            0.0      1.181990e+05   \n",
      "mean                             NaN      1.496747e+06   \n",
      "std                              NaN      6.022962e+05   \n",
      "min                              NaN      3.560000e+02   \n",
      "25%                              NaN      1.495190e+06   \n",
      "50%                              NaN      1.592689e+06   \n",
      "75%                              NaN      2.081410e+06   \n",
      "max                              NaN      2.520600e+06   \n",
      "\n",
      "       partner_image.template_id  partner_loans_at_risk_rate  \\\n",
      "count                   118199.0               118199.000000   \n",
      "mean                         1.0                   11.517720   \n",
      "std                          0.0                   10.825050   \n",
      "min                          1.0                    0.000000   \n",
      "25%                          1.0                    0.000000   \n",
      "50%                          1.0                   16.058249   \n",
      "75%                          1.0                   18.498507   \n",
      "max                          1.0                  100.000000   \n",
      "\n",
      "       partner_loans_posted  partner_portfolio_yield  \\\n",
      "count         118199.000000            111894.000000   \n",
      "mean           18190.648254                31.057951   \n",
      "std             9413.644577                10.440390   \n",
      "min                7.000000                 0.000000   \n",
      "25%             9546.000000                29.000000   \n",
      "50%            18150.000000                33.100000   \n",
      "75%            21415.000000                36.000000   \n",
      "max            30794.000000                41.000000   \n",
      "\n",
      "       partner_portfolio_yield_note  partner_profitability  \\\n",
      "count                           0.0          106811.000000   \n",
      "mean                            NaN               2.363798   \n",
      "std                             NaN              11.297412   \n",
      "min                             NaN            -117.790000   \n",
      "25%                             NaN              -1.700000   \n",
      "50%                             NaN               0.000000   \n",
      "75%                             NaN               2.230000   \n",
      "max                             NaN              30.300000   \n",
      "\n",
      "       partner_total_amount_raised    posted_year  number_of_loans  \n",
      "count                 1.181990e+05  118199.000000         118199.0  \n",
      "mean                  7.315619e+06    2013.558516              1.0  \n",
      "std                   3.284701e+06       2.344082              0.0  \n",
      "min                   3.950000e+03    2006.000000              1.0  \n",
      "25%                   6.764500e+06    2012.000000              1.0  \n",
      "50%                   7.646925e+06    2014.000000              1.0  \n",
      "75%                   8.133425e+06    2016.000000              1.0  \n",
      "max                   1.136698e+07    2017.000000              1.0  \n"
     ]
    }
   ],
   "source": [
    "print(df.describe())"
   ]
  },
  {
   "cell_type": "code",
   "execution_count": 17,
   "metadata": {
    "collapsed": true
   },
   "outputs": [],
   "source": [
    "df.to_csv(data_path+'df_module_2_w_outliers.csv')"
   ]
  },
  {
   "cell_type": "markdown",
   "metadata": {},
   "source": [
    "## Feature Engineering and Selection"
   ]
  },
  {
   "cell_type": "markdown",
   "metadata": {},
   "source": [
    "When we try to think of features that will predict loan_amount, we are doing feature engineering. We may not end up using all the features we create, but it is an important extension of exploratory analysis. The key difference between feature engineering and exploratory analysis is that we now have a defined question in mind: \"What drives the loan amount requested by KIVA lenders?\"\n",
    "\n",
    "We will also be making decisions about our final set of features along the way. Too few features results in low predictive power, and too many features may violate the assumption that there is no multicollinearity present (for more on multicollinearity, refer back to lecture slides!) Carefully choosing what features you think will be powerful enough to predict your outcome feature is difficult, and is subject to data availability and integrity problems. In short, it deserves your thoughtful consideration! \n",
    "\n",
    "*You should always make these preliminary checks in any feature you create to make sure it is what you expect!* "
   ]
  },
  {
   "cell_type": "markdown",
   "metadata": {},
   "source": [
    "## How do you get started with feature engineering and selection?"
   ]
  },
  {
   "cell_type": "markdown",
   "metadata": {},
   "source": [
    "Machines still need us! Our understanding or the world and intuition about cause and effect allow us to extract meaning from raw data and structure data in a more powerful way."
   ]
  },
  {
   "cell_type": "markdown",
   "metadata": {},
   "source": [
    "### Feature engineering is a very creative process so start by asking yourself:\n",
    "\n",
    "### What would motivate the loan amount I request?**\n",
    "\n",
    "What comes to mind? Probably the most obvious response is the use case you have in mind. Dig deeper, what is that use case driven by:\n",
    "- your job.\n",
    "- where you live. What are local prices like? A loan in a high income urban area is likely to be higher on average than a loan in small rural town.\n",
    "- the time of the year. Maybe you need to supplement your cash flow at certain points during the year?\n",
    "- Do you have children? Your demographics (age, gender)\n",
    "- Who is lending to you. Are they charging a high interest? High interest may make you hesitate to take out a big loan.\n",
    "- The standards of the loan partner. If they have lax standards, and are offering you a big loan with little collatoral needed, you may be tempted to accept a higher amount. \n",
    "- Have you taken a loan before? Did you have a good experience of KIVA?\n",
    "\n",
    "These are some initial thoughts, but there could be many more features you can think of. In fact, the beauty of feature engineering is that diverse perspectives often bring out powerful new discoveries in the data."
   ]
  },
  {
   "cell_type": "markdown",
   "metadata": {},
   "source": [
    "## Step 1: Demographic features."
   ]
  },
  {
   "cell_type": "markdown",
   "metadata": {},
   "source": [
    "## Gender"
   ]
  },
  {
   "cell_type": "markdown",
   "metadata": {},
   "source": [
    "We do have one demographic feature we will be retunring to from our initial exploratory analysis. We know that there appears to be a relationship between gender and loan_amount requested. On average, women appear to request lower loan amounts than men."
   ]
  },
  {
   "cell_type": "code",
   "execution_count": 18,
   "metadata": {},
   "outputs": [
    {
     "data": {
      "text/plain": [
       "<matplotlib.axes._subplots.AxesSubplot at 0x11739b128>"
      ]
     },
     "execution_count": 18,
     "metadata": {},
     "output_type": "execute_result"
    },
    {
     "data": {
      "image/png": "[encoded data removed]",
      "text/plain": [
       "<matplotlib.figure.Figure at 0x104ac9668>"
      ]
     },
     "metadata": {},
     "output_type": "display_data"
    }
   ],
   "source": [
    "df[(df['borrower_count'] == 1)].boxplot(column='loan_amount', by='gender', showfliers=False, figsize=(12,8))"
   ]
  },
  {
   "cell_type": "code",
   "execution_count": 19,
   "metadata": {},
   "outputs": [
    {
     "data": {
      "text/plain": [
       "<matplotlib.axes._subplots.AxesSubplot at 0x119964cc0>"
      ]
     },
     "execution_count": 19,
     "metadata": {},
     "output_type": "execute_result"
    },
    {
     "data": {
      "image/png": "[encoded data removed]",
      "text/plain": [
       "<matplotlib.figure.Figure at 0x11995dc50>"
      ]
     },
     "metadata": {},
     "output_type": "display_data"
    }
   ],
   "source": [
    "df[df['borrower_count'] == 1].groupby('gender')['loan_amount'].mean().plot(kind=\"bar\", title=\"Average Loan Amount By Gender\")"
   ]
  },
  {
   "cell_type": "markdown",
   "metadata": {},
   "source": [
    "## Status and Age"
   ]
  },
  {
   "cell_type": "markdown",
   "metadata": {},
   "source": [
    "In the first module, we only considered gender as a demographic feature. However, there could be other demographic features that influence the loan amount you request. \n",
    "\n",
    "\n",
    "Let's start with a broad exploration of of the description field. This will help showcase how to manipulate string data, and will also allow us to extract some interesting age and status related features."
   ]
  },
  {
   "cell_type": "markdown",
   "metadata": {},
   "source": [
    "In the cell below we use Numpy's  [where](https://docs.scipy.org/doc/numpy/reference/generated/numpy.where.html) function  and Panda's [str.contains](https://pandas.pydata.org/pandas-docs/stable/generated/pandas.Series.str.contains.html) to create the widowed\", \"kids\", and \"elderly\" features. \n",
    "\n",
    "We are using Numpy's filter the data such that we are only creating a Boolean variable for those observations in which we find the strings of interest - in this case, any variation of the words widow, and any indication of children. Note that we try to be inclusive by testing for variations like \"daughter\" and \"son.\""
   ]
  },
  {
   "cell_type": "code",
   "execution_count": 20,
   "metadata": {
    "collapsed": true
   },
   "outputs": [],
   "source": [
    "## Whether or not the borrower is widowed\n",
    "#  Note the str.contains function\n",
    "\n",
    "df['widowed'] = np.where(df['description.texts.en'].str.contains(\"widowed|widow\", na=0)==True, 1, 0)\n",
    "\n",
    "## Whether or not the borrower has children, notice we look for many variants of the word.\n",
    "df['kids'] = np.where(df['description.texts.en'].str.contains(\"kids|child|children|kid|son|daughter|mother|father|parents\", na=0) ==True,1,0)\n",
    "## Whether or not the borrower is elderly\n",
    "df['elderly'] = np.where(df['tags'].str.contains(\"#Elderly\", na=0) ==True, 1, 0)\n"
   ]
  },
  {
   "cell_type": "markdown",
   "metadata": {},
   "source": [
    "We create the features above because we had the hypothesis that certain demographic features may drive the loan amount requested. However, all these new features face a data scarcity problem. We can see this by looking at the value_counts() of each new feature. "
   ]
  },
  {
   "cell_type": "code",
   "execution_count": 21,
   "metadata": {},
   "outputs": [
    {
     "data": {
      "text/plain": [
       "0    115621\n",
       "1      2578\n",
       "Name: widowed, dtype: int64"
      ]
     },
     "execution_count": 21,
     "metadata": {},
     "output_type": "execute_result"
    },
    {
     "data": {
      "text/plain": [
       "1    101202\n",
       "0     16997\n",
       "Name: kids, dtype: int64"
      ]
     },
     "execution_count": 21,
     "metadata": {},
     "output_type": "execute_result"
    },
    {
     "data": {
      "text/plain": [
       "0    112723\n",
       "1      5476\n",
       "Name: elderly, dtype: int64"
      ]
     },
     "execution_count": 21,
     "metadata": {},
     "output_type": "execute_result"
    }
   ],
   "source": [
    "df['widowed'].value_counts()\n",
    "df['kids'].value_counts()\n",
    "df['elderly'].value_counts()"
   ]
  },
  {
   "cell_type": "markdown",
   "metadata": {},
   "source": [
    "The words are only contained in a handful of descriptions. Features with little variance so it will quickly drop out in any model we try it in. However, kids seems really promising.\n",
    "\n",
    "**Data scarcity** reduces the utility of the new field as an explanatory feature because if most observations of the feature are missing, it will not be a good discriminator in predicting loans. To understand this, think about if we are trying to predict nationality using accent. There are 20 nationalities present, but everyone has the same accent. Accent will not be useful anymore in getting us closer to seperating nationalities, we should instead rely on other features. \n",
    "\n",
    "Despite the weakness of these features, this has still been a useful process. Many steps in feature development involve creating features that will not ultimately be used. It is through creative exploration that we will eventually pinpoint our winning features. In fact, this has given us the idea to more systematically extract age."
   ]
  },
  {
   "cell_type": "markdown",
   "metadata": {},
   "source": [
    "Below, we do one final validation step and plot the features we just extracted. You can see in the boxplots below that both elderly and widowed fo not differ much in the distribution of loan amount. That is another strong hint not to include them as features in our final model. Any good explanatory variable will cause variance in the explanatory variable."
   ]
  },
  {
   "cell_type": "code",
   "execution_count": 22,
   "metadata": {},
   "outputs": [
    {
     "data": {
      "text/plain": [
       "<matplotlib.axes._subplots.AxesSubplot at 0x11992e9e8>"
      ]
     },
     "execution_count": 22,
     "metadata": {},
     "output_type": "execute_result"
    },
    {
     "data": {
      "text/plain": [
       "<matplotlib.axes._subplots.AxesSubplot at 0x1198d3e48>"
      ]
     },
     "execution_count": 22,
     "metadata": {},
     "output_type": "execute_result"
    },
    {
     "data": {
      "image/png": "[encoded data removed]",
      "text/plain": [
       "<matplotlib.figure.Figure at 0x11a8a5ba8>"
      ]
     },
     "metadata": {},
     "output_type": "display_data"
    },
    {
     "data": {
      "image/png": "[encoded data removed]",
      "text/plain": [
       "<matplotlib.figure.Figure at 0x112f4eeb8>"
      ]
     },
     "metadata": {},
     "output_type": "display_data"
    }
   ],
   "source": [
    "df[(df['borrower_count'] == 1)].boxplot(column='loan_amount', by='widowed', showfliers=False, figsize=(12,8))\n",
    "\n",
    "df[(df['borrower_count'] == 1)].boxplot(column='loan_amount', by='elderly', showfliers=False, figsize=(12,8))"
   ]
  },
  {
   "cell_type": "markdown",
   "metadata": {},
   "source": [
    "However, it is worth taking a closer look at kids. This field still faces a data scarcity issue, but we can see that lenders with kids do have a more narrow distribution than lenders without. It appears that parents are less likely to take high value loans."
   ]
  },
  {
   "cell_type": "code",
   "execution_count": 23,
   "metadata": {},
   "outputs": [
    {
     "data": {
      "text/plain": [
       "<matplotlib.axes._subplots.AxesSubplot at 0x111b68320>"
      ]
     },
     "execution_count": 23,
     "metadata": {},
     "output_type": "execute_result"
    },
    {
     "data": {
      "image/png": "[encoded data removed]",
      "text/plain": [
       "<matplotlib.figure.Figure at 0x111b6c358>"
      ]
     },
     "metadata": {},
     "output_type": "display_data"
    }
   ],
   "source": [
    "df[(df['borrower_count'] == 1)].boxplot(column='loan_amount', by='kids', showfliers=False, figsize=(12,8))"
   ]
  },
  {
   "cell_type": "markdown",
   "metadata": {},
   "source": [
    "## Tags"
   ]
  },
  {
   "cell_type": "markdown",
   "metadata": {},
   "source": [
    "In the dataset we have a really interesting field called tags. You can take a look at the field below. Let's create a feature called number of tags."
   ]
  },
  {
   "cell_type": "code",
   "execution_count": 24,
   "metadata": {
    "collapsed": true
   },
   "outputs": [],
   "source": [
    "df = pd.read_csv(data_path+'df_module_2_w_outliers.csv', low_memory=False)"
   ]
  },
  {
   "cell_type": "code",
   "execution_count": 25,
   "metadata": {},
   "outputs": [
    {
     "data": {
      "text/plain": [
       "0    [{'name': '#Woman Owned Biz'}, {'name': '#Pare...\n",
       "1                                                   []\n",
       "Name: tags, dtype: object"
      ]
     },
     "execution_count": 25,
     "metadata": {},
     "output_type": "execute_result"
    }
   ],
   "source": [
    "df['tags'].head(2)"
   ]
  },
  {
   "cell_type": "code",
   "execution_count": 26,
   "metadata": {
    "collapsed": true
   },
   "outputs": [],
   "source": [
    "df['num_tags'] = df['tags'].apply(lambda x: x.count(','))"
   ]
  },
  {
   "cell_type": "code",
   "execution_count": 27,
   "metadata": {},
   "outputs": [
    {
     "data": {
      "text/plain": [
       "0     73716\n",
       "2     13059\n",
       "1     11285\n",
       "3      8877\n",
       "4      5414\n",
       "5      2524\n",
       "6      1813\n",
       "7      1123\n",
       "8       332\n",
       "9        45\n",
       "10       10\n",
       "11        1\n",
       "Name: num_tags, dtype: int64"
      ]
     },
     "execution_count": 27,
     "metadata": {},
     "output_type": "execute_result"
    }
   ],
   "source": [
    "df['num_tags'].value_counts()"
   ]
  },
  {
   "cell_type": "markdown",
   "metadata": {},
   "source": [
    "Let's plot the data to get a feel for the relationship."
   ]
  },
  {
   "cell_type": "code",
   "execution_count": 28,
   "metadata": {},
   "outputs": [
    {
     "data": {
      "image/png": "[encoded data removed]",
      "text/plain": [
       "<matplotlib.figure.Figure at 0x16b5bd160>"
      ]
     },
     "metadata": {},
     "output_type": "display_data"
    },
    {
     "data": {
      "text/plain": [
       "<ggplot: (-9223372036513676302)>"
      ]
     },
     "execution_count": 28,
     "metadata": {},
     "output_type": "execute_result"
    }
   ],
   "source": [
    "ggplot(df[(df['borrower_count'] == 1)], aes(x = 'num_tags', y = 'loan_amount', color=\"gender\")) + geom_point() + \\\n",
    "ggtitle(\"Relationship between Loan Amount and Number of Lenders\") + xlab(\"age\") + ylab(\"loan_amount\")"
   ]
  },
  {
   "cell_type": "markdown",
   "metadata": {},
   "source": [
    "We can see there is a data scarcity issue in the number of loans with more than 8 tags. We may want to consider bucketing this before we use it as a feature. Now, let's take a closer look and extract the tags as features."
   ]
  },
  {
   "cell_type": "code",
   "execution_count": 29,
   "metadata": {},
   "outputs": [
    {
     "data": {
      "text/plain": [
       "Index(['[]', '[{'name': '#Woman Owned Biz'}, {'name': '#Parent'}]',\n",
       "       '[{'name': 'user_favorite'}]',\n",
       "       '[{'name': '#Woman Owned Biz'}, {'name': '#Parent'}, {'name': '#Repeat Borrower'}]',\n",
       "       '[{'name': '#Parent'}]', '[{'name': '#Woman Owned Biz'}]',\n",
       "       '[{'name': '#Woman Owned Biz'}, {'name': '#Parent'}, {'name': '#Schooling'}]',\n",
       "       '[{'name': '#Parent'}, {'name': '#Repeat Borrower'}]',\n",
       "       '[{'name': 'volunteer_pick'}]',\n",
       "       '[{'name': '#Woman Owned Biz'}, {'name': '#Vegan'}, {'name': '#Parent'}]'],\n",
       "      dtype='object')"
      ]
     },
     "execution_count": 29,
     "metadata": {},
     "output_type": "execute_result"
    }
   ],
   "source": [
    "df['tags'].value_counts().index[:10]"
   ]
  },
  {
   "cell_type": "markdown",
   "metadata": {},
   "source": [
    "Lets create individual features for tags that we think may be interesting and hot code the reponse. This means that value of that features = 1 if the tag was present and 0 if the tag was not present."
   ]
  },
  {
   "cell_type": "code",
   "execution_count": 30,
   "metadata": {
    "collapsed": true
   },
   "outputs": [],
   "source": [
    "tag_vals = [\"#Woman Owned Biz\", \"#Parent\", \"user_favorite\", \"#Repeat Borrower\", \"#Schooling\", \"volunteer_pick\", \"#Vegan\", \"volunteer_like\",\"#Animals\", \"#Eco-friendly\", \"#Technology\"]\n",
    "for tag in tag_vals:\n",
    "    if tag not in df.columns:\n",
    "        df['tag_'+str(tag)] = df['tags'].apply(lambda x: 1 if tag in x else 0)"
   ]
  },
  {
   "cell_type": "code",
   "execution_count": 31,
   "metadata": {},
   "outputs": [
    {
     "data": {
      "text/plain": [
       "0    95950\n",
       "1    22249\n",
       "Name: tag_#Woman Owned Biz, dtype: int64"
      ]
     },
     "execution_count": 31,
     "metadata": {},
     "output_type": "execute_result"
    },
    {
     "data": {
      "text/plain": [
       "0    83624\n",
       "1    34575\n",
       "Name: tag_#Parent, dtype: int64"
      ]
     },
     "execution_count": 31,
     "metadata": {},
     "output_type": "execute_result"
    },
    {
     "data": {
      "text/plain": [
       "0    104963\n",
       "1     13236\n",
       "Name: tag_#Repeat Borrower, dtype: int64"
      ]
     },
     "execution_count": 31,
     "metadata": {},
     "output_type": "execute_result"
    },
    {
     "data": {
      "text/plain": [
       "0    106814\n",
       "1     11385\n",
       "Name: tag_#Schooling, dtype: int64"
      ]
     },
     "execution_count": 31,
     "metadata": {},
     "output_type": "execute_result"
    },
    {
     "data": {
      "text/plain": [
       "0    83624\n",
       "1    34575\n",
       "Name: tag_#Parent, dtype: int64"
      ]
     },
     "execution_count": 31,
     "metadata": {},
     "output_type": "execute_result"
    },
    {
     "data": {
      "text/plain": [
       "0    115321\n",
       "1      2878\n",
       "Name: tag_volunteer_pick, dtype: int64"
      ]
     },
     "execution_count": 31,
     "metadata": {},
     "output_type": "execute_result"
    },
    {
     "data": {
      "text/plain": [
       "0    107367\n",
       "1     10832\n",
       "Name: tag_#Vegan, dtype: int64"
      ]
     },
     "execution_count": 31,
     "metadata": {},
     "output_type": "execute_result"
    },
    {
     "data": {
      "text/plain": [
       "0    116259\n",
       "1      1940\n",
       "Name: tag_volunteer_like, dtype: int64"
      ]
     },
     "execution_count": 31,
     "metadata": {},
     "output_type": "execute_result"
    },
    {
     "data": {
      "text/plain": [
       "0    111271\n",
       "1      6928\n",
       "Name: tag_#Animals, dtype: int64"
      ]
     },
     "execution_count": 31,
     "metadata": {},
     "output_type": "execute_result"
    },
    {
     "data": {
      "text/plain": [
       "0    108511\n",
       "1      9688\n",
       "Name: tag_#Eco-friendly, dtype: int64"
      ]
     },
     "execution_count": 31,
     "metadata": {},
     "output_type": "execute_result"
    },
    {
     "data": {
      "text/plain": [
       "0    110792\n",
       "1      7407\n",
       "Name: tag_#Technology, dtype: int64"
      ]
     },
     "execution_count": 31,
     "metadata": {},
     "output_type": "execute_result"
    }
   ],
   "source": [
    "df['tag_#Woman Owned Biz'].value_counts()\n",
    "df['tag_#Parent'].value_counts()\n",
    "df['tag_#Repeat Borrower'].value_counts()\n",
    "df['tag_#Schooling'].value_counts()\n",
    "df['tag_#Parent'].value_counts()\n",
    "df['tag_volunteer_pick'].value_counts()\n",
    "df['tag_#Vegan'].value_counts()\n",
    "df['tag_volunteer_like'].value_counts()\n",
    "df['tag_#Animals'].value_counts()\n",
    "df['tag_#Eco-friendly'].value_counts()\n",
    "df['tag_#Technology'].value_counts()"
   ]
  },
  {
   "cell_type": "markdown",
   "metadata": {},
   "source": [
    "We can immediately see that some tags are more useful then others because of coverage. The #parent tag, # repeat borrower tag, #women owned biz tag all look really useful. Let's take a look at the box plots for all of them."
   ]
  },
  {
   "cell_type": "markdown",
   "metadata": {},
   "source": [
    "### Women Owned Business"
   ]
  },
  {
   "cell_type": "markdown",
   "metadata": {},
   "source": [
    "We can see from the box plot that women owned businesses actually request higher amounts on average. However, the boxplot tells a more complete story, we can tell that while the average is higher the range is more narrow."
   ]
  },
  {
   "cell_type": "code",
   "execution_count": 32,
   "metadata": {},
   "outputs": [
    {
     "data": {
      "text/plain": [
       "0    95950\n",
       "1    22249\n",
       "Name: tag_#Woman Owned Biz, dtype: int64"
      ]
     },
     "execution_count": 32,
     "metadata": {},
     "output_type": "execute_result"
    }
   ],
   "source": [
    "df['tag_#Woman Owned Biz'].value_counts()"
   ]
  },
  {
   "cell_type": "code",
   "execution_count": 33,
   "metadata": {
    "scrolled": true
   },
   "outputs": [
    {
     "data": {
      "text/plain": [
       "<matplotlib.axes._subplots.AxesSubplot at 0x16b5cabe0>"
      ]
     },
     "execution_count": 33,
     "metadata": {},
     "output_type": "execute_result"
    },
    {
     "data": {
      "image/png": "[encoded data removed]",
      "text/plain": [
       "<matplotlib.figure.Figure at 0x16b5e1a90>"
      ]
     },
     "metadata": {},
     "output_type": "display_data"
    }
   ],
   "source": [
    "df[df['borrower_count'] == 1].groupby('tag_#Woman Owned Biz')['loan_amount'].mean().plot(kind=\"bar\", title=\"Average Loan Amount By whether a woman owns the business\")"
   ]
  },
  {
   "cell_type": "code",
   "execution_count": 34,
   "metadata": {},
   "outputs": [
    {
     "data": {
      "text/plain": [
       "<matplotlib.axes._subplots.AxesSubplot at 0x10ca2c550>"
      ]
     },
     "execution_count": 34,
     "metadata": {},
     "output_type": "execute_result"
    },
    {
     "data": {
      "image/png": "[encoded data removed]",
      "text/plain": [
       "<matplotlib.figure.Figure at 0x11134d128>"
      ]
     },
     "metadata": {},
     "output_type": "display_data"
    }
   ],
   "source": [
    "df[(df['borrower_count'] == 1)].boxplot(column='loan_amount', by='tag_#Woman Owned Biz', showfliers=False, figsize=(12,8))"
   ]
  },
  {
   "cell_type": "markdown",
   "metadata": {},
   "source": [
    "## Parent"
   ]
  },
  {
   "cell_type": "markdown",
   "metadata": {},
   "source": [
    "Below, the tag tells us that parents request a higher amount then those that do not have children. This seems to be the opposite of what we learnt when we look at our handcrafted kids feature based upon our string match.\n"
   ]
  },
  {
   "cell_type": "code",
   "execution_count": 35,
   "metadata": {},
   "outputs": [
    {
     "data": {
      "text/plain": [
       "<matplotlib.axes._subplots.AxesSubplot at 0x111370eb8>"
      ]
     },
     "execution_count": 35,
     "metadata": {},
     "output_type": "execute_result"
    },
    {
     "data": {
      "image/png": "[encoded data removed]",
      "text/plain": [
       "<matplotlib.figure.Figure at 0x111ad9588>"
      ]
     },
     "metadata": {},
     "output_type": "display_data"
    }
   ],
   "source": [
    "df[(df['borrower_count'] == 1)].boxplot(column='loan_amount', by='tag_#Parent', showfliers=False, figsize=(12,8))"
   ]
  },
  {
   "cell_type": "markdown",
   "metadata": {},
   "source": [
    "Our handcrafted feature has much higher coverage in the dataset. Let us try and combine the features because there appear to be many loans that were not tagged parent that we caught using our text match."
   ]
  },
  {
   "cell_type": "code",
   "execution_count": 36,
   "metadata": {},
   "outputs": [
    {
     "data": {
      "text/plain": [
       "0    83624\n",
       "1    34575\n",
       "Name: tag_#Parent, dtype: int64"
      ]
     },
     "execution_count": 36,
     "metadata": {},
     "output_type": "execute_result"
    },
    {
     "ename": "KeyError",
     "evalue": "'kids'",
     "output_type": "error",
     "traceback": [
      "\u001b[0;31m---------------------------------------------------------------------------\u001b[0m",
      "\u001b[0;31mKeyError\u001b[0m                                  Traceback (most recent call last)",
      "\u001b[0;32m/Library/Frameworks/Python.framework/Versions/3.5/lib/python3.5/site-packages/pandas/core/indexes/base.py\u001b[0m in \u001b[0;36mget_loc\u001b[0;34m(self, key, method, tolerance)\u001b[0m\n\u001b[1;32m   2392\u001b[0m             \u001b[0;32mtry\u001b[0m\u001b[0;34m:\u001b[0m\u001b[0;34m\u001b[0m\u001b[0m\n\u001b[0;32m-> 2393\u001b[0;31m                 \u001b[0;32mreturn\u001b[0m \u001b[0mself\u001b[0m\u001b[0;34m.\u001b[0m\u001b[0m_engine\u001b[0m\u001b[0;34m.\u001b[0m\u001b[0mget_loc\u001b[0m\u001b[0;34m(\u001b[0m\u001b[0mkey\u001b[0m\u001b[0;34m)\u001b[0m\u001b[0;34m\u001b[0m\u001b[0m\n\u001b[0m\u001b[1;32m   2394\u001b[0m             \u001b[0;32mexcept\u001b[0m \u001b[0mKeyError\u001b[0m\u001b[0;34m:\u001b[0m\u001b[0;34m\u001b[0m\u001b[0m\n",
      "\u001b[0;32mpandas/_libs/index.pyx\u001b[0m in \u001b[0;36mpandas._libs.index.IndexEngine.get_loc (pandas/_libs/index.c:5239)\u001b[0;34m()\u001b[0m\n",
      "\u001b[0;32mpandas/_libs/index.pyx\u001b[0m in \u001b[0;36mpandas._libs.index.IndexEngine.get_loc (pandas/_libs/index.c:5085)\u001b[0;34m()\u001b[0m\n",
      "\u001b[0;32mpandas/_libs/hashtable_class_helper.pxi\u001b[0m in \u001b[0;36mpandas._libs.hashtable.PyObjectHashTable.get_item (pandas/_libs/hashtable.c:20405)\u001b[0;34m()\u001b[0m\n",
      "\u001b[0;32mpandas/_libs/hashtable_class_helper.pxi\u001b[0m in \u001b[0;36mpandas._libs.hashtable.PyObjectHashTable.get_item (pandas/_libs/hashtable.c:20359)\u001b[0;34m()\u001b[0m\n",
      "\u001b[0;31mKeyError\u001b[0m: 'kids'",
      "\nDuring handling of the above exception, another exception occurred:\n",
      "\u001b[0;31mKeyError\u001b[0m                                  Traceback (most recent call last)",
      "\u001b[0;32m<ipython-input-36-f9737739c704>\u001b[0m in \u001b[0;36m<module>\u001b[0;34m()\u001b[0m\n\u001b[1;32m      1\u001b[0m \u001b[0mdf\u001b[0m\u001b[0;34m[\u001b[0m\u001b[0;34m'tag_#Parent'\u001b[0m\u001b[0;34m]\u001b[0m\u001b[0;34m.\u001b[0m\u001b[0mvalue_counts\u001b[0m\u001b[0;34m(\u001b[0m\u001b[0;34m)\u001b[0m\u001b[0;34m\u001b[0m\u001b[0m\n\u001b[0;32m----> 2\u001b[0;31m \u001b[0mdf\u001b[0m\u001b[0;34m[\u001b[0m\u001b[0;34m'kids'\u001b[0m\u001b[0;34m]\u001b[0m\u001b[0;34m.\u001b[0m\u001b[0mvalue_counts\u001b[0m\u001b[0;34m(\u001b[0m\u001b[0;34m)\u001b[0m\u001b[0;34m\u001b[0m\u001b[0m\n\u001b[0m",
      "\u001b[0;32m/Library/Frameworks/Python.framework/Versions/3.5/lib/python3.5/site-packages/pandas/core/frame.py\u001b[0m in \u001b[0;36m__getitem__\u001b[0;34m(self, key)\u001b[0m\n\u001b[1;32m   2060\u001b[0m             \u001b[0;32mreturn\u001b[0m \u001b[0mself\u001b[0m\u001b[0;34m.\u001b[0m\u001b[0m_getitem_multilevel\u001b[0m\u001b[0;34m(\u001b[0m\u001b[0mkey\u001b[0m\u001b[0;34m)\u001b[0m\u001b[0;34m\u001b[0m\u001b[0m\n\u001b[1;32m   2061\u001b[0m         \u001b[0;32melse\u001b[0m\u001b[0;34m:\u001b[0m\u001b[0;34m\u001b[0m\u001b[0m\n\u001b[0;32m-> 2062\u001b[0;31m             \u001b[0;32mreturn\u001b[0m \u001b[0mself\u001b[0m\u001b[0;34m.\u001b[0m\u001b[0m_getitem_column\u001b[0m\u001b[0;34m(\u001b[0m\u001b[0mkey\u001b[0m\u001b[0;34m)\u001b[0m\u001b[0;34m\u001b[0m\u001b[0m\n\u001b[0m\u001b[1;32m   2063\u001b[0m \u001b[0;34m\u001b[0m\u001b[0m\n\u001b[1;32m   2064\u001b[0m     \u001b[0;32mdef\u001b[0m \u001b[0m_getitem_column\u001b[0m\u001b[0;34m(\u001b[0m\u001b[0mself\u001b[0m\u001b[0;34m,\u001b[0m \u001b[0mkey\u001b[0m\u001b[0;34m)\u001b[0m\u001b[0;34m:\u001b[0m\u001b[0;34m\u001b[0m\u001b[0m\n",
      "\u001b[0;32m/Library/Frameworks/Python.framework/Versions/3.5/lib/python3.5/site-packages/pandas/core/frame.py\u001b[0m in \u001b[0;36m_getitem_column\u001b[0;34m(self, key)\u001b[0m\n\u001b[1;32m   2067\u001b[0m         \u001b[0;31m# get column\u001b[0m\u001b[0;34m\u001b[0m\u001b[0;34m\u001b[0m\u001b[0m\n\u001b[1;32m   2068\u001b[0m         \u001b[0;32mif\u001b[0m \u001b[0mself\u001b[0m\u001b[0;34m.\u001b[0m\u001b[0mcolumns\u001b[0m\u001b[0;34m.\u001b[0m\u001b[0mis_unique\u001b[0m\u001b[0;34m:\u001b[0m\u001b[0;34m\u001b[0m\u001b[0m\n\u001b[0;32m-> 2069\u001b[0;31m             \u001b[0;32mreturn\u001b[0m \u001b[0mself\u001b[0m\u001b[0;34m.\u001b[0m\u001b[0m_get_item_cache\u001b[0m\u001b[0;34m(\u001b[0m\u001b[0mkey\u001b[0m\u001b[0;34m)\u001b[0m\u001b[0;34m\u001b[0m\u001b[0m\n\u001b[0m\u001b[1;32m   2070\u001b[0m \u001b[0;34m\u001b[0m\u001b[0m\n\u001b[1;32m   2071\u001b[0m         \u001b[0;31m# duplicate columns & possible reduce dimensionality\u001b[0m\u001b[0;34m\u001b[0m\u001b[0;34m\u001b[0m\u001b[0m\n",
      "\u001b[0;32m/Library/Frameworks/Python.framework/Versions/3.5/lib/python3.5/site-packages/pandas/core/generic.py\u001b[0m in \u001b[0;36m_get_item_cache\u001b[0;34m(self, item)\u001b[0m\n\u001b[1;32m   1532\u001b[0m         \u001b[0mres\u001b[0m \u001b[0;34m=\u001b[0m \u001b[0mcache\u001b[0m\u001b[0;34m.\u001b[0m\u001b[0mget\u001b[0m\u001b[0;34m(\u001b[0m\u001b[0mitem\u001b[0m\u001b[0;34m)\u001b[0m\u001b[0;34m\u001b[0m\u001b[0m\n\u001b[1;32m   1533\u001b[0m         \u001b[0;32mif\u001b[0m \u001b[0mres\u001b[0m \u001b[0;32mis\u001b[0m \u001b[0;32mNone\u001b[0m\u001b[0;34m:\u001b[0m\u001b[0;34m\u001b[0m\u001b[0m\n\u001b[0;32m-> 1534\u001b[0;31m             \u001b[0mvalues\u001b[0m \u001b[0;34m=\u001b[0m \u001b[0mself\u001b[0m\u001b[0;34m.\u001b[0m\u001b[0m_data\u001b[0m\u001b[0;34m.\u001b[0m\u001b[0mget\u001b[0m\u001b[0;34m(\u001b[0m\u001b[0mitem\u001b[0m\u001b[0;34m)\u001b[0m\u001b[0;34m\u001b[0m\u001b[0m\n\u001b[0m\u001b[1;32m   1535\u001b[0m             \u001b[0mres\u001b[0m \u001b[0;34m=\u001b[0m \u001b[0mself\u001b[0m\u001b[0;34m.\u001b[0m\u001b[0m_box_item_values\u001b[0m\u001b[0;34m(\u001b[0m\u001b[0mitem\u001b[0m\u001b[0;34m,\u001b[0m \u001b[0mvalues\u001b[0m\u001b[0;34m)\u001b[0m\u001b[0;34m\u001b[0m\u001b[0m\n\u001b[1;32m   1536\u001b[0m             \u001b[0mcache\u001b[0m\u001b[0;34m[\u001b[0m\u001b[0mitem\u001b[0m\u001b[0;34m]\u001b[0m \u001b[0;34m=\u001b[0m \u001b[0mres\u001b[0m\u001b[0;34m\u001b[0m\u001b[0m\n",
      "\u001b[0;32m/Library/Frameworks/Python.framework/Versions/3.5/lib/python3.5/site-packages/pandas/core/internals.py\u001b[0m in \u001b[0;36mget\u001b[0;34m(self, item, fastpath)\u001b[0m\n\u001b[1;32m   3588\u001b[0m \u001b[0;34m\u001b[0m\u001b[0m\n\u001b[1;32m   3589\u001b[0m             \u001b[0;32mif\u001b[0m \u001b[0;32mnot\u001b[0m \u001b[0misnull\u001b[0m\u001b[0;34m(\u001b[0m\u001b[0mitem\u001b[0m\u001b[0;34m)\u001b[0m\u001b[0;34m:\u001b[0m\u001b[0;34m\u001b[0m\u001b[0m\n\u001b[0;32m-> 3590\u001b[0;31m                 \u001b[0mloc\u001b[0m \u001b[0;34m=\u001b[0m \u001b[0mself\u001b[0m\u001b[0;34m.\u001b[0m\u001b[0mitems\u001b[0m\u001b[0;34m.\u001b[0m\u001b[0mget_loc\u001b[0m\u001b[0;34m(\u001b[0m\u001b[0mitem\u001b[0m\u001b[0;34m)\u001b[0m\u001b[0;34m\u001b[0m\u001b[0m\n\u001b[0m\u001b[1;32m   3591\u001b[0m             \u001b[0;32melse\u001b[0m\u001b[0;34m:\u001b[0m\u001b[0;34m\u001b[0m\u001b[0m\n\u001b[1;32m   3592\u001b[0m                 \u001b[0mindexer\u001b[0m \u001b[0;34m=\u001b[0m \u001b[0mnp\u001b[0m\u001b[0;34m.\u001b[0m\u001b[0marange\u001b[0m\u001b[0;34m(\u001b[0m\u001b[0mlen\u001b[0m\u001b[0;34m(\u001b[0m\u001b[0mself\u001b[0m\u001b[0;34m.\u001b[0m\u001b[0mitems\u001b[0m\u001b[0;34m)\u001b[0m\u001b[0;34m)\u001b[0m\u001b[0;34m[\u001b[0m\u001b[0misnull\u001b[0m\u001b[0;34m(\u001b[0m\u001b[0mself\u001b[0m\u001b[0;34m.\u001b[0m\u001b[0mitems\u001b[0m\u001b[0;34m)\u001b[0m\u001b[0;34m]\u001b[0m\u001b[0;34m\u001b[0m\u001b[0m\n",
      "\u001b[0;32m/Library/Frameworks/Python.framework/Versions/3.5/lib/python3.5/site-packages/pandas/core/indexes/base.py\u001b[0m in \u001b[0;36mget_loc\u001b[0;34m(self, key, method, tolerance)\u001b[0m\n\u001b[1;32m   2393\u001b[0m                 \u001b[0;32mreturn\u001b[0m \u001b[0mself\u001b[0m\u001b[0;34m.\u001b[0m\u001b[0m_engine\u001b[0m\u001b[0;34m.\u001b[0m\u001b[0mget_loc\u001b[0m\u001b[0;34m(\u001b[0m\u001b[0mkey\u001b[0m\u001b[0;34m)\u001b[0m\u001b[0;34m\u001b[0m\u001b[0m\n\u001b[1;32m   2394\u001b[0m             \u001b[0;32mexcept\u001b[0m \u001b[0mKeyError\u001b[0m\u001b[0;34m:\u001b[0m\u001b[0;34m\u001b[0m\u001b[0m\n\u001b[0;32m-> 2395\u001b[0;31m                 \u001b[0;32mreturn\u001b[0m \u001b[0mself\u001b[0m\u001b[0;34m.\u001b[0m\u001b[0m_engine\u001b[0m\u001b[0;34m.\u001b[0m\u001b[0mget_loc\u001b[0m\u001b[0;34m(\u001b[0m\u001b[0mself\u001b[0m\u001b[0;34m.\u001b[0m\u001b[0m_maybe_cast_indexer\u001b[0m\u001b[0;34m(\u001b[0m\u001b[0mkey\u001b[0m\u001b[0;34m)\u001b[0m\u001b[0;34m)\u001b[0m\u001b[0;34m\u001b[0m\u001b[0m\n\u001b[0m\u001b[1;32m   2396\u001b[0m \u001b[0;34m\u001b[0m\u001b[0m\n\u001b[1;32m   2397\u001b[0m         \u001b[0mindexer\u001b[0m \u001b[0;34m=\u001b[0m \u001b[0mself\u001b[0m\u001b[0;34m.\u001b[0m\u001b[0mget_indexer\u001b[0m\u001b[0;34m(\u001b[0m\u001b[0;34m[\u001b[0m\u001b[0mkey\u001b[0m\u001b[0;34m]\u001b[0m\u001b[0;34m,\u001b[0m \u001b[0mmethod\u001b[0m\u001b[0;34m=\u001b[0m\u001b[0mmethod\u001b[0m\u001b[0;34m,\u001b[0m \u001b[0mtolerance\u001b[0m\u001b[0;34m=\u001b[0m\u001b[0mtolerance\u001b[0m\u001b[0;34m)\u001b[0m\u001b[0;34m\u001b[0m\u001b[0m\n",
      "\u001b[0;32mpandas/_libs/index.pyx\u001b[0m in \u001b[0;36mpandas._libs.index.IndexEngine.get_loc (pandas/_libs/index.c:5239)\u001b[0;34m()\u001b[0m\n",
      "\u001b[0;32mpandas/_libs/index.pyx\u001b[0m in \u001b[0;36mpandas._libs.index.IndexEngine.get_loc (pandas/_libs/index.c:5085)\u001b[0;34m()\u001b[0m\n",
      "\u001b[0;32mpandas/_libs/hashtable_class_helper.pxi\u001b[0m in \u001b[0;36mpandas._libs.hashtable.PyObjectHashTable.get_item (pandas/_libs/hashtable.c:20405)\u001b[0;34m()\u001b[0m\n",
      "\u001b[0;32mpandas/_libs/hashtable_class_helper.pxi\u001b[0m in \u001b[0;36mpandas._libs.hashtable.PyObjectHashTable.get_item (pandas/_libs/hashtable.c:20359)\u001b[0;34m()\u001b[0m\n",
      "\u001b[0;31mKeyError\u001b[0m: 'kids'"
     ]
    }
   ],
   "source": [
    "df['tag_#Parent'].value_counts()\n",
    "df['kids'].value_counts()"
   ]
  },
  {
   "cell_type": "code",
   "execution_count": 37,
   "metadata": {},
   "outputs": [
    {
     "ename": "KeyError",
     "evalue": "'kids'",
     "output_type": "error",
     "traceback": [
      "\u001b[0;31m---------------------------------------------------------------------------\u001b[0m",
      "\u001b[0;31mKeyError\u001b[0m                                  Traceback (most recent call last)",
      "\u001b[0;32m/Library/Frameworks/Python.framework/Versions/3.5/lib/python3.5/site-packages/pandas/core/indexes/base.py\u001b[0m in \u001b[0;36mget_loc\u001b[0;34m(self, key, method, tolerance)\u001b[0m\n\u001b[1;32m   2392\u001b[0m             \u001b[0;32mtry\u001b[0m\u001b[0;34m:\u001b[0m\u001b[0;34m\u001b[0m\u001b[0m\n\u001b[0;32m-> 2393\u001b[0;31m                 \u001b[0;32mreturn\u001b[0m \u001b[0mself\u001b[0m\u001b[0;34m.\u001b[0m\u001b[0m_engine\u001b[0m\u001b[0;34m.\u001b[0m\u001b[0mget_loc\u001b[0m\u001b[0;34m(\u001b[0m\u001b[0mkey\u001b[0m\u001b[0;34m)\u001b[0m\u001b[0;34m\u001b[0m\u001b[0m\n\u001b[0m\u001b[1;32m   2394\u001b[0m             \u001b[0;32mexcept\u001b[0m \u001b[0mKeyError\u001b[0m\u001b[0;34m:\u001b[0m\u001b[0;34m\u001b[0m\u001b[0m\n",
      "\u001b[0;32mpandas/_libs/index.pyx\u001b[0m in \u001b[0;36mpandas._libs.index.IndexEngine.get_loc (pandas/_libs/index.c:5239)\u001b[0;34m()\u001b[0m\n",
      "\u001b[0;32mpandas/_libs/index.pyx\u001b[0m in \u001b[0;36mpandas._libs.index.IndexEngine.get_loc (pandas/_libs/index.c:5085)\u001b[0;34m()\u001b[0m\n",
      "\u001b[0;32mpandas/_libs/hashtable_class_helper.pxi\u001b[0m in \u001b[0;36mpandas._libs.hashtable.PyObjectHashTable.get_item (pandas/_libs/hashtable.c:20405)\u001b[0;34m()\u001b[0m\n",
      "\u001b[0;32mpandas/_libs/hashtable_class_helper.pxi\u001b[0m in \u001b[0;36mpandas._libs.hashtable.PyObjectHashTable.get_item (pandas/_libs/hashtable.c:20359)\u001b[0;34m()\u001b[0m\n",
      "\u001b[0;31mKeyError\u001b[0m: 'kids'",
      "\nDuring handling of the above exception, another exception occurred:\n",
      "\u001b[0;31mKeyError\u001b[0m                                  Traceback (most recent call last)",
      "\u001b[0;32m<ipython-input-37-f971628bce88>\u001b[0m in \u001b[0;36m<module>\u001b[0;34m()\u001b[0m\n\u001b[0;32m----> 1\u001b[0;31m \u001b[0mdf\u001b[0m\u001b[0;34m[\u001b[0m\u001b[0;34m'parent'\u001b[0m\u001b[0;34m]\u001b[0m \u001b[0;34m=\u001b[0m \u001b[0mnp\u001b[0m\u001b[0;34m.\u001b[0m\u001b[0mwhere\u001b[0m\u001b[0;34m(\u001b[0m\u001b[0mdf\u001b[0m\u001b[0;34m[\u001b[0m\u001b[0;34m'tag_#Parent'\u001b[0m\u001b[0;34m]\u001b[0m\u001b[0;34m==\u001b[0m\u001b[0;36m1\u001b[0m\u001b[0;34m,\u001b[0m \u001b[0mdf\u001b[0m\u001b[0;34m[\u001b[0m\u001b[0;34m'tag_#Parent'\u001b[0m\u001b[0;34m]\u001b[0m\u001b[0;34m,\u001b[0m \u001b[0mdf\u001b[0m\u001b[0;34m[\u001b[0m\u001b[0;34m'kids'\u001b[0m\u001b[0;34m]\u001b[0m\u001b[0;34m)\u001b[0m\u001b[0;34m\u001b[0m\u001b[0m\n\u001b[0m",
      "\u001b[0;32m/Library/Frameworks/Python.framework/Versions/3.5/lib/python3.5/site-packages/pandas/core/frame.py\u001b[0m in \u001b[0;36m__getitem__\u001b[0;34m(self, key)\u001b[0m\n\u001b[1;32m   2060\u001b[0m             \u001b[0;32mreturn\u001b[0m \u001b[0mself\u001b[0m\u001b[0;34m.\u001b[0m\u001b[0m_getitem_multilevel\u001b[0m\u001b[0;34m(\u001b[0m\u001b[0mkey\u001b[0m\u001b[0;34m)\u001b[0m\u001b[0;34m\u001b[0m\u001b[0m\n\u001b[1;32m   2061\u001b[0m         \u001b[0;32melse\u001b[0m\u001b[0;34m:\u001b[0m\u001b[0;34m\u001b[0m\u001b[0m\n\u001b[0;32m-> 2062\u001b[0;31m             \u001b[0;32mreturn\u001b[0m \u001b[0mself\u001b[0m\u001b[0;34m.\u001b[0m\u001b[0m_getitem_column\u001b[0m\u001b[0;34m(\u001b[0m\u001b[0mkey\u001b[0m\u001b[0;34m)\u001b[0m\u001b[0;34m\u001b[0m\u001b[0m\n\u001b[0m\u001b[1;32m   2063\u001b[0m \u001b[0;34m\u001b[0m\u001b[0m\n\u001b[1;32m   2064\u001b[0m     \u001b[0;32mdef\u001b[0m \u001b[0m_getitem_column\u001b[0m\u001b[0;34m(\u001b[0m\u001b[0mself\u001b[0m\u001b[0;34m,\u001b[0m \u001b[0mkey\u001b[0m\u001b[0;34m)\u001b[0m\u001b[0;34m:\u001b[0m\u001b[0;34m\u001b[0m\u001b[0m\n",
      "\u001b[0;32m/Library/Frameworks/Python.framework/Versions/3.5/lib/python3.5/site-packages/pandas/core/frame.py\u001b[0m in \u001b[0;36m_getitem_column\u001b[0;34m(self, key)\u001b[0m\n\u001b[1;32m   2067\u001b[0m         \u001b[0;31m# get column\u001b[0m\u001b[0;34m\u001b[0m\u001b[0;34m\u001b[0m\u001b[0m\n\u001b[1;32m   2068\u001b[0m         \u001b[0;32mif\u001b[0m \u001b[0mself\u001b[0m\u001b[0;34m.\u001b[0m\u001b[0mcolumns\u001b[0m\u001b[0;34m.\u001b[0m\u001b[0mis_unique\u001b[0m\u001b[0;34m:\u001b[0m\u001b[0;34m\u001b[0m\u001b[0m\n\u001b[0;32m-> 2069\u001b[0;31m             \u001b[0;32mreturn\u001b[0m \u001b[0mself\u001b[0m\u001b[0;34m.\u001b[0m\u001b[0m_get_item_cache\u001b[0m\u001b[0;34m(\u001b[0m\u001b[0mkey\u001b[0m\u001b[0;34m)\u001b[0m\u001b[0;34m\u001b[0m\u001b[0m\n\u001b[0m\u001b[1;32m   2070\u001b[0m \u001b[0;34m\u001b[0m\u001b[0m\n\u001b[1;32m   2071\u001b[0m         \u001b[0;31m# duplicate columns & possible reduce dimensionality\u001b[0m\u001b[0;34m\u001b[0m\u001b[0;34m\u001b[0m\u001b[0m\n",
      "\u001b[0;32m/Library/Frameworks/Python.framework/Versions/3.5/lib/python3.5/site-packages/pandas/core/generic.py\u001b[0m in \u001b[0;36m_get_item_cache\u001b[0;34m(self, item)\u001b[0m\n\u001b[1;32m   1532\u001b[0m         \u001b[0mres\u001b[0m \u001b[0;34m=\u001b[0m \u001b[0mcache\u001b[0m\u001b[0;34m.\u001b[0m\u001b[0mget\u001b[0m\u001b[0;34m(\u001b[0m\u001b[0mitem\u001b[0m\u001b[0;34m)\u001b[0m\u001b[0;34m\u001b[0m\u001b[0m\n\u001b[1;32m   1533\u001b[0m         \u001b[0;32mif\u001b[0m \u001b[0mres\u001b[0m \u001b[0;32mis\u001b[0m \u001b[0;32mNone\u001b[0m\u001b[0;34m:\u001b[0m\u001b[0;34m\u001b[0m\u001b[0m\n\u001b[0;32m-> 1534\u001b[0;31m             \u001b[0mvalues\u001b[0m \u001b[0;34m=\u001b[0m \u001b[0mself\u001b[0m\u001b[0;34m.\u001b[0m\u001b[0m_data\u001b[0m\u001b[0;34m.\u001b[0m\u001b[0mget\u001b[0m\u001b[0;34m(\u001b[0m\u001b[0mitem\u001b[0m\u001b[0;34m)\u001b[0m\u001b[0;34m\u001b[0m\u001b[0m\n\u001b[0m\u001b[1;32m   1535\u001b[0m             \u001b[0mres\u001b[0m \u001b[0;34m=\u001b[0m \u001b[0mself\u001b[0m\u001b[0;34m.\u001b[0m\u001b[0m_box_item_values\u001b[0m\u001b[0;34m(\u001b[0m\u001b[0mitem\u001b[0m\u001b[0;34m,\u001b[0m \u001b[0mvalues\u001b[0m\u001b[0;34m)\u001b[0m\u001b[0;34m\u001b[0m\u001b[0m\n\u001b[1;32m   1536\u001b[0m             \u001b[0mcache\u001b[0m\u001b[0;34m[\u001b[0m\u001b[0mitem\u001b[0m\u001b[0;34m]\u001b[0m \u001b[0;34m=\u001b[0m \u001b[0mres\u001b[0m\u001b[0;34m\u001b[0m\u001b[0m\n",
      "\u001b[0;32m/Library/Frameworks/Python.framework/Versions/3.5/lib/python3.5/site-packages/pandas/core/internals.py\u001b[0m in \u001b[0;36mget\u001b[0;34m(self, item, fastpath)\u001b[0m\n\u001b[1;32m   3588\u001b[0m \u001b[0;34m\u001b[0m\u001b[0m\n\u001b[1;32m   3589\u001b[0m             \u001b[0;32mif\u001b[0m \u001b[0;32mnot\u001b[0m \u001b[0misnull\u001b[0m\u001b[0;34m(\u001b[0m\u001b[0mitem\u001b[0m\u001b[0;34m)\u001b[0m\u001b[0;34m:\u001b[0m\u001b[0;34m\u001b[0m\u001b[0m\n\u001b[0;32m-> 3590\u001b[0;31m                 \u001b[0mloc\u001b[0m \u001b[0;34m=\u001b[0m \u001b[0mself\u001b[0m\u001b[0;34m.\u001b[0m\u001b[0mitems\u001b[0m\u001b[0;34m.\u001b[0m\u001b[0mget_loc\u001b[0m\u001b[0;34m(\u001b[0m\u001b[0mitem\u001b[0m\u001b[0;34m)\u001b[0m\u001b[0;34m\u001b[0m\u001b[0m\n\u001b[0m\u001b[1;32m   3591\u001b[0m             \u001b[0;32melse\u001b[0m\u001b[0;34m:\u001b[0m\u001b[0;34m\u001b[0m\u001b[0m\n\u001b[1;32m   3592\u001b[0m                 \u001b[0mindexer\u001b[0m \u001b[0;34m=\u001b[0m \u001b[0mnp\u001b[0m\u001b[0;34m.\u001b[0m\u001b[0marange\u001b[0m\u001b[0;34m(\u001b[0m\u001b[0mlen\u001b[0m\u001b[0;34m(\u001b[0m\u001b[0mself\u001b[0m\u001b[0;34m.\u001b[0m\u001b[0mitems\u001b[0m\u001b[0;34m)\u001b[0m\u001b[0;34m)\u001b[0m\u001b[0;34m[\u001b[0m\u001b[0misnull\u001b[0m\u001b[0;34m(\u001b[0m\u001b[0mself\u001b[0m\u001b[0;34m.\u001b[0m\u001b[0mitems\u001b[0m\u001b[0;34m)\u001b[0m\u001b[0;34m]\u001b[0m\u001b[0;34m\u001b[0m\u001b[0m\n",
      "\u001b[0;32m/Library/Frameworks/Python.framework/Versions/3.5/lib/python3.5/site-packages/pandas/core/indexes/base.py\u001b[0m in \u001b[0;36mget_loc\u001b[0;34m(self, key, method, tolerance)\u001b[0m\n\u001b[1;32m   2393\u001b[0m                 \u001b[0;32mreturn\u001b[0m \u001b[0mself\u001b[0m\u001b[0;34m.\u001b[0m\u001b[0m_engine\u001b[0m\u001b[0;34m.\u001b[0m\u001b[0mget_loc\u001b[0m\u001b[0;34m(\u001b[0m\u001b[0mkey\u001b[0m\u001b[0;34m)\u001b[0m\u001b[0;34m\u001b[0m\u001b[0m\n\u001b[1;32m   2394\u001b[0m             \u001b[0;32mexcept\u001b[0m \u001b[0mKeyError\u001b[0m\u001b[0;34m:\u001b[0m\u001b[0;34m\u001b[0m\u001b[0m\n\u001b[0;32m-> 2395\u001b[0;31m                 \u001b[0;32mreturn\u001b[0m \u001b[0mself\u001b[0m\u001b[0;34m.\u001b[0m\u001b[0m_engine\u001b[0m\u001b[0;34m.\u001b[0m\u001b[0mget_loc\u001b[0m\u001b[0;34m(\u001b[0m\u001b[0mself\u001b[0m\u001b[0;34m.\u001b[0m\u001b[0m_maybe_cast_indexer\u001b[0m\u001b[0;34m(\u001b[0m\u001b[0mkey\u001b[0m\u001b[0;34m)\u001b[0m\u001b[0;34m)\u001b[0m\u001b[0;34m\u001b[0m\u001b[0m\n\u001b[0m\u001b[1;32m   2396\u001b[0m \u001b[0;34m\u001b[0m\u001b[0m\n\u001b[1;32m   2397\u001b[0m         \u001b[0mindexer\u001b[0m \u001b[0;34m=\u001b[0m \u001b[0mself\u001b[0m\u001b[0;34m.\u001b[0m\u001b[0mget_indexer\u001b[0m\u001b[0;34m(\u001b[0m\u001b[0;34m[\u001b[0m\u001b[0mkey\u001b[0m\u001b[0;34m]\u001b[0m\u001b[0;34m,\u001b[0m \u001b[0mmethod\u001b[0m\u001b[0;34m=\u001b[0m\u001b[0mmethod\u001b[0m\u001b[0;34m,\u001b[0m \u001b[0mtolerance\u001b[0m\u001b[0;34m=\u001b[0m\u001b[0mtolerance\u001b[0m\u001b[0;34m)\u001b[0m\u001b[0;34m\u001b[0m\u001b[0m\n",
      "\u001b[0;32mpandas/_libs/index.pyx\u001b[0m in \u001b[0;36mpandas._libs.index.IndexEngine.get_loc (pandas/_libs/index.c:5239)\u001b[0;34m()\u001b[0m\n",
      "\u001b[0;32mpandas/_libs/index.pyx\u001b[0m in \u001b[0;36mpandas._libs.index.IndexEngine.get_loc (pandas/_libs/index.c:5085)\u001b[0;34m()\u001b[0m\n",
      "\u001b[0;32mpandas/_libs/hashtable_class_helper.pxi\u001b[0m in \u001b[0;36mpandas._libs.hashtable.PyObjectHashTable.get_item (pandas/_libs/hashtable.c:20405)\u001b[0;34m()\u001b[0m\n",
      "\u001b[0;32mpandas/_libs/hashtable_class_helper.pxi\u001b[0m in \u001b[0;36mpandas._libs.hashtable.PyObjectHashTable.get_item (pandas/_libs/hashtable.c:20359)\u001b[0;34m()\u001b[0m\n",
      "\u001b[0;31mKeyError\u001b[0m: 'kids'"
     ]
    }
   ],
   "source": [
    "df['parent'] = np.where(df['tag_#Parent']==1, df['tag_#Parent'], df['kids'])"
   ]
  },
  {
   "cell_type": "code",
   "execution_count": 38,
   "metadata": {},
   "outputs": [
    {
     "ename": "KeyError",
     "evalue": "'parent'",
     "output_type": "error",
     "traceback": [
      "\u001b[0;31m---------------------------------------------------------------------------\u001b[0m",
      "\u001b[0;31mKeyError\u001b[0m                                  Traceback (most recent call last)",
      "\u001b[0;32m/Library/Frameworks/Python.framework/Versions/3.5/lib/python3.5/site-packages/pandas/core/indexes/base.py\u001b[0m in \u001b[0;36mget_loc\u001b[0;34m(self, key, method, tolerance)\u001b[0m\n\u001b[1;32m   2392\u001b[0m             \u001b[0;32mtry\u001b[0m\u001b[0;34m:\u001b[0m\u001b[0;34m\u001b[0m\u001b[0m\n\u001b[0;32m-> 2393\u001b[0;31m                 \u001b[0;32mreturn\u001b[0m \u001b[0mself\u001b[0m\u001b[0;34m.\u001b[0m\u001b[0m_engine\u001b[0m\u001b[0;34m.\u001b[0m\u001b[0mget_loc\u001b[0m\u001b[0;34m(\u001b[0m\u001b[0mkey\u001b[0m\u001b[0;34m)\u001b[0m\u001b[0;34m\u001b[0m\u001b[0m\n\u001b[0m\u001b[1;32m   2394\u001b[0m             \u001b[0;32mexcept\u001b[0m \u001b[0mKeyError\u001b[0m\u001b[0;34m:\u001b[0m\u001b[0;34m\u001b[0m\u001b[0m\n",
      "\u001b[0;32mpandas/_libs/index.pyx\u001b[0m in \u001b[0;36mpandas._libs.index.IndexEngine.get_loc (pandas/_libs/index.c:5239)\u001b[0;34m()\u001b[0m\n",
      "\u001b[0;32mpandas/_libs/index.pyx\u001b[0m in \u001b[0;36mpandas._libs.index.IndexEngine.get_loc (pandas/_libs/index.c:5085)\u001b[0;34m()\u001b[0m\n",
      "\u001b[0;32mpandas/_libs/hashtable_class_helper.pxi\u001b[0m in \u001b[0;36mpandas._libs.hashtable.PyObjectHashTable.get_item (pandas/_libs/hashtable.c:20405)\u001b[0;34m()\u001b[0m\n",
      "\u001b[0;32mpandas/_libs/hashtable_class_helper.pxi\u001b[0m in \u001b[0;36mpandas._libs.hashtable.PyObjectHashTable.get_item (pandas/_libs/hashtable.c:20359)\u001b[0;34m()\u001b[0m\n",
      "\u001b[0;31mKeyError\u001b[0m: 'parent'",
      "\nDuring handling of the above exception, another exception occurred:\n",
      "\u001b[0;31mKeyError\u001b[0m                                  Traceback (most recent call last)",
      "\u001b[0;32m<ipython-input-38-e0be89586d38>\u001b[0m in \u001b[0;36m<module>\u001b[0;34m()\u001b[0m\n\u001b[0;32m----> 1\u001b[0;31m \u001b[0mdf\u001b[0m\u001b[0;34m[\u001b[0m\u001b[0;34m'parent'\u001b[0m\u001b[0;34m]\u001b[0m\u001b[0;34m.\u001b[0m\u001b[0mvalue_counts\u001b[0m\u001b[0;34m(\u001b[0m\u001b[0;34m)\u001b[0m\u001b[0;34m\u001b[0m\u001b[0m\n\u001b[0m",
      "\u001b[0;32m/Library/Frameworks/Python.framework/Versions/3.5/lib/python3.5/site-packages/pandas/core/frame.py\u001b[0m in \u001b[0;36m__getitem__\u001b[0;34m(self, key)\u001b[0m\n\u001b[1;32m   2060\u001b[0m             \u001b[0;32mreturn\u001b[0m \u001b[0mself\u001b[0m\u001b[0;34m.\u001b[0m\u001b[0m_getitem_multilevel\u001b[0m\u001b[0;34m(\u001b[0m\u001b[0mkey\u001b[0m\u001b[0;34m)\u001b[0m\u001b[0;34m\u001b[0m\u001b[0m\n\u001b[1;32m   2061\u001b[0m         \u001b[0;32melse\u001b[0m\u001b[0;34m:\u001b[0m\u001b[0;34m\u001b[0m\u001b[0m\n\u001b[0;32m-> 2062\u001b[0;31m             \u001b[0;32mreturn\u001b[0m \u001b[0mself\u001b[0m\u001b[0;34m.\u001b[0m\u001b[0m_getitem_column\u001b[0m\u001b[0;34m(\u001b[0m\u001b[0mkey\u001b[0m\u001b[0;34m)\u001b[0m\u001b[0;34m\u001b[0m\u001b[0m\n\u001b[0m\u001b[1;32m   2063\u001b[0m \u001b[0;34m\u001b[0m\u001b[0m\n\u001b[1;32m   2064\u001b[0m     \u001b[0;32mdef\u001b[0m \u001b[0m_getitem_column\u001b[0m\u001b[0;34m(\u001b[0m\u001b[0mself\u001b[0m\u001b[0;34m,\u001b[0m \u001b[0mkey\u001b[0m\u001b[0;34m)\u001b[0m\u001b[0;34m:\u001b[0m\u001b[0;34m\u001b[0m\u001b[0m\n",
      "\u001b[0;32m/Library/Frameworks/Python.framework/Versions/3.5/lib/python3.5/site-packages/pandas/core/frame.py\u001b[0m in \u001b[0;36m_getitem_column\u001b[0;34m(self, key)\u001b[0m\n\u001b[1;32m   2067\u001b[0m         \u001b[0;31m# get column\u001b[0m\u001b[0;34m\u001b[0m\u001b[0;34m\u001b[0m\u001b[0m\n\u001b[1;32m   2068\u001b[0m         \u001b[0;32mif\u001b[0m \u001b[0mself\u001b[0m\u001b[0;34m.\u001b[0m\u001b[0mcolumns\u001b[0m\u001b[0;34m.\u001b[0m\u001b[0mis_unique\u001b[0m\u001b[0;34m:\u001b[0m\u001b[0;34m\u001b[0m\u001b[0m\n\u001b[0;32m-> 2069\u001b[0;31m             \u001b[0;32mreturn\u001b[0m \u001b[0mself\u001b[0m\u001b[0;34m.\u001b[0m\u001b[0m_get_item_cache\u001b[0m\u001b[0;34m(\u001b[0m\u001b[0mkey\u001b[0m\u001b[0;34m)\u001b[0m\u001b[0;34m\u001b[0m\u001b[0m\n\u001b[0m\u001b[1;32m   2070\u001b[0m \u001b[0;34m\u001b[0m\u001b[0m\n\u001b[1;32m   2071\u001b[0m         \u001b[0;31m# duplicate columns & possible reduce dimensionality\u001b[0m\u001b[0;34m\u001b[0m\u001b[0;34m\u001b[0m\u001b[0m\n",
      "\u001b[0;32m/Library/Frameworks/Python.framework/Versions/3.5/lib/python3.5/site-packages/pandas/core/generic.py\u001b[0m in \u001b[0;36m_get_item_cache\u001b[0;34m(self, item)\u001b[0m\n\u001b[1;32m   1532\u001b[0m         \u001b[0mres\u001b[0m \u001b[0;34m=\u001b[0m \u001b[0mcache\u001b[0m\u001b[0;34m.\u001b[0m\u001b[0mget\u001b[0m\u001b[0;34m(\u001b[0m\u001b[0mitem\u001b[0m\u001b[0;34m)\u001b[0m\u001b[0;34m\u001b[0m\u001b[0m\n\u001b[1;32m   1533\u001b[0m         \u001b[0;32mif\u001b[0m \u001b[0mres\u001b[0m \u001b[0;32mis\u001b[0m \u001b[0;32mNone\u001b[0m\u001b[0;34m:\u001b[0m\u001b[0;34m\u001b[0m\u001b[0m\n\u001b[0;32m-> 1534\u001b[0;31m             \u001b[0mvalues\u001b[0m \u001b[0;34m=\u001b[0m \u001b[0mself\u001b[0m\u001b[0;34m.\u001b[0m\u001b[0m_data\u001b[0m\u001b[0;34m.\u001b[0m\u001b[0mget\u001b[0m\u001b[0;34m(\u001b[0m\u001b[0mitem\u001b[0m\u001b[0;34m)\u001b[0m\u001b[0;34m\u001b[0m\u001b[0m\n\u001b[0m\u001b[1;32m   1535\u001b[0m             \u001b[0mres\u001b[0m \u001b[0;34m=\u001b[0m \u001b[0mself\u001b[0m\u001b[0;34m.\u001b[0m\u001b[0m_box_item_values\u001b[0m\u001b[0;34m(\u001b[0m\u001b[0mitem\u001b[0m\u001b[0;34m,\u001b[0m \u001b[0mvalues\u001b[0m\u001b[0;34m)\u001b[0m\u001b[0;34m\u001b[0m\u001b[0m\n\u001b[1;32m   1536\u001b[0m             \u001b[0mcache\u001b[0m\u001b[0;34m[\u001b[0m\u001b[0mitem\u001b[0m\u001b[0;34m]\u001b[0m \u001b[0;34m=\u001b[0m \u001b[0mres\u001b[0m\u001b[0;34m\u001b[0m\u001b[0m\n",
      "\u001b[0;32m/Library/Frameworks/Python.framework/Versions/3.5/lib/python3.5/site-packages/pandas/core/internals.py\u001b[0m in \u001b[0;36mget\u001b[0;34m(self, item, fastpath)\u001b[0m\n\u001b[1;32m   3588\u001b[0m \u001b[0;34m\u001b[0m\u001b[0m\n\u001b[1;32m   3589\u001b[0m             \u001b[0;32mif\u001b[0m \u001b[0;32mnot\u001b[0m \u001b[0misnull\u001b[0m\u001b[0;34m(\u001b[0m\u001b[0mitem\u001b[0m\u001b[0;34m)\u001b[0m\u001b[0;34m:\u001b[0m\u001b[0;34m\u001b[0m\u001b[0m\n\u001b[0;32m-> 3590\u001b[0;31m                 \u001b[0mloc\u001b[0m \u001b[0;34m=\u001b[0m \u001b[0mself\u001b[0m\u001b[0;34m.\u001b[0m\u001b[0mitems\u001b[0m\u001b[0;34m.\u001b[0m\u001b[0mget_loc\u001b[0m\u001b[0;34m(\u001b[0m\u001b[0mitem\u001b[0m\u001b[0;34m)\u001b[0m\u001b[0;34m\u001b[0m\u001b[0m\n\u001b[0m\u001b[1;32m   3591\u001b[0m             \u001b[0;32melse\u001b[0m\u001b[0;34m:\u001b[0m\u001b[0;34m\u001b[0m\u001b[0m\n\u001b[1;32m   3592\u001b[0m                 \u001b[0mindexer\u001b[0m \u001b[0;34m=\u001b[0m \u001b[0mnp\u001b[0m\u001b[0;34m.\u001b[0m\u001b[0marange\u001b[0m\u001b[0;34m(\u001b[0m\u001b[0mlen\u001b[0m\u001b[0;34m(\u001b[0m\u001b[0mself\u001b[0m\u001b[0;34m.\u001b[0m\u001b[0mitems\u001b[0m\u001b[0;34m)\u001b[0m\u001b[0;34m)\u001b[0m\u001b[0;34m[\u001b[0m\u001b[0misnull\u001b[0m\u001b[0;34m(\u001b[0m\u001b[0mself\u001b[0m\u001b[0;34m.\u001b[0m\u001b[0mitems\u001b[0m\u001b[0;34m)\u001b[0m\u001b[0;34m]\u001b[0m\u001b[0;34m\u001b[0m\u001b[0m\n",
      "\u001b[0;32m/Library/Frameworks/Python.framework/Versions/3.5/lib/python3.5/site-packages/pandas/core/indexes/base.py\u001b[0m in \u001b[0;36mget_loc\u001b[0;34m(self, key, method, tolerance)\u001b[0m\n\u001b[1;32m   2393\u001b[0m                 \u001b[0;32mreturn\u001b[0m \u001b[0mself\u001b[0m\u001b[0;34m.\u001b[0m\u001b[0m_engine\u001b[0m\u001b[0;34m.\u001b[0m\u001b[0mget_loc\u001b[0m\u001b[0;34m(\u001b[0m\u001b[0mkey\u001b[0m\u001b[0;34m)\u001b[0m\u001b[0;34m\u001b[0m\u001b[0m\n\u001b[1;32m   2394\u001b[0m             \u001b[0;32mexcept\u001b[0m \u001b[0mKeyError\u001b[0m\u001b[0;34m:\u001b[0m\u001b[0;34m\u001b[0m\u001b[0m\n\u001b[0;32m-> 2395\u001b[0;31m                 \u001b[0;32mreturn\u001b[0m \u001b[0mself\u001b[0m\u001b[0;34m.\u001b[0m\u001b[0m_engine\u001b[0m\u001b[0;34m.\u001b[0m\u001b[0mget_loc\u001b[0m\u001b[0;34m(\u001b[0m\u001b[0mself\u001b[0m\u001b[0;34m.\u001b[0m\u001b[0m_maybe_cast_indexer\u001b[0m\u001b[0;34m(\u001b[0m\u001b[0mkey\u001b[0m\u001b[0;34m)\u001b[0m\u001b[0;34m)\u001b[0m\u001b[0;34m\u001b[0m\u001b[0m\n\u001b[0m\u001b[1;32m   2396\u001b[0m \u001b[0;34m\u001b[0m\u001b[0m\n\u001b[1;32m   2397\u001b[0m         \u001b[0mindexer\u001b[0m \u001b[0;34m=\u001b[0m \u001b[0mself\u001b[0m\u001b[0;34m.\u001b[0m\u001b[0mget_indexer\u001b[0m\u001b[0;34m(\u001b[0m\u001b[0;34m[\u001b[0m\u001b[0mkey\u001b[0m\u001b[0;34m]\u001b[0m\u001b[0;34m,\u001b[0m \u001b[0mmethod\u001b[0m\u001b[0;34m=\u001b[0m\u001b[0mmethod\u001b[0m\u001b[0;34m,\u001b[0m \u001b[0mtolerance\u001b[0m\u001b[0;34m=\u001b[0m\u001b[0mtolerance\u001b[0m\u001b[0;34m)\u001b[0m\u001b[0;34m\u001b[0m\u001b[0m\n",
      "\u001b[0;32mpandas/_libs/index.pyx\u001b[0m in \u001b[0;36mpandas._libs.index.IndexEngine.get_loc (pandas/_libs/index.c:5239)\u001b[0;34m()\u001b[0m\n",
      "\u001b[0;32mpandas/_libs/index.pyx\u001b[0m in \u001b[0;36mpandas._libs.index.IndexEngine.get_loc (pandas/_libs/index.c:5085)\u001b[0;34m()\u001b[0m\n",
      "\u001b[0;32mpandas/_libs/hashtable_class_helper.pxi\u001b[0m in \u001b[0;36mpandas._libs.hashtable.PyObjectHashTable.get_item (pandas/_libs/hashtable.c:20405)\u001b[0;34m()\u001b[0m\n",
      "\u001b[0;32mpandas/_libs/hashtable_class_helper.pxi\u001b[0m in \u001b[0;36mpandas._libs.hashtable.PyObjectHashTable.get_item (pandas/_libs/hashtable.c:20359)\u001b[0;34m()\u001b[0m\n",
      "\u001b[0;31mKeyError\u001b[0m: 'parent'"
     ]
    }
   ],
   "source": [
    "df['parent'].value_counts()"
   ]
  },
  {
   "cell_type": "markdown",
   "metadata": {},
   "source": [
    "Now, let's plot the average. Below, with better coverage we seem to be telling a very different story. The average amount and distribution of loan amounts requested by parents appears to be lower."
   ]
  },
  {
   "cell_type": "code",
   "execution_count": 39,
   "metadata": {},
   "outputs": [
    {
     "ename": "KeyError",
     "evalue": "'parent'",
     "output_type": "error",
     "traceback": [
      "\u001b[0;31m---------------------------------------------------------------------------\u001b[0m",
      "\u001b[0;31mKeyError\u001b[0m                                  Traceback (most recent call last)",
      "\u001b[0;32m<ipython-input-39-5710e1b30f44>\u001b[0m in \u001b[0;36m<module>\u001b[0;34m()\u001b[0m\n\u001b[0;32m----> 1\u001b[0;31m \u001b[0mdf\u001b[0m\u001b[0;34m[\u001b[0m\u001b[0mdf\u001b[0m\u001b[0;34m[\u001b[0m\u001b[0;34m'borrower_count'\u001b[0m\u001b[0;34m]\u001b[0m \u001b[0;34m==\u001b[0m \u001b[0;36m1\u001b[0m\u001b[0;34m]\u001b[0m\u001b[0;34m.\u001b[0m\u001b[0mgroupby\u001b[0m\u001b[0;34m(\u001b[0m\u001b[0;34m'parent'\u001b[0m\u001b[0;34m)\u001b[0m\u001b[0;34m[\u001b[0m\u001b[0;34m'loan_amount'\u001b[0m\u001b[0;34m]\u001b[0m\u001b[0;34m.\u001b[0m\u001b[0mmean\u001b[0m\u001b[0;34m(\u001b[0m\u001b[0;34m)\u001b[0m\u001b[0;34m.\u001b[0m\u001b[0mplot\u001b[0m\u001b[0;34m(\u001b[0m\u001b[0mkind\u001b[0m\u001b[0;34m=\u001b[0m\u001b[0;34m\"bar\"\u001b[0m\u001b[0;34m,\u001b[0m \u001b[0mtitle\u001b[0m\u001b[0;34m=\u001b[0m\u001b[0;34m\"Average Loan Amount By whether a woman owns the business\"\u001b[0m\u001b[0;34m)\u001b[0m\u001b[0;34m\u001b[0m\u001b[0m\n\u001b[0m",
      "\u001b[0;32m/Library/Frameworks/Python.framework/Versions/3.5/lib/python3.5/site-packages/pandas/core/generic.py\u001b[0m in \u001b[0;36mgroupby\u001b[0;34m(self, by, axis, level, as_index, sort, group_keys, squeeze, **kwargs)\u001b[0m\n\u001b[1;32m   4269\u001b[0m         return groupby(self, by=by, axis=axis, level=level, as_index=as_index,\n\u001b[1;32m   4270\u001b[0m                        \u001b[0msort\u001b[0m\u001b[0;34m=\u001b[0m\u001b[0msort\u001b[0m\u001b[0;34m,\u001b[0m \u001b[0mgroup_keys\u001b[0m\u001b[0;34m=\u001b[0m\u001b[0mgroup_keys\u001b[0m\u001b[0;34m,\u001b[0m \u001b[0msqueeze\u001b[0m\u001b[0;34m=\u001b[0m\u001b[0msqueeze\u001b[0m\u001b[0;34m,\u001b[0m\u001b[0;34m\u001b[0m\u001b[0m\n\u001b[0;32m-> 4271\u001b[0;31m                        **kwargs)\n\u001b[0m\u001b[1;32m   4272\u001b[0m \u001b[0;34m\u001b[0m\u001b[0m\n\u001b[1;32m   4273\u001b[0m     def asfreq(self, freq, method=None, how=None, normalize=False,\n",
      "\u001b[0;32m/Library/Frameworks/Python.framework/Versions/3.5/lib/python3.5/site-packages/pandas/core/groupby.py\u001b[0m in \u001b[0;36mgroupby\u001b[0;34m(obj, by, **kwds)\u001b[0m\n\u001b[1;32m   1624\u001b[0m         \u001b[0;32mraise\u001b[0m \u001b[0mTypeError\u001b[0m\u001b[0;34m(\u001b[0m\u001b[0;34m'invalid type: %s'\u001b[0m \u001b[0;34m%\u001b[0m \u001b[0mtype\u001b[0m\u001b[0;34m(\u001b[0m\u001b[0mobj\u001b[0m\u001b[0;34m)\u001b[0m\u001b[0;34m)\u001b[0m\u001b[0;34m\u001b[0m\u001b[0m\n\u001b[1;32m   1625\u001b[0m \u001b[0;34m\u001b[0m\u001b[0m\n\u001b[0;32m-> 1626\u001b[0;31m     \u001b[0;32mreturn\u001b[0m \u001b[0mklass\u001b[0m\u001b[0;34m(\u001b[0m\u001b[0mobj\u001b[0m\u001b[0;34m,\u001b[0m \u001b[0mby\u001b[0m\u001b[0;34m,\u001b[0m \u001b[0;34m**\u001b[0m\u001b[0mkwds\u001b[0m\u001b[0;34m)\u001b[0m\u001b[0;34m\u001b[0m\u001b[0m\n\u001b[0m\u001b[1;32m   1627\u001b[0m \u001b[0;34m\u001b[0m\u001b[0m\n\u001b[1;32m   1628\u001b[0m \u001b[0;34m\u001b[0m\u001b[0m\n",
      "\u001b[0;32m/Library/Frameworks/Python.framework/Versions/3.5/lib/python3.5/site-packages/pandas/core/groupby.py\u001b[0m in \u001b[0;36m__init__\u001b[0;34m(self, obj, keys, axis, level, grouper, exclusions, selection, as_index, sort, group_keys, squeeze, **kwargs)\u001b[0m\n\u001b[1;32m    390\u001b[0m                                                     \u001b[0mlevel\u001b[0m\u001b[0;34m=\u001b[0m\u001b[0mlevel\u001b[0m\u001b[0;34m,\u001b[0m\u001b[0;34m\u001b[0m\u001b[0m\n\u001b[1;32m    391\u001b[0m                                                     \u001b[0msort\u001b[0m\u001b[0;34m=\u001b[0m\u001b[0msort\u001b[0m\u001b[0;34m,\u001b[0m\u001b[0;34m\u001b[0m\u001b[0m\n\u001b[0;32m--> 392\u001b[0;31m                                                     mutated=self.mutated)\n\u001b[0m\u001b[1;32m    393\u001b[0m \u001b[0;34m\u001b[0m\u001b[0m\n\u001b[1;32m    394\u001b[0m         \u001b[0mself\u001b[0m\u001b[0;34m.\u001b[0m\u001b[0mobj\u001b[0m \u001b[0;34m=\u001b[0m \u001b[0mobj\u001b[0m\u001b[0;34m\u001b[0m\u001b[0m\n",
      "\u001b[0;32m/Library/Frameworks/Python.framework/Versions/3.5/lib/python3.5/site-packages/pandas/core/groupby.py\u001b[0m in \u001b[0;36m_get_grouper\u001b[0;34m(obj, key, axis, level, sort, mutated)\u001b[0m\n\u001b[1;32m   2615\u001b[0m                 \u001b[0min_axis\u001b[0m\u001b[0;34m,\u001b[0m \u001b[0mname\u001b[0m\u001b[0;34m,\u001b[0m \u001b[0mlevel\u001b[0m\u001b[0;34m,\u001b[0m \u001b[0mgpr\u001b[0m \u001b[0;34m=\u001b[0m \u001b[0;32mFalse\u001b[0m\u001b[0;34m,\u001b[0m \u001b[0;32mNone\u001b[0m\u001b[0;34m,\u001b[0m \u001b[0mgpr\u001b[0m\u001b[0;34m,\u001b[0m \u001b[0;32mNone\u001b[0m\u001b[0;34m\u001b[0m\u001b[0m\n\u001b[1;32m   2616\u001b[0m             \u001b[0;32melse\u001b[0m\u001b[0;34m:\u001b[0m\u001b[0;34m\u001b[0m\u001b[0m\n\u001b[0;32m-> 2617\u001b[0;31m                 \u001b[0;32mraise\u001b[0m \u001b[0mKeyError\u001b[0m\u001b[0;34m(\u001b[0m\u001b[0mgpr\u001b[0m\u001b[0;34m)\u001b[0m\u001b[0;34m\u001b[0m\u001b[0m\n\u001b[0m\u001b[1;32m   2618\u001b[0m         \u001b[0;32melif\u001b[0m \u001b[0misinstance\u001b[0m\u001b[0;34m(\u001b[0m\u001b[0mgpr\u001b[0m\u001b[0;34m,\u001b[0m \u001b[0mGrouper\u001b[0m\u001b[0;34m)\u001b[0m \u001b[0;32mand\u001b[0m \u001b[0mgpr\u001b[0m\u001b[0;34m.\u001b[0m\u001b[0mkey\u001b[0m \u001b[0;32mis\u001b[0m \u001b[0;32mnot\u001b[0m \u001b[0;32mNone\u001b[0m\u001b[0;34m:\u001b[0m\u001b[0;34m\u001b[0m\u001b[0m\n\u001b[1;32m   2619\u001b[0m             \u001b[0;31m# Add key to exclusions\u001b[0m\u001b[0;34m\u001b[0m\u001b[0;34m\u001b[0m\u001b[0m\n",
      "\u001b[0;31mKeyError\u001b[0m: 'parent'"
     ]
    }
   ],
   "source": [
    "df[df['borrower_count'] == 1].groupby('parent')['loan_amount'].mean().plot(kind=\"bar\", title=\"Average Loan Amount By whether a woman owns the business\")"
   ]
  },
  {
   "cell_type": "code",
   "execution_count": null,
   "metadata": {
    "collapsed": true
   },
   "outputs": [],
   "source": [
    "df[(df['borrower_count'] == 1)].boxplot(column='loan_amount', by='parent', showfliers=False, figsize=(12,8))"
   ]
  },
  {
   "cell_type": "markdown",
   "metadata": {},
   "source": [
    "## Repeat Borrower"
   ]
  },
  {
   "cell_type": "markdown",
   "metadata": {},
   "source": [
    "Now let's look at repeat borrowers. There are ~13,000 repeat borrowers in our dataset. A strong hypothesis could be that if you are a returning borrower you may request more since you have already demonstrated ability to pay back."
   ]
  },
  {
   "cell_type": "code",
   "execution_count": null,
   "metadata": {
    "collapsed": true
   },
   "outputs": [],
   "source": [
    "df['tag_#Repeat Borrower'].value_counts()"
   ]
  },
  {
   "cell_type": "code",
   "execution_count": null,
   "metadata": {
    "collapsed": true
   },
   "outputs": [],
   "source": [
    "## Whether or not the borrower is widowed\n",
    "#  Note the str.contains function\n",
    "\n",
    "df['widowed'] = np.where(df['description.texts.en'].str.contains(\"widowed|widow\", na=0)==True, 1, 0)\n",
    "\n",
    "## Whether or not the borrower has children, notice we look for many variants of the word.\n",
    "df['kids'] = np.where(df['description.texts.en'].str.contains(\"kids|child|children|kid|son|daughter|mother|father|parents\", na=0) ==True,1,0)\n",
    "## Whether or not the borrower is elderly\n",
    "df['elderly'] = np.where(df['tags'].str.contains(\"#Elderly\", na=0) ==True, 1, 0)\n",
    "\n",
    "df['repeat_borrower'] = np.where(df['tags'].str.contains(\"#Repeat Borrower\", na=0) ==True, 1, 0)\n",
    "\n"
   ]
  },
  {
   "cell_type": "code",
   "execution_count": null,
   "metadata": {
    "collapsed": true
   },
   "outputs": [],
   "source": [
    "df['repeat_borrower'].value_counts()"
   ]
  },
  {
   "cell_type": "code",
   "execution_count": null,
   "metadata": {
    "collapsed": true
   },
   "outputs": [],
   "source": [
    "df[df['borrower_count'] == 1].groupby('repeat_borrower')['loan_amount'].mean().plot(kind=\"bar\", title=\"Average Loan Amount By Repeat Borrower\")\n",
    "\n",
    "df[(df['borrower_count'] == 1)].boxplot(column='loan_amount', by='repeat_borrower', showfliers=False, figsize=(12,8))"
   ]
  },
  {
   "cell_type": "markdown",
   "metadata": {},
   "source": [
    "There certainly seems to be a strong relationship here! We should definately include this feature."
   ]
  },
  {
   "cell_type": "markdown",
   "metadata": {},
   "source": [
    "## Schooling"
   ]
  },
  {
   "cell_type": "code",
   "execution_count": 40,
   "metadata": {},
   "outputs": [
    {
     "data": {
      "text/plain": [
       "0    106814\n",
       "1     11385\n",
       "Name: tag_#Schooling, dtype: int64"
      ]
     },
     "execution_count": 40,
     "metadata": {},
     "output_type": "execute_result"
    }
   ],
   "source": [
    "df['tag_#Schooling'].value_counts()"
   ]
  },
  {
   "cell_type": "code",
   "execution_count": 41,
   "metadata": {},
   "outputs": [
    {
     "data": {
      "text/plain": [
       "<matplotlib.axes._subplots.AxesSubplot at 0x111b815c0>"
      ]
     },
     "execution_count": 41,
     "metadata": {},
     "output_type": "execute_result"
    },
    {
     "data": {
      "image/png": "[encoded data removed]",
      "text/plain": [
       "<matplotlib.figure.Figure at 0x119ee1978>"
      ]
     },
     "metadata": {},
     "output_type": "display_data"
    }
   ],
   "source": [
    "df[(df['borrower_count'] == 1)].boxplot(column='loan_amount', by='tag_#Schooling', showfliers=False, figsize=(12,8))"
   ]
  },
  {
   "cell_type": "markdown",
   "metadata": {},
   "source": [
    "## Marital Status"
   ]
  },
  {
   "cell_type": "markdown",
   "metadata": {},
   "source": [
    "Before we move on, we read through a few descriptions and realize many loans mention whether the applicant is married. We decide to take a look at this feature by doing a text search for the word married, husband or wife."
   ]
  },
  {
   "cell_type": "code",
   "execution_count": 42,
   "metadata": {
    "collapsed": true
   },
   "outputs": [],
   "source": [
    "## Whether or not the borrower is married\n",
    "df['married'] = np.where(df['description.texts.en'].str.contains(\"married|husband|wife\", na=0)==True, 1, 0)"
   ]
  },
  {
   "cell_type": "code",
   "execution_count": 43,
   "metadata": {
    "scrolled": true
   },
   "outputs": [
    {
     "data": {
      "text/html": [
       "<div>\n",
       "<style>\n",
       "    .dataframe thead tr:only-child th {\n",
       "        text-align: right;\n",
       "    }\n",
       "\n",
       "    .dataframe thead th {\n",
       "        text-align: left;\n",
       "    }\n",
       "\n",
       "    .dataframe tbody tr th {\n",
       "        vertical-align: top;\n",
       "    }\n",
       "</style>\n",
       "<table border=\"1\" class=\"dataframe\">\n",
       "  <thead>\n",
       "    <tr style=\"text-align: right;\">\n",
       "      <th></th>\n",
       "      <th>Unnamed: 0</th>\n",
       "      <th>Unnamed: 0.1</th>\n",
       "      <th>Unnamed: 0.1.1</th>\n",
       "      <th>activity</th>\n",
       "      <th>basket_amount</th>\n",
       "      <th>bonus_credit_eligibility</th>\n",
       "      <th>borrowers</th>\n",
       "      <th>currency_exchange_loss_amount</th>\n",
       "      <th>description.languages</th>\n",
       "      <th>description.texts.en</th>\n",
       "      <th>description.texts.es</th>\n",
       "      <th>description.texts.fr</th>\n",
       "      <th>description.texts.ru</th>\n",
       "      <th>funded_amount</th>\n",
       "      <th>funded_date</th>\n",
       "      <th>id</th>\n",
       "      <th>image.id</th>\n",
       "      <th>image.template_id</th>\n",
       "      <th>journal_totals.bulkEntries</th>\n",
       "      <th>journal_totals.entries</th>\n",
       "      <th>lender_count</th>\n",
       "      <th>loan_amount</th>\n",
       "      <th>location.country</th>\n",
       "      <th>location.country_code</th>\n",
       "      <th>location.geo.level</th>\n",
       "      <th>location.geo.pairs</th>\n",
       "      <th>location.geo.type</th>\n",
       "      <th>location.town</th>\n",
       "      <th>name</th>\n",
       "      <th>partner_id</th>\n",
       "      <th>payments</th>\n",
       "      <th>planned_expiration_date</th>\n",
       "      <th>posted_date</th>\n",
       "      <th>sector</th>\n",
       "      <th>status</th>\n",
       "      <th>tags</th>\n",
       "      <th>terms.disbursal_amount</th>\n",
       "      <th>terms.disbursal_currency</th>\n",
       "      <th>terms.disbursal_date</th>\n",
       "      <th>terms.loan_amount</th>\n",
       "      <th>terms.local_payments</th>\n",
       "      <th>terms.loss_liability.currency_exchange</th>\n",
       "      <th>terms.loss_liability.currency_exchange_coverage_rate</th>\n",
       "      <th>terms.loss_liability.nonpayment</th>\n",
       "      <th>terms.repayment_interval</th>\n",
       "      <th>terms.repayment_term</th>\n",
       "      <th>terms.scheduled_payments</th>\n",
       "      <th>themes</th>\n",
       "      <th>translator.byline</th>\n",
       "      <th>translator.image</th>\n",
       "      <th>use</th>\n",
       "      <th>video.id</th>\n",
       "      <th>video.thumbnailImageId</th>\n",
       "      <th>video.title</th>\n",
       "      <th>video.youtubeId</th>\n",
       "      <th>borrower_count</th>\n",
       "      <th>partner_average_loan_size_percent_per_capita_income</th>\n",
       "      <th>partner_charges_fees_and_interest</th>\n",
       "      <th>partner_countries</th>\n",
       "      <th>partner_currency_exchange_loss_rate</th>\n",
       "      <th>partner_default_rate</th>\n",
       "      <th>partner_default_rate_note</th>\n",
       "      <th>partner_delinquency_rate</th>\n",
       "      <th>partner_delinquency_rate_note</th>\n",
       "      <th>partner_image.id</th>\n",
       "      <th>partner_image.template_id</th>\n",
       "      <th>partner_loans_at_risk_rate</th>\n",
       "      <th>partner_loans_posted</th>\n",
       "      <th>partner_name</th>\n",
       "      <th>partner_portfolio_yield</th>\n",
       "      <th>partner_portfolio_yield_note</th>\n",
       "      <th>partner_profitability</th>\n",
       "      <th>partner_rating</th>\n",
       "      <th>partner_social_performance_strengths</th>\n",
       "      <th>partner_start_date</th>\n",
       "      <th>partner_status</th>\n",
       "      <th>partner_total_amount_raised</th>\n",
       "      <th>partner_url</th>\n",
       "      <th>posted_datetime</th>\n",
       "      <th>planned_expiration_datetime</th>\n",
       "      <th>funded_datetime</th>\n",
       "      <th>dispursal_datetime</th>\n",
       "      <th>dispersal_date</th>\n",
       "      <th>posted_year</th>\n",
       "      <th>number_of_loans</th>\n",
       "      <th>gender</th>\n",
       "      <th>num_tags</th>\n",
       "      <th>tag_#Woman Owned Biz</th>\n",
       "      <th>tag_#Parent</th>\n",
       "      <th>tag_user_favorite</th>\n",
       "      <th>tag_#Repeat Borrower</th>\n",
       "      <th>tag_#Schooling</th>\n",
       "      <th>tag_volunteer_pick</th>\n",
       "      <th>tag_#Vegan</th>\n",
       "      <th>tag_volunteer_like</th>\n",
       "      <th>tag_#Animals</th>\n",
       "      <th>tag_#Eco-friendly</th>\n",
       "      <th>tag_#Technology</th>\n",
       "      <th>married</th>\n",
       "    </tr>\n",
       "  </thead>\n",
       "  <tbody>\n",
       "    <tr>\n",
       "      <th>0</th>\n",
       "      <td>0</td>\n",
       "      <td>0</td>\n",
       "      <td>0</td>\n",
       "      <td>Farming</td>\n",
       "      <td>0.0</td>\n",
       "      <td>False</td>\n",
       "      <td>[{'first_name': 'Evaline', 'last_name': '', 'g...</td>\n",
       "      <td>NaN</td>\n",
       "      <td>['en']</td>\n",
       "      <td>Evaline is a married lady aged 44 years old an...</td>\n",
       "      <td>NaN</td>\n",
       "      <td>NaN</td>\n",
       "      <td>NaN</td>\n",
       "      <td>0</td>\n",
       "      <td>NaN</td>\n",
       "      <td>1291548</td>\n",
       "      <td>2516002</td>\n",
       "      <td>1</td>\n",
       "      <td>0</td>\n",
       "      <td>0</td>\n",
       "      <td>0</td>\n",
       "      <td>500</td>\n",
       "      <td>Kenya</td>\n",
       "      <td>KE</td>\n",
       "      <td>town</td>\n",
       "      <td>-0.583333 35.183333</td>\n",
       "      <td>point</td>\n",
       "      <td>litein</td>\n",
       "      <td>Evaline</td>\n",
       "      <td>386.0</td>\n",
       "      <td>[]</td>\n",
       "      <td>2017-06-08</td>\n",
       "      <td>2017-05-09</td>\n",
       "      <td>Agriculture</td>\n",
       "      <td>fundraising</td>\n",
       "      <td>[{'name': '#Woman Owned Biz'}, {'name': '#Pare...</td>\n",
       "      <td>50000.0</td>\n",
       "      <td>KES</td>\n",
       "      <td>2017-04-03T07:00:00Z</td>\n",
       "      <td>500</td>\n",
       "      <td>[{'due_date': '2017-05-10T07:00:00Z', 'amount'...</td>\n",
       "      <td>shared</td>\n",
       "      <td>0.1</td>\n",
       "      <td>lender</td>\n",
       "      <td>Monthly</td>\n",
       "      <td>14</td>\n",
       "      <td>[{'due_date': '2017-07-01T07:00:00Z', 'amount'...</td>\n",
       "      <td>NaN</td>\n",
       "      <td>Julie Keaton</td>\n",
       "      <td>892591.0</td>\n",
       "      <td>to purchase more tea leaves to sell to the tea...</td>\n",
       "      <td>NaN</td>\n",
       "      <td>NaN</td>\n",
       "      <td>NaN</td>\n",
       "      <td>NaN</td>\n",
       "      <td>1</td>\n",
       "      <td>0.0</td>\n",
       "      <td>True</td>\n",
       "      <td>[{'iso_code': 'KE', 'region': 'Africa', 'name'...</td>\n",
       "      <td>0.120642</td>\n",
       "      <td>0.0</td>\n",
       "      <td>NaN</td>\n",
       "      <td>7.017031</td>\n",
       "      <td>NaN</td>\n",
       "      <td>1592272</td>\n",
       "      <td>1</td>\n",
       "      <td>21.165398</td>\n",
       "      <td>1948</td>\n",
       "      <td>Kenya ECLOF</td>\n",
       "      <td>40.3</td>\n",
       "      <td>NaN</td>\n",
       "      <td>2.54</td>\n",
       "      <td>2.0</td>\n",
       "      <td>[{'id': 3, 'name': 'Client Voice', 'descriptio...</td>\n",
       "      <td>2014-05-29T13:30:02Z</td>\n",
       "      <td>active</td>\n",
       "      <td>863375</td>\n",
       "      <td>http://www.eclof-kenya.org/</td>\n",
       "      <td>2017-05-09 00:40:03</td>\n",
       "      <td>2017-06-08 00:40:03</td>\n",
       "      <td>NaN</td>\n",
       "      <td>2017-04-03 07:00:00</td>\n",
       "      <td>2017-04-03</td>\n",
       "      <td>2017</td>\n",
       "      <td>1</td>\n",
       "      <td>Female</td>\n",
       "      <td>1</td>\n",
       "      <td>1</td>\n",
       "      <td>1</td>\n",
       "      <td>0</td>\n",
       "      <td>0</td>\n",
       "      <td>0</td>\n",
       "      <td>0</td>\n",
       "      <td>0</td>\n",
       "      <td>0</td>\n",
       "      <td>0</td>\n",
       "      <td>0</td>\n",
       "      <td>0</td>\n",
       "      <td>1</td>\n",
       "    </tr>\n",
       "    <tr>\n",
       "      <th>1</th>\n",
       "      <td>1</td>\n",
       "      <td>1</td>\n",
       "      <td>1</td>\n",
       "      <td>Furniture Making</td>\n",
       "      <td>0.0</td>\n",
       "      <td>False</td>\n",
       "      <td>[{'first_name': 'Julias', 'last_name': '', 'ge...</td>\n",
       "      <td>NaN</td>\n",
       "      <td>['en']</td>\n",
       "      <td>Aged 42 years is a man by the name of Julias. ...</td>\n",
       "      <td>NaN</td>\n",
       "      <td>NaN</td>\n",
       "      <td>NaN</td>\n",
       "      <td>0</td>\n",
       "      <td>NaN</td>\n",
       "      <td>1291532</td>\n",
       "      <td>2515992</td>\n",
       "      <td>1</td>\n",
       "      <td>0</td>\n",
       "      <td>0</td>\n",
       "      <td>0</td>\n",
       "      <td>500</td>\n",
       "      <td>Kenya</td>\n",
       "      <td>KE</td>\n",
       "      <td>town</td>\n",
       "      <td>0.566667 34.566667</td>\n",
       "      <td>point</td>\n",
       "      <td>Bungoma</td>\n",
       "      <td>Julias</td>\n",
       "      <td>386.0</td>\n",
       "      <td>[]</td>\n",
       "      <td>2017-06-08</td>\n",
       "      <td>2017-05-09</td>\n",
       "      <td>Manufacturing</td>\n",
       "      <td>fundraising</td>\n",
       "      <td>[]</td>\n",
       "      <td>50000.0</td>\n",
       "      <td>KES</td>\n",
       "      <td>2017-04-03T07:00:00Z</td>\n",
       "      <td>500</td>\n",
       "      <td>[{'due_date': '2017-05-09T07:00:00Z', 'amount'...</td>\n",
       "      <td>shared</td>\n",
       "      <td>0.1</td>\n",
       "      <td>lender</td>\n",
       "      <td>Monthly</td>\n",
       "      <td>14</td>\n",
       "      <td>[{'due_date': '2017-07-01T07:00:00Z', 'amount'...</td>\n",
       "      <td>NaN</td>\n",
       "      <td>Morena Calvo</td>\n",
       "      <td>1832928.0</td>\n",
       "      <td>to buy timber to make more furniture for his e...</td>\n",
       "      <td>NaN</td>\n",
       "      <td>NaN</td>\n",
       "      <td>NaN</td>\n",
       "      <td>NaN</td>\n",
       "      <td>1</td>\n",
       "      <td>0.0</td>\n",
       "      <td>True</td>\n",
       "      <td>[{'iso_code': 'KE', 'region': 'Africa', 'name'...</td>\n",
       "      <td>0.120642</td>\n",
       "      <td>0.0</td>\n",
       "      <td>NaN</td>\n",
       "      <td>7.017031</td>\n",
       "      <td>NaN</td>\n",
       "      <td>1592272</td>\n",
       "      <td>1</td>\n",
       "      <td>21.165398</td>\n",
       "      <td>1948</td>\n",
       "      <td>Kenya ECLOF</td>\n",
       "      <td>40.3</td>\n",
       "      <td>NaN</td>\n",
       "      <td>2.54</td>\n",
       "      <td>2.0</td>\n",
       "      <td>[{'id': 3, 'name': 'Client Voice', 'descriptio...</td>\n",
       "      <td>2014-05-29T13:30:02Z</td>\n",
       "      <td>active</td>\n",
       "      <td>863375</td>\n",
       "      <td>http://www.eclof-kenya.org/</td>\n",
       "      <td>2017-05-09 00:30:05</td>\n",
       "      <td>2017-06-08 00:30:05</td>\n",
       "      <td>NaN</td>\n",
       "      <td>2017-04-03 07:00:00</td>\n",
       "      <td>2017-04-03</td>\n",
       "      <td>2017</td>\n",
       "      <td>1</td>\n",
       "      <td>Male</td>\n",
       "      <td>0</td>\n",
       "      <td>0</td>\n",
       "      <td>0</td>\n",
       "      <td>0</td>\n",
       "      <td>0</td>\n",
       "      <td>0</td>\n",
       "      <td>0</td>\n",
       "      <td>0</td>\n",
       "      <td>0</td>\n",
       "      <td>0</td>\n",
       "      <td>0</td>\n",
       "      <td>0</td>\n",
       "      <td>1</td>\n",
       "    </tr>\n",
       "  </tbody>\n",
       "</table>\n",
       "</div>"
      ],
      "text/plain": [
       "   Unnamed: 0  Unnamed: 0.1  Unnamed: 0.1.1          activity  basket_amount  \\\n",
       "0           0             0               0           Farming            0.0   \n",
       "1           1             1               1  Furniture Making            0.0   \n",
       "\n",
       "   bonus_credit_eligibility  \\\n",
       "0                     False   \n",
       "1                     False   \n",
       "\n",
       "                                           borrowers  \\\n",
       "0  [{'first_name': 'Evaline', 'last_name': '', 'g...   \n",
       "1  [{'first_name': 'Julias', 'last_name': '', 'ge...   \n",
       "\n",
       "   currency_exchange_loss_amount description.languages  \\\n",
       "0                            NaN                ['en']   \n",
       "1                            NaN                ['en']   \n",
       "\n",
       "                                description.texts.en description.texts.es  \\\n",
       "0  Evaline is a married lady aged 44 years old an...                  NaN   \n",
       "1  Aged 42 years is a man by the name of Julias. ...                  NaN   \n",
       "\n",
       "  description.texts.fr description.texts.ru  funded_amount funded_date  \\\n",
       "0                  NaN                  NaN              0         NaN   \n",
       "1                  NaN                  NaN              0         NaN   \n",
       "\n",
       "        id  image.id  image.template_id  journal_totals.bulkEntries  \\\n",
       "0  1291548   2516002                  1                           0   \n",
       "1  1291532   2515992                  1                           0   \n",
       "\n",
       "   journal_totals.entries  lender_count  loan_amount location.country  \\\n",
       "0                       0             0          500            Kenya   \n",
       "1                       0             0          500            Kenya   \n",
       "\n",
       "  location.country_code location.geo.level   location.geo.pairs  \\\n",
       "0                    KE               town  -0.583333 35.183333   \n",
       "1                    KE               town   0.566667 34.566667   \n",
       "\n",
       "  location.geo.type location.town     name  partner_id payments  \\\n",
       "0             point        litein  Evaline       386.0       []   \n",
       "1             point       Bungoma   Julias       386.0       []   \n",
       "\n",
       "  planned_expiration_date posted_date         sector       status  \\\n",
       "0              2017-06-08  2017-05-09    Agriculture  fundraising   \n",
       "1              2017-06-08  2017-05-09  Manufacturing  fundraising   \n",
       "\n",
       "                                                tags  terms.disbursal_amount  \\\n",
       "0  [{'name': '#Woman Owned Biz'}, {'name': '#Pare...                 50000.0   \n",
       "1                                                 []                 50000.0   \n",
       "\n",
       "  terms.disbursal_currency  terms.disbursal_date  terms.loan_amount  \\\n",
       "0                      KES  2017-04-03T07:00:00Z                500   \n",
       "1                      KES  2017-04-03T07:00:00Z                500   \n",
       "\n",
       "                                terms.local_payments  \\\n",
       "0  [{'due_date': '2017-05-10T07:00:00Z', 'amount'...   \n",
       "1  [{'due_date': '2017-05-09T07:00:00Z', 'amount'...   \n",
       "\n",
       "  terms.loss_liability.currency_exchange  \\\n",
       "0                                 shared   \n",
       "1                                 shared   \n",
       "\n",
       "   terms.loss_liability.currency_exchange_coverage_rate  \\\n",
       "0                                                0.1      \n",
       "1                                                0.1      \n",
       "\n",
       "  terms.loss_liability.nonpayment terms.repayment_interval  \\\n",
       "0                          lender                  Monthly   \n",
       "1                          lender                  Monthly   \n",
       "\n",
       "   terms.repayment_term                           terms.scheduled_payments  \\\n",
       "0                    14  [{'due_date': '2017-07-01T07:00:00Z', 'amount'...   \n",
       "1                    14  [{'due_date': '2017-07-01T07:00:00Z', 'amount'...   \n",
       "\n",
       "  themes translator.byline  translator.image  \\\n",
       "0    NaN      Julie Keaton          892591.0   \n",
       "1    NaN      Morena Calvo         1832928.0   \n",
       "\n",
       "                                                 use  video.id  \\\n",
       "0  to purchase more tea leaves to sell to the tea...       NaN   \n",
       "1  to buy timber to make more furniture for his e...       NaN   \n",
       "\n",
       "   video.thumbnailImageId video.title video.youtubeId  borrower_count  \\\n",
       "0                     NaN         NaN             NaN               1   \n",
       "1                     NaN         NaN             NaN               1   \n",
       "\n",
       "   partner_average_loan_size_percent_per_capita_income  \\\n",
       "0                                                0.0     \n",
       "1                                                0.0     \n",
       "\n",
       "   partner_charges_fees_and_interest  \\\n",
       "0                               True   \n",
       "1                               True   \n",
       "\n",
       "                                   partner_countries  \\\n",
       "0  [{'iso_code': 'KE', 'region': 'Africa', 'name'...   \n",
       "1  [{'iso_code': 'KE', 'region': 'Africa', 'name'...   \n",
       "\n",
       "   partner_currency_exchange_loss_rate  partner_default_rate  \\\n",
       "0                             0.120642                   0.0   \n",
       "1                             0.120642                   0.0   \n",
       "\n",
       "   partner_default_rate_note  partner_delinquency_rate  \\\n",
       "0                        NaN                  7.017031   \n",
       "1                        NaN                  7.017031   \n",
       "\n",
       "   partner_delinquency_rate_note  partner_image.id  partner_image.template_id  \\\n",
       "0                            NaN           1592272                          1   \n",
       "1                            NaN           1592272                          1   \n",
       "\n",
       "   partner_loans_at_risk_rate  partner_loans_posted partner_name  \\\n",
       "0                   21.165398                  1948  Kenya ECLOF   \n",
       "1                   21.165398                  1948  Kenya ECLOF   \n",
       "\n",
       "   partner_portfolio_yield  partner_portfolio_yield_note  \\\n",
       "0                     40.3                           NaN   \n",
       "1                     40.3                           NaN   \n",
       "\n",
       "   partner_profitability partner_rating  \\\n",
       "0                   2.54            2.0   \n",
       "1                   2.54            2.0   \n",
       "\n",
       "                partner_social_performance_strengths    partner_start_date  \\\n",
       "0  [{'id': 3, 'name': 'Client Voice', 'descriptio...  2014-05-29T13:30:02Z   \n",
       "1  [{'id': 3, 'name': 'Client Voice', 'descriptio...  2014-05-29T13:30:02Z   \n",
       "\n",
       "  partner_status  partner_total_amount_raised                  partner_url  \\\n",
       "0         active                       863375  http://www.eclof-kenya.org/   \n",
       "1         active                       863375  http://www.eclof-kenya.org/   \n",
       "\n",
       "       posted_datetime planned_expiration_datetime funded_datetime  \\\n",
       "0  2017-05-09 00:40:03         2017-06-08 00:40:03             NaN   \n",
       "1  2017-05-09 00:30:05         2017-06-08 00:30:05             NaN   \n",
       "\n",
       "    dispursal_datetime dispersal_date  posted_year  number_of_loans  gender  \\\n",
       "0  2017-04-03 07:00:00     2017-04-03         2017                1  Female   \n",
       "1  2017-04-03 07:00:00     2017-04-03         2017                1    Male   \n",
       "\n",
       "   num_tags  tag_#Woman Owned Biz  tag_#Parent  tag_user_favorite  \\\n",
       "0         1                     1            1                  0   \n",
       "1         0                     0            0                  0   \n",
       "\n",
       "   tag_#Repeat Borrower  tag_#Schooling  tag_volunteer_pick  tag_#Vegan  \\\n",
       "0                     0               0                   0           0   \n",
       "1                     0               0                   0           0   \n",
       "\n",
       "   tag_volunteer_like  tag_#Animals  tag_#Eco-friendly  tag_#Technology  \\\n",
       "0                   0             0                  0                0   \n",
       "1                   0             0                  0                0   \n",
       "\n",
       "   married  \n",
       "0        1  \n",
       "1        1  "
      ]
     },
     "execution_count": 43,
     "metadata": {},
     "output_type": "execute_result"
    }
   ],
   "source": [
    "df[df['married']==True].head(2)"
   ]
  },
  {
   "cell_type": "markdown",
   "metadata": {},
   "source": [
    "The difference in average amount is not that impressive between married and unmarried borrowers, however, when we look at the boxplots we see a richer story about the difference in distribution. Married borrowers have a narrower range."
   ]
  },
  {
   "cell_type": "code",
   "execution_count": 44,
   "metadata": {},
   "outputs": [
    {
     "data": {
      "text/plain": [
       "<matplotlib.axes._subplots.AxesSubplot at 0x119ee1518>"
      ]
     },
     "execution_count": 44,
     "metadata": {},
     "output_type": "execute_result"
    },
    {
     "data": {
      "text/plain": [
       "<matplotlib.axes._subplots.AxesSubplot at 0x11e9a82b0>"
      ]
     },
     "execution_count": 44,
     "metadata": {},
     "output_type": "execute_result"
    },
    {
     "data": {
      "image/png": "[encoded data removed]",
      "text/plain": [
       "<matplotlib.figure.Figure at 0x11e41aa90>"
      ]
     },
     "metadata": {},
     "output_type": "display_data"
    },
    {
     "data": {
      "image/png": "[encoded data removed]",
      "text/plain": [
       "<matplotlib.figure.Figure at 0x11af8af28>"
      ]
     },
     "metadata": {},
     "output_type": "display_data"
    }
   ],
   "source": [
    "df[df['borrower_count'] == 1].groupby('married')['loan_amount'].mean().plot(kind=\"bar\", title=\"Average Loan Amount By Marital Status\")\n",
    "\n",
    "df[(df['borrower_count'] == 1)].boxplot(column='loan_amount', by='married', showfliers=False, figsize=(12,8))"
   ]
  },
  {
   "cell_type": "markdown",
   "metadata": {},
   "source": [
    "We were right to take a look at it! Married has good coverage and it seems that lenders who are married typically request smaller loans. This suggests lenders who are married are willing to tolerate less risk. "
   ]
  },
  {
   "cell_type": "markdown",
   "metadata": {},
   "source": [
    "In the last class we discussed reasons that a woman might be requesting a lower loan amount. One of the hypotheses that came up was that a woman might need to ask permission from her husband to request a loan if she is married. Now we have a feature for whether someone is married we can put this to the test! "
   ]
  },
  {
   "cell_type": "code",
   "execution_count": 45,
   "metadata": {},
   "outputs": [
    {
     "data": {
      "text/plain": [
       "<matplotlib.figure.Figure at 0x11e4156a0>"
      ]
     },
     "execution_count": 45,
     "metadata": {},
     "output_type": "execute_result"
    },
    {
     "data": {
      "text/plain": [
       "<seaborn.axisgrid.FacetGrid at 0x11e434e10>"
      ]
     },
     "execution_count": 45,
     "metadata": {},
     "output_type": "execute_result"
    },
    {
     "data": {
      "text/plain": [
       "<matplotlib.text.Text at 0x11f8dbcc0>"
      ]
     },
     "execution_count": 45,
     "metadata": {},
     "output_type": "execute_result"
    },
    {
     "data": {
      "text/plain": [
       "<matplotlib.text.Text at 0x1356b6b00>"
      ]
     },
     "execution_count": 45,
     "metadata": {},
     "output_type": "execute_result"
    },
    {
     "data": {
      "text/plain": [
       "<matplotlib.text.Text at 0x1356c66a0>"
      ]
     },
     "execution_count": 45,
     "metadata": {},
     "output_type": "execute_result"
    },
    {
     "data": {
      "text/plain": [
       "<matplotlib.figure.Figure at 0x11e4156a0>"
      ]
     },
     "metadata": {},
     "output_type": "display_data"
    },
    {
     "data": {
      "image/png": "[encoded data removed]",
      "text/plain": [
       "<matplotlib.figure.Figure at 0x11e999240>"
      ]
     },
     "metadata": {},
     "output_type": "display_data"
    }
   ],
   "source": [
    "plt.figure(figsize=(8, 20))\n",
    "\n",
    "sns.set_context(\"paper\", font_scale=1.1, rc={\"lines.linewidth\": 1.1})\n",
    "\n",
    "sns.factorplot(x=\"married\", y=\"loan_amount\", hue=\"gender\", palette=\"Set3\", data=df[df['loan_amount']<2000], kind=\"box\",orient=\"v\", size=8, aspect=1)\n",
    "plt.title('Loan Amount Requested Distribution By Marital Status and Gender')\n",
    "plt.xlabel('Marital Status')\n",
    "plt.ylabel('Loan Amount Requested')"
   ]
  },
  {
   "cell_type": "markdown",
   "metadata": {},
   "source": [
    "In fact we can see from the boxplot above that both married men and women tend to request lower amounts. Women consistently appear to request lowers amounts in both the married and unmarried groupings. This reduces the strength of that hypothesis as one of the key reasons women request lower amounts."
   ]
  },
  {
   "cell_type": "markdown",
   "metadata": {},
   "source": [
    "The marriage field has turned out to be very interesting and we will definately include it in our model!\n",
    "\n",
    "\n",
    "#### A note of caution!\n",
    "\n",
    "While we are pleased with the results above, let's be aware that free form text is always going to be a problematic feature. For example, there may be inconsistencies in what people choose to say about themselves. We can fairly sure that when a person says they are married thay are in fact married, but if they don't it may just be by ommission. In other words, they may be married but choose not to report it on their loan application (there is no requirement they do so!).\n",
    "\n",
    "The lack of a consistent way data is reported is a problem you will face again and again in data science. Often, when we find compelling results like the boxplot above it is a strong signal we should push for more systematic collection of those fields. This could take the form of a questions asking about marital status that can already be responded to with 'single', 'married', 'divorced'."
   ]
  },
  {
   "cell_type": "markdown",
   "metadata": {},
   "source": [
    "## Age and number of children"
   ]
  },
  {
   "cell_type": "markdown",
   "metadata": {},
   "source": [
    "### More systematic string matching."
   ]
  },
  {
   "cell_type": "markdown",
   "metadata": {},
   "source": [
    "Our work with string matching has given us the idea to extract age and also number of children in a more systematic way. In the cells below, we parse out the **age** of the user by doing the following:\n",
    "\n",
    "1. Importing a CSV mapping of age strings that appear in the Kiva description field (e.g. \"2 years\") to the integer counterparts (e.g. 2). \n",
    "2. We then define a function to check for each of these string values within the `description.texts.en` field of our main dataframe. If a match is found, we append that string value to a new list, \"age\", which we create at the start of the funtion. If no match is found, we append a blank string. When the function has completed, we have a list the same length of our main dataframe, with the corresponding age string value for each observation (e.g. \"2 years\" or \" \" if there is no age value available)\n",
    "    1. We use functions from the [regular expression package](https://docs.python.org/2/library/re.html) to perform the string searches within the `description.texts.en`. Specifically, we use `re.compile` and  `re.findall` functions to first compile all possible age strings of interest, and then find all instances of the corresponding string.\n",
    "3. We then create a new column in our main dataframe, \"age\", which is simply the list we created in step 2.\n",
    "4. Finally, we perform a left join of our main dataframe with the CSV mapping, to map the string versions of age with their integer counterparts.\n",
    "\n"
   ]
  },
  {
   "cell_type": "code",
   "execution_count": 46,
   "metadata": {
    "collapsed": true
   },
   "outputs": [],
   "source": [
    "lookup_tags = pd.read_csv(data_path+'tags.csv')"
   ]
  },
  {
   "cell_type": "code",
   "execution_count": 47,
   "metadata": {
    "scrolled": false
   },
   "outputs": [
    {
     "data": {
      "text/html": [
       "<div>\n",
       "<style>\n",
       "    .dataframe thead tr:only-child th {\n",
       "        text-align: right;\n",
       "    }\n",
       "\n",
       "    .dataframe thead th {\n",
       "        text-align: left;\n",
       "    }\n",
       "\n",
       "    .dataframe tbody tr th {\n",
       "        vertical-align: top;\n",
       "    }\n",
       "</style>\n",
       "<table border=\"1\" class=\"dataframe\">\n",
       "  <thead>\n",
       "    <tr style=\"text-align: right;\">\n",
       "      <th></th>\n",
       "      <th>age</th>\n",
       "      <th>age_int</th>\n",
       "      <th>children_1</th>\n",
       "      <th>children_2</th>\n",
       "      <th>children_int</th>\n",
       "    </tr>\n",
       "  </thead>\n",
       "  <tbody>\n",
       "    <tr>\n",
       "      <th>0</th>\n",
       "      <td>1 years</td>\n",
       "      <td>1</td>\n",
       "      <td>one child</td>\n",
       "      <td>1 child</td>\n",
       "      <td>1.0</td>\n",
       "    </tr>\n",
       "    <tr>\n",
       "      <th>1</th>\n",
       "      <td>2 years</td>\n",
       "      <td>2</td>\n",
       "      <td>two children</td>\n",
       "      <td>2 children</td>\n",
       "      <td>2.0</td>\n",
       "    </tr>\n",
       "  </tbody>\n",
       "</table>\n",
       "</div>"
      ],
      "text/plain": [
       "       age  age_int    children_1  children_2  children_int\n",
       "0  1 years        1    one child      1 child           1.0\n",
       "1  2 years        2  two children  2 children           2.0"
      ]
     },
     "execution_count": 47,
     "metadata": {},
     "output_type": "execute_result"
    }
   ],
   "source": [
    "lookup_tags.head(2)"
   ]
  },
  {
   "cell_type": "code",
   "execution_count": 48,
   "metadata": {
    "collapsed": true
   },
   "outputs": [],
   "source": [
    "## Age of borrower and number of children\n",
    "\n",
    "# define a function that performs a loop that parses out all words, \n",
    "#  finds age and number of children match and creates a list that is return at the end of the function\n",
    "\n",
    "def text_search(tag):\n",
    "    #creates empty lists that are then added to in loop\n",
    "    number=[]\n",
    "    flag = tag.astype(str)\n",
    "    match=flag.tolist()\n",
    "    match = re.compile(r'\\b(?:%s)\\b' % '|'.join(match))\n",
    "    for descr in df['description.texts.en']:\n",
    "        try:\n",
    "            if isinstance(descr, str):\n",
    "                    if re.findall(match, descr):\n",
    "                        match_0=re.findall(match,  descr)\n",
    "                        match_1=re.findall(match,  descr)[:1]\n",
    "                        word_1=\" \".join(match_1)\n",
    "                        number.append(word_1)\n",
    "                    else:\n",
    "                        number.append('')\n",
    "        except:\n",
    "            print('error')\n",
    "            \n",
    "    return(number)"
   ]
  },
  {
   "cell_type": "markdown",
   "metadata": {},
   "source": [
    "In the cell below we write a small loop to go through each feature and search. Running this loop is fairly computationally expensive since it is doing a string match against every row of the data. You can expect it to take a few minutes to run. You can add other lists to the tags csv to extend the features you search for."
   ]
  },
  {
   "cell_type": "code",
   "execution_count": 49,
   "metadata": {
    "collapsed": true
   },
   "outputs": [],
   "source": [
    "features=['age','children_1', 'children_2'] \n",
    "\n",
    "for feature in features:\n",
    "        number= text_search(lookup_tags[feature])\n",
    "        df[feature]=pd.DataFrame(number)"
   ]
  },
  {
   "cell_type": "markdown",
   "metadata": {},
   "source": [
    "As always we take a look at our dataframe and check the length of the index to make sure our loop was successful. Then we join in the int fields in our imported tags so we can treat these fields as a numerical variable (you will see we have successfully created age_int and children_int)."
   ]
  },
  {
   "cell_type": "code",
   "execution_count": 50,
   "metadata": {
    "scrolled": true
   },
   "outputs": [
    {
     "data": {
      "text/html": [
       "<div>\n",
       "<style>\n",
       "    .dataframe thead tr:only-child th {\n",
       "        text-align: right;\n",
       "    }\n",
       "\n",
       "    .dataframe thead th {\n",
       "        text-align: left;\n",
       "    }\n",
       "\n",
       "    .dataframe tbody tr th {\n",
       "        vertical-align: top;\n",
       "    }\n",
       "</style>\n",
       "<table border=\"1\" class=\"dataframe\">\n",
       "  <thead>\n",
       "    <tr style=\"text-align: right;\">\n",
       "      <th></th>\n",
       "      <th>Unnamed: 0</th>\n",
       "      <th>Unnamed: 0.1</th>\n",
       "      <th>Unnamed: 0.1.1</th>\n",
       "      <th>activity</th>\n",
       "      <th>basket_amount</th>\n",
       "      <th>bonus_credit_eligibility</th>\n",
       "      <th>borrowers</th>\n",
       "      <th>currency_exchange_loss_amount</th>\n",
       "      <th>description.languages</th>\n",
       "      <th>description.texts.en</th>\n",
       "      <th>description.texts.es</th>\n",
       "      <th>description.texts.fr</th>\n",
       "      <th>description.texts.ru</th>\n",
       "      <th>funded_amount</th>\n",
       "      <th>funded_date</th>\n",
       "      <th>id</th>\n",
       "      <th>image.id</th>\n",
       "      <th>image.template_id</th>\n",
       "      <th>journal_totals.bulkEntries</th>\n",
       "      <th>journal_totals.entries</th>\n",
       "      <th>lender_count</th>\n",
       "      <th>loan_amount</th>\n",
       "      <th>location.country</th>\n",
       "      <th>location.country_code</th>\n",
       "      <th>location.geo.level</th>\n",
       "      <th>location.geo.pairs</th>\n",
       "      <th>location.geo.type</th>\n",
       "      <th>location.town</th>\n",
       "      <th>name</th>\n",
       "      <th>partner_id</th>\n",
       "      <th>payments</th>\n",
       "      <th>planned_expiration_date</th>\n",
       "      <th>posted_date</th>\n",
       "      <th>sector</th>\n",
       "      <th>status</th>\n",
       "      <th>tags</th>\n",
       "      <th>terms.disbursal_amount</th>\n",
       "      <th>terms.disbursal_currency</th>\n",
       "      <th>terms.disbursal_date</th>\n",
       "      <th>terms.loan_amount</th>\n",
       "      <th>terms.local_payments</th>\n",
       "      <th>terms.loss_liability.currency_exchange</th>\n",
       "      <th>terms.loss_liability.currency_exchange_coverage_rate</th>\n",
       "      <th>terms.loss_liability.nonpayment</th>\n",
       "      <th>terms.repayment_interval</th>\n",
       "      <th>terms.repayment_term</th>\n",
       "      <th>terms.scheduled_payments</th>\n",
       "      <th>themes</th>\n",
       "      <th>translator.byline</th>\n",
       "      <th>translator.image</th>\n",
       "      <th>...</th>\n",
       "      <th>video.thumbnailImageId</th>\n",
       "      <th>video.title</th>\n",
       "      <th>video.youtubeId</th>\n",
       "      <th>borrower_count</th>\n",
       "      <th>partner_average_loan_size_percent_per_capita_income</th>\n",
       "      <th>partner_charges_fees_and_interest</th>\n",
       "      <th>partner_countries</th>\n",
       "      <th>partner_currency_exchange_loss_rate</th>\n",
       "      <th>partner_default_rate</th>\n",
       "      <th>partner_default_rate_note</th>\n",
       "      <th>partner_delinquency_rate</th>\n",
       "      <th>partner_delinquency_rate_note</th>\n",
       "      <th>partner_image.id</th>\n",
       "      <th>partner_image.template_id</th>\n",
       "      <th>partner_loans_at_risk_rate</th>\n",
       "      <th>partner_loans_posted</th>\n",
       "      <th>partner_name</th>\n",
       "      <th>partner_portfolio_yield</th>\n",
       "      <th>partner_portfolio_yield_note</th>\n",
       "      <th>partner_profitability</th>\n",
       "      <th>partner_rating</th>\n",
       "      <th>partner_social_performance_strengths</th>\n",
       "      <th>partner_start_date</th>\n",
       "      <th>partner_status</th>\n",
       "      <th>partner_total_amount_raised</th>\n",
       "      <th>partner_url</th>\n",
       "      <th>posted_datetime</th>\n",
       "      <th>planned_expiration_datetime</th>\n",
       "      <th>funded_datetime</th>\n",
       "      <th>dispursal_datetime</th>\n",
       "      <th>dispersal_date</th>\n",
       "      <th>posted_year</th>\n",
       "      <th>number_of_loans</th>\n",
       "      <th>gender</th>\n",
       "      <th>num_tags</th>\n",
       "      <th>tag_#Woman Owned Biz</th>\n",
       "      <th>tag_#Parent</th>\n",
       "      <th>tag_user_favorite</th>\n",
       "      <th>tag_#Repeat Borrower</th>\n",
       "      <th>tag_#Schooling</th>\n",
       "      <th>tag_volunteer_pick</th>\n",
       "      <th>tag_#Vegan</th>\n",
       "      <th>tag_volunteer_like</th>\n",
       "      <th>tag_#Animals</th>\n",
       "      <th>tag_#Eco-friendly</th>\n",
       "      <th>tag_#Technology</th>\n",
       "      <th>married</th>\n",
       "      <th>age</th>\n",
       "      <th>children_1</th>\n",
       "      <th>children_2</th>\n",
       "    </tr>\n",
       "  </thead>\n",
       "  <tbody>\n",
       "    <tr>\n",
       "      <th>0</th>\n",
       "      <td>0</td>\n",
       "      <td>0</td>\n",
       "      <td>0</td>\n",
       "      <td>Farming</td>\n",
       "      <td>0.0</td>\n",
       "      <td>False</td>\n",
       "      <td>[{'first_name': 'Evaline', 'last_name': '', 'g...</td>\n",
       "      <td>NaN</td>\n",
       "      <td>['en']</td>\n",
       "      <td>Evaline is a married lady aged 44 years old an...</td>\n",
       "      <td>NaN</td>\n",
       "      <td>NaN</td>\n",
       "      <td>NaN</td>\n",
       "      <td>0</td>\n",
       "      <td>NaN</td>\n",
       "      <td>1291548</td>\n",
       "      <td>2516002</td>\n",
       "      <td>1</td>\n",
       "      <td>0</td>\n",
       "      <td>0</td>\n",
       "      <td>0</td>\n",
       "      <td>500</td>\n",
       "      <td>Kenya</td>\n",
       "      <td>KE</td>\n",
       "      <td>town</td>\n",
       "      <td>-0.583333 35.183333</td>\n",
       "      <td>point</td>\n",
       "      <td>litein</td>\n",
       "      <td>Evaline</td>\n",
       "      <td>386.0</td>\n",
       "      <td>[]</td>\n",
       "      <td>2017-06-08</td>\n",
       "      <td>2017-05-09</td>\n",
       "      <td>Agriculture</td>\n",
       "      <td>fundraising</td>\n",
       "      <td>[{'name': '#Woman Owned Biz'}, {'name': '#Pare...</td>\n",
       "      <td>50000.0</td>\n",
       "      <td>KES</td>\n",
       "      <td>2017-04-03T07:00:00Z</td>\n",
       "      <td>500</td>\n",
       "      <td>[{'due_date': '2017-05-10T07:00:00Z', 'amount'...</td>\n",
       "      <td>shared</td>\n",
       "      <td>0.1</td>\n",
       "      <td>lender</td>\n",
       "      <td>Monthly</td>\n",
       "      <td>14</td>\n",
       "      <td>[{'due_date': '2017-07-01T07:00:00Z', 'amount'...</td>\n",
       "      <td>NaN</td>\n",
       "      <td>Julie Keaton</td>\n",
       "      <td>892591.0</td>\n",
       "      <td>...</td>\n",
       "      <td>NaN</td>\n",
       "      <td>NaN</td>\n",
       "      <td>NaN</td>\n",
       "      <td>1</td>\n",
       "      <td>0.0</td>\n",
       "      <td>True</td>\n",
       "      <td>[{'iso_code': 'KE', 'region': 'Africa', 'name'...</td>\n",
       "      <td>0.120642</td>\n",
       "      <td>0.0</td>\n",
       "      <td>NaN</td>\n",
       "      <td>7.017031</td>\n",
       "      <td>NaN</td>\n",
       "      <td>1592272</td>\n",
       "      <td>1</td>\n",
       "      <td>21.165398</td>\n",
       "      <td>1948</td>\n",
       "      <td>Kenya ECLOF</td>\n",
       "      <td>40.3</td>\n",
       "      <td>NaN</td>\n",
       "      <td>2.54</td>\n",
       "      <td>2.0</td>\n",
       "      <td>[{'id': 3, 'name': 'Client Voice', 'descriptio...</td>\n",
       "      <td>2014-05-29T13:30:02Z</td>\n",
       "      <td>active</td>\n",
       "      <td>863375</td>\n",
       "      <td>http://www.eclof-kenya.org/</td>\n",
       "      <td>2017-05-09 00:40:03</td>\n",
       "      <td>2017-06-08 00:40:03</td>\n",
       "      <td>NaN</td>\n",
       "      <td>2017-04-03 07:00:00</td>\n",
       "      <td>2017-04-03</td>\n",
       "      <td>2017</td>\n",
       "      <td>1</td>\n",
       "      <td>Female</td>\n",
       "      <td>1</td>\n",
       "      <td>1</td>\n",
       "      <td>1</td>\n",
       "      <td>0</td>\n",
       "      <td>0</td>\n",
       "      <td>0</td>\n",
       "      <td>0</td>\n",
       "      <td>0</td>\n",
       "      <td>0</td>\n",
       "      <td>0</td>\n",
       "      <td>0</td>\n",
       "      <td>0</td>\n",
       "      <td>1</td>\n",
       "      <td>44 years</td>\n",
       "      <td></td>\n",
       "      <td>6 children</td>\n",
       "    </tr>\n",
       "    <tr>\n",
       "      <th>1</th>\n",
       "      <td>1</td>\n",
       "      <td>1</td>\n",
       "      <td>1</td>\n",
       "      <td>Furniture Making</td>\n",
       "      <td>0.0</td>\n",
       "      <td>False</td>\n",
       "      <td>[{'first_name': 'Julias', 'last_name': '', 'ge...</td>\n",
       "      <td>NaN</td>\n",
       "      <td>['en']</td>\n",
       "      <td>Aged 42 years is a man by the name of Julias. ...</td>\n",
       "      <td>NaN</td>\n",
       "      <td>NaN</td>\n",
       "      <td>NaN</td>\n",
       "      <td>0</td>\n",
       "      <td>NaN</td>\n",
       "      <td>1291532</td>\n",
       "      <td>2515992</td>\n",
       "      <td>1</td>\n",
       "      <td>0</td>\n",
       "      <td>0</td>\n",
       "      <td>0</td>\n",
       "      <td>500</td>\n",
       "      <td>Kenya</td>\n",
       "      <td>KE</td>\n",
       "      <td>town</td>\n",
       "      <td>0.566667 34.566667</td>\n",
       "      <td>point</td>\n",
       "      <td>Bungoma</td>\n",
       "      <td>Julias</td>\n",
       "      <td>386.0</td>\n",
       "      <td>[]</td>\n",
       "      <td>2017-06-08</td>\n",
       "      <td>2017-05-09</td>\n",
       "      <td>Manufacturing</td>\n",
       "      <td>fundraising</td>\n",
       "      <td>[]</td>\n",
       "      <td>50000.0</td>\n",
       "      <td>KES</td>\n",
       "      <td>2017-04-03T07:00:00Z</td>\n",
       "      <td>500</td>\n",
       "      <td>[{'due_date': '2017-05-09T07:00:00Z', 'amount'...</td>\n",
       "      <td>shared</td>\n",
       "      <td>0.1</td>\n",
       "      <td>lender</td>\n",
       "      <td>Monthly</td>\n",
       "      <td>14</td>\n",
       "      <td>[{'due_date': '2017-07-01T07:00:00Z', 'amount'...</td>\n",
       "      <td>NaN</td>\n",
       "      <td>Morena Calvo</td>\n",
       "      <td>1832928.0</td>\n",
       "      <td>...</td>\n",
       "      <td>NaN</td>\n",
       "      <td>NaN</td>\n",
       "      <td>NaN</td>\n",
       "      <td>1</td>\n",
       "      <td>0.0</td>\n",
       "      <td>True</td>\n",
       "      <td>[{'iso_code': 'KE', 'region': 'Africa', 'name'...</td>\n",
       "      <td>0.120642</td>\n",
       "      <td>0.0</td>\n",
       "      <td>NaN</td>\n",
       "      <td>7.017031</td>\n",
       "      <td>NaN</td>\n",
       "      <td>1592272</td>\n",
       "      <td>1</td>\n",
       "      <td>21.165398</td>\n",
       "      <td>1948</td>\n",
       "      <td>Kenya ECLOF</td>\n",
       "      <td>40.3</td>\n",
       "      <td>NaN</td>\n",
       "      <td>2.54</td>\n",
       "      <td>2.0</td>\n",
       "      <td>[{'id': 3, 'name': 'Client Voice', 'descriptio...</td>\n",
       "      <td>2014-05-29T13:30:02Z</td>\n",
       "      <td>active</td>\n",
       "      <td>863375</td>\n",
       "      <td>http://www.eclof-kenya.org/</td>\n",
       "      <td>2017-05-09 00:30:05</td>\n",
       "      <td>2017-06-08 00:30:05</td>\n",
       "      <td>NaN</td>\n",
       "      <td>2017-04-03 07:00:00</td>\n",
       "      <td>2017-04-03</td>\n",
       "      <td>2017</td>\n",
       "      <td>1</td>\n",
       "      <td>Male</td>\n",
       "      <td>0</td>\n",
       "      <td>0</td>\n",
       "      <td>0</td>\n",
       "      <td>0</td>\n",
       "      <td>0</td>\n",
       "      <td>0</td>\n",
       "      <td>0</td>\n",
       "      <td>0</td>\n",
       "      <td>0</td>\n",
       "      <td>0</td>\n",
       "      <td>0</td>\n",
       "      <td>0</td>\n",
       "      <td>1</td>\n",
       "      <td>42 years</td>\n",
       "      <td>two children</td>\n",
       "      <td></td>\n",
       "    </tr>\n",
       "  </tbody>\n",
       "</table>\n",
       "<p>2 rows × 102 columns</p>\n",
       "</div>"
      ],
      "text/plain": [
       "   Unnamed: 0  Unnamed: 0.1  Unnamed: 0.1.1          activity  basket_amount  \\\n",
       "0           0             0               0           Farming            0.0   \n",
       "1           1             1               1  Furniture Making            0.0   \n",
       "\n",
       "   bonus_credit_eligibility  \\\n",
       "0                     False   \n",
       "1                     False   \n",
       "\n",
       "                                           borrowers  \\\n",
       "0  [{'first_name': 'Evaline', 'last_name': '', 'g...   \n",
       "1  [{'first_name': 'Julias', 'last_name': '', 'ge...   \n",
       "\n",
       "   currency_exchange_loss_amount description.languages  \\\n",
       "0                            NaN                ['en']   \n",
       "1                            NaN                ['en']   \n",
       "\n",
       "                                description.texts.en description.texts.es  \\\n",
       "0  Evaline is a married lady aged 44 years old an...                  NaN   \n",
       "1  Aged 42 years is a man by the name of Julias. ...                  NaN   \n",
       "\n",
       "  description.texts.fr description.texts.ru  funded_amount funded_date  \\\n",
       "0                  NaN                  NaN              0         NaN   \n",
       "1                  NaN                  NaN              0         NaN   \n",
       "\n",
       "        id  image.id  image.template_id  journal_totals.bulkEntries  \\\n",
       "0  1291548   2516002                  1                           0   \n",
       "1  1291532   2515992                  1                           0   \n",
       "\n",
       "   journal_totals.entries  lender_count  loan_amount location.country  \\\n",
       "0                       0             0          500            Kenya   \n",
       "1                       0             0          500            Kenya   \n",
       "\n",
       "  location.country_code location.geo.level   location.geo.pairs  \\\n",
       "0                    KE               town  -0.583333 35.183333   \n",
       "1                    KE               town   0.566667 34.566667   \n",
       "\n",
       "  location.geo.type location.town     name  partner_id payments  \\\n",
       "0             point        litein  Evaline       386.0       []   \n",
       "1             point       Bungoma   Julias       386.0       []   \n",
       "\n",
       "  planned_expiration_date posted_date         sector       status  \\\n",
       "0              2017-06-08  2017-05-09    Agriculture  fundraising   \n",
       "1              2017-06-08  2017-05-09  Manufacturing  fundraising   \n",
       "\n",
       "                                                tags  terms.disbursal_amount  \\\n",
       "0  [{'name': '#Woman Owned Biz'}, {'name': '#Pare...                 50000.0   \n",
       "1                                                 []                 50000.0   \n",
       "\n",
       "  terms.disbursal_currency  terms.disbursal_date  terms.loan_amount  \\\n",
       "0                      KES  2017-04-03T07:00:00Z                500   \n",
       "1                      KES  2017-04-03T07:00:00Z                500   \n",
       "\n",
       "                                terms.local_payments  \\\n",
       "0  [{'due_date': '2017-05-10T07:00:00Z', 'amount'...   \n",
       "1  [{'due_date': '2017-05-09T07:00:00Z', 'amount'...   \n",
       "\n",
       "  terms.loss_liability.currency_exchange  \\\n",
       "0                                 shared   \n",
       "1                                 shared   \n",
       "\n",
       "   terms.loss_liability.currency_exchange_coverage_rate  \\\n",
       "0                                                0.1      \n",
       "1                                                0.1      \n",
       "\n",
       "  terms.loss_liability.nonpayment terms.repayment_interval  \\\n",
       "0                          lender                  Monthly   \n",
       "1                          lender                  Monthly   \n",
       "\n",
       "   terms.repayment_term                           terms.scheduled_payments  \\\n",
       "0                    14  [{'due_date': '2017-07-01T07:00:00Z', 'amount'...   \n",
       "1                    14  [{'due_date': '2017-07-01T07:00:00Z', 'amount'...   \n",
       "\n",
       "  themes translator.byline  translator.image     ...      \\\n",
       "0    NaN      Julie Keaton          892591.0     ...       \n",
       "1    NaN      Morena Calvo         1832928.0     ...       \n",
       "\n",
       "  video.thumbnailImageId  video.title  video.youtubeId borrower_count  \\\n",
       "0                    NaN          NaN              NaN              1   \n",
       "1                    NaN          NaN              NaN              1   \n",
       "\n",
       "  partner_average_loan_size_percent_per_capita_income  \\\n",
       "0                                                0.0    \n",
       "1                                                0.0    \n",
       "\n",
       "   partner_charges_fees_and_interest  \\\n",
       "0                               True   \n",
       "1                               True   \n",
       "\n",
       "                                   partner_countries  \\\n",
       "0  [{'iso_code': 'KE', 'region': 'Africa', 'name'...   \n",
       "1  [{'iso_code': 'KE', 'region': 'Africa', 'name'...   \n",
       "\n",
       "   partner_currency_exchange_loss_rate partner_default_rate  \\\n",
       "0                             0.120642                  0.0   \n",
       "1                             0.120642                  0.0   \n",
       "\n",
       "   partner_default_rate_note  partner_delinquency_rate  \\\n",
       "0                        NaN                  7.017031   \n",
       "1                        NaN                  7.017031   \n",
       "\n",
       "   partner_delinquency_rate_note  partner_image.id  partner_image.template_id  \\\n",
       "0                            NaN           1592272                          1   \n",
       "1                            NaN           1592272                          1   \n",
       "\n",
       "   partner_loans_at_risk_rate  partner_loans_posted  partner_name  \\\n",
       "0                   21.165398                  1948   Kenya ECLOF   \n",
       "1                   21.165398                  1948   Kenya ECLOF   \n",
       "\n",
       "   partner_portfolio_yield partner_portfolio_yield_note  \\\n",
       "0                     40.3                          NaN   \n",
       "1                     40.3                          NaN   \n",
       "\n",
       "   partner_profitability  partner_rating  \\\n",
       "0                   2.54             2.0   \n",
       "1                   2.54             2.0   \n",
       "\n",
       "                partner_social_performance_strengths    partner_start_date  \\\n",
       "0  [{'id': 3, 'name': 'Client Voice', 'descriptio...  2014-05-29T13:30:02Z   \n",
       "1  [{'id': 3, 'name': 'Client Voice', 'descriptio...  2014-05-29T13:30:02Z   \n",
       "\n",
       "  partner_status partner_total_amount_raised                  partner_url  \\\n",
       "0         active                      863375  http://www.eclof-kenya.org/   \n",
       "1         active                      863375  http://www.eclof-kenya.org/   \n",
       "\n",
       "       posted_datetime planned_expiration_datetime funded_datetime  \\\n",
       "0  2017-05-09 00:40:03         2017-06-08 00:40:03             NaN   \n",
       "1  2017-05-09 00:30:05         2017-06-08 00:30:05             NaN   \n",
       "\n",
       "    dispursal_datetime dispersal_date posted_year number_of_loans  gender  \\\n",
       "0  2017-04-03 07:00:00     2017-04-03        2017               1  Female   \n",
       "1  2017-04-03 07:00:00     2017-04-03        2017               1    Male   \n",
       "\n",
       "   num_tags tag_#Woman Owned Biz  tag_#Parent  tag_user_favorite  \\\n",
       "0         1                    1            1                  0   \n",
       "1         0                    0            0                  0   \n",
       "\n",
       "   tag_#Repeat Borrower  tag_#Schooling  tag_volunteer_pick  tag_#Vegan  \\\n",
       "0                     0               0                   0           0   \n",
       "1                     0               0                   0           0   \n",
       "\n",
       "   tag_volunteer_like  tag_#Animals  tag_#Eco-friendly  tag_#Technology  \\\n",
       "0                   0             0                  0                0   \n",
       "1                   0             0                  0                0   \n",
       "\n",
       "   married       age    children_1  children_2  \n",
       "0        1  44 years                6 children  \n",
       "1        1  42 years  two children              \n",
       "\n",
       "[2 rows x 102 columns]"
      ]
     },
     "execution_count": 50,
     "metadata": {},
     "output_type": "execute_result"
    },
    {
     "data": {
      "text/plain": [
       "118199"
      ]
     },
     "execution_count": 50,
     "metadata": {},
     "output_type": "execute_result"
    }
   ],
   "source": [
    "df.head(2)\n",
    "len(df.index)"
   ]
  },
  {
   "cell_type": "markdown",
   "metadata": {},
   "source": [
    "Finally, we map the integer fields unto our dataframe. That way we can decide whether to use number of children as a str feature or an int feature."
   ]
  },
  {
   "cell_type": "code",
   "execution_count": 51,
   "metadata": {
    "collapsed": true
   },
   "outputs": [],
   "source": [
    "mydict = dict(zip(lookup_tags.children_1, lookup_tags.children_int))\n",
    "df['children_int_1'] = df['children_1'].map(mydict)\n",
    "\n",
    "mydict = dict(zip(lookup_tags.children_2, lookup_tags.children_int))\n",
    "df['children_int_2'] = df['children_2'].map(mydict)\n",
    "\n",
    "mydict = dict(zip(lookup_tags.age, lookup_tags.age_int))\n",
    "df['age_int'] = df['age'].map(mydict)"
   ]
  },
  {
   "cell_type": "code",
   "execution_count": 52,
   "metadata": {
    "collapsed": true
   },
   "outputs": [],
   "source": [
    "df['children_int'] = df['children_int_1'].fillna(df['children_int_2'])\n",
    "df['children_int']=df['children_int'].fillna(0)"
   ]
  },
  {
   "cell_type": "markdown",
   "metadata": {},
   "source": [
    "We check out our dataframe and save our work below! So cool, we now have the number of children and the age in years where it is reported in the loan description."
   ]
  },
  {
   "cell_type": "code",
   "execution_count": 53,
   "metadata": {
    "collapsed": true
   },
   "outputs": [],
   "source": [
    "df.to_csv(data_path+'df_module_2_w_outliers.csv')"
   ]
  },
  {
   "cell_type": "code",
   "execution_count": 54,
   "metadata": {},
   "outputs": [
    {
     "data": {
      "text/html": [
       "<div>\n",
       "<style>\n",
       "    .dataframe thead tr:only-child th {\n",
       "        text-align: right;\n",
       "    }\n",
       "\n",
       "    .dataframe thead th {\n",
       "        text-align: left;\n",
       "    }\n",
       "\n",
       "    .dataframe tbody tr th {\n",
       "        vertical-align: top;\n",
       "    }\n",
       "</style>\n",
       "<table border=\"1\" class=\"dataframe\">\n",
       "  <thead>\n",
       "    <tr style=\"text-align: right;\">\n",
       "      <th></th>\n",
       "      <th>Unnamed: 0</th>\n",
       "      <th>Unnamed: 0.1</th>\n",
       "      <th>Unnamed: 0.1.1</th>\n",
       "      <th>activity</th>\n",
       "      <th>basket_amount</th>\n",
       "      <th>bonus_credit_eligibility</th>\n",
       "      <th>borrowers</th>\n",
       "      <th>currency_exchange_loss_amount</th>\n",
       "      <th>description.languages</th>\n",
       "      <th>description.texts.en</th>\n",
       "      <th>description.texts.es</th>\n",
       "      <th>description.texts.fr</th>\n",
       "      <th>description.texts.ru</th>\n",
       "      <th>funded_amount</th>\n",
       "      <th>funded_date</th>\n",
       "      <th>id</th>\n",
       "      <th>image.id</th>\n",
       "      <th>image.template_id</th>\n",
       "      <th>journal_totals.bulkEntries</th>\n",
       "      <th>journal_totals.entries</th>\n",
       "      <th>lender_count</th>\n",
       "      <th>loan_amount</th>\n",
       "      <th>location.country</th>\n",
       "      <th>location.country_code</th>\n",
       "      <th>location.geo.level</th>\n",
       "      <th>location.geo.pairs</th>\n",
       "      <th>location.geo.type</th>\n",
       "      <th>location.town</th>\n",
       "      <th>name</th>\n",
       "      <th>partner_id</th>\n",
       "      <th>payments</th>\n",
       "      <th>planned_expiration_date</th>\n",
       "      <th>posted_date</th>\n",
       "      <th>sector</th>\n",
       "      <th>status</th>\n",
       "      <th>tags</th>\n",
       "      <th>terms.disbursal_amount</th>\n",
       "      <th>terms.disbursal_currency</th>\n",
       "      <th>terms.disbursal_date</th>\n",
       "      <th>terms.loan_amount</th>\n",
       "      <th>terms.local_payments</th>\n",
       "      <th>terms.loss_liability.currency_exchange</th>\n",
       "      <th>terms.loss_liability.currency_exchange_coverage_rate</th>\n",
       "      <th>terms.loss_liability.nonpayment</th>\n",
       "      <th>terms.repayment_interval</th>\n",
       "      <th>terms.repayment_term</th>\n",
       "      <th>terms.scheduled_payments</th>\n",
       "      <th>themes</th>\n",
       "      <th>translator.byline</th>\n",
       "      <th>translator.image</th>\n",
       "      <th>...</th>\n",
       "      <th>partner_average_loan_size_percent_per_capita_income</th>\n",
       "      <th>partner_charges_fees_and_interest</th>\n",
       "      <th>partner_countries</th>\n",
       "      <th>partner_currency_exchange_loss_rate</th>\n",
       "      <th>partner_default_rate</th>\n",
       "      <th>partner_default_rate_note</th>\n",
       "      <th>partner_delinquency_rate</th>\n",
       "      <th>partner_delinquency_rate_note</th>\n",
       "      <th>partner_image.id</th>\n",
       "      <th>partner_image.template_id</th>\n",
       "      <th>partner_loans_at_risk_rate</th>\n",
       "      <th>partner_loans_posted</th>\n",
       "      <th>partner_name</th>\n",
       "      <th>partner_portfolio_yield</th>\n",
       "      <th>partner_portfolio_yield_note</th>\n",
       "      <th>partner_profitability</th>\n",
       "      <th>partner_rating</th>\n",
       "      <th>partner_social_performance_strengths</th>\n",
       "      <th>partner_start_date</th>\n",
       "      <th>partner_status</th>\n",
       "      <th>partner_total_amount_raised</th>\n",
       "      <th>partner_url</th>\n",
       "      <th>posted_datetime</th>\n",
       "      <th>planned_expiration_datetime</th>\n",
       "      <th>funded_datetime</th>\n",
       "      <th>dispursal_datetime</th>\n",
       "      <th>dispersal_date</th>\n",
       "      <th>posted_year</th>\n",
       "      <th>number_of_loans</th>\n",
       "      <th>gender</th>\n",
       "      <th>num_tags</th>\n",
       "      <th>tag_#Woman Owned Biz</th>\n",
       "      <th>tag_#Parent</th>\n",
       "      <th>tag_user_favorite</th>\n",
       "      <th>tag_#Repeat Borrower</th>\n",
       "      <th>tag_#Schooling</th>\n",
       "      <th>tag_volunteer_pick</th>\n",
       "      <th>tag_#Vegan</th>\n",
       "      <th>tag_volunteer_like</th>\n",
       "      <th>tag_#Animals</th>\n",
       "      <th>tag_#Eco-friendly</th>\n",
       "      <th>tag_#Technology</th>\n",
       "      <th>married</th>\n",
       "      <th>age</th>\n",
       "      <th>children_1</th>\n",
       "      <th>children_2</th>\n",
       "      <th>children_int_1</th>\n",
       "      <th>children_int_2</th>\n",
       "      <th>age_int</th>\n",
       "      <th>children_int</th>\n",
       "    </tr>\n",
       "  </thead>\n",
       "  <tbody>\n",
       "    <tr>\n",
       "      <th>0</th>\n",
       "      <td>0</td>\n",
       "      <td>0</td>\n",
       "      <td>0</td>\n",
       "      <td>Farming</td>\n",
       "      <td>0.0</td>\n",
       "      <td>False</td>\n",
       "      <td>[{'first_name': 'Evaline', 'last_name': '', 'g...</td>\n",
       "      <td>NaN</td>\n",
       "      <td>['en']</td>\n",
       "      <td>Evaline is a married lady aged 44 years old an...</td>\n",
       "      <td>NaN</td>\n",
       "      <td>NaN</td>\n",
       "      <td>NaN</td>\n",
       "      <td>0</td>\n",
       "      <td>NaN</td>\n",
       "      <td>1291548</td>\n",
       "      <td>2516002</td>\n",
       "      <td>1</td>\n",
       "      <td>0</td>\n",
       "      <td>0</td>\n",
       "      <td>0</td>\n",
       "      <td>500</td>\n",
       "      <td>Kenya</td>\n",
       "      <td>KE</td>\n",
       "      <td>town</td>\n",
       "      <td>-0.583333 35.183333</td>\n",
       "      <td>point</td>\n",
       "      <td>litein</td>\n",
       "      <td>Evaline</td>\n",
       "      <td>386.0</td>\n",
       "      <td>[]</td>\n",
       "      <td>2017-06-08</td>\n",
       "      <td>2017-05-09</td>\n",
       "      <td>Agriculture</td>\n",
       "      <td>fundraising</td>\n",
       "      <td>[{'name': '#Woman Owned Biz'}, {'name': '#Pare...</td>\n",
       "      <td>50000.0</td>\n",
       "      <td>KES</td>\n",
       "      <td>2017-04-03T07:00:00Z</td>\n",
       "      <td>500</td>\n",
       "      <td>[{'due_date': '2017-05-10T07:00:00Z', 'amount'...</td>\n",
       "      <td>shared</td>\n",
       "      <td>0.1</td>\n",
       "      <td>lender</td>\n",
       "      <td>Monthly</td>\n",
       "      <td>14</td>\n",
       "      <td>[{'due_date': '2017-07-01T07:00:00Z', 'amount'...</td>\n",
       "      <td>NaN</td>\n",
       "      <td>Julie Keaton</td>\n",
       "      <td>892591.0</td>\n",
       "      <td>...</td>\n",
       "      <td>0.0</td>\n",
       "      <td>True</td>\n",
       "      <td>[{'iso_code': 'KE', 'region': 'Africa', 'name'...</td>\n",
       "      <td>0.120642</td>\n",
       "      <td>0.0</td>\n",
       "      <td>NaN</td>\n",
       "      <td>7.017031</td>\n",
       "      <td>NaN</td>\n",
       "      <td>1592272</td>\n",
       "      <td>1</td>\n",
       "      <td>21.165398</td>\n",
       "      <td>1948</td>\n",
       "      <td>Kenya ECLOF</td>\n",
       "      <td>40.3</td>\n",
       "      <td>NaN</td>\n",
       "      <td>2.54</td>\n",
       "      <td>2.0</td>\n",
       "      <td>[{'id': 3, 'name': 'Client Voice', 'descriptio...</td>\n",
       "      <td>2014-05-29T13:30:02Z</td>\n",
       "      <td>active</td>\n",
       "      <td>863375</td>\n",
       "      <td>http://www.eclof-kenya.org/</td>\n",
       "      <td>2017-05-09 00:40:03</td>\n",
       "      <td>2017-06-08 00:40:03</td>\n",
       "      <td>NaN</td>\n",
       "      <td>2017-04-03 07:00:00</td>\n",
       "      <td>2017-04-03</td>\n",
       "      <td>2017</td>\n",
       "      <td>1</td>\n",
       "      <td>Female</td>\n",
       "      <td>1</td>\n",
       "      <td>1</td>\n",
       "      <td>1</td>\n",
       "      <td>0</td>\n",
       "      <td>0</td>\n",
       "      <td>0</td>\n",
       "      <td>0</td>\n",
       "      <td>0</td>\n",
       "      <td>0</td>\n",
       "      <td>0</td>\n",
       "      <td>0</td>\n",
       "      <td>0</td>\n",
       "      <td>1</td>\n",
       "      <td>44 years</td>\n",
       "      <td></td>\n",
       "      <td>6 children</td>\n",
       "      <td>NaN</td>\n",
       "      <td>6.0</td>\n",
       "      <td>44.0</td>\n",
       "      <td>6.0</td>\n",
       "    </tr>\n",
       "    <tr>\n",
       "      <th>1</th>\n",
       "      <td>1</td>\n",
       "      <td>1</td>\n",
       "      <td>1</td>\n",
       "      <td>Furniture Making</td>\n",
       "      <td>0.0</td>\n",
       "      <td>False</td>\n",
       "      <td>[{'first_name': 'Julias', 'last_name': '', 'ge...</td>\n",
       "      <td>NaN</td>\n",
       "      <td>['en']</td>\n",
       "      <td>Aged 42 years is a man by the name of Julias. ...</td>\n",
       "      <td>NaN</td>\n",
       "      <td>NaN</td>\n",
       "      <td>NaN</td>\n",
       "      <td>0</td>\n",
       "      <td>NaN</td>\n",
       "      <td>1291532</td>\n",
       "      <td>2515992</td>\n",
       "      <td>1</td>\n",
       "      <td>0</td>\n",
       "      <td>0</td>\n",
       "      <td>0</td>\n",
       "      <td>500</td>\n",
       "      <td>Kenya</td>\n",
       "      <td>KE</td>\n",
       "      <td>town</td>\n",
       "      <td>0.566667 34.566667</td>\n",
       "      <td>point</td>\n",
       "      <td>Bungoma</td>\n",
       "      <td>Julias</td>\n",
       "      <td>386.0</td>\n",
       "      <td>[]</td>\n",
       "      <td>2017-06-08</td>\n",
       "      <td>2017-05-09</td>\n",
       "      <td>Manufacturing</td>\n",
       "      <td>fundraising</td>\n",
       "      <td>[]</td>\n",
       "      <td>50000.0</td>\n",
       "      <td>KES</td>\n",
       "      <td>2017-04-03T07:00:00Z</td>\n",
       "      <td>500</td>\n",
       "      <td>[{'due_date': '2017-05-09T07:00:00Z', 'amount'...</td>\n",
       "      <td>shared</td>\n",
       "      <td>0.1</td>\n",
       "      <td>lender</td>\n",
       "      <td>Monthly</td>\n",
       "      <td>14</td>\n",
       "      <td>[{'due_date': '2017-07-01T07:00:00Z', 'amount'...</td>\n",
       "      <td>NaN</td>\n",
       "      <td>Morena Calvo</td>\n",
       "      <td>1832928.0</td>\n",
       "      <td>...</td>\n",
       "      <td>0.0</td>\n",
       "      <td>True</td>\n",
       "      <td>[{'iso_code': 'KE', 'region': 'Africa', 'name'...</td>\n",
       "      <td>0.120642</td>\n",
       "      <td>0.0</td>\n",
       "      <td>NaN</td>\n",
       "      <td>7.017031</td>\n",
       "      <td>NaN</td>\n",
       "      <td>1592272</td>\n",
       "      <td>1</td>\n",
       "      <td>21.165398</td>\n",
       "      <td>1948</td>\n",
       "      <td>Kenya ECLOF</td>\n",
       "      <td>40.3</td>\n",
       "      <td>NaN</td>\n",
       "      <td>2.54</td>\n",
       "      <td>2.0</td>\n",
       "      <td>[{'id': 3, 'name': 'Client Voice', 'descriptio...</td>\n",
       "      <td>2014-05-29T13:30:02Z</td>\n",
       "      <td>active</td>\n",
       "      <td>863375</td>\n",
       "      <td>http://www.eclof-kenya.org/</td>\n",
       "      <td>2017-05-09 00:30:05</td>\n",
       "      <td>2017-06-08 00:30:05</td>\n",
       "      <td>NaN</td>\n",
       "      <td>2017-04-03 07:00:00</td>\n",
       "      <td>2017-04-03</td>\n",
       "      <td>2017</td>\n",
       "      <td>1</td>\n",
       "      <td>Male</td>\n",
       "      <td>0</td>\n",
       "      <td>0</td>\n",
       "      <td>0</td>\n",
       "      <td>0</td>\n",
       "      <td>0</td>\n",
       "      <td>0</td>\n",
       "      <td>0</td>\n",
       "      <td>0</td>\n",
       "      <td>0</td>\n",
       "      <td>0</td>\n",
       "      <td>0</td>\n",
       "      <td>0</td>\n",
       "      <td>1</td>\n",
       "      <td>42 years</td>\n",
       "      <td>two children</td>\n",
       "      <td></td>\n",
       "      <td>2.0</td>\n",
       "      <td>NaN</td>\n",
       "      <td>42.0</td>\n",
       "      <td>2.0</td>\n",
       "    </tr>\n",
       "  </tbody>\n",
       "</table>\n",
       "<p>2 rows × 106 columns</p>\n",
       "</div>"
      ],
      "text/plain": [
       "   Unnamed: 0  Unnamed: 0.1  Unnamed: 0.1.1          activity  basket_amount  \\\n",
       "0           0             0               0           Farming            0.0   \n",
       "1           1             1               1  Furniture Making            0.0   \n",
       "\n",
       "   bonus_credit_eligibility  \\\n",
       "0                     False   \n",
       "1                     False   \n",
       "\n",
       "                                           borrowers  \\\n",
       "0  [{'first_name': 'Evaline', 'last_name': '', 'g...   \n",
       "1  [{'first_name': 'Julias', 'last_name': '', 'ge...   \n",
       "\n",
       "   currency_exchange_loss_amount description.languages  \\\n",
       "0                            NaN                ['en']   \n",
       "1                            NaN                ['en']   \n",
       "\n",
       "                                description.texts.en description.texts.es  \\\n",
       "0  Evaline is a married lady aged 44 years old an...                  NaN   \n",
       "1  Aged 42 years is a man by the name of Julias. ...                  NaN   \n",
       "\n",
       "  description.texts.fr description.texts.ru  funded_amount funded_date  \\\n",
       "0                  NaN                  NaN              0         NaN   \n",
       "1                  NaN                  NaN              0         NaN   \n",
       "\n",
       "        id  image.id  image.template_id  journal_totals.bulkEntries  \\\n",
       "0  1291548   2516002                  1                           0   \n",
       "1  1291532   2515992                  1                           0   \n",
       "\n",
       "   journal_totals.entries  lender_count  loan_amount location.country  \\\n",
       "0                       0             0          500            Kenya   \n",
       "1                       0             0          500            Kenya   \n",
       "\n",
       "  location.country_code location.geo.level   location.geo.pairs  \\\n",
       "0                    KE               town  -0.583333 35.183333   \n",
       "1                    KE               town   0.566667 34.566667   \n",
       "\n",
       "  location.geo.type location.town     name  partner_id payments  \\\n",
       "0             point        litein  Evaline       386.0       []   \n",
       "1             point       Bungoma   Julias       386.0       []   \n",
       "\n",
       "  planned_expiration_date posted_date         sector       status  \\\n",
       "0              2017-06-08  2017-05-09    Agriculture  fundraising   \n",
       "1              2017-06-08  2017-05-09  Manufacturing  fundraising   \n",
       "\n",
       "                                                tags  terms.disbursal_amount  \\\n",
       "0  [{'name': '#Woman Owned Biz'}, {'name': '#Pare...                 50000.0   \n",
       "1                                                 []                 50000.0   \n",
       "\n",
       "  terms.disbursal_currency  terms.disbursal_date  terms.loan_amount  \\\n",
       "0                      KES  2017-04-03T07:00:00Z                500   \n",
       "1                      KES  2017-04-03T07:00:00Z                500   \n",
       "\n",
       "                                terms.local_payments  \\\n",
       "0  [{'due_date': '2017-05-10T07:00:00Z', 'amount'...   \n",
       "1  [{'due_date': '2017-05-09T07:00:00Z', 'amount'...   \n",
       "\n",
       "  terms.loss_liability.currency_exchange  \\\n",
       "0                                 shared   \n",
       "1                                 shared   \n",
       "\n",
       "   terms.loss_liability.currency_exchange_coverage_rate  \\\n",
       "0                                                0.1      \n",
       "1                                                0.1      \n",
       "\n",
       "  terms.loss_liability.nonpayment terms.repayment_interval  \\\n",
       "0                          lender                  Monthly   \n",
       "1                          lender                  Monthly   \n",
       "\n",
       "   terms.repayment_term                           terms.scheduled_payments  \\\n",
       "0                    14  [{'due_date': '2017-07-01T07:00:00Z', 'amount'...   \n",
       "1                    14  [{'due_date': '2017-07-01T07:00:00Z', 'amount'...   \n",
       "\n",
       "  themes translator.byline  translator.image     ...       \\\n",
       "0    NaN      Julie Keaton          892591.0     ...        \n",
       "1    NaN      Morena Calvo         1832928.0     ...        \n",
       "\n",
       "  partner_average_loan_size_percent_per_capita_income  \\\n",
       "0                                                0.0    \n",
       "1                                                0.0    \n",
       "\n",
       "   partner_charges_fees_and_interest  \\\n",
       "0                               True   \n",
       "1                               True   \n",
       "\n",
       "                                   partner_countries  \\\n",
       "0  [{'iso_code': 'KE', 'region': 'Africa', 'name'...   \n",
       "1  [{'iso_code': 'KE', 'region': 'Africa', 'name'...   \n",
       "\n",
       "  partner_currency_exchange_loss_rate partner_default_rate  \\\n",
       "0                            0.120642                  0.0   \n",
       "1                            0.120642                  0.0   \n",
       "\n",
       "   partner_default_rate_note  partner_delinquency_rate  \\\n",
       "0                        NaN                  7.017031   \n",
       "1                        NaN                  7.017031   \n",
       "\n",
       "   partner_delinquency_rate_note partner_image.id  partner_image.template_id  \\\n",
       "0                            NaN          1592272                          1   \n",
       "1                            NaN          1592272                          1   \n",
       "\n",
       "   partner_loans_at_risk_rate  partner_loans_posted  partner_name  \\\n",
       "0                   21.165398                  1948   Kenya ECLOF   \n",
       "1                   21.165398                  1948   Kenya ECLOF   \n",
       "\n",
       "   partner_portfolio_yield  partner_portfolio_yield_note  \\\n",
       "0                     40.3                           NaN   \n",
       "1                     40.3                           NaN   \n",
       "\n",
       "   partner_profitability  partner_rating  \\\n",
       "0                   2.54             2.0   \n",
       "1                   2.54             2.0   \n",
       "\n",
       "                partner_social_performance_strengths    partner_start_date  \\\n",
       "0  [{'id': 3, 'name': 'Client Voice', 'descriptio...  2014-05-29T13:30:02Z   \n",
       "1  [{'id': 3, 'name': 'Client Voice', 'descriptio...  2014-05-29T13:30:02Z   \n",
       "\n",
       "   partner_status  partner_total_amount_raised                  partner_url  \\\n",
       "0          active                       863375  http://www.eclof-kenya.org/   \n",
       "1          active                       863375  http://www.eclof-kenya.org/   \n",
       "\n",
       "       posted_datetime planned_expiration_datetime funded_datetime  \\\n",
       "0  2017-05-09 00:40:03         2017-06-08 00:40:03             NaN   \n",
       "1  2017-05-09 00:30:05         2017-06-08 00:30:05             NaN   \n",
       "\n",
       "    dispursal_datetime  dispersal_date posted_year number_of_loans  gender  \\\n",
       "0  2017-04-03 07:00:00      2017-04-03        2017               1  Female   \n",
       "1  2017-04-03 07:00:00      2017-04-03        2017               1    Male   \n",
       "\n",
       "  num_tags tag_#Woman Owned Biz tag_#Parent  tag_user_favorite  \\\n",
       "0        1                    1           1                  0   \n",
       "1        0                    0           0                  0   \n",
       "\n",
       "   tag_#Repeat Borrower tag_#Schooling  tag_volunteer_pick  tag_#Vegan  \\\n",
       "0                     0              0                   0           0   \n",
       "1                     0              0                   0           0   \n",
       "\n",
       "   tag_volunteer_like  tag_#Animals  tag_#Eco-friendly  tag_#Technology  \\\n",
       "0                   0             0                  0                0   \n",
       "1                   0             0                  0                0   \n",
       "\n",
       "   married       age    children_1  children_2  children_int_1  \\\n",
       "0        1  44 years                6 children             NaN   \n",
       "1        1  42 years  two children                         2.0   \n",
       "\n",
       "   children_int_2  age_int children_int  \n",
       "0             6.0     44.0          6.0  \n",
       "1             NaN     42.0          2.0  \n",
       "\n",
       "[2 rows x 106 columns]"
      ]
     },
     "execution_count": 54,
     "metadata": {},
     "output_type": "execute_result"
    }
   ],
   "source": [
    "df.head(2)"
   ]
  },
  {
   "cell_type": "markdown",
   "metadata": {},
   "source": [
    "## Number of children"
   ]
  },
  {
   "cell_type": "markdown",
   "metadata": {},
   "source": [
    "Now that all of our data processing is over, let's take a look at the number of children against loan amount. Very interesting! We see what appears to be a negative relationship, lenders with more children tend to request lower loan amounts."
   ]
  },
  {
   "cell_type": "code",
   "execution_count": 55,
   "metadata": {},
   "outputs": [
    {
     "data": {
      "image/png": "[encoded data removed]",
      "text/plain": [
       "<matplotlib.figure.Figure at 0x14bd3a358>"
      ]
     },
     "metadata": {},
     "output_type": "display_data"
    },
    {
     "data": {
      "text/plain": [
       "<ggplot: (-9223372036513676421)>"
      ]
     },
     "execution_count": 55,
     "metadata": {},
     "output_type": "execute_result"
    }
   ],
   "source": [
    "ggplot(df[(df['borrower_count'] == 1)], aes(x = 'children_int', y = 'loan_amount', color=\"gender\")) + geom_point() + \\\n",
    "ggtitle(\"Relationship between Loan Amount and Number of Children\") + xlab(\"number of children\") + ylab(\"loan_amount\")"
   ]
  },
  {
   "cell_type": "markdown",
   "metadata": {},
   "source": [
    "Surprisingly, in the chart above it appears that women may be requesting more than men? This is really surprising, since all our analysis of gender so far has communicated that women on average request less. Let's see what is going on by returning to our binary childrens boxplot from earlier."
   ]
  },
  {
   "cell_type": "code",
   "execution_count": 56,
   "metadata": {},
   "outputs": [
    {
     "data": {
      "text/plain": [
       "<matplotlib.figure.Figure at 0x14c636390>"
      ]
     },
     "execution_count": 56,
     "metadata": {},
     "output_type": "execute_result"
    },
    {
     "ename": "ValueError",
     "evalue": "Could not interpret input 'kids'",
     "output_type": "error",
     "traceback": [
      "\u001b[0;31m---------------------------------------------------------------------------\u001b[0m",
      "\u001b[0;31mValueError\u001b[0m                                Traceback (most recent call last)",
      "\u001b[0;32m<ipython-input-56-c5a2f779272c>\u001b[0m in \u001b[0;36m<module>\u001b[0;34m()\u001b[0m\n\u001b[1;32m      3\u001b[0m \u001b[0msns\u001b[0m\u001b[0;34m.\u001b[0m\u001b[0mset_context\u001b[0m\u001b[0;34m(\u001b[0m\u001b[0;34m\"paper\"\u001b[0m\u001b[0;34m,\u001b[0m \u001b[0mfont_scale\u001b[0m\u001b[0;34m=\u001b[0m\u001b[0;36m1.1\u001b[0m\u001b[0;34m,\u001b[0m \u001b[0mrc\u001b[0m\u001b[0;34m=\u001b[0m\u001b[0;34m{\u001b[0m\u001b[0;34m\"lines.linewidth\"\u001b[0m\u001b[0;34m:\u001b[0m \u001b[0;36m1.1\u001b[0m\u001b[0;34m}\u001b[0m\u001b[0;34m)\u001b[0m\u001b[0;34m\u001b[0m\u001b[0m\n\u001b[1;32m      4\u001b[0m \u001b[0;34m\u001b[0m\u001b[0m\n\u001b[0;32m----> 5\u001b[0;31m \u001b[0mg\u001b[0m\u001b[0;34m=\u001b[0m\u001b[0msns\u001b[0m\u001b[0;34m.\u001b[0m\u001b[0mfactorplot\u001b[0m\u001b[0;34m(\u001b[0m\u001b[0mx\u001b[0m\u001b[0;34m=\u001b[0m\u001b[0;34m\"kids\"\u001b[0m\u001b[0;34m,\u001b[0m \u001b[0my\u001b[0m\u001b[0;34m=\u001b[0m\u001b[0;34m\"loan_amount\"\u001b[0m\u001b[0;34m,\u001b[0m \u001b[0mhue\u001b[0m\u001b[0;34m=\u001b[0m\u001b[0;34m\"gender\"\u001b[0m\u001b[0;34m,\u001b[0m \u001b[0mpalette\u001b[0m\u001b[0;34m=\u001b[0m\u001b[0;34m\"Set3\"\u001b[0m\u001b[0;34m,\u001b[0m \u001b[0mdata\u001b[0m\u001b[0;34m=\u001b[0m\u001b[0mdf\u001b[0m\u001b[0;34m[\u001b[0m\u001b[0mdf\u001b[0m\u001b[0;34m[\u001b[0m\u001b[0;34m'loan_amount'\u001b[0m\u001b[0;34m]\u001b[0m\u001b[0;34m<\u001b[0m\u001b[0;36m2000\u001b[0m\u001b[0;34m]\u001b[0m\u001b[0;34m,\u001b[0m \u001b[0mkind\u001b[0m\u001b[0;34m=\u001b[0m\u001b[0;34m\"box\"\u001b[0m\u001b[0;34m,\u001b[0m\u001b[0morient\u001b[0m\u001b[0;34m=\u001b[0m\u001b[0;34m\"v\"\u001b[0m\u001b[0;34m,\u001b[0m \u001b[0msize\u001b[0m\u001b[0;34m=\u001b[0m\u001b[0;36m8\u001b[0m\u001b[0;34m,\u001b[0m \u001b[0maspect\u001b[0m\u001b[0;34m=\u001b[0m\u001b[0;36m1\u001b[0m\u001b[0;34m)\u001b[0m\u001b[0;34m\u001b[0m\u001b[0m\n\u001b[0m",
      "\u001b[0;32m/Library/Frameworks/Python.framework/Versions/3.5/lib/python3.5/site-packages/seaborn/categorical.py\u001b[0m in \u001b[0;36mfactorplot\u001b[0;34m(x, y, hue, data, row, col, col_wrap, estimator, ci, n_boot, units, order, hue_order, row_order, col_order, kind, size, aspect, orient, color, palette, legend, legend_out, sharex, sharey, margin_titles, facet_kws, **kwargs)\u001b[0m\n\u001b[1;32m   3389\u001b[0m     \u001b[0;31m# facets to ensure representation of all data in the final plot\u001b[0m\u001b[0;34m\u001b[0m\u001b[0;34m\u001b[0m\u001b[0m\n\u001b[1;32m   3390\u001b[0m     \u001b[0mp\u001b[0m \u001b[0;34m=\u001b[0m \u001b[0m_CategoricalPlotter\u001b[0m\u001b[0;34m(\u001b[0m\u001b[0;34m)\u001b[0m\u001b[0;34m\u001b[0m\u001b[0m\n\u001b[0;32m-> 3391\u001b[0;31m     \u001b[0mp\u001b[0m\u001b[0;34m.\u001b[0m\u001b[0mestablish_variables\u001b[0m\u001b[0;34m(\u001b[0m\u001b[0mx_\u001b[0m\u001b[0;34m,\u001b[0m \u001b[0my_\u001b[0m\u001b[0;34m,\u001b[0m \u001b[0mhue\u001b[0m\u001b[0;34m,\u001b[0m \u001b[0mdata\u001b[0m\u001b[0;34m,\u001b[0m \u001b[0morient\u001b[0m\u001b[0;34m,\u001b[0m \u001b[0morder\u001b[0m\u001b[0;34m,\u001b[0m \u001b[0mhue_order\u001b[0m\u001b[0;34m)\u001b[0m\u001b[0;34m\u001b[0m\u001b[0m\n\u001b[0m\u001b[1;32m   3392\u001b[0m     \u001b[0morder\u001b[0m \u001b[0;34m=\u001b[0m \u001b[0mp\u001b[0m\u001b[0;34m.\u001b[0m\u001b[0mgroup_names\u001b[0m\u001b[0;34m\u001b[0m\u001b[0m\n\u001b[1;32m   3393\u001b[0m     \u001b[0mhue_order\u001b[0m \u001b[0;34m=\u001b[0m \u001b[0mp\u001b[0m\u001b[0;34m.\u001b[0m\u001b[0mhue_names\u001b[0m\u001b[0;34m\u001b[0m\u001b[0m\n",
      "\u001b[0;32m/Library/Frameworks/Python.framework/Versions/3.5/lib/python3.5/site-packages/seaborn/categorical.py\u001b[0m in \u001b[0;36mestablish_variables\u001b[0;34m(self, x, y, hue, data, orient, order, hue_order, units)\u001b[0m\n\u001b[1;32m    149\u001b[0m                 \u001b[0;32mif\u001b[0m \u001b[0misinstance\u001b[0m\u001b[0;34m(\u001b[0m\u001b[0minput\u001b[0m\u001b[0;34m,\u001b[0m \u001b[0mstring_types\u001b[0m\u001b[0;34m)\u001b[0m\u001b[0;34m:\u001b[0m\u001b[0;34m\u001b[0m\u001b[0m\n\u001b[1;32m    150\u001b[0m                     \u001b[0merr\u001b[0m \u001b[0;34m=\u001b[0m \u001b[0;34m\"Could not interpret input '{}'\"\u001b[0m\u001b[0;34m.\u001b[0m\u001b[0mformat\u001b[0m\u001b[0;34m(\u001b[0m\u001b[0minput\u001b[0m\u001b[0;34m)\u001b[0m\u001b[0;34m\u001b[0m\u001b[0m\n\u001b[0;32m--> 151\u001b[0;31m                     \u001b[0;32mraise\u001b[0m \u001b[0mValueError\u001b[0m\u001b[0;34m(\u001b[0m\u001b[0merr\u001b[0m\u001b[0;34m)\u001b[0m\u001b[0;34m\u001b[0m\u001b[0m\n\u001b[0m\u001b[1;32m    152\u001b[0m \u001b[0;34m\u001b[0m\u001b[0m\n\u001b[1;32m    153\u001b[0m             \u001b[0;31m# Figure out the plotting orientation\u001b[0m\u001b[0;34m\u001b[0m\u001b[0;34m\u001b[0m\u001b[0m\n",
      "\u001b[0;31mValueError\u001b[0m: Could not interpret input 'kids'"
     ]
    },
    {
     "data": {
      "text/plain": [
       "<matplotlib.figure.Figure at 0x14c636390>"
      ]
     },
     "metadata": {},
     "output_type": "display_data"
    }
   ],
   "source": [
    "plt.figure(figsize=(8, 20))\n",
    "\n",
    "sns.set_context(\"paper\", font_scale=1.1, rc={\"lines.linewidth\": 1.1})\n",
    "\n",
    "g=sns.factorplot(x=\"kids\", y=\"loan_amount\", hue=\"gender\", palette=\"Set3\", data=df[df['loan_amount']<2000], kind=\"box\",orient=\"v\", size=8, aspect=1)"
   ]
  },
  {
   "cell_type": "markdown",
   "metadata": {},
   "source": [
    "It turns out this is not the case, men with children are still requesting more than women with children. This is why using a tool like boxplots is so important. It is a powerful way to quantify the distribution we percieve."
   ]
  },
  {
   "cell_type": "markdown",
   "metadata": {},
   "source": [
    "Let's also plot is using our more granular number of children data. This again reinforeces that women are systematically asking for less than men.\n",
    "\n",
    "We can also note that although we percieved a negative relationship between number of children and loan amount requested in our initial scatter plot, it appears that at least the median loan amount requested goes up as the number of children go up. "
   ]
  },
  {
   "cell_type": "code",
   "execution_count": null,
   "metadata": {
    "collapsed": true
   },
   "outputs": [],
   "source": [
    "plt.figure(figsize=(8, 20))\n",
    "\n",
    "sns.set_context(\"paper\", font_scale=1.1, rc={\"lines.linewidth\": 1.1})\n",
    "\n",
    "g=sns.factorplot(x=\"children_int\", y=\"loan_amount\", hue=\"gender\", palette=\"Set3\", data=df[df['loan_amount']<2000], kind=\"box\",orient=\"v\", size=8, aspect=1)"
   ]
  },
  {
   "cell_type": "markdown",
   "metadata": {},
   "source": [
    "The number of children feature is very promising, we will definately be including it in our model!"
   ]
  },
  {
   "cell_type": "markdown",
   "metadata": {},
   "source": [
    "## Age"
   ]
  },
  {
   "cell_type": "markdown",
   "metadata": {},
   "source": [
    "Now let's turn to age. Below, we plot age against loan amount to get a sense of the strength of the relationship."
   ]
  },
  {
   "cell_type": "code",
   "execution_count": 58,
   "metadata": {},
   "outputs": [
    {
     "data": {
      "image/png": "[encoded data removed]",
      "text/plain": [
       "<matplotlib.figure.Figure at 0x1198d3cf8>"
      ]
     },
     "metadata": {},
     "output_type": "display_data"
    },
    {
     "data": {
      "text/plain": [
       "<ggplot: (295541722)>"
      ]
     },
     "execution_count": 58,
     "metadata": {},
     "output_type": "execute_result"
    }
   ],
   "source": [
    "ggplot(df[(df['borrower_count'] == 1)], aes(x = 'age_int', y = 'loan_amount', color=\"gender\")) + geom_point() + \\\n",
    "ggtitle(\"Relationship between Loan Amount and Number of Lenders\") + xlab(\"age\") + ylab(\"loan_amount\")"
   ]
  },
  {
   "cell_type": "markdown",
   "metadata": {},
   "source": [
    "From the chart above, we can see that while we have learnt something about the age distribution it is unfortunately not particularly powerful at predicting loan amount. We decide to try one more thing and bucket age to see if it strengthens the relationship."
   ]
  },
  {
   "cell_type": "code",
   "execution_count": 59,
   "metadata": {},
   "outputs": [
    {
     "data": {
      "text/plain": [
       "(30, 40]    12422\n",
       "(0, 10]     12330\n",
       "(20, 30]     9529\n",
       "(40, 50]     8487\n",
       "(10, 20]     6262\n",
       "(50, 60]     4766\n",
       "(60, 70]     1587\n",
       "(70, 80]      234\n",
       "Name: age_bucket, dtype: int64"
      ]
     },
     "execution_count": 59,
     "metadata": {},
     "output_type": "execute_result"
    }
   ],
   "source": [
    "mybins =range(0, 90, 10)\n",
    "df['age_bucket'] = pd.cut(df['age_int'], bins=mybins)\n",
    "df['age_bucket'].value_counts()"
   ]
  },
  {
   "cell_type": "markdown",
   "metadata": {},
   "source": [
    "Strange -- looks like there are a lot of 10 year olds borrowers! This doesn't make sense, so let's take a look at the data where age_int < 10 to investigate. "
   ]
  },
  {
   "cell_type": "code",
   "execution_count": 60,
   "metadata": {
    "scrolled": true
   },
   "outputs": [
    {
     "data": {
      "text/html": [
       "<div>\n",
       "<style>\n",
       "    .dataframe thead tr:only-child th {\n",
       "        text-align: right;\n",
       "    }\n",
       "\n",
       "    .dataframe thead th {\n",
       "        text-align: left;\n",
       "    }\n",
       "\n",
       "    .dataframe tbody tr th {\n",
       "        vertical-align: top;\n",
       "    }\n",
       "</style>\n",
       "<table border=\"1\" class=\"dataframe\">\n",
       "  <thead>\n",
       "    <tr style=\"text-align: right;\">\n",
       "      <th></th>\n",
       "      <th>Unnamed: 0</th>\n",
       "      <th>Unnamed: 0.1</th>\n",
       "      <th>Unnamed: 0.1.1</th>\n",
       "      <th>activity</th>\n",
       "      <th>basket_amount</th>\n",
       "      <th>bonus_credit_eligibility</th>\n",
       "      <th>borrowers</th>\n",
       "      <th>currency_exchange_loss_amount</th>\n",
       "      <th>description.languages</th>\n",
       "      <th>description.texts.en</th>\n",
       "      <th>description.texts.es</th>\n",
       "      <th>description.texts.fr</th>\n",
       "      <th>description.texts.ru</th>\n",
       "      <th>funded_amount</th>\n",
       "      <th>funded_date</th>\n",
       "      <th>id</th>\n",
       "      <th>image.id</th>\n",
       "      <th>image.template_id</th>\n",
       "      <th>journal_totals.bulkEntries</th>\n",
       "      <th>journal_totals.entries</th>\n",
       "      <th>lender_count</th>\n",
       "      <th>loan_amount</th>\n",
       "      <th>location.country</th>\n",
       "      <th>location.country_code</th>\n",
       "      <th>location.geo.level</th>\n",
       "      <th>location.geo.pairs</th>\n",
       "      <th>location.geo.type</th>\n",
       "      <th>location.town</th>\n",
       "      <th>name</th>\n",
       "      <th>partner_id</th>\n",
       "      <th>payments</th>\n",
       "      <th>planned_expiration_date</th>\n",
       "      <th>posted_date</th>\n",
       "      <th>sector</th>\n",
       "      <th>status</th>\n",
       "      <th>tags</th>\n",
       "      <th>terms.disbursal_amount</th>\n",
       "      <th>terms.disbursal_currency</th>\n",
       "      <th>terms.disbursal_date</th>\n",
       "      <th>terms.loan_amount</th>\n",
       "      <th>terms.local_payments</th>\n",
       "      <th>terms.loss_liability.currency_exchange</th>\n",
       "      <th>terms.loss_liability.currency_exchange_coverage_rate</th>\n",
       "      <th>terms.loss_liability.nonpayment</th>\n",
       "      <th>terms.repayment_interval</th>\n",
       "      <th>terms.repayment_term</th>\n",
       "      <th>terms.scheduled_payments</th>\n",
       "      <th>themes</th>\n",
       "      <th>translator.byline</th>\n",
       "      <th>translator.image</th>\n",
       "      <th>...</th>\n",
       "      <th>partner_charges_fees_and_interest</th>\n",
       "      <th>partner_countries</th>\n",
       "      <th>partner_currency_exchange_loss_rate</th>\n",
       "      <th>partner_default_rate</th>\n",
       "      <th>partner_default_rate_note</th>\n",
       "      <th>partner_delinquency_rate</th>\n",
       "      <th>partner_delinquency_rate_note</th>\n",
       "      <th>partner_image.id</th>\n",
       "      <th>partner_image.template_id</th>\n",
       "      <th>partner_loans_at_risk_rate</th>\n",
       "      <th>partner_loans_posted</th>\n",
       "      <th>partner_name</th>\n",
       "      <th>partner_portfolio_yield</th>\n",
       "      <th>partner_portfolio_yield_note</th>\n",
       "      <th>partner_profitability</th>\n",
       "      <th>partner_rating</th>\n",
       "      <th>partner_social_performance_strengths</th>\n",
       "      <th>partner_start_date</th>\n",
       "      <th>partner_status</th>\n",
       "      <th>partner_total_amount_raised</th>\n",
       "      <th>partner_url</th>\n",
       "      <th>posted_datetime</th>\n",
       "      <th>planned_expiration_datetime</th>\n",
       "      <th>funded_datetime</th>\n",
       "      <th>dispursal_datetime</th>\n",
       "      <th>dispersal_date</th>\n",
       "      <th>posted_year</th>\n",
       "      <th>number_of_loans</th>\n",
       "      <th>gender</th>\n",
       "      <th>num_tags</th>\n",
       "      <th>tag_#Woman Owned Biz</th>\n",
       "      <th>tag_#Parent</th>\n",
       "      <th>tag_user_favorite</th>\n",
       "      <th>tag_#Repeat Borrower</th>\n",
       "      <th>tag_#Schooling</th>\n",
       "      <th>tag_volunteer_pick</th>\n",
       "      <th>tag_#Vegan</th>\n",
       "      <th>tag_volunteer_like</th>\n",
       "      <th>tag_#Animals</th>\n",
       "      <th>tag_#Eco-friendly</th>\n",
       "      <th>tag_#Technology</th>\n",
       "      <th>married</th>\n",
       "      <th>age</th>\n",
       "      <th>children_1</th>\n",
       "      <th>children_2</th>\n",
       "      <th>children_int_1</th>\n",
       "      <th>children_int_2</th>\n",
       "      <th>age_int</th>\n",
       "      <th>children_int</th>\n",
       "      <th>age_bucket</th>\n",
       "    </tr>\n",
       "  </thead>\n",
       "  <tbody>\n",
       "    <tr>\n",
       "      <th>114</th>\n",
       "      <td>114</td>\n",
       "      <td>114</td>\n",
       "      <td>1710</td>\n",
       "      <td>Fruits &amp; Vegetables</td>\n",
       "      <td>0.0</td>\n",
       "      <td>False</td>\n",
       "      <td>[{'first_name': 'Joseph', 'last_name': '', 'ge...</td>\n",
       "      <td>NaN</td>\n",
       "      <td>['en']</td>\n",
       "      <td>Joseph is a 30-year-old man and is happily mar...</td>\n",
       "      <td>NaN</td>\n",
       "      <td>NaN</td>\n",
       "      <td>NaN</td>\n",
       "      <td>0</td>\n",
       "      <td>NaN</td>\n",
       "      <td>1275366</td>\n",
       "      <td>2494142</td>\n",
       "      <td>1</td>\n",
       "      <td>0</td>\n",
       "      <td>0</td>\n",
       "      <td>0</td>\n",
       "      <td>450</td>\n",
       "      <td>Kenya</td>\n",
       "      <td>KE</td>\n",
       "      <td>town</td>\n",
       "      <td>0.516667 36.866667</td>\n",
       "      <td>point</td>\n",
       "      <td>Narok</td>\n",
       "      <td>Joseph</td>\n",
       "      <td>386.0</td>\n",
       "      <td>[]</td>\n",
       "      <td>2017-05-16</td>\n",
       "      <td>2017-04-16</td>\n",
       "      <td>Food</td>\n",
       "      <td>fundraising</td>\n",
       "      <td>[{'name': '#Vegan'}, {'name': '#Parent'}, {'na...</td>\n",
       "      <td>45000.0</td>\n",
       "      <td>KES</td>\n",
       "      <td>2017-03-08T08:00:00Z</td>\n",
       "      <td>450</td>\n",
       "      <td>[{'due_date': '2017-04-12T07:00:00Z', 'amount'...</td>\n",
       "      <td>shared</td>\n",
       "      <td>0.1</td>\n",
       "      <td>lender</td>\n",
       "      <td>Monthly</td>\n",
       "      <td>14</td>\n",
       "      <td>[{'due_date': '2017-07-01T07:00:00Z', 'amount'...</td>\n",
       "      <td>NaN</td>\n",
       "      <td>Christine  Haiss</td>\n",
       "      <td>1251749.0</td>\n",
       "      <td>...</td>\n",
       "      <td>True</td>\n",
       "      <td>[{'iso_code': 'KE', 'region': 'Africa', 'name'...</td>\n",
       "      <td>0.120642</td>\n",
       "      <td>0.0</td>\n",
       "      <td>NaN</td>\n",
       "      <td>7.017031</td>\n",
       "      <td>NaN</td>\n",
       "      <td>1592272</td>\n",
       "      <td>1</td>\n",
       "      <td>21.165398</td>\n",
       "      <td>1948</td>\n",
       "      <td>Kenya ECLOF</td>\n",
       "      <td>40.3</td>\n",
       "      <td>NaN</td>\n",
       "      <td>2.54</td>\n",
       "      <td>2.0</td>\n",
       "      <td>[{'id': 3, 'name': 'Client Voice', 'descriptio...</td>\n",
       "      <td>2014-05-29T13:30:02Z</td>\n",
       "      <td>active</td>\n",
       "      <td>863375</td>\n",
       "      <td>http://www.eclof-kenya.org/</td>\n",
       "      <td>2017-04-16 13:50:07</td>\n",
       "      <td>2017-05-16 13:50:07</td>\n",
       "      <td>NaN</td>\n",
       "      <td>2017-03-08 08:00:00</td>\n",
       "      <td>2017-03-08</td>\n",
       "      <td>2017</td>\n",
       "      <td>1</td>\n",
       "      <td>Male</td>\n",
       "      <td>2</td>\n",
       "      <td>0</td>\n",
       "      <td>1</td>\n",
       "      <td>0</td>\n",
       "      <td>1</td>\n",
       "      <td>0</td>\n",
       "      <td>0</td>\n",
       "      <td>1</td>\n",
       "      <td>0</td>\n",
       "      <td>0</td>\n",
       "      <td>0</td>\n",
       "      <td>0</td>\n",
       "      <td>1</td>\n",
       "      <td>1 years</td>\n",
       "      <td>two children</td>\n",
       "      <td></td>\n",
       "      <td>2.0</td>\n",
       "      <td>NaN</td>\n",
       "      <td>1.0</td>\n",
       "      <td>2.0</td>\n",
       "      <td>(0, 10]</td>\n",
       "    </tr>\n",
       "    <tr>\n",
       "      <th>618</th>\n",
       "      <td>618</td>\n",
       "      <td>618</td>\n",
       "      <td>7903</td>\n",
       "      <td>Motorcycle Transport</td>\n",
       "      <td>NaN</td>\n",
       "      <td>False</td>\n",
       "      <td>[{'first_name': 'Christopher', 'last_name': ''...</td>\n",
       "      <td>NaN</td>\n",
       "      <td>['en']</td>\n",
       "      <td>Christopher is a happily married man and they ...</td>\n",
       "      <td>NaN</td>\n",
       "      <td>NaN</td>\n",
       "      <td>NaN</td>\n",
       "      <td>400</td>\n",
       "      <td>2017-02-07</td>\n",
       "      <td>1221313</td>\n",
       "      <td>2418226</td>\n",
       "      <td>1</td>\n",
       "      <td>0</td>\n",
       "      <td>0</td>\n",
       "      <td>5</td>\n",
       "      <td>400</td>\n",
       "      <td>Kenya</td>\n",
       "      <td>KE</td>\n",
       "      <td>town</td>\n",
       "      <td>0.516667 35.283333</td>\n",
       "      <td>point</td>\n",
       "      <td>Eldoret</td>\n",
       "      <td>Christopher</td>\n",
       "      <td>386.0</td>\n",
       "      <td>[]</td>\n",
       "      <td>2017-02-16</td>\n",
       "      <td>2017-01-17</td>\n",
       "      <td>Transportation</td>\n",
       "      <td>funded</td>\n",
       "      <td>[{'name': 'user_favorite'}, {'name': '#First L...</td>\n",
       "      <td>40000.0</td>\n",
       "      <td>KES</td>\n",
       "      <td>2016-12-28T08:00:00Z</td>\n",
       "      <td>400</td>\n",
       "      <td>[]</td>\n",
       "      <td>shared</td>\n",
       "      <td>0.1</td>\n",
       "      <td>lender</td>\n",
       "      <td>NaN</td>\n",
       "      <td>11</td>\n",
       "      <td>[]</td>\n",
       "      <td>NaN</td>\n",
       "      <td>Tim Gibson</td>\n",
       "      <td>1632475.0</td>\n",
       "      <td>...</td>\n",
       "      <td>True</td>\n",
       "      <td>[{'iso_code': 'KE', 'region': 'Africa', 'name'...</td>\n",
       "      <td>0.120642</td>\n",
       "      <td>0.0</td>\n",
       "      <td>NaN</td>\n",
       "      <td>7.017031</td>\n",
       "      <td>NaN</td>\n",
       "      <td>1592272</td>\n",
       "      <td>1</td>\n",
       "      <td>21.165398</td>\n",
       "      <td>1948</td>\n",
       "      <td>Kenya ECLOF</td>\n",
       "      <td>40.3</td>\n",
       "      <td>NaN</td>\n",
       "      <td>2.54</td>\n",
       "      <td>2.0</td>\n",
       "      <td>[{'id': 3, 'name': 'Client Voice', 'descriptio...</td>\n",
       "      <td>2014-05-29T13:30:02Z</td>\n",
       "      <td>active</td>\n",
       "      <td>863375</td>\n",
       "      <td>http://www.eclof-kenya.org/</td>\n",
       "      <td>2017-01-17 11:30:05</td>\n",
       "      <td>2017-02-16 11:30:05</td>\n",
       "      <td>2017-02-07 11:30:49</td>\n",
       "      <td>2016-12-28 08:00:00</td>\n",
       "      <td>2016-12-28</td>\n",
       "      <td>2017</td>\n",
       "      <td>1</td>\n",
       "      <td>Male</td>\n",
       "      <td>3</td>\n",
       "      <td>0</td>\n",
       "      <td>1</td>\n",
       "      <td>1</td>\n",
       "      <td>0</td>\n",
       "      <td>0</td>\n",
       "      <td>0</td>\n",
       "      <td>0</td>\n",
       "      <td>0</td>\n",
       "      <td>0</td>\n",
       "      <td>0</td>\n",
       "      <td>0</td>\n",
       "      <td>1</td>\n",
       "      <td>1 years</td>\n",
       "      <td></td>\n",
       "      <td>4 children</td>\n",
       "      <td>NaN</td>\n",
       "      <td>4.0</td>\n",
       "      <td>1.0</td>\n",
       "      <td>4.0</td>\n",
       "      <td>(0, 10]</td>\n",
       "    </tr>\n",
       "    <tr>\n",
       "      <th>660</th>\n",
       "      <td>660</td>\n",
       "      <td>660</td>\n",
       "      <td>8702</td>\n",
       "      <td>Animal Sales</td>\n",
       "      <td>NaN</td>\n",
       "      <td>False</td>\n",
       "      <td>[{'first_name': 'Ntalamer', 'last_name': '', '...</td>\n",
       "      <td>NaN</td>\n",
       "      <td>['en']</td>\n",
       "      <td>This is Ntalamer, who is married with two chil...</td>\n",
       "      <td>NaN</td>\n",
       "      <td>NaN</td>\n",
       "      <td>NaN</td>\n",
       "      <td>300</td>\n",
       "      <td>NaN</td>\n",
       "      <td>1215911</td>\n",
       "      <td>2409165</td>\n",
       "      <td>1</td>\n",
       "      <td>0</td>\n",
       "      <td>0</td>\n",
       "      <td>12</td>\n",
       "      <td>500</td>\n",
       "      <td>Kenya</td>\n",
       "      <td>KE</td>\n",
       "      <td>town</td>\n",
       "      <td>0.516667 36.866667</td>\n",
       "      <td>point</td>\n",
       "      <td>Narok</td>\n",
       "      <td>Ntalamer</td>\n",
       "      <td>386.0</td>\n",
       "      <td>[]</td>\n",
       "      <td>2017-02-05</td>\n",
       "      <td>2017-01-06</td>\n",
       "      <td>Agriculture</td>\n",
       "      <td>expired</td>\n",
       "      <td>[{'name': '#Animals'}, {'name': '#Parent'}]</td>\n",
       "      <td>50000.0</td>\n",
       "      <td>KES</td>\n",
       "      <td>2016-12-06T08:00:00Z</td>\n",
       "      <td>500</td>\n",
       "      <td>[]</td>\n",
       "      <td>shared</td>\n",
       "      <td>0.1</td>\n",
       "      <td>lender</td>\n",
       "      <td>NaN</td>\n",
       "      <td>10</td>\n",
       "      <td>[]</td>\n",
       "      <td>NaN</td>\n",
       "      <td>Katie Bradshaw</td>\n",
       "      <td>1722852.0</td>\n",
       "      <td>...</td>\n",
       "      <td>True</td>\n",
       "      <td>[{'iso_code': 'KE', 'region': 'Africa', 'name'...</td>\n",
       "      <td>0.120642</td>\n",
       "      <td>0.0</td>\n",
       "      <td>NaN</td>\n",
       "      <td>7.017031</td>\n",
       "      <td>NaN</td>\n",
       "      <td>1592272</td>\n",
       "      <td>1</td>\n",
       "      <td>21.165398</td>\n",
       "      <td>1948</td>\n",
       "      <td>Kenya ECLOF</td>\n",
       "      <td>40.3</td>\n",
       "      <td>NaN</td>\n",
       "      <td>2.54</td>\n",
       "      <td>2.0</td>\n",
       "      <td>[{'id': 3, 'name': 'Client Voice', 'descriptio...</td>\n",
       "      <td>2014-05-29T13:30:02Z</td>\n",
       "      <td>active</td>\n",
       "      <td>863375</td>\n",
       "      <td>http://www.eclof-kenya.org/</td>\n",
       "      <td>2017-01-06 16:30:04</td>\n",
       "      <td>2017-02-05 16:30:04</td>\n",
       "      <td>NaN</td>\n",
       "      <td>2016-12-06 08:00:00</td>\n",
       "      <td>2016-12-06</td>\n",
       "      <td>2017</td>\n",
       "      <td>1</td>\n",
       "      <td>Male</td>\n",
       "      <td>1</td>\n",
       "      <td>0</td>\n",
       "      <td>1</td>\n",
       "      <td>0</td>\n",
       "      <td>0</td>\n",
       "      <td>0</td>\n",
       "      <td>0</td>\n",
       "      <td>0</td>\n",
       "      <td>0</td>\n",
       "      <td>1</td>\n",
       "      <td>0</td>\n",
       "      <td>0</td>\n",
       "      <td>1</td>\n",
       "      <td>1 years</td>\n",
       "      <td>two children</td>\n",
       "      <td></td>\n",
       "      <td>2.0</td>\n",
       "      <td>NaN</td>\n",
       "      <td>1.0</td>\n",
       "      <td>2.0</td>\n",
       "      <td>(0, 10]</td>\n",
       "    </tr>\n",
       "    <tr>\n",
       "      <th>1339</th>\n",
       "      <td>1339</td>\n",
       "      <td>1339</td>\n",
       "      <td>16496</td>\n",
       "      <td>Tailoring</td>\n",
       "      <td>NaN</td>\n",
       "      <td>False</td>\n",
       "      <td>[{'first_name': 'Jackline', 'last_name': '', '...</td>\n",
       "      <td>NaN</td>\n",
       "      <td>['en']</td>\n",
       "      <td>Jackline is a happily married woman and a moth...</td>\n",
       "      <td>NaN</td>\n",
       "      <td>NaN</td>\n",
       "      <td>NaN</td>\n",
       "      <td>250</td>\n",
       "      <td>2016-09-12</td>\n",
       "      <td>1139722</td>\n",
       "      <td>2287997</td>\n",
       "      <td>1</td>\n",
       "      <td>0</td>\n",
       "      <td>0</td>\n",
       "      <td>10</td>\n",
       "      <td>250</td>\n",
       "      <td>Kenya</td>\n",
       "      <td>KE</td>\n",
       "      <td>town</td>\n",
       "      <td>0.516667 35.283333</td>\n",
       "      <td>point</td>\n",
       "      <td>Eldoret</td>\n",
       "      <td>Jackline</td>\n",
       "      <td>386.0</td>\n",
       "      <td>[]</td>\n",
       "      <td>2016-10-05</td>\n",
       "      <td>2016-09-05</td>\n",
       "      <td>Services</td>\n",
       "      <td>funded</td>\n",
       "      <td>[{'name': '#Woman Owned Biz'}, {'name': '#Pare...</td>\n",
       "      <td>25000.0</td>\n",
       "      <td>KES</td>\n",
       "      <td>2016-08-17T07:00:00Z</td>\n",
       "      <td>250</td>\n",
       "      <td>[]</td>\n",
       "      <td>shared</td>\n",
       "      <td>0.1</td>\n",
       "      <td>lender</td>\n",
       "      <td>NaN</td>\n",
       "      <td>11</td>\n",
       "      <td>[]</td>\n",
       "      <td>NaN</td>\n",
       "      <td>Dan Kreuger</td>\n",
       "      <td>2283340.0</td>\n",
       "      <td>...</td>\n",
       "      <td>True</td>\n",
       "      <td>[{'iso_code': 'KE', 'region': 'Africa', 'name'...</td>\n",
       "      <td>0.120642</td>\n",
       "      <td>0.0</td>\n",
       "      <td>NaN</td>\n",
       "      <td>7.017031</td>\n",
       "      <td>NaN</td>\n",
       "      <td>1592272</td>\n",
       "      <td>1</td>\n",
       "      <td>21.165398</td>\n",
       "      <td>1948</td>\n",
       "      <td>Kenya ECLOF</td>\n",
       "      <td>40.3</td>\n",
       "      <td>NaN</td>\n",
       "      <td>2.54</td>\n",
       "      <td>2.0</td>\n",
       "      <td>[{'id': 3, 'name': 'Client Voice', 'descriptio...</td>\n",
       "      <td>2014-05-29T13:30:02Z</td>\n",
       "      <td>active</td>\n",
       "      <td>863375</td>\n",
       "      <td>http://www.eclof-kenya.org/</td>\n",
       "      <td>2016-09-05 03:50:06</td>\n",
       "      <td>2016-10-05 03:50:06</td>\n",
       "      <td>2016-09-12 19:11:38</td>\n",
       "      <td>2016-08-17 07:00:00</td>\n",
       "      <td>2016-08-17</td>\n",
       "      <td>2016</td>\n",
       "      <td>1</td>\n",
       "      <td>Female</td>\n",
       "      <td>2</td>\n",
       "      <td>1</td>\n",
       "      <td>1</td>\n",
       "      <td>0</td>\n",
       "      <td>0</td>\n",
       "      <td>0</td>\n",
       "      <td>0</td>\n",
       "      <td>0</td>\n",
       "      <td>0</td>\n",
       "      <td>0</td>\n",
       "      <td>0</td>\n",
       "      <td>0</td>\n",
       "      <td>1</td>\n",
       "      <td>1 years</td>\n",
       "      <td>three children</td>\n",
       "      <td></td>\n",
       "      <td>3.0</td>\n",
       "      <td>NaN</td>\n",
       "      <td>1.0</td>\n",
       "      <td>3.0</td>\n",
       "      <td>(0, 10]</td>\n",
       "    </tr>\n",
       "    <tr>\n",
       "      <th>1532</th>\n",
       "      <td>1532</td>\n",
       "      <td>1532</td>\n",
       "      <td>17609</td>\n",
       "      <td>Tailoring</td>\n",
       "      <td>NaN</td>\n",
       "      <td>False</td>\n",
       "      <td>[{'first_name': 'Kennedy', 'last_name': '', 'g...</td>\n",
       "      <td>NaN</td>\n",
       "      <td>['en']</td>\n",
       "      <td>This is Kennedy, a happily married man and a f...</td>\n",
       "      <td>NaN</td>\n",
       "      <td>NaN</td>\n",
       "      <td>NaN</td>\n",
       "      <td>300</td>\n",
       "      <td>2016-08-20</td>\n",
       "      <td>1128965</td>\n",
       "      <td>2271001</td>\n",
       "      <td>1</td>\n",
       "      <td>0</td>\n",
       "      <td>0</td>\n",
       "      <td>11</td>\n",
       "      <td>300</td>\n",
       "      <td>Kenya</td>\n",
       "      <td>KE</td>\n",
       "      <td>town</td>\n",
       "      <td>1 38</td>\n",
       "      <td>point</td>\n",
       "      <td>Bomet</td>\n",
       "      <td>Kennedy</td>\n",
       "      <td>386.0</td>\n",
       "      <td>[]</td>\n",
       "      <td>2016-09-14</td>\n",
       "      <td>2016-08-15</td>\n",
       "      <td>Services</td>\n",
       "      <td>funded</td>\n",
       "      <td>[{'name': '#First Loan'}, {'name': '#Parent'},...</td>\n",
       "      <td>30000.0</td>\n",
       "      <td>KES</td>\n",
       "      <td>2016-07-06T07:00:00Z</td>\n",
       "      <td>300</td>\n",
       "      <td>[]</td>\n",
       "      <td>shared</td>\n",
       "      <td>0.1</td>\n",
       "      <td>lender</td>\n",
       "      <td>NaN</td>\n",
       "      <td>8</td>\n",
       "      <td>[]</td>\n",
       "      <td>NaN</td>\n",
       "      <td>NaN</td>\n",
       "      <td>NaN</td>\n",
       "      <td>...</td>\n",
       "      <td>True</td>\n",
       "      <td>[{'iso_code': 'KE', 'region': 'Africa', 'name'...</td>\n",
       "      <td>0.120642</td>\n",
       "      <td>0.0</td>\n",
       "      <td>NaN</td>\n",
       "      <td>7.017031</td>\n",
       "      <td>NaN</td>\n",
       "      <td>1592272</td>\n",
       "      <td>1</td>\n",
       "      <td>21.165398</td>\n",
       "      <td>1948</td>\n",
       "      <td>Kenya ECLOF</td>\n",
       "      <td>40.3</td>\n",
       "      <td>NaN</td>\n",
       "      <td>2.54</td>\n",
       "      <td>2.0</td>\n",
       "      <td>[{'id': 3, 'name': 'Client Voice', 'descriptio...</td>\n",
       "      <td>2014-05-29T13:30:02Z</td>\n",
       "      <td>active</td>\n",
       "      <td>863375</td>\n",
       "      <td>http://www.eclof-kenya.org/</td>\n",
       "      <td>2016-08-15 05:20:02</td>\n",
       "      <td>2016-09-14 05:20:02</td>\n",
       "      <td>2016-08-20 18:51:46</td>\n",
       "      <td>2016-07-06 07:00:00</td>\n",
       "      <td>2016-07-06</td>\n",
       "      <td>2016</td>\n",
       "      <td>1</td>\n",
       "      <td>Male</td>\n",
       "      <td>3</td>\n",
       "      <td>0</td>\n",
       "      <td>1</td>\n",
       "      <td>0</td>\n",
       "      <td>0</td>\n",
       "      <td>1</td>\n",
       "      <td>0</td>\n",
       "      <td>0</td>\n",
       "      <td>0</td>\n",
       "      <td>0</td>\n",
       "      <td>0</td>\n",
       "      <td>0</td>\n",
       "      <td>1</td>\n",
       "      <td>1 years</td>\n",
       "      <td>three children</td>\n",
       "      <td></td>\n",
       "      <td>3.0</td>\n",
       "      <td>NaN</td>\n",
       "      <td>1.0</td>\n",
       "      <td>3.0</td>\n",
       "      <td>(0, 10]</td>\n",
       "    </tr>\n",
       "  </tbody>\n",
       "</table>\n",
       "<p>5 rows × 107 columns</p>\n",
       "</div>"
      ],
      "text/plain": [
       "      Unnamed: 0  Unnamed: 0.1  Unnamed: 0.1.1              activity  \\\n",
       "114          114           114            1710   Fruits & Vegetables   \n",
       "618          618           618            7903  Motorcycle Transport   \n",
       "660          660           660            8702          Animal Sales   \n",
       "1339        1339          1339           16496             Tailoring   \n",
       "1532        1532          1532           17609             Tailoring   \n",
       "\n",
       "      basket_amount  bonus_credit_eligibility  \\\n",
       "114             0.0                     False   \n",
       "618             NaN                     False   \n",
       "660             NaN                     False   \n",
       "1339            NaN                     False   \n",
       "1532            NaN                     False   \n",
       "\n",
       "                                              borrowers  \\\n",
       "114   [{'first_name': 'Joseph', 'last_name': '', 'ge...   \n",
       "618   [{'first_name': 'Christopher', 'last_name': ''...   \n",
       "660   [{'first_name': 'Ntalamer', 'last_name': '', '...   \n",
       "1339  [{'first_name': 'Jackline', 'last_name': '', '...   \n",
       "1532  [{'first_name': 'Kennedy', 'last_name': '', 'g...   \n",
       "\n",
       "      currency_exchange_loss_amount description.languages  \\\n",
       "114                             NaN                ['en']   \n",
       "618                             NaN                ['en']   \n",
       "660                             NaN                ['en']   \n",
       "1339                            NaN                ['en']   \n",
       "1532                            NaN                ['en']   \n",
       "\n",
       "                                   description.texts.en description.texts.es  \\\n",
       "114   Joseph is a 30-year-old man and is happily mar...                  NaN   \n",
       "618   Christopher is a happily married man and they ...                  NaN   \n",
       "660   This is Ntalamer, who is married with two chil...                  NaN   \n",
       "1339  Jackline is a happily married woman and a moth...                  NaN   \n",
       "1532  This is Kennedy, a happily married man and a f...                  NaN   \n",
       "\n",
       "     description.texts.fr description.texts.ru  funded_amount funded_date  \\\n",
       "114                   NaN                  NaN              0         NaN   \n",
       "618                   NaN                  NaN            400  2017-02-07   \n",
       "660                   NaN                  NaN            300         NaN   \n",
       "1339                  NaN                  NaN            250  2016-09-12   \n",
       "1532                  NaN                  NaN            300  2016-08-20   \n",
       "\n",
       "           id  image.id  image.template_id  journal_totals.bulkEntries  \\\n",
       "114   1275366   2494142                  1                           0   \n",
       "618   1221313   2418226                  1                           0   \n",
       "660   1215911   2409165                  1                           0   \n",
       "1339  1139722   2287997                  1                           0   \n",
       "1532  1128965   2271001                  1                           0   \n",
       "\n",
       "      journal_totals.entries  lender_count  loan_amount location.country  \\\n",
       "114                        0             0          450            Kenya   \n",
       "618                        0             5          400            Kenya   \n",
       "660                        0            12          500            Kenya   \n",
       "1339                       0            10          250            Kenya   \n",
       "1532                       0            11          300            Kenya   \n",
       "\n",
       "     location.country_code location.geo.level  location.geo.pairs  \\\n",
       "114                     KE               town  0.516667 36.866667   \n",
       "618                     KE               town  0.516667 35.283333   \n",
       "660                     KE               town  0.516667 36.866667   \n",
       "1339                    KE               town  0.516667 35.283333   \n",
       "1532                    KE               town                1 38   \n",
       "\n",
       "     location.geo.type location.town         name  partner_id payments  \\\n",
       "114              point         Narok       Joseph       386.0       []   \n",
       "618              point       Eldoret  Christopher       386.0       []   \n",
       "660              point         Narok     Ntalamer       386.0       []   \n",
       "1339             point       Eldoret     Jackline       386.0       []   \n",
       "1532             point         Bomet      Kennedy       386.0       []   \n",
       "\n",
       "     planned_expiration_date posted_date          sector       status  \\\n",
       "114               2017-05-16  2017-04-16            Food  fundraising   \n",
       "618               2017-02-16  2017-01-17  Transportation       funded   \n",
       "660               2017-02-05  2017-01-06     Agriculture      expired   \n",
       "1339              2016-10-05  2016-09-05        Services       funded   \n",
       "1532              2016-09-14  2016-08-15        Services       funded   \n",
       "\n",
       "                                                   tags  \\\n",
       "114   [{'name': '#Vegan'}, {'name': '#Parent'}, {'na...   \n",
       "618   [{'name': 'user_favorite'}, {'name': '#First L...   \n",
       "660         [{'name': '#Animals'}, {'name': '#Parent'}]   \n",
       "1339  [{'name': '#Woman Owned Biz'}, {'name': '#Pare...   \n",
       "1532  [{'name': '#First Loan'}, {'name': '#Parent'},...   \n",
       "\n",
       "      terms.disbursal_amount terms.disbursal_currency  terms.disbursal_date  \\\n",
       "114                  45000.0                      KES  2017-03-08T08:00:00Z   \n",
       "618                  40000.0                      KES  2016-12-28T08:00:00Z   \n",
       "660                  50000.0                      KES  2016-12-06T08:00:00Z   \n",
       "1339                 25000.0                      KES  2016-08-17T07:00:00Z   \n",
       "1532                 30000.0                      KES  2016-07-06T07:00:00Z   \n",
       "\n",
       "      terms.loan_amount                               terms.local_payments  \\\n",
       "114                 450  [{'due_date': '2017-04-12T07:00:00Z', 'amount'...   \n",
       "618                 400                                                 []   \n",
       "660                 500                                                 []   \n",
       "1339                250                                                 []   \n",
       "1532                300                                                 []   \n",
       "\n",
       "     terms.loss_liability.currency_exchange  \\\n",
       "114                                  shared   \n",
       "618                                  shared   \n",
       "660                                  shared   \n",
       "1339                                 shared   \n",
       "1532                                 shared   \n",
       "\n",
       "      terms.loss_liability.currency_exchange_coverage_rate  \\\n",
       "114                                                 0.1      \n",
       "618                                                 0.1      \n",
       "660                                                 0.1      \n",
       "1339                                                0.1      \n",
       "1532                                                0.1      \n",
       "\n",
       "     terms.loss_liability.nonpayment terms.repayment_interval  \\\n",
       "114                           lender                  Monthly   \n",
       "618                           lender                      NaN   \n",
       "660                           lender                      NaN   \n",
       "1339                          lender                      NaN   \n",
       "1532                          lender                      NaN   \n",
       "\n",
       "      terms.repayment_term                           terms.scheduled_payments  \\\n",
       "114                     14  [{'due_date': '2017-07-01T07:00:00Z', 'amount'...   \n",
       "618                     11                                                 []   \n",
       "660                     10                                                 []   \n",
       "1339                    11                                                 []   \n",
       "1532                     8                                                 []   \n",
       "\n",
       "     themes translator.byline  translator.image    ...      \\\n",
       "114     NaN  Christine  Haiss         1251749.0    ...       \n",
       "618     NaN        Tim Gibson         1632475.0    ...       \n",
       "660     NaN    Katie Bradshaw         1722852.0    ...       \n",
       "1339    NaN       Dan Kreuger         2283340.0    ...       \n",
       "1532    NaN               NaN               NaN    ...       \n",
       "\n",
       "     partner_charges_fees_and_interest  \\\n",
       "114                               True   \n",
       "618                               True   \n",
       "660                               True   \n",
       "1339                              True   \n",
       "1532                              True   \n",
       "\n",
       "                                      partner_countries  \\\n",
       "114   [{'iso_code': 'KE', 'region': 'Africa', 'name'...   \n",
       "618   [{'iso_code': 'KE', 'region': 'Africa', 'name'...   \n",
       "660   [{'iso_code': 'KE', 'region': 'Africa', 'name'...   \n",
       "1339  [{'iso_code': 'KE', 'region': 'Africa', 'name'...   \n",
       "1532  [{'iso_code': 'KE', 'region': 'Africa', 'name'...   \n",
       "\n",
       "      partner_currency_exchange_loss_rate partner_default_rate  \\\n",
       "114                              0.120642                  0.0   \n",
       "618                              0.120642                  0.0   \n",
       "660                              0.120642                  0.0   \n",
       "1339                             0.120642                  0.0   \n",
       "1532                             0.120642                  0.0   \n",
       "\n",
       "     partner_default_rate_note  partner_delinquency_rate  \\\n",
       "114                        NaN                  7.017031   \n",
       "618                        NaN                  7.017031   \n",
       "660                        NaN                  7.017031   \n",
       "1339                       NaN                  7.017031   \n",
       "1532                       NaN                  7.017031   \n",
       "\n",
       "      partner_delinquency_rate_note  partner_image.id  \\\n",
       "114                             NaN           1592272   \n",
       "618                             NaN           1592272   \n",
       "660                             NaN           1592272   \n",
       "1339                            NaN           1592272   \n",
       "1532                            NaN           1592272   \n",
       "\n",
       "     partner_image.template_id  partner_loans_at_risk_rate  \\\n",
       "114                          1                   21.165398   \n",
       "618                          1                   21.165398   \n",
       "660                          1                   21.165398   \n",
       "1339                         1                   21.165398   \n",
       "1532                         1                   21.165398   \n",
       "\n",
       "      partner_loans_posted  partner_name  partner_portfolio_yield  \\\n",
       "114                   1948   Kenya ECLOF                     40.3   \n",
       "618                   1948   Kenya ECLOF                     40.3   \n",
       "660                   1948   Kenya ECLOF                     40.3   \n",
       "1339                  1948   Kenya ECLOF                     40.3   \n",
       "1532                  1948   Kenya ECLOF                     40.3   \n",
       "\n",
       "      partner_portfolio_yield_note  partner_profitability  partner_rating  \\\n",
       "114                            NaN                   2.54             2.0   \n",
       "618                            NaN                   2.54             2.0   \n",
       "660                            NaN                   2.54             2.0   \n",
       "1339                           NaN                   2.54             2.0   \n",
       "1532                           NaN                   2.54             2.0   \n",
       "\n",
       "                   partner_social_performance_strengths    partner_start_date  \\\n",
       "114   [{'id': 3, 'name': 'Client Voice', 'descriptio...  2014-05-29T13:30:02Z   \n",
       "618   [{'id': 3, 'name': 'Client Voice', 'descriptio...  2014-05-29T13:30:02Z   \n",
       "660   [{'id': 3, 'name': 'Client Voice', 'descriptio...  2014-05-29T13:30:02Z   \n",
       "1339  [{'id': 3, 'name': 'Client Voice', 'descriptio...  2014-05-29T13:30:02Z   \n",
       "1532  [{'id': 3, 'name': 'Client Voice', 'descriptio...  2014-05-29T13:30:02Z   \n",
       "\n",
       "     partner_status  partner_total_amount_raised                  partner_url  \\\n",
       "114          active                       863375  http://www.eclof-kenya.org/   \n",
       "618          active                       863375  http://www.eclof-kenya.org/   \n",
       "660          active                       863375  http://www.eclof-kenya.org/   \n",
       "1339         active                       863375  http://www.eclof-kenya.org/   \n",
       "1532         active                       863375  http://www.eclof-kenya.org/   \n",
       "\n",
       "          posted_datetime planned_expiration_datetime      funded_datetime  \\\n",
       "114   2017-04-16 13:50:07         2017-05-16 13:50:07                  NaN   \n",
       "618   2017-01-17 11:30:05         2017-02-16 11:30:05  2017-02-07 11:30:49   \n",
       "660   2017-01-06 16:30:04         2017-02-05 16:30:04                  NaN   \n",
       "1339  2016-09-05 03:50:06         2016-10-05 03:50:06  2016-09-12 19:11:38   \n",
       "1532  2016-08-15 05:20:02         2016-09-14 05:20:02  2016-08-20 18:51:46   \n",
       "\n",
       "       dispursal_datetime dispersal_date  posted_year number_of_loans  gender  \\\n",
       "114   2017-03-08 08:00:00     2017-03-08         2017               1    Male   \n",
       "618   2016-12-28 08:00:00     2016-12-28         2017               1    Male   \n",
       "660   2016-12-06 08:00:00     2016-12-06         2017               1    Male   \n",
       "1339  2016-08-17 07:00:00     2016-08-17         2016               1  Female   \n",
       "1532  2016-07-06 07:00:00     2016-07-06         2016               1    Male   \n",
       "\n",
       "     num_tags tag_#Woman Owned Biz tag_#Parent tag_user_favorite  \\\n",
       "114         2                    0           1                 0   \n",
       "618         3                    0           1                 1   \n",
       "660         1                    0           1                 0   \n",
       "1339        2                    1           1                 0   \n",
       "1532        3                    0           1                 0   \n",
       "\n",
       "      tag_#Repeat Borrower  tag_#Schooling tag_volunteer_pick  tag_#Vegan  \\\n",
       "114                      1               0                  0           1   \n",
       "618                      0               0                  0           0   \n",
       "660                      0               0                  0           0   \n",
       "1339                     0               0                  0           0   \n",
       "1532                     0               1                  0           0   \n",
       "\n",
       "      tag_volunteer_like  tag_#Animals  tag_#Eco-friendly  tag_#Technology  \\\n",
       "114                    0             0                  0                0   \n",
       "618                    0             0                  0                0   \n",
       "660                    0             1                  0                0   \n",
       "1339                   0             0                  0                0   \n",
       "1532                   0             0                  0                0   \n",
       "\n",
       "      married      age      children_1  children_2  children_int_1  \\\n",
       "114         1  1 years    two children                         2.0   \n",
       "618         1  1 years                  4 children             NaN   \n",
       "660         1  1 years    two children                         2.0   \n",
       "1339        1  1 years  three children                         3.0   \n",
       "1532        1  1 years  three children                         3.0   \n",
       "\n",
       "      children_int_2  age_int  children_int age_bucket  \n",
       "114              NaN      1.0           2.0    (0, 10]  \n",
       "618              4.0      1.0           4.0    (0, 10]  \n",
       "660              NaN      1.0           2.0    (0, 10]  \n",
       "1339             NaN      1.0           3.0    (0, 10]  \n",
       "1532             NaN      1.0           3.0    (0, 10]  \n",
       "\n",
       "[5 rows x 107 columns]"
      ]
     },
     "execution_count": 60,
     "metadata": {},
     "output_type": "execute_result"
    }
   ],
   "source": [
    "df[df['age_int']< 2].head()"
   ]
  },
  {
   "cell_type": "markdown",
   "metadata": {},
   "source": [
    "The data tells us that many people are not reporting their own age, but in fact are telling us about their young children. This reveals a big data integrity problem - the feature age_int is not what we thought it was. This raises the question of how many people reported their own age in the first place. \n",
    "\n",
    "One way to address this is to conservatively only look at observations where the age is more than 20. We do this below by starting at bins at 20."
   ]
  },
  {
   "cell_type": "code",
   "execution_count": 61,
   "metadata": {
    "collapsed": true
   },
   "outputs": [],
   "source": [
    "mybins =range(20, 90, 10)\n",
    "df['age_bucket'] = pd.cut(df['age_int'], bins=mybins)\n",
    "##df['age_bucket'].value_counts()"
   ]
  },
  {
   "cell_type": "code",
   "execution_count": 62,
   "metadata": {},
   "outputs": [
    {
     "data": {
      "text/plain": [
       "<matplotlib.axes._subplots.AxesSubplot at 0x139d6e780>"
      ]
     },
     "execution_count": 62,
     "metadata": {},
     "output_type": "execute_result"
    },
    {
     "data": {
      "image/png": "[encoded data removed]",
      "text/plain": [
       "<matplotlib.figure.Figure at 0x139d78e80>"
      ]
     },
     "metadata": {},
     "output_type": "display_data"
    }
   ],
   "source": [
    "df[df['borrower_count'] == 1].groupby('age_bucket')['loan_amount'].mean().plot(kind=\"bar\", title=\"Average Loan Amount By Gender\")"
   ]
  },
  {
   "cell_type": "markdown",
   "metadata": {},
   "source": [
    "Unfortunately, it did not improve the relationship. While 70-80 year olds appear to be requesting larger loans on avg it is very similar amounts for all other ages. But don't despair!\n",
    "\n",
    "Again, meeting dead ends in feature engineering is a perfectly normal part of developing a model. We included all these weaker feature explorations so you can understand that even experienced data scientists try a lot of things that are not successful. \n",
    "\n",
    "The best way to build a successful model is to iterate quickly and not get stuck when a feature doesn't work out."
   ]
  },
  {
   "cell_type": "code",
   "execution_count": 63,
   "metadata": {},
   "outputs": [
    {
     "data": {
      "text/plain": [
       "<matplotlib.figure.Figure at 0x139d78240>"
      ]
     },
     "execution_count": 63,
     "metadata": {},
     "output_type": "execute_result"
    },
    {
     "data": {
      "text/plain": [
       "<matplotlib.figure.Figure at 0x139d78240>"
      ]
     },
     "metadata": {},
     "output_type": "display_data"
    },
    {
     "data": {
      "image/png": "[encoded data removed]",
      "text/plain": [
       "<matplotlib.figure.Figure at 0x11e42f550>"
      ]
     },
     "metadata": {},
     "output_type": "display_data"
    }
   ],
   "source": [
    "plt.figure(figsize=(8, 20))\n",
    "\n",
    "sns.set_context(\"paper\", font_scale=1.1, rc={\"lines.linewidth\": 1.1})\n",
    "\n",
    "g=sns.factorplot(x=\"age_bucket\", y=\"loan_amount\", hue=\"gender\", palette=\"Set3\", data=df[df['loan_amount']<2000], kind=\"box\",orient=\"v\", size=8, aspect=1)"
   ]
  },
  {
   "cell_type": "markdown",
   "metadata": {},
   "source": [
    "The last thing we do is fill in empty age with the mean."
   ]
  },
  {
   "cell_type": "code",
   "execution_count": 64,
   "metadata": {
    "collapsed": true
   },
   "outputs": [],
   "source": [
    "df['age_int']=df['age_int'].fillna(df['age_int'].mean())"
   ]
  },
  {
   "cell_type": "markdown",
   "metadata": {},
   "source": [
    "## Repeat Borrowers"
   ]
  },
  {
   "cell_type": "markdown",
   "metadata": {},
   "source": [
    "## Location"
   ]
  },
  {
   "cell_type": "markdown",
   "metadata": {},
   "source": [
    "## IMPORTANT, this is a fairly computationally piece of code. You may have to re-run the location match because the api sometimes break. Please save your dataframe as soon as it is done so you do not have to run it again."
   ]
  },
  {
   "cell_type": "markdown",
   "metadata": {},
   "source": [
    "Location is probably very predictive of loan amount because of differences in the cost of living and the type of sector concentrated in different regions. However, our current data is really messy! There is an issue with of geo-coordinates field where most coordinates are from a single location. Instead, we have to rely on location.town but this appears to be entered by hand and there are many spelling mistakes, variations of the same entry that prevent us from aggregating this data in a useful way. In order to use location, we somehow need to pull the province or county associated with each town. To do this we turn to the Google Geocode API. "
   ]
  },
  {
   "cell_type": "markdown",
   "metadata": {},
   "source": [
    "The api is very sensitive to how clean (standardized) the input is. Because our location field appears to be a non standardized field (it is the result of data written by hand), we have a lot of cleaning to do before we can call the api. However, even after this cleaning the api call tends to break frequently so we set up a recursive function, which means if there is an exception because of the quality of text or because the internet is weak, it calls the function again."
   ]
  },
  {
   "cell_type": "code",
   "execution_count": 65,
   "metadata": {},
   "outputs": [
    {
     "data": {
      "text/plain": [
       "1204"
      ]
     },
     "execution_count": 65,
     "metadata": {},
     "output_type": "execute_result"
    }
   ],
   "source": [
    "df['location']=df['location.town'].astype(str).map(lambda x: re.sub(r'[^a-zA-Z0-9 ]',r'',x).lower().rstrip().lstrip())\n",
    "df['location']=df['location'].map(lambda x: re.sub(r'kenya', r'', x))\n",
    "df['location']=df['location'].map(lambda x: re.sub(r' +', r' ', x))\n",
    "\n",
    "df['location']=df['location'] + ' ' + 'kenya'\n",
    "\n",
    "unique_location = df['location'].unique()\n",
    "unique_location.sort()\n",
    "len(unique_location)"
   ]
  },
  {
   "cell_type": "code",
   "execution_count": 66,
   "metadata": {
    "collapsed": true
   },
   "outputs": [],
   "source": [
    "lookup={}\n",
    "geolocator = Nominatim()\n",
    "\n",
    "def location_match(unique_location, lookup):\n",
    "    #creates empty dictionary\n",
    "    y=0\n",
    "    print(len(unique_location))\n",
    "    for x in unique_location:\n",
    "        if x in lookup.keys():\n",
    "            print ('already added, pct complete %d' % (100.00*y/len(unique_location)))\n",
    "        else:\n",
    "            print ('adding %s, %d out of %d, pct complete %d' % (x, y, len(unique_location), 100.00*y/len(unique_location)))\n",
    "            try:\n",
    "                lookup[x]=geolocator.geocode(x, timeout=10)\n",
    "            except GeocoderTimedOut:\n",
    "                return location_match(unique_location, lookup)\n",
    "                return lookup\n",
    "        y=y+1\n",
    "            \n",
    "    return lookup"
   ]
  },
  {
   "cell_type": "code",
   "execution_count": 67,
   "metadata": {},
   "outputs": [
    {
     "name": "stdout",
     "output_type": "stream",
     "text": [
      "1204\n",
      "adding aa estate nairobi kenya, 0 out of 1204, pct complete 0\n",
      "adding aa kenya, 1 out of 1204, pct complete 0\n",
      "adding adongosi teso kenya, 2 out of 1204, pct complete 0\n",
      "adding adumai moding division teso district kenya, 3 out of 1204, pct complete 0\n",
      "adding ahero kenya, 4 out of 1204, pct complete 0\n",
      "adding akiliametteso district kenya, 5 out of 1204, pct complete 0\n",
      "adding akites chakol division teso district kenya, 6 out of 1204, pct complete 0\n",
      "adding aldina jomvu kenya, 7 out of 1204, pct complete 0\n",
      "adding aldinajomvu  kenya, 8 out of 1204, pct complete 0\n",
      "adding aldinajomvu kenya, 9 out of 1204, pct complete 0\n",
      "adding amagoro teso district kenya, 10 out of 1204, pct complete 0\n",
      "adding amagoroteso district kenya, 11 out of 1204, pct complete 0\n",
      "adding amalemba kakamega kenya, 12 out of 1204, pct complete 0\n",
      "adding amoyo central migori kenya, 13 out of 1204, pct complete 1\n",
      "adding angawa avenue kisumu city kenya, 14 out of 1204, pct complete 1\n",
      "adding angurai teso  kenya, 15 out of 1204, pct complete 1\n",
      "adding angurai teso district kenya, 16 out of 1204, pct complete 1\n",
      "adding aroshomigori kenya, 17 out of 1204, pct complete 1\n",
      "adding arroi kenya, 18 out of 1204, pct complete 1\n",
      "adding asmin kenya, 19 out of 1204, pct complete 1\n",
      "adding athi river kenya, 20 out of 1204, pct complete 1\n",
      "adding athi river town kenya, 21 out of 1204, pct complete 1\n",
      "adding awasi kenya, 22 out of 1204, pct complete 1\n",
      "adding awendo kenya, 23 out of 1204, pct complete 1\n",
      "adding awendomigori kenya, 24 out of 1204, pct complete 1\n",
      "adding baba dogo kenya, 25 out of 1204, pct complete 2\n",
      "adding baba ndogo nairobi kenya, 26 out of 1204, pct complete 2\n",
      "adding babadogonairobi kenya, 27 out of 1204, pct complete 2\n",
      "adding bahati mombasa kenya, 28 out of 1204, pct complete 2\n",
      "adding bahati nairobi kenya, 29 out of 1204, pct complete 2\n",
      "adding bakarani kenya, 30 out of 1204, pct complete 2\n",
      "adding bakarani mombasa kenya, 31 out of 1204, pct complete 2\n",
      "adding balozi nairobi kenya, 32 out of 1204, pct complete 2\n",
      "adding bamba kenya, 33 out of 1204, pct complete 2\n",
      "adding bamba kilifi kenya, 34 out of 1204, pct complete 2\n",
      "adding bamburi mombasa kenya, 35 out of 1204, pct complete 2\n",
      "adding banana kenya, 36 out of 1204, pct complete 2\n",
      "adding bandari kenya, 37 out of 1204, pct complete 3\n",
      "adding bara inya nyandarua kenya, 38 out of 1204, pct complete 3\n",
      "adding baraka kenya, 39 out of 1204, pct complete 3\n",
      "adding barazani emali kenya, 40 out of 1204, pct complete 3\n",
      "adding barsheba mombasa kenya, 41 out of 1204, pct complete 3\n",
      "adding barwesa baringo county kenya, 42 out of 1204, pct complete 3\n",
      "adding bathiilimuru kenya, 43 out of 1204, pct complete 3\n",
      "adding bidii kenya, 44 out of 1204, pct complete 3\n",
      "adding bissilkajiado kenya, 45 out of 1204, pct complete 3\n",
      "adding bombo mombasa kenya, 46 out of 1204, pct complete 3\n",
      "adding bombolulukisimani mombasa kenya, 47 out of 1204, pct complete 3\n",
      "adding bomet kenya, 48 out of 1204, pct complete 3\n",
      "adding bomet narok kenya, 49 out of 1204, pct complete 4\n",
      "adding bondeni estatekakamega kenya, 50 out of 1204, pct complete 4\n",
      "adding bondeni kenya, 51 out of 1204, pct complete 4\n",
      "adding bondenikakamega kenya, 52 out of 1204, pct complete 4\n",
      "adding bondo kenya, 53 out of 1204, pct complete 4\n",
      "adding bonjoge kapsabet kenya, 54 out of 1204, pct complete 4\n",
      "adding boyani kenya, 55 out of 1204, pct complete 4\n",
      "adding bugumbe west maberamigori kenya, 56 out of 1204, pct complete 4\n",
      "adding bugumbe westmigori kenya, 57 out of 1204, pct complete 4\n",
      "adding bukembebungoma district kenya, 58 out of 1204, pct complete 4\n",
      "adding bukenyekakamega kenya, 59 out of 1204, pct complete 4\n",
      "adding bukhungu vihiga kenya, 60 out of 1204, pct complete 4\n",
      "adding bukira  kenya, 61 out of 1204, pct complete 5\n",
      "adding bulo kisimani mombasa kenya, 62 out of 1204, pct complete 5\n",
      "adding bumula bungoma kenya, 63 out of 1204, pct complete 5\n",
      "adding bungoma kenya, 64 out of 1204, pct complete 5\n",
      "adding bungoma south kenya, 65 out of 1204, pct complete 5\n",
      "adding bungoma town bungoma district kenya, 66 out of 1204, pct complete 5\n",
      "adding bungoma west kenya, 67 out of 1204, pct complete 5\n",
      "adding bungu kenya, 68 out of 1204, pct complete 5\n",
      "adding buruburu kenya, 69 out of 1204, pct complete 5\n",
      "adding buruburu nairobi kenya, 70 out of 1204, pct complete 5\n",
      "adding busia kenya, 71 out of 1204, pct complete 5\n",
      "adding butere kenya, 72 out of 1204, pct complete 5\n",
      "adding buxton mombasa kenya, 73 out of 1204, pct complete 6\n",
      "adding bwagamoyo kenya, 74 out of 1204, pct complete 6\n",
      "adding bware kenya, 75 out of 1204, pct complete 6\n",
      "adding califonia eastleigh kenya, 76 out of 1204, pct complete 6\n",
      "adding califonia kangemi kenya, 77 out of 1204, pct complete 6\n",
      "adding cambodiachangamwe mombasa kenya, 78 out of 1204, pct complete 6\n",
      "adding capenesa kisumu city kenya, 79 out of 1204, pct complete 6\n",
      "adding cbdnairobi kenya, 80 out of 1204, pct complete 6\n",
      "adding central maragoli kakamega kenya, 81 out of 1204, pct complete 6\n",
      "adding chaani mombasa kenya, 82 out of 1204, pct complete 6\n",
      "adding champion kenya, 83 out of 1204, pct complete 6\n",
      "adding chamunyu mombasa kenya, 84 out of 1204, pct complete 6\n",
      "adding changamka kenya, 85 out of 1204, pct complete 7\n",
      "adding changamwe kenya, 86 out of 1204, pct complete 7\n",
      "adding changamwe mombasa kenya, 87 out of 1204, pct complete 7\n",
      "adding chanukeni kenya, 88 out of 1204, pct complete 7\n",
      "adding charo mae kilifi kenya, 89 out of 1204, pct complete 7\n",
      "adding chasimba kenya, 90 out of 1204, pct complete 7\n",
      "adding chavakalivihiga kenya, 91 out of 1204, pct complete 7\n",
      "adding chavano vihiga kenya, 92 out of 1204, pct complete 7\n",
      "adding chavanovihiga kenya, 93 out of 1204, pct complete 7\n",
      "adding chemasiri teso kenya, 94 out of 1204, pct complete 7\n",
      "adding chemisoikisumu kenya, 95 out of 1204, pct complete 7\n",
      "adding chemundu kapsabet kenya, 96 out of 1204, pct complete 7\n",
      "adding chemusoikisumu kenya, 97 out of 1204, pct complete 8\n",
      "adding chepkongony kapsabetnandi kenya, 98 out of 1204, pct complete 8\n",
      "adding chepkosumeldoret kenya, 99 out of 1204, pct complete 8\n",
      "adding chepkumia kakamega kenya, 100 out of 1204, pct complete 8\n",
      "adding chepsigot kenya, 101 out of 1204, pct complete 8\n",
      "adding chepsonoi kenya, 102 out of 1204, pct complete 8\n",
      "adding chepterit kapsabet kenya, 103 out of 1204, pct complete 8\n",
      "adding chepterit kapsabetnandi kenya, 104 out of 1204, pct complete 8\n",
      "adding cherengani kenya, 105 out of 1204, pct complete 8\n",
      "adding chiga kisumu kenya, 106 out of 1204, pct complete 8\n",
      "adding chipukizi kenya, 107 out of 1204, pct complete 8\n",
      "adding chirahu men kenya, 108 out of 1204, pct complete 8\n",
      "adding chogoria kenya, 109 out of 1204, pct complete 9\n",
      "adding chokaa thika rd kenya, 110 out of 1204, pct complete 9\n",
      "adding chomo thika kenya, 111 out of 1204, pct complete 9\n",
      "adding chomothika kenya, 112 out of 1204, pct complete 9\n",
      "adding chuka kenya, 113 out of 1204, pct complete 9\n",
      "adding chumani kilifi kenya, 114 out of 1204, pct complete 9\n",
      "adding chunga malikikuyu kenya, 115 out of 1204, pct complete 9\n",
      "adding chura kenya, 116 out of 1204, pct complete 9\n",
      "adding chwele kenya, 117 out of 1204, pct complete 9\n",
      "adding city center downtown kenya, 118 out of 1204, pct complete 9\n",
      "adding city centre kenya, 119 out of 1204, pct complete 9\n",
      "adding city stadiumnairobi kenya, 120 out of 1204, pct complete 9\n",
      "adding concodia mombasa kenya, 121 out of 1204, pct complete 10\n",
      "adding cooperation nairobi kenya, 122 out of 1204, pct complete 10\n",
      "adding coorperation gichagi kenya, 123 out of 1204, pct complete 10\n",
      "adding corner legio kisumu kenya, 124 out of 1204, pct complete 10\n",
      "adding corner legiokisumu kenya, 125 out of 1204, pct complete 10\n",
      "adding cross over kisumu town kenya, 126 out of 1204, pct complete 10\n",
      "adding cura kenya, 127 out of 1204, pct complete 10\n",
      "adding curakikuyu kenya, 128 out of 1204, pct complete 10\n",
      "adding dagoreti corner nairobi kenya, 129 out of 1204, pct complete 10\n",
      "adding dagoretti kenya, 130 out of 1204, pct complete 10\n",
      "adding dallas kangemi kenya, 131 out of 1204, pct complete 10\n",
      "adding dandora kenya, 132 out of 1204, pct complete 10\n",
      "adding dandora nairobi kenya, 133 out of 1204, pct complete 11\n",
      "adding darasa thika kenya, 134 out of 1204, pct complete 11\n",
      "adding decided kenya, 135 out of 1204, pct complete 11\n",
      "adding diani kenya, 136 out of 1204, pct complete 11\n"
     ]
    },
    {
     "name": "stdout",
     "output_type": "stream",
     "text": [
      "adding diani mombasa kenya, 137 out of 1204, pct complete 11\n",
      "adding dida kenya, 138 out of 1204, pct complete 11\n",
      "adding docks mombasa  kenya, 139 out of 1204, pct complete 11\n",
      "adding donholm nairobi kenya, 140 out of 1204, pct complete 11\n",
      "adding drivein thika road kenya, 141 out of 1204, pct complete 11\n",
      "adding dunga kisumu kenya, 142 out of 1204, pct complete 11\n",
      "adding dungakisumu kenya, 143 out of 1204, pct complete 11\n",
      "adding dungicha kenya, 144 out of 1204, pct complete 11\n",
      "adding east nairob kenya, 145 out of 1204, pct complete 12\n",
      "adding east nairobi kenya, 146 out of 1204, pct complete 12\n",
      "adding eastland kenya, 147 out of 1204, pct complete 12\n",
      "adding eastlands kenya, 148 out of 1204, pct complete 12\n",
      "adding eastleigh market nairobi kenya, 149 out of 1204, pct complete 12\n",
      "adding eastleigh nairobi kenya, 150 out of 1204, pct complete 12\n",
      "adding ebenezer kenya, 151 out of 1204, pct complete 12\n",
      "adding ekwanda kisumu kenya, 152 out of 1204, pct complete 12\n",
      "adding eldama ravine kenya, 153 out of 1204, pct complete 12\n",
      "adding eldoret kenya, 154 out of 1204, pct complete 12\n",
      "adding eldoret rift valley kenya, 155 out of 1204, pct complete 12\n",
      "adding elimu na maarifa kenya, 156 out of 1204, pct complete 12\n",
      "adding emali kenya, 157 out of 1204, pct complete 13\n",
      "adding embakasi kenya, 158 out of 1204, pct complete 13\n",
      "adding embakasi nairobi kenya, 159 out of 1204, pct complete 13\n",
      "adding embassy kangemi kenya, 160 out of 1204, pct complete 13\n",
      "adding embu kenya, 161 out of 1204, pct complete 13\n",
      "adding embutown kenya, 162 out of 1204, pct complete 13\n",
      "adding empiran kenya, 163 out of 1204, pct complete 13\n",
      "adding emseakabarnet kenya, 164 out of 1204, pct complete 13\n",
      "adding emuhaya kenya, 165 out of 1204, pct complete 13\n",
      "adding engineer kenya, 166 out of 1204, pct complete 13\n",
      "adding enkaroni bissil kenya, 167 out of 1204, pct complete 13\n",
      "adding enkaronikajiado kenya, 168 out of 1204, pct complete 13\n",
      "adding enkasiti kenya, 169 out of 1204, pct complete 14\n",
      "adding enoretet kenya, 170 out of 1204, pct complete 14\n",
      "adding epz kitengela kenya, 171 out of 1204, pct complete 14\n",
      "adding eregi vihiga kenya, 172 out of 1204, pct complete 14\n",
      "adding ewalel baringo county kenya, 173 out of 1204, pct complete 14\n",
      "adding ewaso rongai kenya, 174 out of 1204, pct complete 14\n",
      "adding fadhila kenya, 175 out of 1204, pct complete 14\n",
      "adding faulu kenya, 176 out of 1204, pct complete 14\n",
      "adding funguo kenya, 177 out of 1204, pct complete 14\n",
      "adding furunzimalindi kenya, 178 out of 1204, pct complete 14\n",
      "adding gababa kikuyu kenya, 179 out of 1204, pct complete 14\n",
      "adding gachanjiru maragwa kenya, 180 out of 1204, pct complete 14\n",
      "adding gacuthi kikuyu kenya, 181 out of 1204, pct complete 15\n",
      "adding gaichanjiruthika kenya, 182 out of 1204, pct complete 15\n",
      "adding gaitega thika kenya, 183 out of 1204, pct complete 15\n",
      "adding gana hola mombasa kenya, 184 out of 1204, pct complete 15\n",
      "adding ganjoni mombasa kenya, 185 out of 1204, pct complete 15\n",
      "adding ganze kenya, 186 out of 1204, pct complete 15\n",
      "adding gatakainithika kenya, 187 out of 1204, pct complete 15\n",
      "adding gateithika kenya, 188 out of 1204, pct complete 15\n",
      "adding gathangari kiambu kenya, 189 out of 1204, pct complete 15\n",
      "adding gathiga kenya, 190 out of 1204, pct complete 15\n",
      "adding gathuri thika kenya, 191 out of 1204, pct complete 15\n",
      "adding gathurigatundu kenya, 192 out of 1204, pct complete 15\n",
      "adding gatimu kenya, 193 out of 1204, pct complete 16\n",
      "adding gatitu kenya, 194 out of 1204, pct complete 16\n",
      "adding gattuanyaga thika kenya, 195 out of 1204, pct complete 16\n",
      "adding gatuanyaga thika kenya, 196 out of 1204, pct complete 16\n",
      "adding gatukuyuthika kenya, 197 out of 1204, pct complete 16\n",
      "adding gatunda kenya, 198 out of 1204, pct complete 16\n",
      "adding gatundu kenya, 199 out of 1204, pct complete 16\n",
      "adding gatunyu thika kenya, 200 out of 1204, pct complete 16\n",
      "adding gaturathika kenya, 201 out of 1204, pct complete 16\n",
      "adding gazi kenya, 202 out of 1204, pct complete 16\n",
      "adding gem easthomabay kenya, 203 out of 1204, pct complete 16\n",
      "adding gem west homabay kenya, 204 out of 1204, pct complete 16\n",
      "adding gem westhomabay kenya, 205 out of 1204, pct complete 17\n",
      "adding gharukikuyu kenya, 206 out of 1204, pct complete 17\n",
      "adding giathaini kenya, 207 out of 1204, pct complete 17\n",
      "adding gichagi nairobi kenya, 208 out of 1204, pct complete 17\n",
      "adding gikambura kenya, 209 out of 1204, pct complete 17\n",
      "adding gikomba kenya, 210 out of 1204, pct complete 17\n",
      "adding gikomba market nairobi kenya, 211 out of 1204, pct complete 17\n",
      "adding gikombanairobi kenya, 212 out of 1204, pct complete 17\n",
      "adding gikuni kikuyu kenya, 213 out of 1204, pct complete 17\n",
      "adding gilgil naivasha kenya, 214 out of 1204, pct complete 17\n",
      "adding gisambaykisumu kenya, 215 out of 1204, pct complete 17\n",
      "adding gitarethika kenya, 216 out of 1204, pct complete 17\n",
      "adding gitaru kikuyu kenya, 217 out of 1204, pct complete 18\n",
      "adding gitarukikuyu kenya, 218 out of 1204, pct complete 18\n",
      "adding gitathuru kenya, 219 out of 1204, pct complete 18\n",
      "adding githiga kenya, 220 out of 1204, pct complete 18\n",
      "adding githimathika kenya, 221 out of 1204, pct complete 18\n",
      "adding githumumuranga kenya, 222 out of 1204, pct complete 18\n",
      "adding githunguri kenya, 223 out of 1204, pct complete 18\n",
      "adding githunguri kiambu kenya, 224 out of 1204, pct complete 18\n",
      "adding githurai 44 kenya, 225 out of 1204, pct complete 18\n",
      "adding githurai 44 nairobi  kenya, 226 out of 1204, pct complete 18\n",
      "1204\n",
      "already added, pct complete 0\n",
      "already added, pct complete 0\n",
      "already added, pct complete 0\n",
      "already added, pct complete 0\n",
      "already added, pct complete 0\n",
      "already added, pct complete 0\n",
      "already added, pct complete 0\n",
      "already added, pct complete 0\n",
      "already added, pct complete 0\n",
      "already added, pct complete 0\n",
      "already added, pct complete 0\n",
      "already added, pct complete 0\n",
      "already added, pct complete 0\n",
      "already added, pct complete 1\n",
      "already added, pct complete 1\n",
      "already added, pct complete 1\n",
      "already added, pct complete 1\n",
      "already added, pct complete 1\n",
      "already added, pct complete 1\n",
      "already added, pct complete 1\n",
      "already added, pct complete 1\n",
      "already added, pct complete 1\n",
      "already added, pct complete 1\n",
      "already added, pct complete 1\n",
      "already added, pct complete 1\n",
      "already added, pct complete 2\n",
      "already added, pct complete 2\n",
      "already added, pct complete 2\n",
      "already added, pct complete 2\n",
      "already added, pct complete 2\n",
      "already added, pct complete 2\n",
      "already added, pct complete 2\n",
      "already added, pct complete 2\n",
      "already added, pct complete 2\n",
      "already added, pct complete 2\n",
      "already added, pct complete 2\n",
      "already added, pct complete 2\n",
      "already added, pct complete 3\n",
      "already added, pct complete 3\n",
      "already added, pct complete 3\n",
      "already added, pct complete 3\n",
      "already added, pct complete 3\n",
      "already added, pct complete 3\n",
      "already added, pct complete 3\n",
      "already added, pct complete 3\n",
      "already added, pct complete 3\n",
      "already added, pct complete 3\n",
      "already added, pct complete 3\n",
      "already added, pct complete 3\n",
      "already added, pct complete 4\n",
      "already added, pct complete 4\n",
      "already added, pct complete 4\n",
      "already added, pct complete 4\n",
      "already added, pct complete 4\n",
      "already added, pct complete 4\n",
      "already added, pct complete 4\n",
      "already added, pct complete 4\n",
      "already added, pct complete 4\n",
      "already added, pct complete 4\n",
      "already added, pct complete 4\n",
      "already added, pct complete 4\n",
      "already added, pct complete 5\n",
      "already added, pct complete 5\n",
      "already added, pct complete 5\n",
      "already added, pct complete 5\n",
      "already added, pct complete 5\n",
      "already added, pct complete 5\n",
      "already added, pct complete 5\n",
      "already added, pct complete 5\n",
      "already added, pct complete 5\n",
      "already added, pct complete 5\n",
      "already added, pct complete 5\n",
      "already added, pct complete 5\n",
      "already added, pct complete 6\n",
      "already added, pct complete 6\n",
      "already added, pct complete 6\n",
      "already added, pct complete 6\n",
      "already added, pct complete 6\n",
      "already added, pct complete 6\n",
      "already added, pct complete 6\n",
      "already added, pct complete 6\n",
      "already added, pct complete 6\n",
      "already added, pct complete 6\n",
      "already added, pct complete 6\n",
      "already added, pct complete 6\n",
      "already added, pct complete 7\n",
      "already added, pct complete 7\n",
      "already added, pct complete 7\n",
      "already added, pct complete 7\n",
      "already added, pct complete 7\n",
      "already added, pct complete 7\n",
      "already added, pct complete 7\n",
      "already added, pct complete 7\n",
      "already added, pct complete 7\n",
      "already added, pct complete 7\n",
      "already added, pct complete 7\n",
      "already added, pct complete 7\n",
      "already added, pct complete 8\n",
      "already added, pct complete 8\n",
      "already added, pct complete 8\n",
      "already added, pct complete 8\n",
      "already added, pct complete 8\n",
      "already added, pct complete 8\n",
      "already added, pct complete 8\n",
      "already added, pct complete 8\n",
      "already added, pct complete 8\n",
      "already added, pct complete 8\n",
      "already added, pct complete 8\n",
      "already added, pct complete 8\n",
      "already added, pct complete 9\n",
      "already added, pct complete 9\n",
      "already added, pct complete 9\n",
      "already added, pct complete 9\n",
      "already added, pct complete 9\n",
      "already added, pct complete 9\n",
      "already added, pct complete 9\n",
      "already added, pct complete 9\n",
      "already added, pct complete 9\n",
      "already added, pct complete 9\n",
      "already added, pct complete 9\n",
      "already added, pct complete 9\n",
      "already added, pct complete 10\n",
      "already added, pct complete 10\n",
      "already added, pct complete 10\n",
      "already added, pct complete 10\n",
      "already added, pct complete 10\n",
      "already added, pct complete 10\n",
      "already added, pct complete 10\n",
      "already added, pct complete 10\n",
      "already added, pct complete 10\n",
      "already added, pct complete 10\n",
      "already added, pct complete 10\n",
      "already added, pct complete 10\n",
      "already added, pct complete 11\n",
      "already added, pct complete 11\n",
      "already added, pct complete 11\n",
      "already added, pct complete 11\n",
      "already added, pct complete 11\n",
      "already added, pct complete 11\n",
      "already added, pct complete 11\n",
      "already added, pct complete 11\n",
      "already added, pct complete 11\n",
      "already added, pct complete 11\n",
      "already added, pct complete 11\n",
      "already added, pct complete 11\n",
      "already added, pct complete 12\n",
      "already added, pct complete 12\n",
      "already added, pct complete 12\n",
      "already added, pct complete 12\n",
      "already added, pct complete 12\n",
      "already added, pct complete 12\n",
      "already added, pct complete 12\n",
      "already added, pct complete 12\n",
      "already added, pct complete 12\n",
      "already added, pct complete 12\n",
      "already added, pct complete 12\n",
      "already added, pct complete 12\n",
      "already added, pct complete 13\n",
      "already added, pct complete 13\n",
      "already added, pct complete 13\n",
      "already added, pct complete 13\n",
      "already added, pct complete 13\n",
      "already added, pct complete 13\n",
      "already added, pct complete 13\n",
      "already added, pct complete 13\n",
      "already added, pct complete 13\n",
      "already added, pct complete 13\n",
      "already added, pct complete 13\n",
      "already added, pct complete 13\n",
      "already added, pct complete 14\n",
      "already added, pct complete 14\n",
      "already added, pct complete 14\n",
      "already added, pct complete 14\n",
      "already added, pct complete 14\n",
      "already added, pct complete 14\n",
      "already added, pct complete 14\n",
      "already added, pct complete 14\n",
      "already added, pct complete 14\n",
      "already added, pct complete 14\n",
      "already added, pct complete 14\n",
      "already added, pct complete 14\n",
      "already added, pct complete 15\n",
      "already added, pct complete 15\n",
      "already added, pct complete 15\n",
      "already added, pct complete 15\n",
      "already added, pct complete 15\n",
      "already added, pct complete 15\n",
      "already added, pct complete 15\n",
      "already added, pct complete 15\n",
      "already added, pct complete 15\n",
      "already added, pct complete 15\n",
      "already added, pct complete 15\n",
      "already added, pct complete 15\n",
      "already added, pct complete 16\n",
      "already added, pct complete 16\n",
      "already added, pct complete 16\n",
      "already added, pct complete 16\n",
      "already added, pct complete 16\n",
      "already added, pct complete 16\n",
      "already added, pct complete 16\n",
      "already added, pct complete 16\n",
      "already added, pct complete 16\n",
      "already added, pct complete 16\n",
      "already added, pct complete 16\n",
      "already added, pct complete 16\n",
      "already added, pct complete 17\n",
      "already added, pct complete 17\n",
      "already added, pct complete 17\n",
      "already added, pct complete 17\n",
      "already added, pct complete 17\n",
      "already added, pct complete 17\n",
      "already added, pct complete 17\n",
      "already added, pct complete 17\n",
      "already added, pct complete 17\n",
      "already added, pct complete 17\n",
      "already added, pct complete 17\n",
      "already added, pct complete 17\n",
      "already added, pct complete 18\n",
      "already added, pct complete 18\n",
      "already added, pct complete 18\n",
      "already added, pct complete 18\n",
      "already added, pct complete 18\n",
      "already added, pct complete 18\n",
      "already added, pct complete 18\n",
      "already added, pct complete 18\n",
      "already added, pct complete 18\n",
      "adding githurai 44 nairobi  kenya, 226 out of 1204, pct complete 18\n"
     ]
    },
    {
     "name": "stdout",
     "output_type": "stream",
     "text": [
      "adding githurai 45 nairobi kenya, 227 out of 1204, pct complete 18\n",
      "adding githurai kenya, 228 out of 1204, pct complete 18\n",
      "adding githurai kimbo kenya, 229 out of 1204, pct complete 19\n",
      "adding githurai nairobi kenya, 230 out of 1204, pct complete 19\n",
      "adding gitiha kenya, 231 out of 1204, pct complete 19\n",
      "adding gitiha kiambu kenya, 232 out of 1204, pct complete 19\n",
      "adding gituamba thika kenya, 233 out of 1204, pct complete 19\n",
      "adding gitwembe migori kenya, 234 out of 1204, pct complete 19\n",
      "adding givolevihiga kenya, 235 out of 1204, pct complete 19\n",
      "adding gogoni kilifi kenya, 236 out of 1204, pct complete 19\n",
      "adding gomongothika kenya, 237 out of 1204, pct complete 19\n",
      "adding greenfield kenya, 238 out of 1204, pct complete 19\n",
      "adding grogan ngara nairobi kenya, 239 out of 1204, pct complete 19\n",
      "adding grogon nairobi kenya, 240 out of 1204, pct complete 19\n",
      "adding gumbato kenya, 241 out of 1204, pct complete 20\n",
      "adding hakina tabu kenya, 242 out of 1204, pct complete 20\n",
      "adding harambeemumias kenya, 243 out of 1204, pct complete 20\n",
      "adding hiari kenya, 244 out of 1204, pct complete 20\n",
      "adding hindilamu kenya, 245 out of 1204, pct complete 20\n",
      "adding homa bay kenya, 246 out of 1204, pct complete 20\n",
      "adding homabay kenya, 247 out of 1204, pct complete 20\n",
      "adding homeage kenya, 248 out of 1204, pct complete 20\n",
      "adding homebay kenya, 249 out of 1204, pct complete 20\n",
      "adding huntersthika road kenya, 250 out of 1204, pct complete 20\n",
      "adding huruma kenya, 251 out of 1204, pct complete 20\n",
      "adding huruma nairobi kenya, 252 out of 1204, pct complete 20\n",
      "adding huruma ngei ii kenya, 253 out of 1204, pct complete 21\n",
      "adding hurumanairobi kenya, 254 out of 1204, pct complete 21\n",
      "adding ikinu kenya, 255 out of 1204, pct complete 21\n",
      "adding ikinukiambu kenya, 256 out of 1204, pct complete 21\n",
      "adding ikumbi thika kenya, 257 out of 1204, pct complete 21\n",
      "adding ilesi kakamega kenya, 258 out of 1204, pct complete 21\n",
      "adding imara kenya, 259 out of 1204, pct complete 21\n",
      "adding imarika kenya, 260 out of 1204, pct complete 21\n",
      "adding impiro kenya, 261 out of 1204, pct complete 21\n",
      "adding industrial area nairobi kenya, 262 out of 1204, pct complete 21\n",
      "adding industrial areanairobi kenya, 263 out of 1204, pct complete 21\n",
      "adding ingotse kakamega kenya, 264 out of 1204, pct complete 21\n",
      "adding iriani kenya, 265 out of 1204, pct complete 22\n",
      "adding isampinkilgoris kenya, 266 out of 1204, pct complete 22\n",
      "adding ishara kenya, 267 out of 1204, pct complete 22\n",
      "adding isinet kenya, 268 out of 1204, pct complete 22\n",
      "adding isinya kenya, 269 out of 1204, pct complete 22\n",
      "adding isiolo kenya, 270 out of 1204, pct complete 22\n",
      "adding iten kenya, 271 out of 1204, pct complete 22\n",
      "adding iteneldoret kenya, 272 out of 1204, pct complete 22\n",
      "adding ithanga thika kenya, 273 out of 1204, pct complete 22\n",
      "adding itigo kapsabet kenya, 274 out of 1204, pct complete 22\n",
      "adding ivakale vihiga kenya, 275 out of 1204, pct complete 22\n",
      "adding jairos amagoro div teso district keny kenya, 276 out of 1204, pct complete 22\n",
      "adding jairos teso district kenya, 277 out of 1204, pct complete 23\n",
      "adding jaribuni kenya, 278 out of 1204, pct complete 23\n",
      "adding jenga jamii kenya, 279 out of 1204, pct complete 23\n",
      "adding jericho nairobi kenya, 280 out of 1204, pct complete 23\n",
      "adding jerusalem nairobi kenya, 281 out of 1204, pct complete 23\n",
      "adding jitahidi kenya, 282 out of 1204, pct complete 23\n",
      "adding jitoni mombasa kenya, 283 out of 1204, pct complete 23\n",
      "adding jogoo road kenya, 284 out of 1204, pct complete 23\n",
      "adding jomvu mombasa kenya, 285 out of 1204, pct complete 23\n",
      "adding jua kali kenya, 286 out of 1204, pct complete 23\n",
      "adding jubilee market kisumu kenya, 287 out of 1204, pct complete 23\n",
      "adding juhudi kenya, 288 out of 1204, pct complete 23\n",
      "adding juja kenya, 289 out of 1204, pct complete 24\n",
      "adding juja thika kenya, 290 out of 1204, pct complete 24\n",
      "adding jujathika kenya, 291 out of 1204, pct complete 24\n",
      "adding junju kilifi  kenya, 292 out of 1204, pct complete 24\n",
      "adding junju kilifi kenya, 293 out of 1204, pct complete 24\n",
      "adding kabaamatuu kenya, 294 out of 1204, pct complete 24\n",
      "adding kabarnet kenya, 295 out of 1204, pct complete 24\n",
      "adding kabartonjo baringo county kenya, 296 out of 1204, pct complete 24\n",
      "adding kabati kenya, 297 out of 1204, pct complete 24\n",
      "adding kabati matuu kenya, 298 out of 1204, pct complete 24\n",
      "adding kabati thika kenya, 299 out of 1204, pct complete 24\n",
      "adding kabatimatuu kenya, 300 out of 1204, pct complete 24\n",
      "adding kabete kenya, 301 out of 1204, pct complete 25\n",
      "adding kabete nairobi kenya, 302 out of 1204, pct complete 25\n",
      "adding kabimoi eldama ravine kenya, 303 out of 1204, pct complete 25\n",
      "adding kabiria kenya, 304 out of 1204, pct complete 25\n",
      "adding kabisaga kapsabet kenya, 305 out of 1204, pct complete 25\n",
      "adding kabuku limuru kenya, 306 out of 1204, pct complete 25\n",
      "adding kachok kisumu kenya, 307 out of 1204, pct complete 25\n",
      "adding kadem east location migori kenya, 308 out of 1204, pct complete 25\n",
      "adding kaderalwala migori kenya, 309 out of 1204, pct complete 25\n",
      "adding kagaathika kenya, 310 out of 1204, pct complete 25\n",
      "adding kagawa ngong kenya, 311 out of 1204, pct complete 25\n",
      "adding kagiokirinyaga kenya, 312 out of 1204, pct complete 25\n",
      "adding kagujo kenya, 313 out of 1204, pct complete 25\n",
      "adding kagumoembu kenya, 314 out of 1204, pct complete 26\n",
      "adding kagunduinithika kenya, 315 out of 1204, pct complete 26\n",
      "adding kaharatithika kenya, 316 out of 1204, pct complete 26\n",
      "adding kahawa barracks kenya, 317 out of 1204, pct complete 26\n",
      "adding kahawa sukari kenya, 318 out of 1204, pct complete 26\n",
      "adding kahawa wendani kenya, 319 out of 1204, pct complete 26\n",
      "adding kahawa west kenya, 320 out of 1204, pct complete 26\n",
      "adding kahawa westnairobi kenya, 321 out of 1204, pct complete 26\n",
      "adding kahuho kenya, 322 out of 1204, pct complete 26\n",
      "adding kaiboi kenya, 323 out of 1204, pct complete 26\n",
      "1204\n",
      "already added, pct complete 0\n",
      "already added, pct complete 0\n",
      "already added, pct complete 0\n",
      "already added, pct complete 0\n",
      "already added, pct complete 0\n",
      "already added, pct complete 0\n",
      "already added, pct complete 0\n",
      "already added, pct complete 0\n",
      "already added, pct complete 0\n",
      "already added, pct complete 0\n",
      "already added, pct complete 0\n",
      "already added, pct complete 0\n",
      "already added, pct complete 0\n",
      "already added, pct complete 1\n",
      "already added, pct complete 1\n",
      "already added, pct complete 1\n",
      "already added, pct complete 1\n",
      "already added, pct complete 1\n",
      "already added, pct complete 1\n",
      "already added, pct complete 1\n",
      "already added, pct complete 1\n",
      "already added, pct complete 1\n",
      "already added, pct complete 1\n",
      "already added, pct complete 1\n",
      "already added, pct complete 1\n",
      "already added, pct complete 2\n",
      "already added, pct complete 2\n",
      "already added, pct complete 2\n",
      "already added, pct complete 2\n",
      "already added, pct complete 2\n",
      "already added, pct complete 2\n",
      "already added, pct complete 2\n",
      "already added, pct complete 2\n",
      "already added, pct complete 2\n",
      "already added, pct complete 2\n",
      "already added, pct complete 2\n",
      "already added, pct complete 2\n",
      "already added, pct complete 3\n",
      "already added, pct complete 3\n",
      "already added, pct complete 3\n",
      "already added, pct complete 3\n",
      "already added, pct complete 3\n",
      "already added, pct complete 3\n",
      "already added, pct complete 3\n",
      "already added, pct complete 3\n",
      "already added, pct complete 3\n",
      "already added, pct complete 3\n",
      "already added, pct complete 3\n",
      "already added, pct complete 3\n",
      "already added, pct complete 4\n",
      "already added, pct complete 4\n",
      "already added, pct complete 4\n",
      "already added, pct complete 4\n",
      "already added, pct complete 4\n",
      "already added, pct complete 4\n",
      "already added, pct complete 4\n",
      "already added, pct complete 4\n",
      "already added, pct complete 4\n",
      "already added, pct complete 4\n",
      "already added, pct complete 4\n",
      "already added, pct complete 4\n",
      "already added, pct complete 5\n",
      "already added, pct complete 5\n",
      "already added, pct complete 5\n",
      "already added, pct complete 5\n",
      "already added, pct complete 5\n",
      "already added, pct complete 5\n",
      "already added, pct complete 5\n",
      "already added, pct complete 5\n",
      "already added, pct complete 5\n",
      "already added, pct complete 5\n",
      "already added, pct complete 5\n",
      "already added, pct complete 5\n",
      "already added, pct complete 6\n",
      "already added, pct complete 6\n",
      "already added, pct complete 6\n",
      "already added, pct complete 6\n",
      "already added, pct complete 6\n",
      "already added, pct complete 6\n",
      "already added, pct complete 6\n",
      "already added, pct complete 6\n",
      "already added, pct complete 6\n",
      "already added, pct complete 6\n",
      "already added, pct complete 6\n",
      "already added, pct complete 6\n",
      "already added, pct complete 7\n",
      "already added, pct complete 7\n",
      "already added, pct complete 7\n",
      "already added, pct complete 7\n",
      "already added, pct complete 7\n",
      "already added, pct complete 7\n",
      "already added, pct complete 7\n",
      "already added, pct complete 7\n",
      "already added, pct complete 7\n",
      "already added, pct complete 7\n",
      "already added, pct complete 7\n",
      "already added, pct complete 7\n",
      "already added, pct complete 8\n",
      "already added, pct complete 8\n",
      "already added, pct complete 8\n",
      "already added, pct complete 8\n",
      "already added, pct complete 8\n",
      "already added, pct complete 8\n",
      "already added, pct complete 8\n",
      "already added, pct complete 8\n",
      "already added, pct complete 8\n",
      "already added, pct complete 8\n",
      "already added, pct complete 8\n",
      "already added, pct complete 8\n",
      "already added, pct complete 9\n",
      "already added, pct complete 9\n",
      "already added, pct complete 9\n",
      "already added, pct complete 9\n",
      "already added, pct complete 9\n",
      "already added, pct complete 9\n",
      "already added, pct complete 9\n",
      "already added, pct complete 9\n",
      "already added, pct complete 9\n",
      "already added, pct complete 9\n",
      "already added, pct complete 9\n",
      "already added, pct complete 9\n",
      "already added, pct complete 10\n",
      "already added, pct complete 10\n",
      "already added, pct complete 10\n",
      "already added, pct complete 10\n",
      "already added, pct complete 10\n",
      "already added, pct complete 10\n",
      "already added, pct complete 10\n",
      "already added, pct complete 10\n",
      "already added, pct complete 10\n",
      "already added, pct complete 10\n",
      "already added, pct complete 10\n",
      "already added, pct complete 10\n",
      "already added, pct complete 11\n",
      "already added, pct complete 11\n",
      "already added, pct complete 11\n",
      "already added, pct complete 11\n",
      "already added, pct complete 11\n",
      "already added, pct complete 11\n",
      "already added, pct complete 11\n",
      "already added, pct complete 11\n",
      "already added, pct complete 11\n",
      "already added, pct complete 11\n",
      "already added, pct complete 11\n",
      "already added, pct complete 11\n",
      "already added, pct complete 12\n",
      "already added, pct complete 12\n",
      "already added, pct complete 12\n",
      "already added, pct complete 12\n",
      "already added, pct complete 12\n",
      "already added, pct complete 12\n",
      "already added, pct complete 12\n",
      "already added, pct complete 12\n",
      "already added, pct complete 12\n",
      "already added, pct complete 12\n",
      "already added, pct complete 12\n",
      "already added, pct complete 12\n",
      "already added, pct complete 13\n",
      "already added, pct complete 13\n",
      "already added, pct complete 13\n",
      "already added, pct complete 13\n",
      "already added, pct complete 13\n",
      "already added, pct complete 13\n",
      "already added, pct complete 13\n",
      "already added, pct complete 13\n",
      "already added, pct complete 13\n",
      "already added, pct complete 13\n",
      "already added, pct complete 13\n",
      "already added, pct complete 13\n",
      "already added, pct complete 14\n",
      "already added, pct complete 14\n",
      "already added, pct complete 14\n",
      "already added, pct complete 14\n",
      "already added, pct complete 14\n",
      "already added, pct complete 14\n",
      "already added, pct complete 14\n",
      "already added, pct complete 14\n",
      "already added, pct complete 14\n",
      "already added, pct complete 14\n",
      "already added, pct complete 14\n",
      "already added, pct complete 14\n",
      "already added, pct complete 15\n",
      "already added, pct complete 15\n",
      "already added, pct complete 15\n",
      "already added, pct complete 15\n",
      "already added, pct complete 15\n",
      "already added, pct complete 15\n",
      "already added, pct complete 15\n",
      "already added, pct complete 15\n",
      "already added, pct complete 15\n",
      "already added, pct complete 15\n",
      "already added, pct complete 15\n",
      "already added, pct complete 15\n",
      "already added, pct complete 16\n",
      "already added, pct complete 16\n",
      "already added, pct complete 16\n",
      "already added, pct complete 16\n",
      "already added, pct complete 16\n",
      "already added, pct complete 16\n",
      "already added, pct complete 16\n",
      "already added, pct complete 16\n",
      "already added, pct complete 16\n",
      "already added, pct complete 16\n",
      "already added, pct complete 16\n",
      "already added, pct complete 16\n",
      "already added, pct complete 17\n",
      "already added, pct complete 17\n",
      "already added, pct complete 17\n",
      "already added, pct complete 17\n",
      "already added, pct complete 17\n",
      "already added, pct complete 17\n",
      "already added, pct complete 17\n",
      "already added, pct complete 17\n",
      "already added, pct complete 17\n",
      "already added, pct complete 17\n",
      "already added, pct complete 17\n",
      "already added, pct complete 17\n",
      "already added, pct complete 18\n",
      "already added, pct complete 18\n",
      "already added, pct complete 18\n",
      "already added, pct complete 18\n",
      "already added, pct complete 18\n",
      "already added, pct complete 18\n",
      "already added, pct complete 18\n",
      "already added, pct complete 18\n",
      "already added, pct complete 18\n",
      "already added, pct complete 18\n",
      "already added, pct complete 18\n",
      "already added, pct complete 18\n",
      "already added, pct complete 19\n",
      "already added, pct complete 19\n",
      "already added, pct complete 19\n",
      "already added, pct complete 19\n",
      "already added, pct complete 19\n",
      "already added, pct complete 19\n",
      "already added, pct complete 19\n",
      "already added, pct complete 19\n",
      "already added, pct complete 19\n",
      "already added, pct complete 19\n",
      "already added, pct complete 19\n",
      "already added, pct complete 19\n",
      "already added, pct complete 20\n",
      "already added, pct complete 20\n",
      "already added, pct complete 20\n",
      "already added, pct complete 20\n",
      "already added, pct complete 20\n",
      "already added, pct complete 20\n",
      "already added, pct complete 20\n",
      "already added, pct complete 20\n",
      "already added, pct complete 20\n",
      "already added, pct complete 20\n",
      "already added, pct complete 20\n",
      "already added, pct complete 20\n",
      "already added, pct complete 21\n",
      "already added, pct complete 21\n",
      "already added, pct complete 21\n",
      "already added, pct complete 21\n",
      "already added, pct complete 21\n",
      "already added, pct complete 21\n",
      "already added, pct complete 21\n",
      "already added, pct complete 21\n",
      "already added, pct complete 21\n",
      "already added, pct complete 21\n",
      "already added, pct complete 21\n",
      "already added, pct complete 21\n",
      "already added, pct complete 22\n",
      "already added, pct complete 22\n",
      "already added, pct complete 22\n",
      "already added, pct complete 22\n",
      "already added, pct complete 22\n",
      "already added, pct complete 22\n",
      "already added, pct complete 22\n",
      "already added, pct complete 22\n",
      "already added, pct complete 22\n",
      "already added, pct complete 22\n",
      "already added, pct complete 22\n",
      "already added, pct complete 22\n",
      "already added, pct complete 23\n",
      "already added, pct complete 23\n",
      "already added, pct complete 23\n",
      "already added, pct complete 23\n",
      "already added, pct complete 23\n",
      "already added, pct complete 23\n",
      "already added, pct complete 23\n",
      "already added, pct complete 23\n",
      "already added, pct complete 23\n",
      "already added, pct complete 23\n",
      "already added, pct complete 23\n",
      "already added, pct complete 23\n",
      "already added, pct complete 24\n",
      "already added, pct complete 24\n",
      "already added, pct complete 24\n",
      "already added, pct complete 24\n",
      "already added, pct complete 24\n",
      "already added, pct complete 24\n",
      "already added, pct complete 24\n",
      "already added, pct complete 24\n",
      "already added, pct complete 24\n",
      "already added, pct complete 24\n",
      "already added, pct complete 24\n",
      "already added, pct complete 24\n",
      "already added, pct complete 25\n",
      "already added, pct complete 25\n",
      "already added, pct complete 25\n",
      "already added, pct complete 25\n",
      "already added, pct complete 25\n",
      "already added, pct complete 25\n",
      "already added, pct complete 25\n",
      "already added, pct complete 25\n",
      "already added, pct complete 25\n",
      "already added, pct complete 25\n",
      "already added, pct complete 25\n",
      "already added, pct complete 25\n",
      "already added, pct complete 25\n",
      "already added, pct complete 26\n",
      "already added, pct complete 26\n",
      "already added, pct complete 26\n",
      "already added, pct complete 26\n",
      "already added, pct complete 26\n",
      "already added, pct complete 26\n",
      "already added, pct complete 26\n",
      "already added, pct complete 26\n",
      "already added, pct complete 26\n",
      "adding kaiboi kenya, 323 out of 1204, pct complete 26\n"
     ]
    },
    {
     "name": "stdout",
     "output_type": "stream",
     "text": [
      "adding kaimosi kakaemga kenya, 324 out of 1204, pct complete 26\n",
      "adding kaimosi kakamega kenya, 325 out of 1204, pct complete 26\n",
      "adding kairi thika kenya, 326 out of 1204, pct complete 27\n",
      "adding kajiado kenya, 327 out of 1204, pct complete 27\n",
      "adding kajulukisumu kenya, 328 out of 1204, pct complete 27\n",
      "adding kakamega kenya, 329 out of 1204, pct complete 27\n",
      "adding kakamega north kenya, 330 out of 1204, pct complete 27\n",
      "adding kakamega south kenya, 331 out of 1204, pct complete 27\n",
      "adding kakapelangurai teso kenya, 332 out of 1204, pct complete 27\n",
      "adding kakaunga kakamega kenya, 333 out of 1204, pct complete 27\n",
      "adding kakemerchamasir kenya, 334 out of 1204, pct complete 27\n",
      "adding kakrao migori kenya, 335 out of 1204, pct complete 27\n",
      "adding kakuyunitala kenya, 336 out of 1204, pct complete 27\n",
      "adding kaliangombe kenya, 337 out of 1204, pct complete 27\n",
      "adding kalii emali kenya, 338 out of 1204, pct complete 28\n",
      "adding kaliini emali kenya, 339 out of 1204, pct complete 28\n",
      "adding kalile tala kenya, 340 out of 1204, pct complete 28\n",
      "adding kaloleni kenya, 341 out of 1204, pct complete 28\n",
      "adding kalolenitala kenya, 342 out of 1204, pct complete 28\n",
      "adding kamae ku kenya, 343 out of 1204, pct complete 28\n",
      "adding kamahuha thika kenya, 344 out of 1204, pct complete 28\n",
      "adding kamakwanyandarua kenya, 345 out of 1204, pct complete 28\n",
      "adding kamalil nandi kenya, 346 out of 1204, pct complete 28\n",
      "adding kamalimwingi kenya, 347 out of 1204, pct complete 28\n",
      "adding kamasaki migori kenya, 348 out of 1204, pct complete 28\n",
      "adding kamaskisumu kenya, 349 out of 1204, pct complete 28\n",
      "adding kamato kenya, 350 out of 1204, pct complete 29\n",
      "adding kambaakiambu kenya, 351 out of 1204, pct complete 29\n",
      "adding kambi kakamega kenya, 352 out of 1204, pct complete 29\n",
      "adding kambi kikuyu mombasa kenya, 353 out of 1204, pct complete 29\n",
      "adding kambi mawemakueni kenya, 354 out of 1204, pct complete 29\n",
      "adding kambiti thika kenya, 355 out of 1204, pct complete 29\n",
      "adding kambu kibwezi kenya, 356 out of 1204, pct complete 29\n",
      "adding kambukibwezi kenya, 357 out of 1204, pct complete 29\n",
      "adding kamelil nandi kenya, 358 out of 1204, pct complete 29\n",
      "adding kamkunji majengo kenya, 359 out of 1204, pct complete 29\n",
      "adding kamkunji nairobi kenya, 360 out of 1204, pct complete 29\n",
      "adding kampi ya moto koibatek kenya, 361 out of 1204, pct complete 29\n",
      "adding kampi ya motokoibatek kenya, 362 out of 1204, pct complete 30\n",
      "adding kamukunjinairobi kenya, 363 out of 1204, pct complete 30\n",
      "adding kamukuywa kenya, 364 out of 1204, pct complete 30\n",
      "adding kamulu kenya, 365 out of 1204, pct complete 30\n",
      "adding kamulutala kenya, 366 out of 1204, pct complete 30\n",
      "adding kandara thika kenya, 367 out of 1204, pct complete 30\n",
      "adding kandui kakamega kenya, 368 out of 1204, pct complete 30\n",
      "adding kanduyi kakamega kenya, 369 out of 1204, pct complete 30\n",
      "adding kangangi thika kenya, 370 out of 1204, pct complete 30\n",
      "adding kangema kenya, 371 out of 1204, pct complete 30\n",
      "adding kangemi kenya, 372 out of 1204, pct complete 30\n",
      "adding kangemi nairobi kenya, 373 out of 1204, pct complete 30\n",
      "adding kangeminairobi kenya, 374 out of 1204, pct complete 31\n",
      "adding kangundo kenya, 375 out of 1204, pct complete 31\n",
      "adding kangundoinithika kenya, 376 out of 1204, pct complete 31\n",
      "adding kangunduinithika kenya, 377 out of 1204, pct complete 31\n",
      "adding kanjuuembu kenya, 378 out of 1204, pct complete 31\n",
      "adding kanyambonikisumu kenya, 379 out of 1204, pct complete 31\n",
      "adding kanyamedha kisumu kenya, 380 out of 1204, pct complete 31\n",
      "adding kanyamkago migori kenya, 381 out of 1204, pct complete 31\n",
      "adding kanyonithika kenya, 382 out of 1204, pct complete 31\n",
      "adding kapchelal iten kenya, 383 out of 1204, pct complete 31\n",
      "adding kapcherop kenya, 384 out of 1204, pct complete 31\n",
      "adding kapenguria kenya, 385 out of 1204, pct complete 31\n",
      "adding kapkiamo kabarnet kenya, 386 out of 1204, pct complete 32\n",
      "adding kapkiamokabarnet kenya, 387 out of 1204, pct complete 32\n",
      "adding kaplong kenya, 388 out of 1204, pct complete 32\n",
      "adding kapsabet kenya, 389 out of 1204, pct complete 32\n",
      "adding kapsaos kapsabet kenya, 390 out of 1204, pct complete 32\n",
      "adding kapsowar kenya, 391 out of 1204, pct complete 32\n",
      "adding kaptildil kapsabet kenya, 392 out of 1204, pct complete 32\n",
      "adding kaptumo kapsabet kenya, 393 out of 1204, pct complete 32\n",
      "adding kapture kapsabet kenya, 394 out of 1204, pct complete 32\n",
      "adding kapune kilgoris kenya, 395 out of 1204, pct complete 32\n",
      "adding kapyagan chemundu kapsabet kenya, 396 out of 1204, pct complete 32\n",
      "adding kapyagan kapsabet kenya, 397 out of 1204, pct complete 32\n",
      "adding karangi thika kenya, 398 out of 1204, pct complete 33\n",
      "adding karangithika kenya, 399 out of 1204, pct complete 33\n",
      "adding karangukikuyu kenya, 400 out of 1204, pct complete 33\n",
      "adding karatina kenya, 401 out of 1204, pct complete 33\n",
      "adding karennairobi kenya, 402 out of 1204, pct complete 33\n",
      "adding karinde kenya, 403 out of 1204, pct complete 33\n",
      "adding karingagatundu kenya, 404 out of 1204, pct complete 33\n",
      "adding kariobangi nairobi kenya, 405 out of 1204, pct complete 33\n",
      "adding kariobangi south kenya, 406 out of 1204, pct complete 33\n",
      "adding kariobangi south nairobi kenya, 407 out of 1204, pct complete 33\n",
      "adding kariobanginairobi kenya, 408 out of 1204, pct complete 33\n",
      "adding kariokor nairobi kenya, 409 out of 1204, pct complete 33\n",
      "adding karugia thika kenya, 410 out of 1204, pct complete 34\n",
      "adding karunga kakamega kenya, 411 out of 1204, pct complete 34\n",
      "adding kasarani kenya, 412 out of 1204, pct complete 34\n",
      "adding kasikey kenya, 413 out of 1204, pct complete 34\n",
      "adding katakwa angurai location teso  kenya, 414 out of 1204, pct complete 34\n",
      "adding katakwa teso kenya, 415 out of 1204, pct complete 34\n",
      "adding kathiani machakos kenya, 416 out of 1204, pct complete 34\n",
      "adding kathonzeni makueni kenya, 417 out of 1204, pct complete 34\n",
      "adding katingani emali kenya, 418 out of 1204, pct complete 34\n",
      "adding katito kenya, 419 out of 1204, pct complete 34\n",
      "adding kativanikibwezi kenya, 420 out of 1204, pct complete 34\n",
      "adding katulyeemali kenya, 421 out of 1204, pct complete 34\n",
      "adding katuo nyalenda kisumu kenya, 422 out of 1204, pct complete 35\n",
      "adding kauma kenya, 423 out of 1204, pct complete 35\n",
      "adding kavetetala kenya, 424 out of 1204, pct complete 35\n",
      "adding kavinguri embu kenya, 425 out of 1204, pct complete 35\n",
      "adding kawangware kenya, 426 out of 1204, pct complete 35\n",
      "adding kawangware nairobi kenya, 427 out of 1204, pct complete 35\n",
      "adding kawangwarenairobi kenya, 428 out of 1204, pct complete 35\n",
      "adding kawetheitala kenya, 429 out of 1204, pct complete 35\n",
      "adding kaya kenya, 430 out of 1204, pct complete 35\n",
      "adding kayaba nairobi kenya, 431 out of 1204, pct complete 35\n",
      "adding kayole nairobi kenya, 432 out of 1204, pct complete 35\n",
      "adding kayolenairobi kenya, 433 out of 1204, pct complete 35\n",
      "adding kegongamigori kenya, 434 out of 1204, pct complete 36\n",
      "adding kehancha migori kenya, 435 out of 1204, pct complete 36\n",
      "adding kemeloi junction vihiga kenya, 436 out of 1204, pct complete 36\n",
      "adding kenda house nairobi cbd kenya, 437 out of 1204, pct complete 36\n",
      "adding kenolmuranga kenya, 438 out of 1204, pct complete 36\n",
      "adding kenyenya kenya, 439 out of 1204, pct complete 36\n",
      "adding kericho kenya, 440 out of 1204, pct complete 36\n",
      "adding keroka kenya, 441 out of 1204, pct complete 36\n",
      "adding kerugoya kenya, 442 out of 1204, pct complete 36\n",
      "adding kerwa kenya, 443 out of 1204, pct complete 36\n",
      "adding khayega in kakamega kenya, 444 out of 1204, pct complete 36\n",
      "adding khayega vihiga kakamega kenya, 445 out of 1204, pct complete 36\n",
      "adding khiwisero kenya, 446 out of 1204, pct complete 37\n",
      "adding khuwisero kakamega kenya, 447 out of 1204, pct complete 37\n",
      "adding khwisero kenya, 448 out of 1204, pct complete 37\n",
      "adding khwiserokakamega kenya, 449 out of 1204, pct complete 37\n",
      "adding kiamaiko huruma kenya, 450 out of 1204, pct complete 37\n",
      "adding kiambaa kenya, 451 out of 1204, pct complete 37\n",
      "adding kiambariki nyandarua kenya, 452 out of 1204, pct complete 37\n",
      "adding kiambio kenya, 453 out of 1204, pct complete 37\n",
      "adding kiambiu makadara nairobi kenya, 454 out of 1204, pct complete 37\n",
      "adding kiambiu slums nairobi kenya, 455 out of 1204, pct complete 37\n",
      "adding kiambu kenya, 456 out of 1204, pct complete 37\n",
      "adding kiambuthiembu kenya, 457 out of 1204, pct complete 37\n"
     ]
    },
    {
     "name": "stdout",
     "output_type": "stream",
     "text": [
      "adding kiamiga western migori kenya, 458 out of 1204, pct complete 38\n",
      "adding kiamumbi kenya, 459 out of 1204, pct complete 38\n",
      "adding kiandutu thika kenya, 460 out of 1204, pct complete 38\n",
      "adding kianjiruembu kenya, 461 out of 1204, pct complete 38\n",
      "adding kiarutara thika kenya, 462 out of 1204, pct complete 38\n",
      "adding kiaruturathika kenya, 463 out of 1204, pct complete 38\n",
      "adding kiawaroga limuru kenya, 464 out of 1204, pct complete 38\n",
      "adding kibarage villagekangemi kenya, 465 out of 1204, pct complete 38\n",
      "adding kibera kenya, 466 out of 1204, pct complete 38\n",
      "adding kibera nairobi kenya, 467 out of 1204, pct complete 38\n",
      "adding kibera slums nairobi kenya, 468 out of 1204, pct complete 38\n",
      "adding kiberanairobi kenya, 469 out of 1204, pct complete 38\n",
      "adding kibiciku kenya, 470 out of 1204, pct complete 39\n",
      "adding kibiku ngong kenya, 471 out of 1204, pct complete 39\n",
      "adding kibo kenya, 472 out of 1204, pct complete 39\n",
      "adding kibogo katito kenya, 473 out of 1204, pct complete 39\n",
      "adding kibokonimalindi kenya, 474 out of 1204, pct complete 39\n",
      "adding kibometkitale kenya, 475 out of 1204, pct complete 39\n",
      "adding kibos kenya, 476 out of 1204, pct complete 39\n",
      "adding kibotany koibatek kenya, 477 out of 1204, pct complete 39\n",
      "adding kibuguaembu kenya, 478 out of 1204, pct complete 39\n",
      "adding kibuku ngong kenya, 479 out of 1204, pct complete 39\n",
      "adding kibuye kisumu kenya, 480 out of 1204, pct complete 39\n",
      "adding kibwezi kenya, 481 out of 1204, pct complete 39\n",
      "adding kidfarmco kikuyu kenya, 482 out of 1204, pct complete 40\n",
      "adding kidzumbani kenya, 483 out of 1204, pct complete 40\n",
      "adding kiembeni mombasa kenya, 484 out of 1204, pct complete 40\n",
      "adding kiganjothika kenya, 485 out of 1204, pct complete 40\n",
      "adding kigorothika kenya, 486 out of 1204, pct complete 40\n",
      "adding kigungakakamega kenya, 487 out of 1204, pct complete 40\n",
      "adding kihara kenya, 488 out of 1204, pct complete 40\n",
      "adding kijabe streethigh courtnairobi kenya, 489 out of 1204, pct complete 40\n",
      "adding kijabe streetnairobi kenya, 490 out of 1204, pct complete 40\n",
      "adding kikambuani tala kenya, 491 out of 1204, pct complete 40\n",
      "adding kikimamakueni kenya, 492 out of 1204, pct complete 40\n",
      "adding kikombakangundo kenya, 493 out of 1204, pct complete 40\n",
      "adding kikomikisumu kenya, 494 out of 1204, pct complete 41\n",
      "adding kikuyu kenya, 495 out of 1204, pct complete 41\n",
      "adding kikuyu nairobi kenya, 496 out of 1204, pct complete 41\n",
      "adding kilalamakueni kenya, 497 out of 1204, pct complete 41\n",
      "adding kileleshwa kenya, 498 out of 1204, pct complete 41\n",
      "adding kilfi kenya, 499 out of 1204, pct complete 41\n",
      "adding kilgoris kenya, 500 out of 1204, pct complete 41\n",
      "adding kilibwoni kapsabet kenya, 501 out of 1204, pct complete 41\n",
      "adding kilifi kenya, 502 out of 1204, pct complete 41\n",
      "adding kilifi township kenya, 503 out of 1204, pct complete 41\n",
      "adding kilimaninairobi kenya, 504 out of 1204, pct complete 41\n",
      "adding kilungu kenya, 505 out of 1204, pct complete 41\n",
      "adding kimaiga migori kenya, 506 out of 1204, pct complete 42\n",
      "adding kimaigawasweta migori kenya, 507 out of 1204, pct complete 42\n",
      "adding kimaiti bungoma district kenya, 508 out of 1204, pct complete 42\n",
      "adding kimalat kenya, 509 out of 1204, pct complete 42\n",
      "adding kimana oloitoktok kenya, 510 out of 1204, pct complete 42\n",
      "adding kimangumatuu kenya, 511 out of 1204, pct complete 42\n",
      "adding kimbimbiembu kenya, 512 out of 1204, pct complete 42\n",
      "adding kimende limuru kenya, 513 out of 1204, pct complete 42\n",
      "adding kimilili kenya, 514 out of 1204, pct complete 42\n",
      "adding kimugakiambu kenya, 515 out of 1204, pct complete 42\n",
      "adding kinanie athi river kenya, 516 out of 1204, pct complete 42\n",
      "adding kinarani kenya, 517 out of 1204, pct complete 42\n",
      "adding kinda kenya, 518 out of 1204, pct complete 43\n",
      "adding kingoranimombasa kenya, 519 out of 1204, pct complete 43\n",
      "adding kingstone kenya, 520 out of 1204, pct complete 43\n",
      "adding kingstone nairobi kenya, 521 out of 1204, pct complete 43\n",
      "adding kinondo kenya, 522 out of 1204, pct complete 43\n",
      "adding kinoo nairobi kenya, 523 out of 1204, pct complete 43\n",
      "adding kinungi kenya, 524 out of 1204, pct complete 43\n",
      "adding kinyambumakueni kenya, 525 out of 1204, pct complete 43\n",
      "adding kinyanjui rd nairobi kenya, 526 out of 1204, pct complete 43\n",
      "adding kiorugariembu kenya, 527 out of 1204, pct complete 43\n",
      "adding kipasi kenya, 528 out of 1204, pct complete 43\n",
      "adding kipsigak kapsabet kenya, 529 out of 1204, pct complete 43\n",
      "adding kipsirichet kenya, 530 out of 1204, pct complete 44\n",
      "adding kipsitet kapsabet kenya, 531 out of 1204, pct complete 44\n",
      "adding kiptuno baringo kenya, 532 out of 1204, pct complete 44\n",
      "adding kirangari kenya, 533 out of 1204, pct complete 44\n",
      "adding kirigitikikuyu kenya, 534 out of 1204, pct complete 44\n",
      "adding kirigu kikuyu kenya, 535 out of 1204, pct complete 44\n",
      "adding kirimarakutus kenya, 536 out of 1204, pct complete 44\n",
      "adding kirinyaga kenya, 537 out of 1204, pct complete 44\n",
      "adding kirinyaga road nairobi kenya, 538 out of 1204, pct complete 44\n",
      "adding kirinyanga road nairobi kenya, 539 out of 1204, pct complete 44\n",
      "adding kisauni kenya, 540 out of 1204, pct complete 44\n",
      "adding kisauni mombasa kenya, 541 out of 1204, pct complete 44\n",
      "adding kiserian kenya, 542 out of 1204, pct complete 45\n",
      "adding kiseriannairobi kenya, 543 out of 1204, pct complete 45\n",
      "adding kishushe kenya, 544 out of 1204, pct complete 45\n",
      "adding kisii kenya, 545 out of 1204, pct complete 45\n",
      "adding kisima cha neema kenya, 546 out of 1204, pct complete 45\n",
      "adding kisimani mombasa kenya, 547 out of 1204, pct complete 45\n",
      "adding kisumu kenya, 548 out of 1204, pct complete 45\n",
      "adding kitale kenya, 549 out of 1204, pct complete 45\n",
      "adding kitale mount elgon kenya, 550 out of 1204, pct complete 45\n",
      "adding kitengela athi river kenya, 551 out of 1204, pct complete 45\n",
      "adding kitengela kenya, 552 out of 1204, pct complete 45\n",
      "adding kitengelanairobi kenya, 553 out of 1204, pct complete 45\n",
      "adding kithembe kenya, 554 out of 1204, pct complete 46\n",
      "adding kithendumatuu kenya, 555 out of 1204, pct complete 46\n",
      "adding kithuani tala kenya, 556 out of 1204, pct complete 46\n",
      "adding kithumuoni kenya, 557 out of 1204, pct complete 46\n",
      "adding kitirinyandarua south kenya, 558 out of 1204, pct complete 46\n",
      "adding kitisemakueni kenya, 559 out of 1204, pct complete 46\n",
      "adding kitui kenya, 560 out of 1204, pct complete 46\n",
      "adding kitulini tala kenya, 561 out of 1204, pct complete 46\n",
      "adding kituluni kenya, 562 out of 1204, pct complete 46\n",
      "adding kiwa island kenya, 563 out of 1204, pct complete 46\n",
      "adding kiwandani kilifi kenya, 564 out of 1204, pct complete 46\n",
      "adding kiwanja ku kenya, 565 out of 1204, pct complete 46\n",
      "adding kiwanjaku nairobi kenya, 566 out of 1204, pct complete 47\n",
      "adding kiwanjanairobi kenya, 567 out of 1204, pct complete 47\n",
      "adding kiwanjathika rd kenya, 568 out of 1204, pct complete 47\n",
      "adding kobiero homabay kenya, 569 out of 1204, pct complete 47\n",
      "adding kobieromigori kenya, 570 out of 1204, pct complete 47\n",
      "adding kodera bara migori kenya, 571 out of 1204, pct complete 47\n",
      "adding koibatek kenya, 572 out of 1204, pct complete 47\n",
      "adding koitebes kenya, 573 out of 1204, pct complete 47\n",
      "adding kojungo junctionmamboleo kenya, 574 out of 1204, pct complete 47\n",
      "adding kolamakueni kenya, 575 out of 1204, pct complete 47\n",
      "adding kolanya division teso district  kenya, 576 out of 1204, pct complete 47\n",
      "adding kolanya teso district kenya, 577 out of 1204, pct complete 47\n",
      "adding kolanyateso district kenya, 578 out of 1204, pct complete 48\n",
      "adding kolengkisumu kenya, 579 out of 1204, pct complete 48\n",
      "adding kolwa kenya, 580 out of 1204, pct complete 48\n",
      "adding komarock kenya, 581 out of 1204, pct complete 48\n",
      "adding komarock nairobi kenya, 582 out of 1204, pct complete 48\n",
      "adding kombewa kenya, 583 out of 1204, pct complete 48\n",
      "adding kombok central sakwa location migori kenya, 584 out of 1204, pct complete 48\n",
      "adding komolo homabay kenya, 585 out of 1204, pct complete 48\n",
      "adding komungu homabay kenya, 586 out of 1204, pct complete 48\n",
      "adding kondele kenya, 587 out of 1204, pct complete 48\n",
      "adding kondelekisumu kenya, 588 out of 1204, pct complete 48\n",
      "adding kongowea kenya, 589 out of 1204, pct complete 48\n",
      "adding kongowea mombasa kenya, 590 out of 1204, pct complete 49\n",
      "adding korogocho nairobi kenya, 591 out of 1204, pct complete 49\n"
     ]
    },
    {
     "name": "stdout",
     "output_type": "stream",
     "text": [
      "adding koyango kisumu kenya, 592 out of 1204, pct complete 49\n",
      "adding koyango manyattakisumu kenya, 593 out of 1204, pct complete 49\n",
      "adding ku kiwanja nairobi kenya, 594 out of 1204, pct complete 49\n",
      "adding kukolis teso district kenya, 595 out of 1204, pct complete 49\n",
      "adding kuku oloitoktok kenya, 596 out of 1204, pct complete 49\n",
      "adding kuria east kenya, 597 out of 1204, pct complete 49\n",
      "adding kuria west kenya, 598 out of 1204, pct complete 49\n",
      "adding kusini kenya, 599 out of 1204, pct complete 49\n",
      "adding kuywa kitale kenya, 600 out of 1204, pct complete 49\n",
      "adding kwa njenga kenya, 601 out of 1204, pct complete 49\n",
      "adding kwa njenga mukuru nairobi kenya, 602 out of 1204, pct complete 50\n",
      "adding kwa reuben nairobi kenya, 603 out of 1204, pct complete 50\n",
      "adding kwakotoeemali kenya, 604 out of 1204, pct complete 50\n",
      "adding kwale kenya, 605 out of 1204, pct complete 50\n",
      "adding kwambira limuru kenya, 606 out of 1204, pct complete 50\n",
      "adding kwamuhia naivasha kenya, 607 out of 1204, pct complete 50\n",
      "adding kwannjenga kenya, 608 out of 1204, pct complete 50\n",
      "adding kware nairobi kenya, 609 out of 1204, pct complete 50\n",
      "adding kyambeke kenya, 610 out of 1204, pct complete 50\n",
      "adding laikipia kenya, 611 out of 1204, pct complete 50\n",
      "adding lainisaba nairobi kenya, 612 out of 1204, pct complete 50\n",
      "adding lambwe kenya, 613 out of 1204, pct complete 50\n",
      "adding lamu kenya, 614 out of 1204, pct complete 50\n",
      "adding langata kenya, 615 out of 1204, pct complete 51\n",
      "adding lango baya kenya, 616 out of 1204, pct complete 51\n",
      "adding lelan kenya, 617 out of 1204, pct complete 51\n",
      "adding lenana kenya, 618 out of 1204, pct complete 51\n",
      "adding lengo kenya, 619 out of 1204, pct complete 51\n",
      "adding likoni kenya, 620 out of 1204, pct complete 51\n",
      "adding likoni mombasa kenya, 621 out of 1204, pct complete 51\n",
      "adding limuru kenya, 622 out of 1204, pct complete 51\n",
      "adding litein kenya, 623 out of 1204, pct complete 51\n",
      "adding lodwar kenya, 624 out of 1204, pct complete 51\n",
      "adding longo mombasa kenya, 625 out of 1204, pct complete 51\n",
      "adding lower kabete kenya, 626 out of 1204, pct complete 51\n",
      "adding lu kenya, 627 out of 1204, pct complete 52\n",
      "adding luanda kenya, 628 out of 1204, pct complete 52\n",
      "adding luandavihiga kenya, 629 out of 1204, pct complete 52\n",
      "adding lubao kakamega kenya, 630 out of 1204, pct complete 52\n",
      "adding lubao markert kakamega kenya, 631 out of 1204, pct complete 52\n",
      "adding lubeck kenya, 632 out of 1204, pct complete 52\n",
      "adding lucky rhino kenya, 633 out of 1204, pct complete 52\n",
      "adding lucky summer kenya, 634 out of 1204, pct complete 52\n",
      "adding lugari kenya, 635 out of 1204, pct complete 52\n",
      "adding lugulukakamega kenya, 636 out of 1204, pct complete 52\n",
      "adding lukolis teso district kenya, 637 out of 1204, pct complete 52\n",
      "adding lukolischakol  kenya, 638 out of 1204, pct complete 52\n",
      "adding lumakandaeldoret kenya, 639 out of 1204, pct complete 53\n",
      "adding lunga lunga kenya, 640 out of 1204, pct complete 53\n",
      "adding lunga lunga nairobi kenya, 641 out of 1204, pct complete 53\n",
      "adding lungalunga kenya, 642 out of 1204, pct complete 53\n",
      "adding lupidabusia district kenya, 643 out of 1204, pct complete 53\n",
      "adding mabambani kenya, 644 out of 1204, pct complete 53\n",
      "adding mabanda thika kenya, 645 out of 1204, pct complete 53\n",
      "adding mabokoni kenya, 646 out of 1204, pct complete 53\n",
      "adding machakos kenya, 647 out of 1204, pct complete 53\n",
      "adding mackinnon a kenya, 648 out of 1204, pct complete 53\n",
      "adding macknon voi kenya, 649 out of 1204, pct complete 53\n",
      "adding madaraka kenya, 650 out of 1204, pct complete 53\n",
      "adding maendeleo kenya, 651 out of 1204, pct complete 54\n",
      "adding mafisini kenya, 652 out of 1204, pct complete 54\n",
      "adding magina limuru kenya, 653 out of 1204, pct complete 54\n",
      "adding magodi kenya, 654 out of 1204, pct complete 54\n",
      "adding magogoni mombasa kenya, 655 out of 1204, pct complete 54\n",
      "adding magoko thika kenya, 656 out of 1204, pct complete 54\n",
      "adding magondi kenya, 657 out of 1204, pct complete 54\n",
      "adding magongo mombasa kenya, 658 out of 1204, pct complete 54\n",
      "adding magunga homabay kenya, 659 out of 1204, pct complete 54\n",
      "adding magunga kenya, 660 out of 1204, pct complete 54\n",
      "adding magwarakilgoris kenya, 661 out of 1204, pct complete 54\n",
      "adding mahagavihiga kenya, 662 out of 1204, pct complete 54\n",
      "adding mahangavihiga kenya, 663 out of 1204, pct complete 55\n",
      "adding mahenyakisumu kenya, 664 out of 1204, pct complete 55\n",
      "adding maili sabakitale kenya, 665 out of 1204, pct complete 55\n",
      "adding main bus park nairobi kenya, 666 out of 1204, pct complete 55\n",
      "adding maiunikangundo kenya, 667 out of 1204, pct complete 55\n",
      "adding majaoni mombasa kenya, 668 out of 1204, pct complete 55\n",
      "adding majengo kakamega kenya, 669 out of 1204, pct complete 55\n",
      "adding majengo kenya, 670 out of 1204, pct complete 55\n",
      "adding majengo mapya kenya, 671 out of 1204, pct complete 55\n",
      "adding majengo mapya mombasa kenya, 672 out of 1204, pct complete 55\n",
      "adding majengothika kenya, 673 out of 1204, pct complete 55\n",
      "adding maji mazurinairobi kenya, 674 out of 1204, pct complete 55\n",
      "adding majoreni kenya, 675 out of 1204, pct complete 56\n",
      "adding majoreni lunga lunga kenya, 676 out of 1204, pct complete 56\n",
      "adding makadara kenya, 677 out of 1204, pct complete 56\n",
      "adding makadara nairobi kenya, 678 out of 1204, pct complete 56\n",
      "adding makamini kenya, 679 out of 1204, pct complete 56\n",
      "adding makongeni thika kenya, 680 out of 1204, pct complete 56\n",
      "adding makueni kenya, 681 out of 1204, pct complete 56\n",
      "adding makunga kakamega kenya, 682 out of 1204, pct complete 56\n",
      "adding makupa mombasa kenya, 683 out of 1204, pct complete 56\n",
      "adding makutano kenya, 684 out of 1204, pct complete 56\n",
      "adding makutanosagana kenya, 685 out of 1204, pct complete 56\n",
      "adding makutanowachoro kenya, 686 out of 1204, pct complete 56\n",
      "adding makuyu thika kenya, 687 out of 1204, pct complete 57\n",
      "adding malaa kenya, 688 out of 1204, pct complete 57\n",
      "adding malaba kamuriai location teso  kenya, 689 out of 1204, pct complete 57\n",
      "adding malaba teso district kenya, 690 out of 1204, pct complete 57\n",
      "adding malakisi bungoma district kenya, 691 out of 1204, pct complete 57\n",
      "adding malakisi division bungoma district ke kenya, 692 out of 1204, pct complete 57\n",
      "adding malakisi kenya, 693 out of 1204, pct complete 57\n",
      "adding malava kenya, 694 out of 1204, pct complete 57\n",
      "adding malindi kenya, 695 out of 1204, pct complete 57\n",
      "adding mamboleo kisumu kenya, 696 out of 1204, pct complete 57\n",
      "adding mamboleokisumu kenya, 697 out of 1204, pct complete 57\n",
      "adding mangwei kenya, 698 out of 1204, pct complete 57\n",
      "adding manyatta kisumu kenya, 699 out of 1204, pct complete 58\n",
      "adding manyattakisumu kenya, 700 out of 1204, pct complete 58\n",
      "adding mapambano kenya, 701 out of 1204, pct complete 58\n",
      "adding mapenyalamu kenya, 702 out of 1204, pct complete 58\n",
      "adding maperamigori kenya, 703 out of 1204, pct complete 58\n",
      "adding maphombe kenya, 704 out of 1204, pct complete 58\n",
      "adding maraba kenya, 705 out of 1204, pct complete 58\n",
      "adding maragoni b kenya, 706 out of 1204, pct complete 58\n",
      "adding maragoni kenya, 707 out of 1204, pct complete 58\n",
      "adding maragua thika kenya, 708 out of 1204, pct complete 58\n",
      "adding marerenimalindi kenya, 709 out of 1204, pct complete 58\n",
      "adding mareta kenya, 710 out of 1204, pct complete 58\n",
      "adding mariakani kaloleni kenya, 711 out of 1204, pct complete 59\n",
      "adding mariakani kenya, 712 out of 1204, pct complete 59\n",
      "adding mariani kenya, 713 out of 1204, pct complete 59\n",
      "adding marigat kenya, 714 out of 1204, pct complete 59\n",
      "adding marindi migori kenya, 715 out of 1204, pct complete 59\n",
      "adding masaba kapsabet kenya, 716 out of 1204, pct complete 59\n",
      "adding masai village nairobi kenya, 717 out of 1204, pct complete 59\n",
      "adding masavoni kenya, 718 out of 1204, pct complete 59\n",
      "adding masielomayanja bungoma kenya, 719 out of 1204, pct complete 59\n",
      "adding maswabrina kenya, 720 out of 1204, pct complete 59\n",
      "adding mataara thika kenya, 721 out of 1204, pct complete 59\n",
      "adding matahia limuru kenya, 722 out of 1204, pct complete 59\n",
      "adding matarajio kenya, 723 out of 1204, pct complete 60\n",
      "adding matete kenya, 724 out of 1204, pct complete 60\n",
      "adding mathanja kiambu kenya, 725 out of 1204, pct complete 60\n",
      "adding mathare area 4 kenya, 726 out of 1204, pct complete 60\n",
      "adding mathare kenya, 727 out of 1204, pct complete 60\n",
      "adding mathare nairobi kenya, 728 out of 1204, pct complete 60\n"
     ]
    },
    {
     "name": "stdout",
     "output_type": "stream",
     "text": [
      "adding mathare north area 4 kenya, 729 out of 1204, pct complete 60\n",
      "adding mathare north nairobi kenya, 730 out of 1204, pct complete 60\n",
      "adding mathare slums kenya, 731 out of 1204, pct complete 60\n",
      "adding matharemuthaiga kenya, 732 out of 1204, pct complete 60\n",
      "adding matingasi kenya, 733 out of 1204, pct complete 60\n",
      "adding matongonimatuu kenya, 734 out of 1204, pct complete 60\n",
      "adding matuga kenya, 735 out of 1204, pct complete 61\n",
      "adding matumaini kenya, 736 out of 1204, pct complete 61\n",
      "adding matuu kenya, 737 out of 1204, pct complete 61\n",
      "adding maua kenya, 738 out of 1204, pct complete 61\n",
      "adding mavueni kenya, 739 out of 1204, pct complete 61\n",
      "adding mawenimalindi kenya, 740 out of 1204, pct complete 61\n",
      "adding mawenimombasa kenya, 741 out of 1204, pct complete 61\n",
      "adding mayanja kenya, 742 out of 1204, pct complete 61\n",
      "adding mayanjabungoma district kenya, 743 out of 1204, pct complete 61\n",
      "adding mazeras mariakani kenya, 744 out of 1204, pct complete 61\n",
      "adding maziwakahawa westnairobi kenya, 745 out of 1204, pct complete 61\n",
      "adding mbale kenya, 746 out of 1204, pct complete 61\n",
      "adding mbonga kenya, 747 out of 1204, pct complete 62\n",
      "adding mbotela kenya, 748 out of 1204, pct complete 62\n",
      "adding mbotela nairobi kenya, 749 out of 1204, pct complete 62\n",
      "adding mbugiti thika kenya, 750 out of 1204, pct complete 62\n",
      "adding mbungoni mombas kenya, 751 out of 1204, pct complete 62\n",
      "adding mcheleni kenya, 752 out of 1204, pct complete 62\n",
      "adding menzamwenye kenya, 753 out of 1204, pct complete 62\n",
      "adding meru kenya, 754 out of 1204, pct complete 62\n",
      "adding mfangano street in nairobi kenya, 755 out of 1204, pct complete 62\n",
      "adding miano thika kenya, 756 out of 1204, pct complete 62\n",
      "adding migadini kenya, 757 out of 1204, pct complete 62\n",
      "adding migombani kenya, 758 out of 1204, pct complete 62\n",
      "adding migori kenya, 759 out of 1204, pct complete 63\n",
      "adding migosi kisumu kenya, 760 out of 1204, pct complete 63\n",
      "adding mikindani mombasa kenya, 761 out of 1204, pct complete 63\n",
      "adding mikinduri kenya, 762 out of 1204, pct complete 63\n",
      "adding miknjuni miritini kenya, 763 out of 1204, pct complete 63\n",
      "adding mikoroshoni mombasa kenya, 764 out of 1204, pct complete 63\n",
      "adding milango saba mombasa kenya, 765 out of 1204, pct complete 63\n",
      "adding miritini mombasa kenya, 766 out of 1204, pct complete 63\n",
      "adding mirogi kenya, 767 out of 1204, pct complete 63\n",
      "adding mishomuhoroni mombasa kenya, 768 out of 1204, pct complete 63\n",
      "adding misikhukakamega kenya, 769 out of 1204, pct complete 63\n",
      "adding misyanitala kenya, 770 out of 1204, pct complete 63\n",
      "adding miterothika kenya, 771 out of 1204, pct complete 64\n",
      "adding miwanikisumu kenya, 772 out of 1204, pct complete 64\n",
      "adding mjini kakamega kenya, 773 out of 1204, pct complete 64\n",
      "adding mkilo men kenya, 774 out of 1204, pct complete 64\n",
      "adding mkongani kenya, 775 out of 1204, pct complete 64\n",
      "adding mkoroshoni mombasa kenya, 776 out of 1204, pct complete 64\n",
      "adding mkwajuni kenya, 777 out of 1204, pct complete 64\n",
      "adding mlaleo mombasa kenya, 778 out of 1204, pct complete 64\n",
      "adding mlolongo kenya, 779 out of 1204, pct complete 64\n",
      "adding mlolongo settlement kenya, 780 out of 1204, pct complete 64\n",
      "adding mmbale kenya, 781 out of 1204, pct complete 64\n",
      "adding mnarani kilifi kenya, 782 out of 1204, pct complete 64\n",
      "adding mobile kenya, 783 out of 1204, pct complete 65\n",
      "adding mobile nairobi region kenya, 784 out of 1204, pct complete 65\n",
      "adding moding teso district kenya, 785 out of 1204, pct complete 65\n",
      "adding mogadishu somalia kenya, 786 out of 1204, pct complete 65\n",
      "adding mogotio kenya, 787 out of 1204, pct complete 65\n",
      "adding moi veterinarymalindi kenya, 788 out of 1204, pct complete 65\n",
      "adding mois bridge kenya, 789 out of 1204, pct complete 65\n",
      "adding molemkisumu kenya, 790 out of 1204, pct complete 65\n",
      "adding molo kenya, 791 out of 1204, pct complete 65\n",
      "adding mombasa kenya, 792 out of 1204, pct complete 65\n",
      "adding mombasa roadnairobi kenya, 793 out of 1204, pct complete 65\n",
      "adding mombassa kenya, 794 out of 1204, pct complete 65\n",
      "adding mountain view nairobi kenya, 795 out of 1204, pct complete 66\n",
      "adding mpeketoni lamu kenya, 796 out of 1204, pct complete 66\n",
      "adding mpeketonilamu kenya, 797 out of 1204, pct complete 66\n",
      "adding mrima kenya, 798 out of 1204, pct complete 66\n",
      "adding mrima wa ndege kenya, 799 out of 1204, pct complete 66\n",
      "adding msambweni kenya, 800 out of 1204, pct complete 66\n",
      "adding mshale kenya, 801 out of 1204, pct complete 66\n",
      "adding mshomoroni mombasa kenya, 802 out of 1204, pct complete 66\n",
      "adding mtito andei kibwezi kenya, 803 out of 1204, pct complete 66\n",
      "adding mtongwe life a kenya, 804 out of 1204, pct complete 66\n",
      "adding mtongwe mombasa kenya, 805 out of 1204, pct complete 66\n",
      "adding mtopanga mombasa kenya, 806 out of 1204, pct complete 66\n",
      "adding mtsara wa tsatsu kenya, 807 out of 1204, pct complete 67\n",
      "adding mtwapa mombasa kenya, 808 out of 1204, pct complete 67\n",
      "adding mtwapakilifi kenya, 809 out of 1204, pct complete 67\n",
      "adding mucathakiambu kenya, 810 out of 1204, pct complete 67\n",
      "adding mugen kakamega kenya, 811 out of 1204, pct complete 67\n",
      "adding muguga kenya, 812 out of 1204, pct complete 67\n",
      "adding muguga kikuyu kenya, 813 out of 1204, pct complete 67\n",
      "adding muhoroni kenya, 814 out of 1204, pct complete 67\n",
      "adding muhuru kenya, 815 out of 1204, pct complete 67\n",
      "adding mukaraa thika kenya, 816 out of 1204, pct complete 67\n",
      "adding mukiritithika town kenya, 817 out of 1204, pct complete 67\n",
      "adding mukuru kwa njenga nairobi kenya, 818 out of 1204, pct complete 67\n",
      "adding mukuru nairobi kenya, 819 out of 1204, pct complete 68\n",
      "adding mukuyuni makueni kenya, 820 out of 1204, pct complete 68\n",
      "adding mumatsondu kenya, 821 out of 1204, pct complete 68\n",
      "adding mumias kenya, 822 out of 1204, pct complete 68\n",
      "adding mungu road ncbd kenya, 823 out of 1204, pct complete 68\n",
      "adding munzatsi vihiga kenya, 824 out of 1204, pct complete 68\n",
      "adding muranga kenya, 825 out of 1204, pct complete 68\n",
      "adding murangatown kenya, 826 out of 1204, pct complete 68\n",
      "adding muremi kenya, 827 out of 1204, pct complete 68\n",
      "adding murera thika kenya, 828 out of 1204, pct complete 68\n",
      "adding murhandakakamega kenya, 829 out of 1204, pct complete 68\n",
      "adding murindwa nairobi kenya, 830 out of 1204, pct complete 68\n",
      "adding murungani nyandarua kenya, 831 out of 1204, pct complete 69\n",
      "adding mururiembu kenya, 832 out of 1204, pct complete 69\n",
      "adding musanda mumias kenya, 833 out of 1204, pct complete 69\n",
      "adding muthiga kikuyu kenya, 834 out of 1204, pct complete 69\n",
      "adding muthure kikuyu kenya, 835 out of 1204, pct complete 69\n",
      "adding muthurwa market nairobi kenya, 836 out of 1204, pct complete 69\n",
      "adding muthurwa nairobi kenya, 837 out of 1204, pct complete 69\n",
      "adding muthurwanairobi kenya, 838 out of 1204, pct complete 69\n",
      "adding mutindwa kenya, 839 out of 1204, pct complete 69\n",
      "adding mutithi kenya, 840 out of 1204, pct complete 69\n",
      "adding mutomo kibwezi kenya, 841 out of 1204, pct complete 69\n",
      "adding mutwot kapsabet kenya, 842 out of 1204, pct complete 69\n",
      "adding muumandu makueni kenya, 843 out of 1204, pct complete 70\n",
      "adding mwagosi kenya, 844 out of 1204, pct complete 70\n",
      "adding mwahera kenya, 845 out of 1204, pct complete 70\n",
      "adding mwakingali voi kenya, 846 out of 1204, pct complete 70\n",
      "adding mwamba kenya, 847 out of 1204, pct complete 70\n",
      "adding mwambalazi kenya, 848 out of 1204, pct complete 70\n",
      "adding mwambungo kenya, 849 out of 1204, pct complete 70\n",
      "adding mwamlai chaani  kenya, 850 out of 1204, pct complete 70\n",
      "adding mwamlai jomvu mombasa kenya, 851 out of 1204, pct complete 70\n",
      "adding mwamlai mombasa kenya, 852 out of 1204, pct complete 70\n",
      "adding mwanamwinga kenya, 853 out of 1204, pct complete 70\n",
      "adding mwandoni mombasa kenya, 854 out of 1204, pct complete 70\n",
      "adding mwanduda kenya, 855 out of 1204, pct complete 71\n",
      "adding mwangatinimalindi kenya, 856 out of 1204, pct complete 71\n",
      "adding mwapala kenya, 857 out of 1204, pct complete 71\n",
      "adding mwapula kenya, 858 out of 1204, pct complete 71\n",
      "adding mwaroni ukunda mombasa kenya, 859 out of 1204, pct complete 71\n",
      "adding mwea kenya, 860 out of 1204, pct complete 71\n",
      "adding mweaembu kenya, 861 out of 1204, pct complete 71\n",
      "adding mweiga kenya, 862 out of 1204, pct complete 71\n",
      "adding mwele rabai kenya, 863 out of 1204, pct complete 71\n",
      "adding mwembe tayari mombasa kenya, 864 out of 1204, pct complete 71\n"
     ]
    },
    {
     "name": "stdout",
     "output_type": "stream",
     "text": [
      "adding mwihokokahawa kenya, 865 out of 1204, pct complete 71\n",
      "adding mwiki kenya, 866 out of 1204, pct complete 71\n",
      "adding mwimtokikuyu kenya, 867 out of 1204, pct complete 72\n",
      "adding mwimtukikuyu kenya, 868 out of 1204, pct complete 72\n",
      "adding mwimuto kenya, 869 out of 1204, pct complete 72\n",
      "adding mwingi kenya, 870 out of 1204, pct complete 72\n",
      "adding myanga bugoma district  kenya, 871 out of 1204, pct complete 72\n",
      "adding myanga bungoma district kenya, 872 out of 1204, pct complete 72\n",
      "adding naikarra kenya, 873 out of 1204, pct complete 72\n",
      "adding nairobi central kenya, 874 out of 1204, pct complete 72\n",
      "adding nairobi city centre kenya, 875 out of 1204, pct complete 72\n",
      "adding nairobi city kenya, 876 out of 1204, pct complete 72\n",
      "adding nairobi east kenya, 877 out of 1204, pct complete 72\n",
      "adding nairobi huruma kenya, 878 out of 1204, pct complete 72\n",
      "adding nairobi kenya, 879 out of 1204, pct complete 73\n",
      "adding nairobi kikuyu kenya, 880 out of 1204, pct complete 73\n",
      "adding nairobi thika road kenya, 881 out of 1204, pct complete 73\n",
      "adding nairobi west kenya, 882 out of 1204, pct complete 73\n",
      "adding nairobilamu kenya, 883 out of 1204, pct complete 73\n",
      "adding naivasha kenya, 884 out of 1204, pct complete 73\n",
      "adding nakuru east kenya, 885 out of 1204, pct complete 73\n",
      "adding nakuru kenya, 886 out of 1204, pct complete 73\n",
      "adding nakuru west kenya, 887 out of 1204, pct complete 73\n",
      "adding nambale kenya, 888 out of 1204, pct complete 73\n",
      "adding nan kenya, 889 out of 1204, pct complete 73\n",
      "adding nandarasinyandarua kenya, 890 out of 1204, pct complete 73\n",
      "adding nandi hills kenya, 891 out of 1204, pct complete 74\n",
      "adding nanyuki kenya, 892 out of 1204, pct complete 74\n",
      "adding narok kenya, 893 out of 1204, pct complete 74\n",
      "adding ndaragwa kenya, 894 out of 1204, pct complete 74\n",
      "adding ndeiya kenya, 895 out of 1204, pct complete 74\n",
      "adding nderikikuyu kenya, 896 out of 1204, pct complete 74\n",
      "adding ndhiwa kenya, 897 out of 1204, pct complete 74\n",
      "adding ndigiria kenya, 898 out of 1204, pct complete 74\n",
      "adding nduberi kiambu kenya, 899 out of 1204, pct complete 74\n",
      "adding ndumbuini kikuyu kenya, 900 out of 1204, pct complete 74\n",
      "adding ndunyu chegethika kenya, 901 out of 1204, pct complete 74\n",
      "adding ndunyu njeru kenya, 902 out of 1204, pct complete 74\n",
      "adding neema kenya, 903 out of 1204, pct complete 75\n",
      "adding new utange kenya, 904 out of 1204, pct complete 75\n",
      "adding ngalaiyatala kenya, 905 out of 1204, pct complete 75\n",
      "adding ngalasyatala kenya, 906 out of 1204, pct complete 75\n",
      "adding ngambuthika kenya, 907 out of 1204, pct complete 75\n",
      "adding ngando nairobi kenya, 908 out of 1204, pct complete 75\n",
      "adding ngao men kenya, 909 out of 1204, pct complete 75\n",
      "adding ngara kenya, 910 out of 1204, pct complete 75\n",
      "adding ngara nairobi kenya, 911 out of 1204, pct complete 75\n",
      "adding ngaranairobi kenya, 912 out of 1204, pct complete 75\n",
      "adding ngararishalimuru kenya, 913 out of 1204, pct complete 75\n",
      "adding ngerenya kenya, 914 out of 1204, pct complete 75\n",
      "adding ngilani kenya, 915 out of 1204, pct complete 75\n",
      "adding ngiya siaya kenya, 916 out of 1204, pct complete 76\n",
      "adding ngiyasiaya kenya, 917 out of 1204, pct complete 76\n",
      "adding ngoigwatown kenya, 918 out of 1204, pct complete 76\n",
      "adding ngomongo kenya, 919 out of 1204, pct complete 76\n",
      "adding ngong kenya, 920 out of 1204, pct complete 76\n",
      "adding ngong town kenya, 921 out of 1204, pct complete 76\n",
      "adding ngulunitala kenya, 922 out of 1204, pct complete 76\n",
      "adding ngunimwingi kenya, 923 out of 1204, pct complete 76\n",
      "adding ngurungakitengela kenya, 924 out of 1204, pct complete 76\n",
      "adding nguviuembu kenya, 925 out of 1204, pct complete 76\n",
      "adding njabini kenya, 926 out of 1204, pct complete 76\n",
      "adding njiku kikuyu kenya, 927 out of 1204, pct complete 76\n",
      "adding njipiship kilgoris kenya, 928 out of 1204, pct complete 77\n",
      "adding njiru saika kenya, 929 out of 1204, pct complete 77\n",
      "adding nkararo kenya, 930 out of 1204, pct complete 77\n",
      "adding nkoile bissil kenya, 931 out of 1204, pct complete 77\n",
      "adding nkoroi kiserian kenya, 932 out of 1204, pct complete 77\n",
      "adding nkubu kenya, 933 out of 1204, pct complete 77\n",
      "adding noonkopir kenya, 934 out of 1204, pct complete 77\n",
      "adding north butsotsokakamega kenya, 935 out of 1204, pct complete 77\n",
      "adding north sakwa migori kenya, 936 out of 1204, pct complete 77\n",
      "adding north suna migori kenya, 937 out of 1204, pct complete 77\n",
      "adding nthamboembu kenya, 938 out of 1204, pct complete 77\n",
      "adding ntulele kilgoris kenya, 939 out of 1204, pct complete 77\n",
      "adding nunguni kenya, 940 out of 1204, pct complete 78\n",
      "adding nunguniemali kenya, 941 out of 1204, pct complete 78\n",
      "adding nungunimakueni kenya, 942 out of 1204, pct complete 78\n",
      "adding nuukitui kenya, 943 out of 1204, pct complete 78\n",
      "adding nuumwingi kenya, 944 out of 1204, pct complete 78\n",
      "adding nyahururu kenya, 945 out of 1204, pct complete 78\n",
      "adding nyalendakisumu kenya, 946 out of 1204, pct complete 78\n",
      "adding nyali mombasa kenya, 947 out of 1204, pct complete 78\n",
      "adding nyamasaremigori kenya, 948 out of 1204, pct complete 78\n",
      "adding nyamasariakisumu kenya, 949 out of 1204, pct complete 78\n",
      "adding nyamira kenya, 950 out of 1204, pct complete 78\n",
      "adding nyamlori market kisumu kenya, 951 out of 1204, pct complete 78\n",
      "adding nyamome migori kenya, 952 out of 1204, pct complete 79\n",
      "adding nyamonyeusenge kenya, 953 out of 1204, pct complete 79\n",
      "adding nyandarua kenya, 954 out of 1204, pct complete 79\n",
      "adding nyandarua south kenya, 955 out of 1204, pct complete 79\n",
      "adding nyanza kenya, 956 out of 1204, pct complete 79\n",
      "adding nyatikemigori kenya, 957 out of 1204, pct complete 79\n",
      "adding nyawitakisumu kenya, 958 out of 1204, pct complete 79\n",
      "adding nyeri kenya, 959 out of 1204, pct complete 79\n",
      "adding nzouni kenya, 960 out of 1204, pct complete 79\n",
      "adding oasis kenya, 961 out of 1204, pct complete 79\n",
      "adding obungakisumu kenya, 962 out of 1204, pct complete 79\n",
      "adding ogango kisumu kenya, 963 out of 1204, pct complete 79\n",
      "adding ogonga kenya, 964 out of 1204, pct complete 80\n",
      "adding ogongo kenya, 965 out of 1204, pct complete 80\n",
      "adding oile park kisumu city kenya, 966 out of 1204, pct complete 80\n",
      "adding ojawa kenya, 967 out of 1204, pct complete 80\n",
      "adding old town mombasa kenya, 968 out of 1204, pct complete 80\n",
      "adding ole roimen kajiado kenya, 969 out of 1204, pct complete 80\n",
      "adding olekaitioriori kenya, 970 out of 1204, pct complete 80\n",
      "adding olekaitonori kenya, 971 out of 1204, pct complete 80\n",
      "adding olekaitoriori kenya, 972 out of 1204, pct complete 80\n",
      "adding olekatorum kenya, 973 out of 1204, pct complete 80\n",
      "adding olekuitoriori kenya, 974 out of 1204, pct complete 80\n",
      "adding olekuitoriorikitengela kenya, 975 out of 1204, pct complete 80\n",
      "adding olkalou kenya, 976 out of 1204, pct complete 81\n",
      "adding oloitoktok kenya, 977 out of 1204, pct complete 81\n",
      "adding ololchani kenya, 978 out of 1204, pct complete 81\n",
      "adding ololchanikilgoris kenya, 979 out of 1204, pct complete 81\n",
      "adding ololmasani kilgoris kenya, 980 out of 1204, pct complete 81\n",
      "adding olturoto kajiado district kenya, 981 out of 1204, pct complete 81\n",
      "adding ongata rongai kenya, 982 out of 1204, pct complete 81\n",
      "adding ongatarongai kenya, 983 out of 1204, pct complete 81\n",
      "adding onyalokisumu kenya, 984 out of 1204, pct complete 81\n",
      "adding opapo lambwe kenya, 985 out of 1204, pct complete 81\n",
      "adding ortumwest pokot kenya, 986 out of 1204, pct complete 81\n",
      "adding orubamigori kenya, 987 out of 1204, pct complete 81\n",
      "adding osajai amagoroteso district kenya, 988 out of 1204, pct complete 82\n",
      "adding osupukokilgoris kenya, 989 out of 1204, pct complete 82\n",
      "adding otc kenya, 990 out of 1204, pct complete 82\n",
      "adding othaya kenya, 991 out of 1204, pct complete 82\n",
      "adding otonglokisumu kenya, 992 out of 1204, pct complete 82\n",
      "adding outering road kenya, 993 out of 1204, pct complete 82\n",
      "adding palakumi kenya, 994 out of 1204, pct complete 82\n",
      "adding pamoja kenya, 995 out of 1204, pct complete 82\n",
      "adding pangani kenya, 996 out of 1204, pct complete 82\n",
      "adding pap onditikatito kenya, 997 out of 1204, pct complete 82\n",
      "adding parkroad nairobi kenya, 998 out of 1204, pct complete 82\n",
      "adding pemwai trading centre kabarnet kenya, 999 out of 1204, pct complete 82\n",
      "adding perkera location eldama ravine kenya, 1000 out of 1204, pct complete 83\n",
      "adding pipeline nairobi kenya, 1001 out of 1204, pct complete 83\n"
     ]
    },
    {
     "name": "stdout",
     "output_type": "stream",
     "text": [
      "adding poi baringo county kenya, 1002 out of 1204, pct complete 83\n",
      "adding portreiz mombasa kenya, 1003 out of 1204, pct complete 83\n",
      "adding rabai mariakani kenya, 1004 out of 1204, pct complete 83\n",
      "adding ragana migori kenya, 1005 out of 1204, pct complete 83\n",
      "adding railways estate kisumu kenya, 1006 out of 1204, pct complete 83\n",
      "adding ranenmigori kenya, 1007 out of 1204, pct complete 83\n",
      "adding riabai kenya, 1008 out of 1204, pct complete 83\n",
      "adding riabaikiambu kenya, 1009 out of 1204, pct complete 83\n",
      "adding riatkisumu kenya, 1010 out of 1204, pct complete 83\n",
      "adding riosil migori kenya, 1011 out of 1204, pct complete 83\n",
      "adding rironi kenya, 1012 out of 1204, pct complete 84\n",
      "adding rironi kikuyu kenya, 1013 out of 1204, pct complete 84\n",
      "adding riruta kenya, 1014 out of 1204, pct complete 84\n",
      "adding riruta nairobi kenya, 1015 out of 1204, pct complete 84\n",
      "adding rise and shine kenya, 1016 out of 1204, pct complete 84\n",
      "adding river road kenya, 1017 out of 1204, pct complete 84\n",
      "adding riverside nairobi kenya, 1018 out of 1204, pct complete 84\n",
      "adding riziki yetu kenya, 1019 out of 1204, pct complete 84\n",
      "adding rodi kopany homabay kenya, 1020 out of 1204, pct complete 84\n",
      "adding rongai kenya, 1021 out of 1204, pct complete 84\n",
      "adding rongaingong kenya, 1022 out of 1204, pct complete 84\n",
      "adding rongo kenya, 1023 out of 1204, pct complete 84\n",
      "adding rongomigori kenya, 1024 out of 1204, pct complete 85\n",
      "adding rostaman kakamega kenya, 1025 out of 1204, pct complete 85\n",
      "adding roysambunairobi kenya, 1026 out of 1204, pct complete 85\n",
      "adding ruai nairobi kenya, 1027 out of 1204, pct complete 85\n",
      "adding ruainairobi kenya, 1028 out of 1204, pct complete 85\n",
      "adding ruaka kenya, 1029 out of 1204, pct complete 85\n",
      "adding ruiru kenya, 1030 out of 1204, pct complete 85\n",
      "adding runyenjesembu kenya, 1031 out of 1204, pct complete 85\n",
      "adding saba saba mombasa kenya, 1032 out of 1204, pct complete 85\n",
      "adding sabasaba thika kenya, 1033 out of 1204, pct complete 85\n",
      "adding sabasabagakuyu maragwa kenya, 1034 out of 1204, pct complete 85\n",
      "adding sabasabagatukuyu kenya, 1035 out of 1204, pct complete 85\n",
      "adding sabasabamakuyu kenya, 1036 out of 1204, pct complete 86\n",
      "adding sabasabamaragwa kenya, 1037 out of 1204, pct complete 86\n",
      "adding sabasabamombasa kenya, 1038 out of 1204, pct complete 86\n",
      "adding sacho mosop kabarnet kenya, 1039 out of 1204, pct complete 86\n",
      "adding sagalato kenya, 1040 out of 1204, pct complete 86\n",
      "adding sagana kenya, 1041 out of 1204, pct complete 86\n",
      "adding sagero migor kenya, 1042 out of 1204, pct complete 86\n",
      "adding saikanairobi kenya, 1043 out of 1204, pct complete 86\n",
      "adding saimo baringo kenya, 1044 out of 1204, pct complete 86\n",
      "adding saimobaringo county kenya, 1045 out of 1204, pct complete 86\n",
      "adding sakutiek kenya, 1046 out of 1204, pct complete 86\n",
      "adding sakutieknaivasha kenya, 1047 out of 1204, pct complete 86\n",
      "adding salamakibwezi kenya, 1048 out of 1204, pct complete 87\n",
      "adding sambu kenya, 1049 out of 1204, pct complete 87\n",
      "adding samburu kenya, 1050 out of 1204, pct complete 87\n",
      "adding samburu mariakani kenya, 1051 out of 1204, pct complete 87\n",
      "adding samburu voi kenya, 1052 out of 1204, pct complete 87\n",
      "adding sanjwerohomabay kenya, 1053 out of 1204, pct complete 87\n",
      "adding saoskoibatek kenya, 1054 out of 1204, pct complete 87\n",
      "adding schekem kenya, 1055 out of 1204, pct complete 87\n",
      "adding serem kenya, 1056 out of 1204, pct complete 87\n",
      "adding setellitenairobi kenya, 1057 out of 1204, pct complete 87\n",
      "adding seven hills kenya, 1058 out of 1204, pct complete 87\n",
      "adding shanzu mombasa kenya, 1059 out of 1204, pct complete 87\n",
      "adding shartoka kilgoris kenya, 1060 out of 1204, pct complete 88\n",
      "adding shauri moyo nairobi kenya, 1061 out of 1204, pct complete 88\n",
      "adding shichiraikakamega kenya, 1062 out of 1204, pct complete 88\n",
      "adding shienwe kakamega kenya, 1063 out of 1204, pct complete 88\n",
      "adding shieywe vihiga kenya, 1064 out of 1204, pct complete 88\n",
      "adding shika adabu likoni mombasa kenya, 1065 out of 1204, pct complete 88\n",
      "adding shikotikakamega kenya, 1066 out of 1204, pct complete 88\n",
      "adding shikoyi kakamega kenya, 1067 out of 1204, pct complete 88\n",
      "adding shimanzi mombasa kenya, 1068 out of 1204, pct complete 88\n",
      "adding shinyalukakamega kenya, 1069 out of 1204, pct complete 88\n",
      "adding shirere kakamega kenya, 1070 out of 1204, pct complete 88\n",
      "adding shuanda kakamega kenya, 1071 out of 1204, pct complete 88\n",
      "adding siakagoembu kenya, 1072 out of 1204, pct complete 89\n",
      "adding siaya kenya, 1073 out of 1204, pct complete 89\n",
      "adding sihilila division bungoma kenya, 1074 out of 1204, pct complete 89\n",
      "adding silaloni men kenya, 1075 out of 1204, pct complete 89\n",
      "adding silibwetnarok kenya, 1076 out of 1204, pct complete 89\n",
      "adding simba chai amukura division teso distr kenya, 1077 out of 1204, pct complete 89\n",
      "adding sindo kenya, 1078 out of 1204, pct complete 89\n",
      "adding siongiroi kenya, 1079 out of 1204, pct complete 89\n",
      "adding sirisia kenya, 1080 out of 1204, pct complete 89\n",
      "adding sisi kwa sisi kenya, 1081 out of 1204, pct complete 89\n",
      "adding sitamalindi kenya, 1082 out of 1204, pct complete 89\n",
      "adding slota kenya, 1083 out of 1204, pct complete 89\n",
      "adding soi rift valley kenya, 1084 out of 1204, pct complete 90\n",
      "adding sokoke kenya, 1085 out of 1204, pct complete 90\n",
      "adding sokoya kenya, 1086 out of 1204, pct complete 90\n",
      "adding sondu kenya, 1087 out of 1204, pct complete 90\n",
      "adding sondukisumu kenya, 1088 out of 1204, pct complete 90\n",
      "adding sosiani kenya, 1089 out of 1204, pct complete 90\n",
      "adding south balozinairobi kenya, 1090 out of 1204, pct complete 90\n",
      "adding south c nairobi kenya, 1091 out of 1204, pct complete 90\n",
      "adding south kariobangi kenya, 1092 out of 1204, pct complete 90\n",
      "adding sowetonairobi kenya, 1093 out of 1204, pct complete 90\n",
      "adding sportive kenya, 1094 out of 1204, pct complete 90\n",
      "adding sports ground kisumu kenya, 1095 out of 1204, pct complete 90\n",
      "adding star kenya, 1096 out of 1204, pct complete 91\n",
      "adding starehe nairobi kenya, 1097 out of 1204, pct complete 91\n",
      "adding sultanhamudemali kenya, 1098 out of 1204, pct complete 91\n",
      "adding suna migori kenya, 1099 out of 1204, pct complete 91\n",
      "adding suna ralagamigori kenya, 1100 out of 1204, pct complete 91\n",
      "adding suna southmigori kenya, 1101 out of 1204, pct complete 91\n",
      "adding sunton kenya, 1102 out of 1204, pct complete 91\n",
      "adding superladies kenya, 1103 out of 1204, pct complete 91\n",
      "adding syokimaunairobi kenya, 1104 out of 1204, pct complete 91\n",
      "adding tachasis kapsabet kenya, 1105 out of 1204, pct complete 91\n",
      "adding takaungu kenya, 1106 out of 1204, pct complete 91\n",
      "adding tala kenya, 1107 out of 1204, pct complete 91\n",
      "adding talakangundo kenya, 1108 out of 1204, pct complete 92\n",
      "adding tambach iten kenya, 1109 out of 1204, pct complete 92\n",
      "adding tassia nairobi kenya, 1110 out of 1204, pct complete 92\n",
      "adding taveta kenya, 1111 out of 1204, pct complete 92\n",
      "adding tenanairobi kenya, 1112 out of 1204, pct complete 92\n",
      "adding tenges baringo kenya, 1113 out of 1204, pct complete 92\n",
      "adding teso kenya, 1114 out of 1204, pct complete 92\n",
      "adding tezo kenya, 1115 out of 1204, pct complete 92\n",
      "adding tezo kilifi kenya, 1116 out of 1204, pct complete 92\n",
      "adding thamanda kikuyu kenya, 1117 out of 1204, pct complete 92\n",
      "adding thika kenya, 1118 out of 1204, pct complete 92\n",
      "adding thika road kenya, 1119 out of 1204, pct complete 92\n",
      "adding thika town kenya, 1120 out of 1204, pct complete 93\n",
      "adding thikatown kenya, 1121 out of 1204, pct complete 93\n",
      "adding thiongo kenya, 1122 out of 1204, pct complete 93\n",
      "adding thiongo road kangemi kenya, 1123 out of 1204, pct complete 93\n",
      "adding tigoni limuru kenya, 1124 out of 1204, pct complete 93\n",
      "adding tijara kenya, 1125 out of 1204, pct complete 93\n",
      "adding timbonimalindi kenya, 1126 out of 1204, pct complete 93\n",
      "adding tindiret kenya, 1127 out of 1204, pct complete 93\n",
      "adding tiribe kenya, 1128 out of 1204, pct complete 93\n",
      "adding tononoka mombasa kenya, 1129 out of 1204, pct complete 93\n",
      "adding tot kenya, 1130 out of 1204, pct complete 93\n",
      "adding tseikuru kenya, 1131 out of 1204, pct complete 93\n",
      "adding tta market nairobi kenya, 1132 out of 1204, pct complete 94\n",
      "adding tta universitynairobi kenya, 1133 out of 1204, pct complete 94\n",
      "adding ttanairobi kenya, 1134 out of 1204, pct complete 94\n",
      "adding tuamkeni kenya, 1135 out of 1204, pct complete 94\n"
     ]
    },
    {
     "name": "stdout",
     "output_type": "stream",
     "text": [
      "adding tudor mombasa kenya, 1136 out of 1204, pct complete 94\n",
      "adding tugumoi baringo county kenya, 1137 out of 1204, pct complete 94\n",
      "adding tujipemoyo kenya, 1138 out of 1204, pct complete 94\n",
      "adding tumaini kenya, 1139 out of 1204, pct complete 94\n",
      "adding turner bakerkitale kenya, 1140 out of 1204, pct complete 94\n",
      "adding tushauriane kenya, 1141 out of 1204, pct complete 94\n",
      "adding uchumi kenya, 1142 out of 1204, pct complete 94\n",
      "adding ufanisi kenya, 1143 out of 1204, pct complete 94\n",
      "adding ufumbuzi kenya, 1144 out of 1204, pct complete 95\n",
      "adding ugunja kenya, 1145 out of 1204, pct complete 95\n",
      "adding uhuru estate kenya, 1146 out of 1204, pct complete 95\n",
      "adding uhurunairobi kenya, 1147 out of 1204, pct complete 95\n",
      "adding ujamaa likoni mombasa kenya, 1148 out of 1204, pct complete 95\n",
      "adding ukunda kenya, 1149 out of 1204, pct complete 95\n",
      "adding ukunda town kenya, 1150 out of 1204, pct complete 95\n",
      "adding ukundamombasa kenya, 1151 out of 1204, pct complete 95\n",
      "adding umoja ii nairobi kenya, 1152 out of 1204, pct complete 95\n",
      "adding umoja kenya, 1153 out of 1204, pct complete 95\n",
      "adding umoja nairobi kenya, 1154 out of 1204, pct complete 95\n",
      "adding umoja ni nguvu kenya, 1155 out of 1204, pct complete 95\n",
      "adding upendo kenya, 1156 out of 1204, pct complete 96\n",
      "adding usenge town kenya, 1157 out of 1204, pct complete 96\n",
      "adding usengekisumu kenya, 1158 out of 1204, pct complete 96\n",
      "adding ushindi kenya, 1159 out of 1204, pct complete 96\n",
      "adding utange mombasa kenya, 1160 out of 1204, pct complete 96\n",
      "adding utawala nairobi kenya, 1161 out of 1204, pct complete 96\n",
      "adding uthiru kenya, 1162 out of 1204, pct complete 96\n",
      "adding uthirunairobi kenya, 1163 out of 1204, pct complete 96\n",
      "adding vihiga kenya, 1164 out of 1204, pct complete 96\n",
      "adding vikwatani mombasa kenya, 1165 out of 1204, pct complete 96\n",
      "adding village marketnairobi kenya, 1166 out of 1204, pct complete 96\n",
      "adding vipingo kilifi kenya, 1167 out of 1204, pct complete 96\n",
      "adding vitengeni kenya, 1168 out of 1204, pct complete 97\n",
      "adding viwandani kenya, 1169 out of 1204, pct complete 97\n",
      "adding viwandani nairobi kenya, 1170 out of 1204, pct complete 97\n",
      "adding viwandaninairobi kenya, 1171 out of 1204, pct complete 97\n",
      "adding vlley viewmlolongo kenya, 1172 out of 1204, pct complete 97\n",
      "adding voi kenya, 1173 out of 1204, pct complete 97\n",
      "adding voitaru kenya, 1174 out of 1204, pct complete 97\n",
      "adding vok mombasa kenya, 1175 out of 1204, pct complete 97\n",
      "adding vumilia kenya, 1176 out of 1204, pct complete 97\n",
      "adding vyambani kenya, 1177 out of 1204, pct complete 97\n",
      "adding waithaka kenya, 1178 out of 1204, pct complete 97\n",
      "adding wanyee rd kenya, 1179 out of 1204, pct complete 97\n",
      "adding wanyee road kenya, 1180 out of 1204, pct complete 98\n",
      "adding waratho kiambu kenya, 1181 out of 1204, pct complete 98\n",
      "adding waruku kangemi kenya, 1182 out of 1204, pct complete 98\n",
      "adding wayanimalindi kenya, 1183 out of 1204, pct complete 98\n",
      "adding webuye kenya, 1184 out of 1204, pct complete 98\n",
      "adding weema kenya, 1185 out of 1204, pct complete 98\n",
      "adding wema kenya, 1186 out of 1204, pct complete 98\n",
      "adding wema mombasa kenya, 1187 out of 1204, pct complete 98\n",
      "adding west kanyanmkago migori kenya, 1188 out of 1204, pct complete 98\n",
      "adding west nairobi kenya, 1189 out of 1204, pct complete 98\n",
      "adding westlands kenya, 1190 out of 1204, pct complete 98\n",
      "adding wodanga kakamega kenya, 1191 out of 1204, pct complete 98\n",
      "adding woodley nairobi kenya, 1192 out of 1204, pct complete 99\n",
      "adding wote makueni kenya, 1193 out of 1204, pct complete 99\n",
      "adding wotemakueni kenya, 1194 out of 1204, pct complete 99\n",
      "adding yala kenya, 1195 out of 1204, pct complete 99\n",
      "adding yataka moyo kenya, 1196 out of 1204, pct complete 99\n",
      "adding young mothers kenya, 1197 out of 1204, pct complete 99\n",
      "adding zambezi limuru kenya, 1198 out of 1204, pct complete 99\n",
      "adding zambezi nairobi kenya, 1199 out of 1204, pct complete 99\n",
      "adding zambezi nderikikuyu kenya, 1200 out of 1204, pct complete 99\n",
      "adding ziani kenya, 1201 out of 1204, pct complete 99\n",
      "adding zimmerman nairobi kenya, 1202 out of 1204, pct complete 99\n",
      "adding zingatia kenya, 1203 out of 1204, pct complete 99\n"
     ]
    }
   ],
   "source": [
    "location = location_match(unique_location, lookup)\n",
    "\n"
   ]
  },
  {
   "cell_type": "code",
   "execution_count": 69,
   "metadata": {},
   "outputs": [
    {
     "ename": "ValueError",
     "evalue": "Length of values does not match length of index",
     "output_type": "error",
     "traceback": [
      "\u001b[0;31m---------------------------------------------------------------------------\u001b[0m",
      "\u001b[0;31mValueError\u001b[0m                                Traceback (most recent call last)",
      "\u001b[0;32m<ipython-input-69-15a71528c836>\u001b[0m in \u001b[0;36m<module>\u001b[0;34m()\u001b[0m\n\u001b[0;32m----> 1\u001b[0;31m \u001b[0mdf\u001b[0m\u001b[0;34m.\u001b[0m\u001b[0mlocation\u001b[0m \u001b[0;34m=\u001b[0m \u001b[0mlocation\u001b[0m\u001b[0;34m\u001b[0m\u001b[0m\n\u001b[0m",
      "\u001b[0;32m/Library/Frameworks/Python.framework/Versions/3.5/lib/python3.5/site-packages/pandas/core/generic.py\u001b[0m in \u001b[0;36m__setattr__\u001b[0;34m(self, name, value)\u001b[0m\n\u001b[1;32m   2997\u001b[0m                     \u001b[0mobject\u001b[0m\u001b[0;34m.\u001b[0m\u001b[0m__setattr__\u001b[0m\u001b[0;34m(\u001b[0m\u001b[0mself\u001b[0m\u001b[0;34m,\u001b[0m \u001b[0mname\u001b[0m\u001b[0;34m,\u001b[0m \u001b[0mvalue\u001b[0m\u001b[0;34m)\u001b[0m\u001b[0;34m\u001b[0m\u001b[0m\n\u001b[1;32m   2998\u001b[0m                 \u001b[0;32melif\u001b[0m \u001b[0mname\u001b[0m \u001b[0;32min\u001b[0m \u001b[0mself\u001b[0m\u001b[0;34m.\u001b[0m\u001b[0m_info_axis\u001b[0m\u001b[0;34m:\u001b[0m\u001b[0;34m\u001b[0m\u001b[0m\n\u001b[0;32m-> 2999\u001b[0;31m                     \u001b[0mself\u001b[0m\u001b[0;34m[\u001b[0m\u001b[0mname\u001b[0m\u001b[0;34m]\u001b[0m \u001b[0;34m=\u001b[0m \u001b[0mvalue\u001b[0m\u001b[0;34m\u001b[0m\u001b[0m\n\u001b[0m\u001b[1;32m   3000\u001b[0m                 \u001b[0;32melse\u001b[0m\u001b[0;34m:\u001b[0m\u001b[0;34m\u001b[0m\u001b[0m\n\u001b[1;32m   3001\u001b[0m                     \u001b[0mobject\u001b[0m\u001b[0;34m.\u001b[0m\u001b[0m__setattr__\u001b[0m\u001b[0;34m(\u001b[0m\u001b[0mself\u001b[0m\u001b[0;34m,\u001b[0m \u001b[0mname\u001b[0m\u001b[0;34m,\u001b[0m \u001b[0mvalue\u001b[0m\u001b[0;34m)\u001b[0m\u001b[0;34m\u001b[0m\u001b[0m\n",
      "\u001b[0;32m/Library/Frameworks/Python.framework/Versions/3.5/lib/python3.5/site-packages/pandas/core/frame.py\u001b[0m in \u001b[0;36m__setitem__\u001b[0;34m(self, key, value)\u001b[0m\n\u001b[1;32m   2427\u001b[0m         \u001b[0;32melse\u001b[0m\u001b[0;34m:\u001b[0m\u001b[0;34m\u001b[0m\u001b[0m\n\u001b[1;32m   2428\u001b[0m             \u001b[0;31m# set column\u001b[0m\u001b[0;34m\u001b[0m\u001b[0;34m\u001b[0m\u001b[0m\n\u001b[0;32m-> 2429\u001b[0;31m             \u001b[0mself\u001b[0m\u001b[0;34m.\u001b[0m\u001b[0m_set_item\u001b[0m\u001b[0;34m(\u001b[0m\u001b[0mkey\u001b[0m\u001b[0;34m,\u001b[0m \u001b[0mvalue\u001b[0m\u001b[0;34m)\u001b[0m\u001b[0;34m\u001b[0m\u001b[0m\n\u001b[0m\u001b[1;32m   2430\u001b[0m \u001b[0;34m\u001b[0m\u001b[0m\n\u001b[1;32m   2431\u001b[0m     \u001b[0;32mdef\u001b[0m \u001b[0m_setitem_slice\u001b[0m\u001b[0;34m(\u001b[0m\u001b[0mself\u001b[0m\u001b[0;34m,\u001b[0m \u001b[0mkey\u001b[0m\u001b[0;34m,\u001b[0m \u001b[0mvalue\u001b[0m\u001b[0;34m)\u001b[0m\u001b[0;34m:\u001b[0m\u001b[0;34m\u001b[0m\u001b[0m\n",
      "\u001b[0;32m/Library/Frameworks/Python.framework/Versions/3.5/lib/python3.5/site-packages/pandas/core/frame.py\u001b[0m in \u001b[0;36m_set_item\u001b[0;34m(self, key, value)\u001b[0m\n\u001b[1;32m   2493\u001b[0m \u001b[0;34m\u001b[0m\u001b[0m\n\u001b[1;32m   2494\u001b[0m         \u001b[0mself\u001b[0m\u001b[0;34m.\u001b[0m\u001b[0m_ensure_valid_index\u001b[0m\u001b[0;34m(\u001b[0m\u001b[0mvalue\u001b[0m\u001b[0;34m)\u001b[0m\u001b[0;34m\u001b[0m\u001b[0m\n\u001b[0;32m-> 2495\u001b[0;31m         \u001b[0mvalue\u001b[0m \u001b[0;34m=\u001b[0m \u001b[0mself\u001b[0m\u001b[0;34m.\u001b[0m\u001b[0m_sanitize_column\u001b[0m\u001b[0;34m(\u001b[0m\u001b[0mkey\u001b[0m\u001b[0;34m,\u001b[0m \u001b[0mvalue\u001b[0m\u001b[0;34m)\u001b[0m\u001b[0;34m\u001b[0m\u001b[0m\n\u001b[0m\u001b[1;32m   2496\u001b[0m         \u001b[0mNDFrame\u001b[0m\u001b[0;34m.\u001b[0m\u001b[0m_set_item\u001b[0m\u001b[0;34m(\u001b[0m\u001b[0mself\u001b[0m\u001b[0;34m,\u001b[0m \u001b[0mkey\u001b[0m\u001b[0;34m,\u001b[0m \u001b[0mvalue\u001b[0m\u001b[0;34m)\u001b[0m\u001b[0;34m\u001b[0m\u001b[0m\n\u001b[1;32m   2497\u001b[0m \u001b[0;34m\u001b[0m\u001b[0m\n",
      "\u001b[0;32m/Library/Frameworks/Python.framework/Versions/3.5/lib/python3.5/site-packages/pandas/core/frame.py\u001b[0m in \u001b[0;36m_sanitize_column\u001b[0;34m(self, key, value, broadcast)\u001b[0m\n\u001b[1;32m   2664\u001b[0m \u001b[0;34m\u001b[0m\u001b[0m\n\u001b[1;32m   2665\u001b[0m             \u001b[0;31m# turn me into an ndarray\u001b[0m\u001b[0;34m\u001b[0m\u001b[0;34m\u001b[0m\u001b[0m\n\u001b[0;32m-> 2666\u001b[0;31m             \u001b[0mvalue\u001b[0m \u001b[0;34m=\u001b[0m \u001b[0m_sanitize_index\u001b[0m\u001b[0;34m(\u001b[0m\u001b[0mvalue\u001b[0m\u001b[0;34m,\u001b[0m \u001b[0mself\u001b[0m\u001b[0;34m.\u001b[0m\u001b[0mindex\u001b[0m\u001b[0;34m,\u001b[0m \u001b[0mcopy\u001b[0m\u001b[0;34m=\u001b[0m\u001b[0;32mFalse\u001b[0m\u001b[0;34m)\u001b[0m\u001b[0;34m\u001b[0m\u001b[0m\n\u001b[0m\u001b[1;32m   2667\u001b[0m             \u001b[0;32mif\u001b[0m \u001b[0;32mnot\u001b[0m \u001b[0misinstance\u001b[0m\u001b[0;34m(\u001b[0m\u001b[0mvalue\u001b[0m\u001b[0;34m,\u001b[0m \u001b[0;34m(\u001b[0m\u001b[0mnp\u001b[0m\u001b[0;34m.\u001b[0m\u001b[0mndarray\u001b[0m\u001b[0;34m,\u001b[0m \u001b[0mIndex\u001b[0m\u001b[0;34m)\u001b[0m\u001b[0;34m)\u001b[0m\u001b[0;34m:\u001b[0m\u001b[0;34m\u001b[0m\u001b[0m\n\u001b[1;32m   2668\u001b[0m                 \u001b[0;32mif\u001b[0m \u001b[0misinstance\u001b[0m\u001b[0;34m(\u001b[0m\u001b[0mvalue\u001b[0m\u001b[0;34m,\u001b[0m \u001b[0mlist\u001b[0m\u001b[0;34m)\u001b[0m \u001b[0;32mand\u001b[0m \u001b[0mlen\u001b[0m\u001b[0;34m(\u001b[0m\u001b[0mvalue\u001b[0m\u001b[0;34m)\u001b[0m \u001b[0;34m>\u001b[0m \u001b[0;36m0\u001b[0m\u001b[0;34m:\u001b[0m\u001b[0;34m\u001b[0m\u001b[0m\n",
      "\u001b[0;32m/Library/Frameworks/Python.framework/Versions/3.5/lib/python3.5/site-packages/pandas/core/series.py\u001b[0m in \u001b[0;36m_sanitize_index\u001b[0;34m(data, index, copy)\u001b[0m\n\u001b[1;32m   2877\u001b[0m \u001b[0;34m\u001b[0m\u001b[0m\n\u001b[1;32m   2878\u001b[0m     \u001b[0;32mif\u001b[0m \u001b[0mlen\u001b[0m\u001b[0;34m(\u001b[0m\u001b[0mdata\u001b[0m\u001b[0;34m)\u001b[0m \u001b[0;34m!=\u001b[0m \u001b[0mlen\u001b[0m\u001b[0;34m(\u001b[0m\u001b[0mindex\u001b[0m\u001b[0;34m)\u001b[0m\u001b[0;34m:\u001b[0m\u001b[0;34m\u001b[0m\u001b[0m\n\u001b[0;32m-> 2879\u001b[0;31m         \u001b[0;32mraise\u001b[0m \u001b[0mValueError\u001b[0m\u001b[0;34m(\u001b[0m\u001b[0;34m'Length of values does not match length of '\u001b[0m \u001b[0;34m'index'\u001b[0m\u001b[0;34m)\u001b[0m\u001b[0;34m\u001b[0m\u001b[0m\n\u001b[0m\u001b[1;32m   2880\u001b[0m \u001b[0;34m\u001b[0m\u001b[0m\n\u001b[1;32m   2881\u001b[0m     \u001b[0;32mif\u001b[0m \u001b[0misinstance\u001b[0m\u001b[0;34m(\u001b[0m\u001b[0mdata\u001b[0m\u001b[0;34m,\u001b[0m \u001b[0mPeriodIndex\u001b[0m\u001b[0;34m)\u001b[0m\u001b[0;34m:\u001b[0m\u001b[0;34m\u001b[0m\u001b[0m\n",
      "\u001b[0;31mValueError\u001b[0m: Length of values does not match length of index"
     ]
    }
   ],
   "source": [
    "df.location = location"
   ]
  },
  {
   "cell_type": "code",
   "execution_count": null,
   "metadata": {
    "collapsed": true
   },
   "outputs": [],
   "source": [
    "df['location_detail'] = df['location'].map(location)\n",
    "\n",
    "df['location_str']=df['location_detail'].astype(str).map(lambda x: re.sub(r'Kenya',r'',x).lower().rstrip().lstrip())"
   ]
  },
  {
   "cell_type": "code",
   "execution_count": 71,
   "metadata": {
    "collapsed": true
   },
   "outputs": [],
   "source": [
    "lookup_tags=pd.read_csv(data_path+'/province_counties_KE.csv', low_memory=False)"
   ]
  },
  {
   "cell_type": "code",
   "execution_count": 72,
   "metadata": {},
   "outputs": [
    {
     "data": {
      "text/plain": [
       "array(['mombasa', 'kwale', 'kilifi', 'tana river', 'lamu', 'taita',\n",
       "       'garissa', 'wajir', 'mandera', 'marsabit', 'isiolo', 'meru',\n",
       "       'tharaka', 'embu', 'kitui', 'machakos', 'makueni', 'nyandarua',\n",
       "       'nyeri', 'kirinyaga', 'muranga', 'kiambu', 'turkana', 'pokot',\n",
       "       'samburu', 'trans nzoia', 'uasin', 'elgeyo', 'nandi', 'baringo',\n",
       "       'laikipia', 'nakuru', 'narok', 'kajiado', 'kericho', 'bomet',\n",
       "       'kakamega', 'vihiga', 'bungoma', 'busia', 'siaya', 'kisumu', 'homa',\n",
       "       'migori', 'kisii', 'nyamira', 'nairobi'], dtype=object)"
      ]
     },
     "execution_count": 72,
     "metadata": {},
     "output_type": "execute_result"
    }
   ],
   "source": [
    "lookup_tags['county'].unique()"
   ]
  },
  {
   "cell_type": "code",
   "execution_count": 73,
   "metadata": {
    "collapsed": true
   },
   "outputs": [],
   "source": [
    "# define a function that performs a loop that parses out all words, \n",
    "#  finds age and number of children match and creates a list that is return at the end of the function\n",
    "\n",
    "def text_search(tag):\n",
    "    #creates empty lists that are then added to in loop\n",
    "    number=[]\n",
    "    flag = tag.astype(str)\n",
    "    match=flag.tolist()\n",
    "    print(match)\n",
    "    match = re.compile(r'\\b(?:%s)\\b' % '|'.join(match))\n",
    "    for descr in df['location_str']:\n",
    "        try:\n",
    "            if isinstance(descr, str):\n",
    "                    if re.findall(match, descr):\n",
    "                        match_0=re.findall(match,  descr)\n",
    "                        match_1=re.findall(match,  descr)[:1]\n",
    "                        word_1=\" \".join(match_1)\n",
    "                        number.append(word_1)\n",
    "                    else:\n",
    "                        number.append('')\n",
    "        except:\n",
    "            print('error')\n",
    "            \n",
    "    return(number)"
   ]
  },
  {
   "cell_type": "code",
   "execution_count": 74,
   "metadata": {},
   "outputs": [
    {
     "name": "stdout",
     "output_type": "stream",
     "text": [
      "['mombasa', 'kwale', 'kilifi', 'tana river', 'lamu', 'taita', 'garissa', 'wajir', 'mandera', 'marsabit', 'isiolo', 'meru', 'tharaka', 'embu', 'kitui', 'machakos', 'makueni', 'nyandarua', 'nyeri', 'kirinyaga', 'muranga', 'kiambu', 'turkana', 'pokot', 'samburu', 'trans nzoia', 'uasin', 'elgeyo', 'nandi', 'baringo', 'laikipia', 'nakuru', 'narok', 'kajiado', 'kericho', 'bomet', 'kakamega', 'vihiga', 'bungoma', 'busia', 'siaya', 'kisumu', 'homa', 'migori', 'kisii', 'nyamira', 'nairobi']\n"
     ]
    },
    {
     "ename": "KeyError",
     "evalue": "'location_str'",
     "output_type": "error",
     "traceback": [
      "\u001b[0;31m---------------------------------------------------------------------------\u001b[0m",
      "\u001b[0;31mKeyError\u001b[0m                                  Traceback (most recent call last)",
      "\u001b[0;32m/Library/Frameworks/Python.framework/Versions/3.5/lib/python3.5/site-packages/pandas/core/indexes/base.py\u001b[0m in \u001b[0;36mget_loc\u001b[0;34m(self, key, method, tolerance)\u001b[0m\n\u001b[1;32m   2392\u001b[0m             \u001b[0;32mtry\u001b[0m\u001b[0;34m:\u001b[0m\u001b[0;34m\u001b[0m\u001b[0m\n\u001b[0;32m-> 2393\u001b[0;31m                 \u001b[0;32mreturn\u001b[0m \u001b[0mself\u001b[0m\u001b[0;34m.\u001b[0m\u001b[0m_engine\u001b[0m\u001b[0;34m.\u001b[0m\u001b[0mget_loc\u001b[0m\u001b[0;34m(\u001b[0m\u001b[0mkey\u001b[0m\u001b[0;34m)\u001b[0m\u001b[0;34m\u001b[0m\u001b[0m\n\u001b[0m\u001b[1;32m   2394\u001b[0m             \u001b[0;32mexcept\u001b[0m \u001b[0mKeyError\u001b[0m\u001b[0;34m:\u001b[0m\u001b[0;34m\u001b[0m\u001b[0m\n",
      "\u001b[0;32mpandas/_libs/index.pyx\u001b[0m in \u001b[0;36mpandas._libs.index.IndexEngine.get_loc (pandas/_libs/index.c:5239)\u001b[0;34m()\u001b[0m\n",
      "\u001b[0;32mpandas/_libs/index.pyx\u001b[0m in \u001b[0;36mpandas._libs.index.IndexEngine.get_loc (pandas/_libs/index.c:5085)\u001b[0;34m()\u001b[0m\n",
      "\u001b[0;32mpandas/_libs/hashtable_class_helper.pxi\u001b[0m in \u001b[0;36mpandas._libs.hashtable.PyObjectHashTable.get_item (pandas/_libs/hashtable.c:20405)\u001b[0;34m()\u001b[0m\n",
      "\u001b[0;32mpandas/_libs/hashtable_class_helper.pxi\u001b[0m in \u001b[0;36mpandas._libs.hashtable.PyObjectHashTable.get_item (pandas/_libs/hashtable.c:20359)\u001b[0;34m()\u001b[0m\n",
      "\u001b[0;31mKeyError\u001b[0m: 'location_str'",
      "\nDuring handling of the above exception, another exception occurred:\n",
      "\u001b[0;31mKeyError\u001b[0m                                  Traceback (most recent call last)",
      "\u001b[0;32m<ipython-input-74-2b6a9db204da>\u001b[0m in \u001b[0;36m<module>\u001b[0;34m()\u001b[0m\n\u001b[0;32m----> 1\u001b[0;31m \u001b[0mnumber\u001b[0m\u001b[0;34m=\u001b[0m \u001b[0mtext_search\u001b[0m\u001b[0;34m(\u001b[0m\u001b[0mlookup_tags\u001b[0m\u001b[0;34m[\u001b[0m\u001b[0;34m'county'\u001b[0m\u001b[0;34m]\u001b[0m\u001b[0;34m)\u001b[0m\u001b[0;34m\u001b[0m\u001b[0m\n\u001b[0m\u001b[1;32m      2\u001b[0m \u001b[0mdf\u001b[0m\u001b[0;34m[\u001b[0m\u001b[0;34m'county'\u001b[0m\u001b[0;34m]\u001b[0m\u001b[0;34m=\u001b[0m\u001b[0mpd\u001b[0m\u001b[0;34m.\u001b[0m\u001b[0mDataFrame\u001b[0m\u001b[0;34m(\u001b[0m\u001b[0mnumber\u001b[0m\u001b[0;34m)\u001b[0m\u001b[0;34m\u001b[0m\u001b[0m\n",
      "\u001b[0;32m<ipython-input-73-e53d54533718>\u001b[0m in \u001b[0;36mtext_search\u001b[0;34m(tag)\u001b[0m\n\u001b[1;32m      9\u001b[0m     \u001b[0mprint\u001b[0m\u001b[0;34m(\u001b[0m\u001b[0mmatch\u001b[0m\u001b[0;34m)\u001b[0m\u001b[0;34m\u001b[0m\u001b[0m\n\u001b[1;32m     10\u001b[0m     \u001b[0mmatch\u001b[0m \u001b[0;34m=\u001b[0m \u001b[0mre\u001b[0m\u001b[0;34m.\u001b[0m\u001b[0mcompile\u001b[0m\u001b[0;34m(\u001b[0m\u001b[0;34mr'\\b(?:%s)\\b'\u001b[0m \u001b[0;34m%\u001b[0m \u001b[0;34m'|'\u001b[0m\u001b[0;34m.\u001b[0m\u001b[0mjoin\u001b[0m\u001b[0;34m(\u001b[0m\u001b[0mmatch\u001b[0m\u001b[0;34m)\u001b[0m\u001b[0;34m)\u001b[0m\u001b[0;34m\u001b[0m\u001b[0m\n\u001b[0;32m---> 11\u001b[0;31m     \u001b[0;32mfor\u001b[0m \u001b[0mdescr\u001b[0m \u001b[0;32min\u001b[0m \u001b[0mdf\u001b[0m\u001b[0;34m[\u001b[0m\u001b[0;34m'location_str'\u001b[0m\u001b[0;34m]\u001b[0m\u001b[0;34m:\u001b[0m\u001b[0;34m\u001b[0m\u001b[0m\n\u001b[0m\u001b[1;32m     12\u001b[0m         \u001b[0;32mtry\u001b[0m\u001b[0;34m:\u001b[0m\u001b[0;34m\u001b[0m\u001b[0m\n\u001b[1;32m     13\u001b[0m             \u001b[0;32mif\u001b[0m \u001b[0misinstance\u001b[0m\u001b[0;34m(\u001b[0m\u001b[0mdescr\u001b[0m\u001b[0;34m,\u001b[0m \u001b[0mstr\u001b[0m\u001b[0;34m)\u001b[0m\u001b[0;34m:\u001b[0m\u001b[0;34m\u001b[0m\u001b[0m\n",
      "\u001b[0;32m/Library/Frameworks/Python.framework/Versions/3.5/lib/python3.5/site-packages/pandas/core/frame.py\u001b[0m in \u001b[0;36m__getitem__\u001b[0;34m(self, key)\u001b[0m\n\u001b[1;32m   2060\u001b[0m             \u001b[0;32mreturn\u001b[0m \u001b[0mself\u001b[0m\u001b[0;34m.\u001b[0m\u001b[0m_getitem_multilevel\u001b[0m\u001b[0;34m(\u001b[0m\u001b[0mkey\u001b[0m\u001b[0;34m)\u001b[0m\u001b[0;34m\u001b[0m\u001b[0m\n\u001b[1;32m   2061\u001b[0m         \u001b[0;32melse\u001b[0m\u001b[0;34m:\u001b[0m\u001b[0;34m\u001b[0m\u001b[0m\n\u001b[0;32m-> 2062\u001b[0;31m             \u001b[0;32mreturn\u001b[0m \u001b[0mself\u001b[0m\u001b[0;34m.\u001b[0m\u001b[0m_getitem_column\u001b[0m\u001b[0;34m(\u001b[0m\u001b[0mkey\u001b[0m\u001b[0;34m)\u001b[0m\u001b[0;34m\u001b[0m\u001b[0m\n\u001b[0m\u001b[1;32m   2063\u001b[0m \u001b[0;34m\u001b[0m\u001b[0m\n\u001b[1;32m   2064\u001b[0m     \u001b[0;32mdef\u001b[0m \u001b[0m_getitem_column\u001b[0m\u001b[0;34m(\u001b[0m\u001b[0mself\u001b[0m\u001b[0;34m,\u001b[0m \u001b[0mkey\u001b[0m\u001b[0;34m)\u001b[0m\u001b[0;34m:\u001b[0m\u001b[0;34m\u001b[0m\u001b[0m\n",
      "\u001b[0;32m/Library/Frameworks/Python.framework/Versions/3.5/lib/python3.5/site-packages/pandas/core/frame.py\u001b[0m in \u001b[0;36m_getitem_column\u001b[0;34m(self, key)\u001b[0m\n\u001b[1;32m   2067\u001b[0m         \u001b[0;31m# get column\u001b[0m\u001b[0;34m\u001b[0m\u001b[0;34m\u001b[0m\u001b[0m\n\u001b[1;32m   2068\u001b[0m         \u001b[0;32mif\u001b[0m \u001b[0mself\u001b[0m\u001b[0;34m.\u001b[0m\u001b[0mcolumns\u001b[0m\u001b[0;34m.\u001b[0m\u001b[0mis_unique\u001b[0m\u001b[0;34m:\u001b[0m\u001b[0;34m\u001b[0m\u001b[0m\n\u001b[0;32m-> 2069\u001b[0;31m             \u001b[0;32mreturn\u001b[0m \u001b[0mself\u001b[0m\u001b[0;34m.\u001b[0m\u001b[0m_get_item_cache\u001b[0m\u001b[0;34m(\u001b[0m\u001b[0mkey\u001b[0m\u001b[0;34m)\u001b[0m\u001b[0;34m\u001b[0m\u001b[0m\n\u001b[0m\u001b[1;32m   2070\u001b[0m \u001b[0;34m\u001b[0m\u001b[0m\n\u001b[1;32m   2071\u001b[0m         \u001b[0;31m# duplicate columns & possible reduce dimensionality\u001b[0m\u001b[0;34m\u001b[0m\u001b[0;34m\u001b[0m\u001b[0m\n",
      "\u001b[0;32m/Library/Frameworks/Python.framework/Versions/3.5/lib/python3.5/site-packages/pandas/core/generic.py\u001b[0m in \u001b[0;36m_get_item_cache\u001b[0;34m(self, item)\u001b[0m\n\u001b[1;32m   1532\u001b[0m         \u001b[0mres\u001b[0m \u001b[0;34m=\u001b[0m \u001b[0mcache\u001b[0m\u001b[0;34m.\u001b[0m\u001b[0mget\u001b[0m\u001b[0;34m(\u001b[0m\u001b[0mitem\u001b[0m\u001b[0;34m)\u001b[0m\u001b[0;34m\u001b[0m\u001b[0m\n\u001b[1;32m   1533\u001b[0m         \u001b[0;32mif\u001b[0m \u001b[0mres\u001b[0m \u001b[0;32mis\u001b[0m \u001b[0;32mNone\u001b[0m\u001b[0;34m:\u001b[0m\u001b[0;34m\u001b[0m\u001b[0m\n\u001b[0;32m-> 1534\u001b[0;31m             \u001b[0mvalues\u001b[0m \u001b[0;34m=\u001b[0m \u001b[0mself\u001b[0m\u001b[0;34m.\u001b[0m\u001b[0m_data\u001b[0m\u001b[0;34m.\u001b[0m\u001b[0mget\u001b[0m\u001b[0;34m(\u001b[0m\u001b[0mitem\u001b[0m\u001b[0;34m)\u001b[0m\u001b[0;34m\u001b[0m\u001b[0m\n\u001b[0m\u001b[1;32m   1535\u001b[0m             \u001b[0mres\u001b[0m \u001b[0;34m=\u001b[0m \u001b[0mself\u001b[0m\u001b[0;34m.\u001b[0m\u001b[0m_box_item_values\u001b[0m\u001b[0;34m(\u001b[0m\u001b[0mitem\u001b[0m\u001b[0;34m,\u001b[0m \u001b[0mvalues\u001b[0m\u001b[0;34m)\u001b[0m\u001b[0;34m\u001b[0m\u001b[0m\n\u001b[1;32m   1536\u001b[0m             \u001b[0mcache\u001b[0m\u001b[0;34m[\u001b[0m\u001b[0mitem\u001b[0m\u001b[0;34m]\u001b[0m \u001b[0;34m=\u001b[0m \u001b[0mres\u001b[0m\u001b[0;34m\u001b[0m\u001b[0m\n",
      "\u001b[0;32m/Library/Frameworks/Python.framework/Versions/3.5/lib/python3.5/site-packages/pandas/core/internals.py\u001b[0m in \u001b[0;36mget\u001b[0;34m(self, item, fastpath)\u001b[0m\n\u001b[1;32m   3588\u001b[0m \u001b[0;34m\u001b[0m\u001b[0m\n\u001b[1;32m   3589\u001b[0m             \u001b[0;32mif\u001b[0m \u001b[0;32mnot\u001b[0m \u001b[0misnull\u001b[0m\u001b[0;34m(\u001b[0m\u001b[0mitem\u001b[0m\u001b[0;34m)\u001b[0m\u001b[0;34m:\u001b[0m\u001b[0;34m\u001b[0m\u001b[0m\n\u001b[0;32m-> 3590\u001b[0;31m                 \u001b[0mloc\u001b[0m \u001b[0;34m=\u001b[0m \u001b[0mself\u001b[0m\u001b[0;34m.\u001b[0m\u001b[0mitems\u001b[0m\u001b[0;34m.\u001b[0m\u001b[0mget_loc\u001b[0m\u001b[0;34m(\u001b[0m\u001b[0mitem\u001b[0m\u001b[0;34m)\u001b[0m\u001b[0;34m\u001b[0m\u001b[0m\n\u001b[0m\u001b[1;32m   3591\u001b[0m             \u001b[0;32melse\u001b[0m\u001b[0;34m:\u001b[0m\u001b[0;34m\u001b[0m\u001b[0m\n\u001b[1;32m   3592\u001b[0m                 \u001b[0mindexer\u001b[0m \u001b[0;34m=\u001b[0m \u001b[0mnp\u001b[0m\u001b[0;34m.\u001b[0m\u001b[0marange\u001b[0m\u001b[0;34m(\u001b[0m\u001b[0mlen\u001b[0m\u001b[0;34m(\u001b[0m\u001b[0mself\u001b[0m\u001b[0;34m.\u001b[0m\u001b[0mitems\u001b[0m\u001b[0;34m)\u001b[0m\u001b[0;34m)\u001b[0m\u001b[0;34m[\u001b[0m\u001b[0misnull\u001b[0m\u001b[0;34m(\u001b[0m\u001b[0mself\u001b[0m\u001b[0;34m.\u001b[0m\u001b[0mitems\u001b[0m\u001b[0;34m)\u001b[0m\u001b[0;34m]\u001b[0m\u001b[0;34m\u001b[0m\u001b[0m\n",
      "\u001b[0;32m/Library/Frameworks/Python.framework/Versions/3.5/lib/python3.5/site-packages/pandas/core/indexes/base.py\u001b[0m in \u001b[0;36mget_loc\u001b[0;34m(self, key, method, tolerance)\u001b[0m\n\u001b[1;32m   2393\u001b[0m                 \u001b[0;32mreturn\u001b[0m \u001b[0mself\u001b[0m\u001b[0;34m.\u001b[0m\u001b[0m_engine\u001b[0m\u001b[0;34m.\u001b[0m\u001b[0mget_loc\u001b[0m\u001b[0;34m(\u001b[0m\u001b[0mkey\u001b[0m\u001b[0;34m)\u001b[0m\u001b[0;34m\u001b[0m\u001b[0m\n\u001b[1;32m   2394\u001b[0m             \u001b[0;32mexcept\u001b[0m \u001b[0mKeyError\u001b[0m\u001b[0;34m:\u001b[0m\u001b[0;34m\u001b[0m\u001b[0m\n\u001b[0;32m-> 2395\u001b[0;31m                 \u001b[0;32mreturn\u001b[0m \u001b[0mself\u001b[0m\u001b[0;34m.\u001b[0m\u001b[0m_engine\u001b[0m\u001b[0;34m.\u001b[0m\u001b[0mget_loc\u001b[0m\u001b[0;34m(\u001b[0m\u001b[0mself\u001b[0m\u001b[0;34m.\u001b[0m\u001b[0m_maybe_cast_indexer\u001b[0m\u001b[0;34m(\u001b[0m\u001b[0mkey\u001b[0m\u001b[0;34m)\u001b[0m\u001b[0;34m)\u001b[0m\u001b[0;34m\u001b[0m\u001b[0m\n\u001b[0m\u001b[1;32m   2396\u001b[0m \u001b[0;34m\u001b[0m\u001b[0m\n\u001b[1;32m   2397\u001b[0m         \u001b[0mindexer\u001b[0m \u001b[0;34m=\u001b[0m \u001b[0mself\u001b[0m\u001b[0;34m.\u001b[0m\u001b[0mget_indexer\u001b[0m\u001b[0;34m(\u001b[0m\u001b[0;34m[\u001b[0m\u001b[0mkey\u001b[0m\u001b[0;34m]\u001b[0m\u001b[0;34m,\u001b[0m \u001b[0mmethod\u001b[0m\u001b[0;34m=\u001b[0m\u001b[0mmethod\u001b[0m\u001b[0;34m,\u001b[0m \u001b[0mtolerance\u001b[0m\u001b[0;34m=\u001b[0m\u001b[0mtolerance\u001b[0m\u001b[0;34m)\u001b[0m\u001b[0;34m\u001b[0m\u001b[0m\n",
      "\u001b[0;32mpandas/_libs/index.pyx\u001b[0m in \u001b[0;36mpandas._libs.index.IndexEngine.get_loc (pandas/_libs/index.c:5239)\u001b[0;34m()\u001b[0m\n",
      "\u001b[0;32mpandas/_libs/index.pyx\u001b[0m in \u001b[0;36mpandas._libs.index.IndexEngine.get_loc (pandas/_libs/index.c:5085)\u001b[0;34m()\u001b[0m\n",
      "\u001b[0;32mpandas/_libs/hashtable_class_helper.pxi\u001b[0m in \u001b[0;36mpandas._libs.hashtable.PyObjectHashTable.get_item (pandas/_libs/hashtable.c:20405)\u001b[0;34m()\u001b[0m\n",
      "\u001b[0;32mpandas/_libs/hashtable_class_helper.pxi\u001b[0m in \u001b[0;36mpandas._libs.hashtable.PyObjectHashTable.get_item (pandas/_libs/hashtable.c:20359)\u001b[0;34m()\u001b[0m\n",
      "\u001b[0;31mKeyError\u001b[0m: 'location_str'"
     ]
    }
   ],
   "source": [
    "number= text_search(lookup_tags['county'])\n",
    "df['county']=pd.DataFrame(number)"
   ]
  },
  {
   "cell_type": "code",
   "execution_count": 75,
   "metadata": {},
   "outputs": [
    {
     "ename": "KeyError",
     "evalue": "'county'",
     "output_type": "error",
     "traceback": [
      "\u001b[0;31m---------------------------------------------------------------------------\u001b[0m",
      "\u001b[0;31mKeyError\u001b[0m                                  Traceback (most recent call last)",
      "\u001b[0;32m/Library/Frameworks/Python.framework/Versions/3.5/lib/python3.5/site-packages/pandas/core/indexes/base.py\u001b[0m in \u001b[0;36mget_loc\u001b[0;34m(self, key, method, tolerance)\u001b[0m\n\u001b[1;32m   2392\u001b[0m             \u001b[0;32mtry\u001b[0m\u001b[0;34m:\u001b[0m\u001b[0;34m\u001b[0m\u001b[0m\n\u001b[0;32m-> 2393\u001b[0;31m                 \u001b[0;32mreturn\u001b[0m \u001b[0mself\u001b[0m\u001b[0;34m.\u001b[0m\u001b[0m_engine\u001b[0m\u001b[0;34m.\u001b[0m\u001b[0mget_loc\u001b[0m\u001b[0;34m(\u001b[0m\u001b[0mkey\u001b[0m\u001b[0;34m)\u001b[0m\u001b[0;34m\u001b[0m\u001b[0m\n\u001b[0m\u001b[1;32m   2394\u001b[0m             \u001b[0;32mexcept\u001b[0m \u001b[0mKeyError\u001b[0m\u001b[0;34m:\u001b[0m\u001b[0;34m\u001b[0m\u001b[0m\n",
      "\u001b[0;32mpandas/_libs/index.pyx\u001b[0m in \u001b[0;36mpandas._libs.index.IndexEngine.get_loc (pandas/_libs/index.c:5239)\u001b[0;34m()\u001b[0m\n",
      "\u001b[0;32mpandas/_libs/index.pyx\u001b[0m in \u001b[0;36mpandas._libs.index.IndexEngine.get_loc (pandas/_libs/index.c:5085)\u001b[0;34m()\u001b[0m\n",
      "\u001b[0;32mpandas/_libs/hashtable_class_helper.pxi\u001b[0m in \u001b[0;36mpandas._libs.hashtable.PyObjectHashTable.get_item (pandas/_libs/hashtable.c:20405)\u001b[0;34m()\u001b[0m\n",
      "\u001b[0;32mpandas/_libs/hashtable_class_helper.pxi\u001b[0m in \u001b[0;36mpandas._libs.hashtable.PyObjectHashTable.get_item (pandas/_libs/hashtable.c:20359)\u001b[0;34m()\u001b[0m\n",
      "\u001b[0;31mKeyError\u001b[0m: 'county'",
      "\nDuring handling of the above exception, another exception occurred:\n",
      "\u001b[0;31mKeyError\u001b[0m                                  Traceback (most recent call last)",
      "\u001b[0;32m<ipython-input-75-f107f640491b>\u001b[0m in \u001b[0;36m<module>\u001b[0;34m()\u001b[0m\n\u001b[1;32m      1\u001b[0m \u001b[0mmydict\u001b[0m \u001b[0;34m=\u001b[0m \u001b[0mdict\u001b[0m\u001b[0;34m(\u001b[0m\u001b[0mzip\u001b[0m\u001b[0;34m(\u001b[0m\u001b[0mlookup_tags\u001b[0m\u001b[0;34m.\u001b[0m\u001b[0mcounty\u001b[0m\u001b[0;34m,\u001b[0m \u001b[0mlookup_tags\u001b[0m\u001b[0;34m.\u001b[0m\u001b[0mprovince\u001b[0m\u001b[0;34m)\u001b[0m\u001b[0;34m)\u001b[0m\u001b[0;34m\u001b[0m\u001b[0m\n\u001b[0;32m----> 2\u001b[0;31m \u001b[0mdf\u001b[0m\u001b[0;34m[\u001b[0m\u001b[0;34m'province'\u001b[0m\u001b[0;34m]\u001b[0m\u001b[0;34m=\u001b[0m \u001b[0mdf\u001b[0m\u001b[0;34m[\u001b[0m\u001b[0;34m'county'\u001b[0m\u001b[0;34m]\u001b[0m\u001b[0;34m.\u001b[0m\u001b[0mmap\u001b[0m\u001b[0;34m(\u001b[0m\u001b[0mmydict\u001b[0m\u001b[0;34m)\u001b[0m\u001b[0;34m\u001b[0m\u001b[0m\n\u001b[0m\u001b[1;32m      3\u001b[0m \u001b[0;34m\u001b[0m\u001b[0m\n\u001b[1;32m      4\u001b[0m \u001b[0mmydict\u001b[0m \u001b[0;34m=\u001b[0m \u001b[0mdict\u001b[0m\u001b[0;34m(\u001b[0m\u001b[0mzip\u001b[0m\u001b[0;34m(\u001b[0m\u001b[0mlookup_tags\u001b[0m\u001b[0;34m.\u001b[0m\u001b[0mcounty\u001b[0m\u001b[0;34m,\u001b[0m \u001b[0mlookup_tags\u001b[0m\u001b[0;34m.\u001b[0m\u001b[0mcapital\u001b[0m\u001b[0;34m)\u001b[0m\u001b[0;34m)\u001b[0m\u001b[0;34m\u001b[0m\u001b[0m\n\u001b[1;32m      5\u001b[0m \u001b[0mdf\u001b[0m\u001b[0;34m[\u001b[0m\u001b[0;34m'province_capital'\u001b[0m\u001b[0;34m]\u001b[0m\u001b[0;34m=\u001b[0m \u001b[0mdf\u001b[0m\u001b[0;34m[\u001b[0m\u001b[0;34m'county'\u001b[0m\u001b[0;34m]\u001b[0m\u001b[0;34m.\u001b[0m\u001b[0mmap\u001b[0m\u001b[0;34m(\u001b[0m\u001b[0mmydict\u001b[0m\u001b[0;34m)\u001b[0m\u001b[0;34m\u001b[0m\u001b[0m\n",
      "\u001b[0;32m/Library/Frameworks/Python.framework/Versions/3.5/lib/python3.5/site-packages/pandas/core/frame.py\u001b[0m in \u001b[0;36m__getitem__\u001b[0;34m(self, key)\u001b[0m\n\u001b[1;32m   2060\u001b[0m             \u001b[0;32mreturn\u001b[0m \u001b[0mself\u001b[0m\u001b[0;34m.\u001b[0m\u001b[0m_getitem_multilevel\u001b[0m\u001b[0;34m(\u001b[0m\u001b[0mkey\u001b[0m\u001b[0;34m)\u001b[0m\u001b[0;34m\u001b[0m\u001b[0m\n\u001b[1;32m   2061\u001b[0m         \u001b[0;32melse\u001b[0m\u001b[0;34m:\u001b[0m\u001b[0;34m\u001b[0m\u001b[0m\n\u001b[0;32m-> 2062\u001b[0;31m             \u001b[0;32mreturn\u001b[0m \u001b[0mself\u001b[0m\u001b[0;34m.\u001b[0m\u001b[0m_getitem_column\u001b[0m\u001b[0;34m(\u001b[0m\u001b[0mkey\u001b[0m\u001b[0;34m)\u001b[0m\u001b[0;34m\u001b[0m\u001b[0m\n\u001b[0m\u001b[1;32m   2063\u001b[0m \u001b[0;34m\u001b[0m\u001b[0m\n\u001b[1;32m   2064\u001b[0m     \u001b[0;32mdef\u001b[0m \u001b[0m_getitem_column\u001b[0m\u001b[0;34m(\u001b[0m\u001b[0mself\u001b[0m\u001b[0;34m,\u001b[0m \u001b[0mkey\u001b[0m\u001b[0;34m)\u001b[0m\u001b[0;34m:\u001b[0m\u001b[0;34m\u001b[0m\u001b[0m\n",
      "\u001b[0;32m/Library/Frameworks/Python.framework/Versions/3.5/lib/python3.5/site-packages/pandas/core/frame.py\u001b[0m in \u001b[0;36m_getitem_column\u001b[0;34m(self, key)\u001b[0m\n\u001b[1;32m   2067\u001b[0m         \u001b[0;31m# get column\u001b[0m\u001b[0;34m\u001b[0m\u001b[0;34m\u001b[0m\u001b[0m\n\u001b[1;32m   2068\u001b[0m         \u001b[0;32mif\u001b[0m \u001b[0mself\u001b[0m\u001b[0;34m.\u001b[0m\u001b[0mcolumns\u001b[0m\u001b[0;34m.\u001b[0m\u001b[0mis_unique\u001b[0m\u001b[0;34m:\u001b[0m\u001b[0;34m\u001b[0m\u001b[0m\n\u001b[0;32m-> 2069\u001b[0;31m             \u001b[0;32mreturn\u001b[0m \u001b[0mself\u001b[0m\u001b[0;34m.\u001b[0m\u001b[0m_get_item_cache\u001b[0m\u001b[0;34m(\u001b[0m\u001b[0mkey\u001b[0m\u001b[0;34m)\u001b[0m\u001b[0;34m\u001b[0m\u001b[0m\n\u001b[0m\u001b[1;32m   2070\u001b[0m \u001b[0;34m\u001b[0m\u001b[0m\n\u001b[1;32m   2071\u001b[0m         \u001b[0;31m# duplicate columns & possible reduce dimensionality\u001b[0m\u001b[0;34m\u001b[0m\u001b[0;34m\u001b[0m\u001b[0m\n",
      "\u001b[0;32m/Library/Frameworks/Python.framework/Versions/3.5/lib/python3.5/site-packages/pandas/core/generic.py\u001b[0m in \u001b[0;36m_get_item_cache\u001b[0;34m(self, item)\u001b[0m\n\u001b[1;32m   1532\u001b[0m         \u001b[0mres\u001b[0m \u001b[0;34m=\u001b[0m \u001b[0mcache\u001b[0m\u001b[0;34m.\u001b[0m\u001b[0mget\u001b[0m\u001b[0;34m(\u001b[0m\u001b[0mitem\u001b[0m\u001b[0;34m)\u001b[0m\u001b[0;34m\u001b[0m\u001b[0m\n\u001b[1;32m   1533\u001b[0m         \u001b[0;32mif\u001b[0m \u001b[0mres\u001b[0m \u001b[0;32mis\u001b[0m \u001b[0;32mNone\u001b[0m\u001b[0;34m:\u001b[0m\u001b[0;34m\u001b[0m\u001b[0m\n\u001b[0;32m-> 1534\u001b[0;31m             \u001b[0mvalues\u001b[0m \u001b[0;34m=\u001b[0m \u001b[0mself\u001b[0m\u001b[0;34m.\u001b[0m\u001b[0m_data\u001b[0m\u001b[0;34m.\u001b[0m\u001b[0mget\u001b[0m\u001b[0;34m(\u001b[0m\u001b[0mitem\u001b[0m\u001b[0;34m)\u001b[0m\u001b[0;34m\u001b[0m\u001b[0m\n\u001b[0m\u001b[1;32m   1535\u001b[0m             \u001b[0mres\u001b[0m \u001b[0;34m=\u001b[0m \u001b[0mself\u001b[0m\u001b[0;34m.\u001b[0m\u001b[0m_box_item_values\u001b[0m\u001b[0;34m(\u001b[0m\u001b[0mitem\u001b[0m\u001b[0;34m,\u001b[0m \u001b[0mvalues\u001b[0m\u001b[0;34m)\u001b[0m\u001b[0;34m\u001b[0m\u001b[0m\n\u001b[1;32m   1536\u001b[0m             \u001b[0mcache\u001b[0m\u001b[0;34m[\u001b[0m\u001b[0mitem\u001b[0m\u001b[0;34m]\u001b[0m \u001b[0;34m=\u001b[0m \u001b[0mres\u001b[0m\u001b[0;34m\u001b[0m\u001b[0m\n",
      "\u001b[0;32m/Library/Frameworks/Python.framework/Versions/3.5/lib/python3.5/site-packages/pandas/core/internals.py\u001b[0m in \u001b[0;36mget\u001b[0;34m(self, item, fastpath)\u001b[0m\n\u001b[1;32m   3588\u001b[0m \u001b[0;34m\u001b[0m\u001b[0m\n\u001b[1;32m   3589\u001b[0m             \u001b[0;32mif\u001b[0m \u001b[0;32mnot\u001b[0m \u001b[0misnull\u001b[0m\u001b[0;34m(\u001b[0m\u001b[0mitem\u001b[0m\u001b[0;34m)\u001b[0m\u001b[0;34m:\u001b[0m\u001b[0;34m\u001b[0m\u001b[0m\n\u001b[0;32m-> 3590\u001b[0;31m                 \u001b[0mloc\u001b[0m \u001b[0;34m=\u001b[0m \u001b[0mself\u001b[0m\u001b[0;34m.\u001b[0m\u001b[0mitems\u001b[0m\u001b[0;34m.\u001b[0m\u001b[0mget_loc\u001b[0m\u001b[0;34m(\u001b[0m\u001b[0mitem\u001b[0m\u001b[0;34m)\u001b[0m\u001b[0;34m\u001b[0m\u001b[0m\n\u001b[0m\u001b[1;32m   3591\u001b[0m             \u001b[0;32melse\u001b[0m\u001b[0;34m:\u001b[0m\u001b[0;34m\u001b[0m\u001b[0m\n\u001b[1;32m   3592\u001b[0m                 \u001b[0mindexer\u001b[0m \u001b[0;34m=\u001b[0m \u001b[0mnp\u001b[0m\u001b[0;34m.\u001b[0m\u001b[0marange\u001b[0m\u001b[0;34m(\u001b[0m\u001b[0mlen\u001b[0m\u001b[0;34m(\u001b[0m\u001b[0mself\u001b[0m\u001b[0;34m.\u001b[0m\u001b[0mitems\u001b[0m\u001b[0;34m)\u001b[0m\u001b[0;34m)\u001b[0m\u001b[0;34m[\u001b[0m\u001b[0misnull\u001b[0m\u001b[0;34m(\u001b[0m\u001b[0mself\u001b[0m\u001b[0;34m.\u001b[0m\u001b[0mitems\u001b[0m\u001b[0;34m)\u001b[0m\u001b[0;34m]\u001b[0m\u001b[0;34m\u001b[0m\u001b[0m\n",
      "\u001b[0;32m/Library/Frameworks/Python.framework/Versions/3.5/lib/python3.5/site-packages/pandas/core/indexes/base.py\u001b[0m in \u001b[0;36mget_loc\u001b[0;34m(self, key, method, tolerance)\u001b[0m\n\u001b[1;32m   2393\u001b[0m                 \u001b[0;32mreturn\u001b[0m \u001b[0mself\u001b[0m\u001b[0;34m.\u001b[0m\u001b[0m_engine\u001b[0m\u001b[0;34m.\u001b[0m\u001b[0mget_loc\u001b[0m\u001b[0;34m(\u001b[0m\u001b[0mkey\u001b[0m\u001b[0;34m)\u001b[0m\u001b[0;34m\u001b[0m\u001b[0m\n\u001b[1;32m   2394\u001b[0m             \u001b[0;32mexcept\u001b[0m \u001b[0mKeyError\u001b[0m\u001b[0;34m:\u001b[0m\u001b[0;34m\u001b[0m\u001b[0m\n\u001b[0;32m-> 2395\u001b[0;31m                 \u001b[0;32mreturn\u001b[0m \u001b[0mself\u001b[0m\u001b[0;34m.\u001b[0m\u001b[0m_engine\u001b[0m\u001b[0;34m.\u001b[0m\u001b[0mget_loc\u001b[0m\u001b[0;34m(\u001b[0m\u001b[0mself\u001b[0m\u001b[0;34m.\u001b[0m\u001b[0m_maybe_cast_indexer\u001b[0m\u001b[0;34m(\u001b[0m\u001b[0mkey\u001b[0m\u001b[0;34m)\u001b[0m\u001b[0;34m)\u001b[0m\u001b[0;34m\u001b[0m\u001b[0m\n\u001b[0m\u001b[1;32m   2396\u001b[0m \u001b[0;34m\u001b[0m\u001b[0m\n\u001b[1;32m   2397\u001b[0m         \u001b[0mindexer\u001b[0m \u001b[0;34m=\u001b[0m \u001b[0mself\u001b[0m\u001b[0;34m.\u001b[0m\u001b[0mget_indexer\u001b[0m\u001b[0;34m(\u001b[0m\u001b[0;34m[\u001b[0m\u001b[0mkey\u001b[0m\u001b[0;34m]\u001b[0m\u001b[0;34m,\u001b[0m \u001b[0mmethod\u001b[0m\u001b[0;34m=\u001b[0m\u001b[0mmethod\u001b[0m\u001b[0;34m,\u001b[0m \u001b[0mtolerance\u001b[0m\u001b[0;34m=\u001b[0m\u001b[0mtolerance\u001b[0m\u001b[0;34m)\u001b[0m\u001b[0;34m\u001b[0m\u001b[0m\n",
      "\u001b[0;32mpandas/_libs/index.pyx\u001b[0m in \u001b[0;36mpandas._libs.index.IndexEngine.get_loc (pandas/_libs/index.c:5239)\u001b[0;34m()\u001b[0m\n",
      "\u001b[0;32mpandas/_libs/index.pyx\u001b[0m in \u001b[0;36mpandas._libs.index.IndexEngine.get_loc (pandas/_libs/index.c:5085)\u001b[0;34m()\u001b[0m\n",
      "\u001b[0;32mpandas/_libs/hashtable_class_helper.pxi\u001b[0m in \u001b[0;36mpandas._libs.hashtable.PyObjectHashTable.get_item (pandas/_libs/hashtable.c:20405)\u001b[0;34m()\u001b[0m\n",
      "\u001b[0;32mpandas/_libs/hashtable_class_helper.pxi\u001b[0m in \u001b[0;36mpandas._libs.hashtable.PyObjectHashTable.get_item (pandas/_libs/hashtable.c:20359)\u001b[0;34m()\u001b[0m\n",
      "\u001b[0;31mKeyError\u001b[0m: 'county'"
     ]
    }
   ],
   "source": [
    "mydict = dict(zip(lookup_tags.county, lookup_tags.province))\n",
    "df['province']= df['county'].map(mydict)\n",
    "\n",
    "mydict = dict(zip(lookup_tags.county, lookup_tags.capital))\n",
    "df['province_capital']= df['county'].map(mydict)"
   ]
  },
  {
   "cell_type": "code",
   "execution_count": 76,
   "metadata": {},
   "outputs": [
    {
     "ename": "KeyError",
     "evalue": "'province'",
     "output_type": "error",
     "traceback": [
      "\u001b[0;31m---------------------------------------------------------------------------\u001b[0m",
      "\u001b[0;31mKeyError\u001b[0m                                  Traceback (most recent call last)",
      "\u001b[0;32m/Library/Frameworks/Python.framework/Versions/3.5/lib/python3.5/site-packages/pandas/core/indexes/base.py\u001b[0m in \u001b[0;36mget_loc\u001b[0;34m(self, key, method, tolerance)\u001b[0m\n\u001b[1;32m   2392\u001b[0m             \u001b[0;32mtry\u001b[0m\u001b[0;34m:\u001b[0m\u001b[0;34m\u001b[0m\u001b[0m\n\u001b[0;32m-> 2393\u001b[0;31m                 \u001b[0;32mreturn\u001b[0m \u001b[0mself\u001b[0m\u001b[0;34m.\u001b[0m\u001b[0m_engine\u001b[0m\u001b[0;34m.\u001b[0m\u001b[0mget_loc\u001b[0m\u001b[0;34m(\u001b[0m\u001b[0mkey\u001b[0m\u001b[0;34m)\u001b[0m\u001b[0;34m\u001b[0m\u001b[0m\n\u001b[0m\u001b[1;32m   2394\u001b[0m             \u001b[0;32mexcept\u001b[0m \u001b[0mKeyError\u001b[0m\u001b[0;34m:\u001b[0m\u001b[0;34m\u001b[0m\u001b[0m\n",
      "\u001b[0;32mpandas/_libs/index.pyx\u001b[0m in \u001b[0;36mpandas._libs.index.IndexEngine.get_loc (pandas/_libs/index.c:5239)\u001b[0;34m()\u001b[0m\n",
      "\u001b[0;32mpandas/_libs/index.pyx\u001b[0m in \u001b[0;36mpandas._libs.index.IndexEngine.get_loc (pandas/_libs/index.c:5085)\u001b[0;34m()\u001b[0m\n",
      "\u001b[0;32mpandas/_libs/hashtable_class_helper.pxi\u001b[0m in \u001b[0;36mpandas._libs.hashtable.PyObjectHashTable.get_item (pandas/_libs/hashtable.c:20405)\u001b[0;34m()\u001b[0m\n",
      "\u001b[0;32mpandas/_libs/hashtable_class_helper.pxi\u001b[0m in \u001b[0;36mpandas._libs.hashtable.PyObjectHashTable.get_item (pandas/_libs/hashtable.c:20359)\u001b[0;34m()\u001b[0m\n",
      "\u001b[0;31mKeyError\u001b[0m: 'province'",
      "\nDuring handling of the above exception, another exception occurred:\n",
      "\u001b[0;31mKeyError\u001b[0m                                  Traceback (most recent call last)",
      "\u001b[0;32m<ipython-input-76-de0a61250d21>\u001b[0m in \u001b[0;36m<module>\u001b[0;34m()\u001b[0m\n\u001b[0;32m----> 1\u001b[0;31m \u001b[0mdf\u001b[0m\u001b[0;34m[\u001b[0m\u001b[0;34m'province'\u001b[0m\u001b[0;34m]\u001b[0m\u001b[0;34m=\u001b[0m\u001b[0mdf\u001b[0m\u001b[0;34m[\u001b[0m\u001b[0;34m'province'\u001b[0m\u001b[0;34m]\u001b[0m\u001b[0;34m.\u001b[0m\u001b[0mfillna\u001b[0m\u001b[0;34m(\u001b[0m\u001b[0;34m'Missing'\u001b[0m\u001b[0;34m)\u001b[0m\u001b[0;34m\u001b[0m\u001b[0m\n\u001b[0m\u001b[1;32m      2\u001b[0m \u001b[0mdf\u001b[0m\u001b[0;34m[\u001b[0m\u001b[0;34m'county'\u001b[0m\u001b[0;34m]\u001b[0m\u001b[0;34m=\u001b[0m\u001b[0mdf\u001b[0m\u001b[0;34m[\u001b[0m\u001b[0;34m'county'\u001b[0m\u001b[0;34m]\u001b[0m\u001b[0;34m.\u001b[0m\u001b[0mfillna\u001b[0m\u001b[0;34m(\u001b[0m\u001b[0;34m'Missing'\u001b[0m\u001b[0;34m)\u001b[0m\u001b[0;34m\u001b[0m\u001b[0m\n",
      "\u001b[0;32m/Library/Frameworks/Python.framework/Versions/3.5/lib/python3.5/site-packages/pandas/core/frame.py\u001b[0m in \u001b[0;36m__getitem__\u001b[0;34m(self, key)\u001b[0m\n\u001b[1;32m   2060\u001b[0m             \u001b[0;32mreturn\u001b[0m \u001b[0mself\u001b[0m\u001b[0;34m.\u001b[0m\u001b[0m_getitem_multilevel\u001b[0m\u001b[0;34m(\u001b[0m\u001b[0mkey\u001b[0m\u001b[0;34m)\u001b[0m\u001b[0;34m\u001b[0m\u001b[0m\n\u001b[1;32m   2061\u001b[0m         \u001b[0;32melse\u001b[0m\u001b[0;34m:\u001b[0m\u001b[0;34m\u001b[0m\u001b[0m\n\u001b[0;32m-> 2062\u001b[0;31m             \u001b[0;32mreturn\u001b[0m \u001b[0mself\u001b[0m\u001b[0;34m.\u001b[0m\u001b[0m_getitem_column\u001b[0m\u001b[0;34m(\u001b[0m\u001b[0mkey\u001b[0m\u001b[0;34m)\u001b[0m\u001b[0;34m\u001b[0m\u001b[0m\n\u001b[0m\u001b[1;32m   2063\u001b[0m \u001b[0;34m\u001b[0m\u001b[0m\n\u001b[1;32m   2064\u001b[0m     \u001b[0;32mdef\u001b[0m \u001b[0m_getitem_column\u001b[0m\u001b[0;34m(\u001b[0m\u001b[0mself\u001b[0m\u001b[0;34m,\u001b[0m \u001b[0mkey\u001b[0m\u001b[0;34m)\u001b[0m\u001b[0;34m:\u001b[0m\u001b[0;34m\u001b[0m\u001b[0m\n",
      "\u001b[0;32m/Library/Frameworks/Python.framework/Versions/3.5/lib/python3.5/site-packages/pandas/core/frame.py\u001b[0m in \u001b[0;36m_getitem_column\u001b[0;34m(self, key)\u001b[0m\n\u001b[1;32m   2067\u001b[0m         \u001b[0;31m# get column\u001b[0m\u001b[0;34m\u001b[0m\u001b[0;34m\u001b[0m\u001b[0m\n\u001b[1;32m   2068\u001b[0m         \u001b[0;32mif\u001b[0m \u001b[0mself\u001b[0m\u001b[0;34m.\u001b[0m\u001b[0mcolumns\u001b[0m\u001b[0;34m.\u001b[0m\u001b[0mis_unique\u001b[0m\u001b[0;34m:\u001b[0m\u001b[0;34m\u001b[0m\u001b[0m\n\u001b[0;32m-> 2069\u001b[0;31m             \u001b[0;32mreturn\u001b[0m \u001b[0mself\u001b[0m\u001b[0;34m.\u001b[0m\u001b[0m_get_item_cache\u001b[0m\u001b[0;34m(\u001b[0m\u001b[0mkey\u001b[0m\u001b[0;34m)\u001b[0m\u001b[0;34m\u001b[0m\u001b[0m\n\u001b[0m\u001b[1;32m   2070\u001b[0m \u001b[0;34m\u001b[0m\u001b[0m\n\u001b[1;32m   2071\u001b[0m         \u001b[0;31m# duplicate columns & possible reduce dimensionality\u001b[0m\u001b[0;34m\u001b[0m\u001b[0;34m\u001b[0m\u001b[0m\n",
      "\u001b[0;32m/Library/Frameworks/Python.framework/Versions/3.5/lib/python3.5/site-packages/pandas/core/generic.py\u001b[0m in \u001b[0;36m_get_item_cache\u001b[0;34m(self, item)\u001b[0m\n\u001b[1;32m   1532\u001b[0m         \u001b[0mres\u001b[0m \u001b[0;34m=\u001b[0m \u001b[0mcache\u001b[0m\u001b[0;34m.\u001b[0m\u001b[0mget\u001b[0m\u001b[0;34m(\u001b[0m\u001b[0mitem\u001b[0m\u001b[0;34m)\u001b[0m\u001b[0;34m\u001b[0m\u001b[0m\n\u001b[1;32m   1533\u001b[0m         \u001b[0;32mif\u001b[0m \u001b[0mres\u001b[0m \u001b[0;32mis\u001b[0m \u001b[0;32mNone\u001b[0m\u001b[0;34m:\u001b[0m\u001b[0;34m\u001b[0m\u001b[0m\n\u001b[0;32m-> 1534\u001b[0;31m             \u001b[0mvalues\u001b[0m \u001b[0;34m=\u001b[0m \u001b[0mself\u001b[0m\u001b[0;34m.\u001b[0m\u001b[0m_data\u001b[0m\u001b[0;34m.\u001b[0m\u001b[0mget\u001b[0m\u001b[0;34m(\u001b[0m\u001b[0mitem\u001b[0m\u001b[0;34m)\u001b[0m\u001b[0;34m\u001b[0m\u001b[0m\n\u001b[0m\u001b[1;32m   1535\u001b[0m             \u001b[0mres\u001b[0m \u001b[0;34m=\u001b[0m \u001b[0mself\u001b[0m\u001b[0;34m.\u001b[0m\u001b[0m_box_item_values\u001b[0m\u001b[0;34m(\u001b[0m\u001b[0mitem\u001b[0m\u001b[0;34m,\u001b[0m \u001b[0mvalues\u001b[0m\u001b[0;34m)\u001b[0m\u001b[0;34m\u001b[0m\u001b[0m\n\u001b[1;32m   1536\u001b[0m             \u001b[0mcache\u001b[0m\u001b[0;34m[\u001b[0m\u001b[0mitem\u001b[0m\u001b[0;34m]\u001b[0m \u001b[0;34m=\u001b[0m \u001b[0mres\u001b[0m\u001b[0;34m\u001b[0m\u001b[0m\n",
      "\u001b[0;32m/Library/Frameworks/Python.framework/Versions/3.5/lib/python3.5/site-packages/pandas/core/internals.py\u001b[0m in \u001b[0;36mget\u001b[0;34m(self, item, fastpath)\u001b[0m\n\u001b[1;32m   3588\u001b[0m \u001b[0;34m\u001b[0m\u001b[0m\n\u001b[1;32m   3589\u001b[0m             \u001b[0;32mif\u001b[0m \u001b[0;32mnot\u001b[0m \u001b[0misnull\u001b[0m\u001b[0;34m(\u001b[0m\u001b[0mitem\u001b[0m\u001b[0;34m)\u001b[0m\u001b[0;34m:\u001b[0m\u001b[0;34m\u001b[0m\u001b[0m\n\u001b[0;32m-> 3590\u001b[0;31m                 \u001b[0mloc\u001b[0m \u001b[0;34m=\u001b[0m \u001b[0mself\u001b[0m\u001b[0;34m.\u001b[0m\u001b[0mitems\u001b[0m\u001b[0;34m.\u001b[0m\u001b[0mget_loc\u001b[0m\u001b[0;34m(\u001b[0m\u001b[0mitem\u001b[0m\u001b[0;34m)\u001b[0m\u001b[0;34m\u001b[0m\u001b[0m\n\u001b[0m\u001b[1;32m   3591\u001b[0m             \u001b[0;32melse\u001b[0m\u001b[0;34m:\u001b[0m\u001b[0;34m\u001b[0m\u001b[0m\n\u001b[1;32m   3592\u001b[0m                 \u001b[0mindexer\u001b[0m \u001b[0;34m=\u001b[0m \u001b[0mnp\u001b[0m\u001b[0;34m.\u001b[0m\u001b[0marange\u001b[0m\u001b[0;34m(\u001b[0m\u001b[0mlen\u001b[0m\u001b[0;34m(\u001b[0m\u001b[0mself\u001b[0m\u001b[0;34m.\u001b[0m\u001b[0mitems\u001b[0m\u001b[0;34m)\u001b[0m\u001b[0;34m)\u001b[0m\u001b[0;34m[\u001b[0m\u001b[0misnull\u001b[0m\u001b[0;34m(\u001b[0m\u001b[0mself\u001b[0m\u001b[0;34m.\u001b[0m\u001b[0mitems\u001b[0m\u001b[0;34m)\u001b[0m\u001b[0;34m]\u001b[0m\u001b[0;34m\u001b[0m\u001b[0m\n",
      "\u001b[0;32m/Library/Frameworks/Python.framework/Versions/3.5/lib/python3.5/site-packages/pandas/core/indexes/base.py\u001b[0m in \u001b[0;36mget_loc\u001b[0;34m(self, key, method, tolerance)\u001b[0m\n\u001b[1;32m   2393\u001b[0m                 \u001b[0;32mreturn\u001b[0m \u001b[0mself\u001b[0m\u001b[0;34m.\u001b[0m\u001b[0m_engine\u001b[0m\u001b[0;34m.\u001b[0m\u001b[0mget_loc\u001b[0m\u001b[0;34m(\u001b[0m\u001b[0mkey\u001b[0m\u001b[0;34m)\u001b[0m\u001b[0;34m\u001b[0m\u001b[0m\n\u001b[1;32m   2394\u001b[0m             \u001b[0;32mexcept\u001b[0m \u001b[0mKeyError\u001b[0m\u001b[0;34m:\u001b[0m\u001b[0;34m\u001b[0m\u001b[0m\n\u001b[0;32m-> 2395\u001b[0;31m                 \u001b[0;32mreturn\u001b[0m \u001b[0mself\u001b[0m\u001b[0;34m.\u001b[0m\u001b[0m_engine\u001b[0m\u001b[0;34m.\u001b[0m\u001b[0mget_loc\u001b[0m\u001b[0;34m(\u001b[0m\u001b[0mself\u001b[0m\u001b[0;34m.\u001b[0m\u001b[0m_maybe_cast_indexer\u001b[0m\u001b[0;34m(\u001b[0m\u001b[0mkey\u001b[0m\u001b[0;34m)\u001b[0m\u001b[0;34m)\u001b[0m\u001b[0;34m\u001b[0m\u001b[0m\n\u001b[0m\u001b[1;32m   2396\u001b[0m \u001b[0;34m\u001b[0m\u001b[0m\n\u001b[1;32m   2397\u001b[0m         \u001b[0mindexer\u001b[0m \u001b[0;34m=\u001b[0m \u001b[0mself\u001b[0m\u001b[0;34m.\u001b[0m\u001b[0mget_indexer\u001b[0m\u001b[0;34m(\u001b[0m\u001b[0;34m[\u001b[0m\u001b[0mkey\u001b[0m\u001b[0;34m]\u001b[0m\u001b[0;34m,\u001b[0m \u001b[0mmethod\u001b[0m\u001b[0;34m=\u001b[0m\u001b[0mmethod\u001b[0m\u001b[0;34m,\u001b[0m \u001b[0mtolerance\u001b[0m\u001b[0;34m=\u001b[0m\u001b[0mtolerance\u001b[0m\u001b[0;34m)\u001b[0m\u001b[0;34m\u001b[0m\u001b[0m\n",
      "\u001b[0;32mpandas/_libs/index.pyx\u001b[0m in \u001b[0;36mpandas._libs.index.IndexEngine.get_loc (pandas/_libs/index.c:5239)\u001b[0;34m()\u001b[0m\n",
      "\u001b[0;32mpandas/_libs/index.pyx\u001b[0m in \u001b[0;36mpandas._libs.index.IndexEngine.get_loc (pandas/_libs/index.c:5085)\u001b[0;34m()\u001b[0m\n",
      "\u001b[0;32mpandas/_libs/hashtable_class_helper.pxi\u001b[0m in \u001b[0;36mpandas._libs.hashtable.PyObjectHashTable.get_item (pandas/_libs/hashtable.c:20405)\u001b[0;34m()\u001b[0m\n",
      "\u001b[0;32mpandas/_libs/hashtable_class_helper.pxi\u001b[0m in \u001b[0;36mpandas._libs.hashtable.PyObjectHashTable.get_item (pandas/_libs/hashtable.c:20359)\u001b[0;34m()\u001b[0m\n",
      "\u001b[0;31mKeyError\u001b[0m: 'province'"
     ]
    }
   ],
   "source": [
    "df['province']=df['province'].fillna('Missing')\n",
    "df['county']=df['county'].fillna('Missing')"
   ]
  },
  {
   "cell_type": "code",
   "execution_count": null,
   "metadata": {
    "collapsed": true
   },
   "outputs": [],
   "source": [
    "df.to_csv(data_path+'df_module_2_w_outliers.csv')"
   ]
  },
  {
   "cell_type": "code",
   "execution_count": 77,
   "metadata": {},
   "outputs": [
    {
     "ename": "KeyError",
     "evalue": "'province'",
     "output_type": "error",
     "traceback": [
      "\u001b[0;31m---------------------------------------------------------------------------\u001b[0m",
      "\u001b[0;31mKeyError\u001b[0m                                  Traceback (most recent call last)",
      "\u001b[0;32m<ipython-input-77-a5d74c6016ba>\u001b[0m in \u001b[0;36m<module>\u001b[0;34m()\u001b[0m\n\u001b[0;32m----> 1\u001b[0;31m \u001b[0mdf\u001b[0m\u001b[0;34m[\u001b[0m\u001b[0;34m(\u001b[0m\u001b[0mdf\u001b[0m\u001b[0;34m[\u001b[0m\u001b[0;34m'borrower_count'\u001b[0m\u001b[0;34m]\u001b[0m \u001b[0;34m==\u001b[0m \u001b[0;36m1\u001b[0m\u001b[0;34m)\u001b[0m\u001b[0;34m]\u001b[0m\u001b[0;34m.\u001b[0m\u001b[0mgroupby\u001b[0m\u001b[0;34m(\u001b[0m\u001b[0;34m'province'\u001b[0m\u001b[0;34m)\u001b[0m\u001b[0;34m[\u001b[0m\u001b[0;34m'loan_amount'\u001b[0m\u001b[0;34m]\u001b[0m\u001b[0;34m.\u001b[0m\u001b[0mcount\u001b[0m\u001b[0;34m(\u001b[0m\u001b[0;34m)\u001b[0m\u001b[0;34m.\u001b[0m\u001b[0mnlargest\u001b[0m\u001b[0;34m(\u001b[0m\u001b[0;36m10\u001b[0m\u001b[0;34m)\u001b[0m\u001b[0;34m.\u001b[0m\u001b[0mplot\u001b[0m\u001b[0;34m(\u001b[0m\u001b[0mkind\u001b[0m\u001b[0;34m=\u001b[0m\u001b[0;34m\"bar\"\u001b[0m\u001b[0;34m,\u001b[0m  \u001b[0mfontsize\u001b[0m\u001b[0;34m=\u001b[0m\u001b[0;36m20\u001b[0m\u001b[0;34m,\u001b[0m\u001b[0mfigsize\u001b[0m\u001b[0;34m=\u001b[0m\u001b[0;34m(\u001b[0m\u001b[0;36m12\u001b[0m\u001b[0;34m,\u001b[0m\u001b[0;36m8\u001b[0m\u001b[0;34m)\u001b[0m\u001b[0;34m,\u001b[0m\u001b[0mtitle\u001b[0m\u001b[0;34m=\u001b[0m\u001b[0;34m'Number of Loans By Province'\u001b[0m\u001b[0;34m)\u001b[0m\u001b[0;34m\u001b[0m\u001b[0m\n\u001b[0m\u001b[1;32m      2\u001b[0m \u001b[0mplt\u001b[0m\u001b[0;34m.\u001b[0m\u001b[0mxticks\u001b[0m\u001b[0;34m(\u001b[0m\u001b[0mrotation\u001b[0m\u001b[0;34m=\u001b[0m\u001b[0;36m90\u001b[0m\u001b[0;34m)\u001b[0m\u001b[0;34m\u001b[0m\u001b[0m\n",
      "\u001b[0;32m/Library/Frameworks/Python.framework/Versions/3.5/lib/python3.5/site-packages/pandas/core/generic.py\u001b[0m in \u001b[0;36mgroupby\u001b[0;34m(self, by, axis, level, as_index, sort, group_keys, squeeze, **kwargs)\u001b[0m\n\u001b[1;32m   4269\u001b[0m         return groupby(self, by=by, axis=axis, level=level, as_index=as_index,\n\u001b[1;32m   4270\u001b[0m                        \u001b[0msort\u001b[0m\u001b[0;34m=\u001b[0m\u001b[0msort\u001b[0m\u001b[0;34m,\u001b[0m \u001b[0mgroup_keys\u001b[0m\u001b[0;34m=\u001b[0m\u001b[0mgroup_keys\u001b[0m\u001b[0;34m,\u001b[0m \u001b[0msqueeze\u001b[0m\u001b[0;34m=\u001b[0m\u001b[0msqueeze\u001b[0m\u001b[0;34m,\u001b[0m\u001b[0;34m\u001b[0m\u001b[0m\n\u001b[0;32m-> 4271\u001b[0;31m                        **kwargs)\n\u001b[0m\u001b[1;32m   4272\u001b[0m \u001b[0;34m\u001b[0m\u001b[0m\n\u001b[1;32m   4273\u001b[0m     def asfreq(self, freq, method=None, how=None, normalize=False,\n",
      "\u001b[0;32m/Library/Frameworks/Python.framework/Versions/3.5/lib/python3.5/site-packages/pandas/core/groupby.py\u001b[0m in \u001b[0;36mgroupby\u001b[0;34m(obj, by, **kwds)\u001b[0m\n\u001b[1;32m   1624\u001b[0m         \u001b[0;32mraise\u001b[0m \u001b[0mTypeError\u001b[0m\u001b[0;34m(\u001b[0m\u001b[0;34m'invalid type: %s'\u001b[0m \u001b[0;34m%\u001b[0m \u001b[0mtype\u001b[0m\u001b[0;34m(\u001b[0m\u001b[0mobj\u001b[0m\u001b[0;34m)\u001b[0m\u001b[0;34m)\u001b[0m\u001b[0;34m\u001b[0m\u001b[0m\n\u001b[1;32m   1625\u001b[0m \u001b[0;34m\u001b[0m\u001b[0m\n\u001b[0;32m-> 1626\u001b[0;31m     \u001b[0;32mreturn\u001b[0m \u001b[0mklass\u001b[0m\u001b[0;34m(\u001b[0m\u001b[0mobj\u001b[0m\u001b[0;34m,\u001b[0m \u001b[0mby\u001b[0m\u001b[0;34m,\u001b[0m \u001b[0;34m**\u001b[0m\u001b[0mkwds\u001b[0m\u001b[0;34m)\u001b[0m\u001b[0;34m\u001b[0m\u001b[0m\n\u001b[0m\u001b[1;32m   1627\u001b[0m \u001b[0;34m\u001b[0m\u001b[0m\n\u001b[1;32m   1628\u001b[0m \u001b[0;34m\u001b[0m\u001b[0m\n",
      "\u001b[0;32m/Library/Frameworks/Python.framework/Versions/3.5/lib/python3.5/site-packages/pandas/core/groupby.py\u001b[0m in \u001b[0;36m__init__\u001b[0;34m(self, obj, keys, axis, level, grouper, exclusions, selection, as_index, sort, group_keys, squeeze, **kwargs)\u001b[0m\n\u001b[1;32m    390\u001b[0m                                                     \u001b[0mlevel\u001b[0m\u001b[0;34m=\u001b[0m\u001b[0mlevel\u001b[0m\u001b[0;34m,\u001b[0m\u001b[0;34m\u001b[0m\u001b[0m\n\u001b[1;32m    391\u001b[0m                                                     \u001b[0msort\u001b[0m\u001b[0;34m=\u001b[0m\u001b[0msort\u001b[0m\u001b[0;34m,\u001b[0m\u001b[0;34m\u001b[0m\u001b[0m\n\u001b[0;32m--> 392\u001b[0;31m                                                     mutated=self.mutated)\n\u001b[0m\u001b[1;32m    393\u001b[0m \u001b[0;34m\u001b[0m\u001b[0m\n\u001b[1;32m    394\u001b[0m         \u001b[0mself\u001b[0m\u001b[0;34m.\u001b[0m\u001b[0mobj\u001b[0m \u001b[0;34m=\u001b[0m \u001b[0mobj\u001b[0m\u001b[0;34m\u001b[0m\u001b[0m\n",
      "\u001b[0;32m/Library/Frameworks/Python.framework/Versions/3.5/lib/python3.5/site-packages/pandas/core/groupby.py\u001b[0m in \u001b[0;36m_get_grouper\u001b[0;34m(obj, key, axis, level, sort, mutated)\u001b[0m\n\u001b[1;32m   2615\u001b[0m                 \u001b[0min_axis\u001b[0m\u001b[0;34m,\u001b[0m \u001b[0mname\u001b[0m\u001b[0;34m,\u001b[0m \u001b[0mlevel\u001b[0m\u001b[0;34m,\u001b[0m \u001b[0mgpr\u001b[0m \u001b[0;34m=\u001b[0m \u001b[0;32mFalse\u001b[0m\u001b[0;34m,\u001b[0m \u001b[0;32mNone\u001b[0m\u001b[0;34m,\u001b[0m \u001b[0mgpr\u001b[0m\u001b[0;34m,\u001b[0m \u001b[0;32mNone\u001b[0m\u001b[0;34m\u001b[0m\u001b[0m\n\u001b[1;32m   2616\u001b[0m             \u001b[0;32melse\u001b[0m\u001b[0;34m:\u001b[0m\u001b[0;34m\u001b[0m\u001b[0m\n\u001b[0;32m-> 2617\u001b[0;31m                 \u001b[0;32mraise\u001b[0m \u001b[0mKeyError\u001b[0m\u001b[0;34m(\u001b[0m\u001b[0mgpr\u001b[0m\u001b[0;34m)\u001b[0m\u001b[0;34m\u001b[0m\u001b[0m\n\u001b[0m\u001b[1;32m   2618\u001b[0m         \u001b[0;32melif\u001b[0m \u001b[0misinstance\u001b[0m\u001b[0;34m(\u001b[0m\u001b[0mgpr\u001b[0m\u001b[0;34m,\u001b[0m \u001b[0mGrouper\u001b[0m\u001b[0;34m)\u001b[0m \u001b[0;32mand\u001b[0m \u001b[0mgpr\u001b[0m\u001b[0;34m.\u001b[0m\u001b[0mkey\u001b[0m \u001b[0;32mis\u001b[0m \u001b[0;32mnot\u001b[0m \u001b[0;32mNone\u001b[0m\u001b[0;34m:\u001b[0m\u001b[0;34m\u001b[0m\u001b[0m\n\u001b[1;32m   2619\u001b[0m             \u001b[0;31m# Add key to exclusions\u001b[0m\u001b[0;34m\u001b[0m\u001b[0;34m\u001b[0m\u001b[0m\n",
      "\u001b[0;31mKeyError\u001b[0m: 'province'"
     ]
    }
   ],
   "source": [
    "df[(df['borrower_count'] == 1)].groupby('province')['loan_amount'].count().nlargest(10).plot(kind=\"bar\",  fontsize=20,figsize=(12,8),title='Number of Loans By Province')\n",
    "plt.xticks(rotation=90)"
   ]
  },
  {
   "cell_type": "code",
   "execution_count": null,
   "metadata": {
    "collapsed": true
   },
   "outputs": [],
   "source": [
    "df[(df['borrower_count'] == 1)].groupby('province')['loan_amount'].mean().nlargest(10).plot(kind=\"bar\",  fontsize=20,figsize=(12,8),title='Average Loan Amount By Province')\n",
    "plt.xticks(rotation=90)"
   ]
  },
  {
   "cell_type": "code",
   "execution_count": null,
   "metadata": {
    "collapsed": true
   },
   "outputs": [],
   "source": [
    "df[(df['borrower_count'] == 1)].boxplot(column='loan_amount', by='province', showfliers=False, fontsize=18, figsize=(12,8))\n",
    "\n",
    "df[(df['borrower_count'] == 1)].boxplot(column='loan_amount', by='county', showfliers=False, figsize=(12,8))"
   ]
  },
  {
   "cell_type": "code",
   "execution_count": null,
   "metadata": {
    "collapsed": true
   },
   "outputs": [],
   "source": [
    "plt.figure(figsize=(8, 20))\n",
    "\n",
    "sns.set_context(\"paper\", font_scale=1.1, rc={\"lines.linewidth\": 1.1})\n",
    "\n",
    "g=sns.factorplot(x=\"province\", y=\"loan_amount\", hue=\"gender\", palette=\"Set3\", data=df[(df['borrower_count'] == 1)&(df['loan_amount']<1500)], kind=\"box\",orient=\"v\", size=8, aspect=1)"
   ]
  },
  {
   "cell_type": "markdown",
   "metadata": {},
   "source": [
    "## Step 2: Loan features"
   ]
  },
  {
   "cell_type": "markdown",
   "metadata": {},
   "source": [
    "Next we create features related to the conditions surrounding each loan posting that we believe may drive loan amount."
   ]
  },
  {
   "cell_type": "markdown",
   "metadata": {},
   "source": [
    "## Loan Description"
   ]
  },
  {
   "cell_type": "markdown",
   "metadata": {},
   "source": [
    "## Sector and Activity"
   ]
  },
  {
   "cell_type": "markdown",
   "metadata": {},
   "source": [
    "We know from our exploratory analysis in the last lesson that sector and activity are both important drivers of loan amount. We will be including both of these in our linear regression."
   ]
  },
  {
   "cell_type": "code",
   "execution_count": null,
   "metadata": {
    "collapsed": true
   },
   "outputs": [],
   "source": [
    "df[df['borrower_count'] == 1].groupby('sector')['loan_amount'].mean().nlargest(20).plot(kind=\"bar\", title=\"Average Loan Amount By Sector\", figsize=(13, 8))"
   ]
  },
  {
   "cell_type": "code",
   "execution_count": null,
   "metadata": {
    "collapsed": true
   },
   "outputs": [],
   "source": [
    "df[df['borrower_count'] == 1].groupby('activity')['loan_amount'].mean().nlargest(40).plot(kind=\"bar\", title=\"Average Loan Amount By Activity\", figsize=(13, 8))"
   ]
  },
  {
   "cell_type": "markdown",
   "metadata": {},
   "source": [
    "## Aggregate Features"
   ]
  },
  {
   "cell_type": "markdown",
   "metadata": {},
   "source": [
    "## Time features"
   ]
  },
  {
   "cell_type": "markdown",
   "metadata": {},
   "source": [
    "In order to leverage time features, we first need to make sure that the data is in Python's datetime format. Once all relevant features are converted to this format, we can perform operations on them.\n",
    "\n",
    "As we saw in Module 1, we already ensured our date features are converted to datetime format using the `to_datetime` function. However, in reading in our \"df\" csv file, Python forgot the Pandas format we assigned. Therefore we convert our created variables to datetime format again. We then create a day feature from each of the datetime differences we calculate."
   ]
  },
  {
   "cell_type": "code",
   "execution_count": null,
   "metadata": {
    "collapsed": true
   },
   "outputs": [],
   "source": [
    "## Ensuring datetime format\n",
    "df['planned_expiration_datetime'] = pd.to_datetime(df['planned_expiration_datetime'])\n",
    "df['posted_datetime'] = pd.to_datetime(df['posted_datetime'])\n",
    "\n",
    "## Time to fund is the funded date minus the posted date\n",
    "df['time_to_fund'] =pd.to_datetime(df['funded_datetime']) - pd.to_datetime(df['posted_datetime'])\n",
    "df['days_to_fund'] = df.time_to_fund.dt.days\n",
    "\n",
    "## Time to expiration is the expiration date minus the Posted Date\n",
    "df['time_to_expire_datetime'] =df['planned_expiration_datetime'] - df['posted_datetime']\n",
    "df['days_to_expire'] = df.time_to_expire_datetime.dt.days\n",
    "df['posted_year']=df['posted_datetime'].dt.year\n",
    "df['posted_month']=df['posted_datetime'].dt.month\n",
    "\n",
    "## Time to dispursement is the Disbursed date minus the Posted Date\n",
    "df['time_to_dispersal'] =pd.to_datetime(df['dispursal_datetime']) - pd.to_datetime(df['posted_datetime'])\n",
    "df['days_to_dispersal'] = df.time_to_dispersal.dt.days\n",
    "\n",
    "# Convert string into numeric for posted_date\n",
    "df[\"posted_date_unix\"] = pd.to_datetime(df['posted_date']).apply(lambda x: time.mktime(x.timetuple()) if not pd.isnull(x) else 0)"
   ]
  },
  {
   "cell_type": "markdown",
   "metadata": {},
   "source": [
    "Do you remember the first exploratory notebook we plotted avg loan amount by year and found it fairly stable?"
   ]
  },
  {
   "cell_type": "code",
   "execution_count": null,
   "metadata": {
    "collapsed": true
   },
   "outputs": [],
   "source": [
    "df.groupby('posted_year')['loan_amount'].mean().plot(kind=\"bar\", title='Average Loan Dollar Amount on KIVA By Year')\n",
    "plt.xticks(rotation=90)"
   ]
  },
  {
   "cell_type": "markdown",
   "metadata": {},
   "source": [
    "Now, since we are trying to understand what drives loan amount, we restrict (as we have done in all charts so far) our dataset to loans with a single borrower. In the chart below, we plot the average loan amount by year. This restriction has a big impact on the relationshop, we see that the average loan amount goes down year over year."
   ]
  },
  {
   "cell_type": "code",
   "execution_count": null,
   "metadata": {
    "collapsed": true,
    "scrolled": true
   },
   "outputs": [],
   "source": [
    "df[df['borrower_count'] == 1].groupby('posted_year')['loan_amount'].mean().plot(kind=\"bar\", figsize=(13, 8),title='Average Requested Loan Dollar Amount on KIVA By Year')\n",
    "plt.xticks(rotation=90)"
   ]
  },
  {
   "cell_type": "markdown",
   "metadata": {},
   "source": [
    "Why does loan amount requested go down? One possibility is that partners learn from experience what does and does not get funded. Remember our exploratory analsysis showed expired loans tended to be much larger on average. Perhaps lenders figured out their odds of success go up if they request lower amounts."
   ]
  },
  {
   "cell_type": "markdown",
   "metadata": {},
   "source": [
    "### Do loans amounts spike at certain point during the year?\n",
    "\n",
    "It might be interesting to also look at loan size by month. It is very possible that end-of-year celebrations or the beginning of the school year in January put a strain on household budgets and result in higher loan amount requests.\n",
    "\n",
    "We can see below that the loan amount is on average higher in **November, December and February**. This seems to strengthen our hypothesis that loan amount is driven somewhat by seasonal preassures."
   ]
  },
  {
   "cell_type": "markdown",
   "metadata": {},
   "source": [
    "As always, we follow-up with a box plot. This helps us understand the variance in loan amount between months. The results confirm our understanding that the distribution varies by month, we will include this feature."
   ]
  },
  {
   "cell_type": "code",
   "execution_count": null,
   "metadata": {
    "collapsed": true
   },
   "outputs": [],
   "source": [
    "df.groupby('posted_month')['loan_amount'].mean().plot(kind=\"bar\", figsize=(13, 8), fontsize=10,title='Average Loan Dollar Amount on KIVA By Month')\n",
    "plt.xticks(rotation=90)\n",
    "\n",
    "df[(df['borrower_count'] == 1)].boxplot(column='loan_amount', by='posted_month', showfliers=False, figsize=(12,8))"
   ]
  },
  {
   "cell_type": "markdown",
   "metadata": {},
   "source": [
    "## Days to fund"
   ]
  },
  {
   "cell_type": "markdown",
   "metadata": {},
   "source": [
    "There are some erroneous values in the days_to_fund feature which must the results of an incorrect posted or funded date. Therefore lets remove the data point where days_to_fund are negative. Luckily this only corresponds to 25 records. "
   ]
  },
  {
   "cell_type": "code",
   "execution_count": null,
   "metadata": {
    "collapsed": true
   },
   "outputs": [],
   "source": [
    "# There are some erroneous values in the days_to_fund features so lets remove \n",
    "df['days_to_fund'].max()\n",
    "df['days_to_fund'].min()\n",
    "df[df['days_to_fund'] < 0]['days_to_fund'].value_counts()\n",
    "df = df[df['days_to_fund']>=0]\n",
    "#check that has worked\n",
    "df['days_to_fund'].min()"
   ]
  },
  {
   "cell_type": "markdown",
   "metadata": {},
   "source": [
    "The appears to be a weak positive relationship between days to fund and the loan amount. We should keep this feature in mind."
   ]
  },
  {
   "cell_type": "code",
   "execution_count": null,
   "metadata": {
    "collapsed": true
   },
   "outputs": [],
   "source": [
    "ggplot(df[(df['borrower_count'] == 1)], aes(x = 'days_to_fund', y = 'loan_amount', color=\"gender\")) + geom_point() + \\\n",
    "ggtitle(\"Relationship between Days to Fund and Loan Amount\") + xlab(\"Days to Fund\") + ylab(\"loan_amount\")"
   ]
  },
  {
   "cell_type": "markdown",
   "metadata": {},
   "source": [
    "## Step 3: Partner Features"
   ]
  },
  {
   "cell_type": "markdown",
   "metadata": {},
   "source": [
    "Recall from our exploratory analysis that KIVA relies heavily on it's partners to dispense loans in Kenya. In fact, only a negligable amount of loans are not associated with a partner. It is clearly important to take into account partner dynamics as we continue with our feature engineering."
   ]
  },
  {
   "cell_type": "markdown",
   "metadata": {},
   "source": [
    "## Number of countries partners are in"
   ]
  },
  {
   "cell_type": "markdown",
   "metadata": {},
   "source": [
    "We can find the number of partners by doing a lookup of the number of times name appears in the partner_countries field. this appears once for each country."
   ]
  },
  {
   "cell_type": "code",
   "execution_count": null,
   "metadata": {
    "collapsed": true
   },
   "outputs": [],
   "source": [
    "df['num_partner_countries'] = df['partner_countries'].apply(lambda x: x.count('name'))"
   ]
  },
  {
   "cell_type": "code",
   "execution_count": null,
   "metadata": {
    "collapsed": true
   },
   "outputs": [],
   "source": [
    "df['num_partner_countries'].value_counts()"
   ]
  },
  {
   "cell_type": "code",
   "execution_count": null,
   "metadata": {
    "collapsed": true
   },
   "outputs": [],
   "source": [
    "df['more_one_partner_country'] = np.where(df['num_partner_countries']==1, 0, 1)\n",
    "df['us_partner'] = np.where(df['partner_countries'].str.contains(\"US\", na=0)==True, 1, 0)"
   ]
  },
  {
   "cell_type": "code",
   "execution_count": null,
   "metadata": {
    "collapsed": true
   },
   "outputs": [],
   "source": [
    "df['more_one_partner_country'].value_counts()\n",
    "df['us_partner'].value_counts()"
   ]
  },
  {
   "cell_type": "code",
   "execution_count": null,
   "metadata": {
    "collapsed": true
   },
   "outputs": [],
   "source": [
    "df[(df['borrower_count'] == 1)].boxplot(column='loan_amount', by='more_one_partner_country', showfliers=False, figsize=(12,8))"
   ]
  },
  {
   "cell_type": "markdown",
   "metadata": {},
   "source": [
    "## Partner Profitability and Financial Stability"
   ]
  },
  {
   "cell_type": "markdown",
   "metadata": {},
   "source": [
    "How do partners affect loan amount? Does a partner's profitability have anything to do with the loan amount issued. Firstly, we evaluate a potential data issue where some partners have profitability below 0."
   ]
  },
  {
   "cell_type": "code",
   "execution_count": null,
   "metadata": {
    "collapsed": true
   },
   "outputs": [],
   "source": [
    "df[df['partner_profitability']<0].head(2)"
   ]
  },
  {
   "cell_type": "markdown",
   "metadata": {},
   "source": [
    "This is strange. We are not sure why there would be partners with profitability below 0. We plan to ask the KIVA team but until we get an answer we will focus on partner delinquency."
   ]
  },
  {
   "cell_type": "markdown",
   "metadata": {},
   "source": [
    "Below we see that partner deliquency appears to have postive relationship with loan amount. This suggests that some partners may be requesting too high a loan amount, and are unable to pay it back. Instead, let's look at some other features that may drive loan amount. \n",
    "\n",
    "Two other patner features that are interesting are partner delinquency rate and the number of partner loans posted.\n",
    "\n",
    "Why do you think we are interested in these features? What is a conceivable hypothesis?"
   ]
  },
  {
   "cell_type": "markdown",
   "metadata": {},
   "source": [
    "## Delinquency rate"
   ]
  },
  {
   "cell_type": "code",
   "execution_count": null,
   "metadata": {
    "collapsed": true,
    "scrolled": true
   },
   "outputs": [],
   "source": [
    "ggplot(df[(df['borrower_count'] == 1)], aes(x = 'partner_delinquency_rate', y = 'loan_amount', color=\"sector\")) + geom_point() + \\\n",
    "ggtitle(\"Relationship between Partner Delinquency Rate and Loan Amount\") + xlab(\"partner delinquency rate\") + ylab(\"loan amount\")"
   ]
  },
  {
   "cell_type": "markdown",
   "metadata": {},
   "source": [
    "We can see from the chart above that there does in fact appear to be a positive relationship between partner delinquency rate and loan amount. Additionally, it appear certain sectors (like construction and retail) have a higher risk of delinquency. Good to know! We will be including this feature in our model."
   ]
  },
  {
   "cell_type": "code",
   "execution_count": null,
   "metadata": {
    "collapsed": true
   },
   "outputs": [],
   "source": [
    "ggplot(df[(df['borrower_count'] == 1)], aes(x = 'partner_loans_at_risk_rate', y = 'loan_amount', color=\"sector\")) + geom_point() + \\\n",
    "ggtitle(\"Relationship between Loans at Risk Rate and Loan Amount\") + xlab(\"partner delinquency rate\") + ylab(\"loan amount\")"
   ]
  },
  {
   "cell_type": "markdown",
   "metadata": {},
   "source": [
    "## Number of Loans Posted"
   ]
  },
  {
   "cell_type": "code",
   "execution_count": null,
   "metadata": {
    "collapsed": true,
    "scrolled": true
   },
   "outputs": [],
   "source": [
    "ggplot(df[(df['borrower_count'] == 1)], aes(x = 'partner_loans_posted', y = 'loan_amount', color=\"sector\")) + geom_point() + \\\n",
    "ggtitle(\"Relationship between Amount of Loans Posted by a Partner and Loan Amount\") + xlab(\"number of loans posted by partner\") + ylab(\"loan_amount\")"
   ]
  },
  {
   "cell_type": "markdown",
   "metadata": {},
   "source": [
    "The feature does seem initally promising, albeit weak. It suggests that as partner loans posted goes up the loan amont goes down. It would be interesting to try this in our model, but we should be aware of a potential issue with this feature.\n",
    "\n",
    "\n",
    "The issue, as we can see in the chart above is that partner_loans_posted ends up serving as a unique identifier for a partner_id. We must make sure not to include both partner_loans_posted and partner_id because they are probably highly correlated. Ask in slack if you don't understand why this is true."
   ]
  },
  {
   "cell_type": "markdown",
   "metadata": {},
   "source": [
    "## Loan Concentration"
   ]
  },
  {
   "cell_type": "code",
   "execution_count": null,
   "metadata": {
    "collapsed": true
   },
   "outputs": [],
   "source": [
    "#change color plot\n",
    "\n",
    "df[(df['borrower_count'] == 1)].groupby('partner_id')['loan_amount'].sum().plot(kind=\"pie\", title='Total Loan Amount By Partner')\n",
    "plt.xticks(rotation=90)"
   ]
  },
  {
   "cell_type": "code",
   "execution_count": null,
   "metadata": {
    "collapsed": true
   },
   "outputs": [],
   "source": [
    "df[(df['borrower_count'] == 1)].groupby('partner_name')['loan_amount'].sum().nlargest(5)"
   ]
  },
  {
   "cell_type": "code",
   "execution_count": null,
   "metadata": {
    "collapsed": true
   },
   "outputs": [],
   "source": [
    "# two functions below output new field where all partners not in top 5 are bucketed together.\n",
    "# We have to do this in two different functions because partner_id and partner_name are different types. You can\n",
    "# see this using our dtype code below.\n",
    "\n",
    "df['partner_id'].dtype\n",
    "df['partner_name'].dtype\n",
    "\n",
    "def top_partners_id(x):\n",
    "   partners_id = [] \n",
    "   for p in x:\n",
    "        if p in [138.0, 133.0, 156.0, 164.0,142.0]:\n",
    "           partners_id.append(p)\n",
    "        else:\n",
    "           partners_id.append(1.0)\n",
    "   return partners_id\n",
    "\n",
    "def top_partners(x):\n",
    "   partners = []\n",
    "   for p in x:\n",
    "       if p in ['VisionFund Kenya', 'Juhudi Kilimo', 'Yehu Microfinance Trust', 'Faulu Kenya','SMEP Microfinance Bank']:\n",
    "           partners.append(p)\n",
    "       else:\n",
    "           partners.append('other')\n",
    "   return partners"
   ]
  },
  {
   "cell_type": "code",
   "execution_count": null,
   "metadata": {
    "collapsed": true
   },
   "outputs": [],
   "source": [
    "df['top_partner_id'] = top_partners_id(df['partner_id'])\n",
    "df['top_partner'] = top_partners(df['partner_name'])"
   ]
  },
  {
   "cell_type": "code",
   "execution_count": null,
   "metadata": {
    "collapsed": true
   },
   "outputs": [],
   "source": [
    "df['top_partner'].value_counts()"
   ]
  },
  {
   "cell_type": "markdown",
   "metadata": {},
   "source": [
    "We can also see below that the top partners have variance in their distribution of loan amount! Interesting, this could be caused by the sectors they heavily lend to or by where they are located. What are some other reasons you can think of for this difference?"
   ]
  },
  {
   "cell_type": "code",
   "execution_count": null,
   "metadata": {
    "collapsed": true
   },
   "outputs": [],
   "source": [
    "df[(df['borrower_count'] == 1)].boxplot(column='loan_amount', by='top_partner', showfliers=False, figsize=(12,8))"
   ]
  },
  {
   "cell_type": "code",
   "execution_count": null,
   "metadata": {
    "collapsed": true
   },
   "outputs": [],
   "source": [
    "df.head(2)"
   ]
  },
  {
   "cell_type": "markdown",
   "metadata": {},
   "source": [
    "We have been doing a lot of feature engineering work. Every additional feature we create takes up space. Let's do some cleanup of features we know we will not be using so that we can save storage space. We will call this dataframe abridged."
   ]
  },
  {
   "cell_type": "code",
   "execution_count": null,
   "metadata": {
    "collapsed": true
   },
   "outputs": [],
   "source": [
    "df=df.drop(['basket_amount','bonus_credit_eligibility','borrowers','currency_exchange_loss_amount', \\\n",
    "          'description.languages','description.texts.es','description.texts.fr','description.texts.ru','image.id','image.template_id',\\\n",
    "            'journal_totals.bulkEntries','journal_totals.entries','location.country','location.country_code',\\\n",
    "            'location.geo.level','name','payments','terms.local_payments','terms.loss_liability.currency_exchange',\\\n",
    "            'terms.loss_liability.currency_exchange_coverage_rate','terms.repayment_interval','terms.scheduled_payments',\\\n",
    "            'themes','translator.byline','translator.image','use','partner_url',\\\n",
    "         'location.country', 'location.geo.pairs','location.geo.type','partner_default_rate_note','partner_image.id', \\\n",
    "         'children_1', 'children_2', 'children_int_1', 'children_int_2'], axis=1)"
   ]
  },
  {
   "cell_type": "code",
   "execution_count": null,
   "metadata": {
    "collapsed": true
   },
   "outputs": [],
   "source": [
    "df.to_csv(data_path+'df_abridged.csv')"
   ]
  },
  {
   "cell_type": "markdown",
   "metadata": {},
   "source": [
    "## Next Steps\n",
    "\n",
    "Next, we will take our data and start doing some initial experimentation with model choice."
   ]
  }
 ],
 "metadata": {
  "kernelspec": {
   "display_name": "Python 3",
   "language": "python",
   "name": "python3"
  },
  "language_info": {
   "codemirror_mode": {
    "name": "ipython",
    "version": 3
   },
   "file_extension": ".py",
   "mimetype": "text/x-python",
   "name": "python",
   "nbconvert_exporter": "python",
   "pygments_lexer": "ipython3",
   "version": "3.5.2"
  }
 },
 "nbformat": 4,
 "nbformat_minor": 2
}
