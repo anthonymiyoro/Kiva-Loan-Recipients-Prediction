{
 "cells": [
  {
   "cell_type": "markdown",
   "metadata": {},
   "source": [
    "# Lab 3: Model Development and Evaluation"
   ]
  },
  {
   "cell_type": "markdown",
   "metadata": {},
   "source": [
    "In this notebook, we are going to be focusing on building a model. In lab 2 we explored feature engineering around our research question: \"What drives the loan amount requested by Kiva borrowers?\"\n",
    "\n",
    "Now, we are ready to transform our research question into a machine learning task. We will build an initial model that we will then iterate on.\n",
    "\n",
    "In this notebook we start by getting a benchmark of performance using a linear model.\n",
    "\n",
    "We then explore the impact on the performance when we predict using more complex algorithms:\n",
    "- linear regression model\n",
    "- decision tree model\n",
    "- random forest model\n",
    "\n",
    "Comparing performance across different models will help you understand the implications of model choice and how different models perform against each other.\n",
    "\n",
    "Let's get started! We will walk though the following steps:\n",
    "\n",
    "- split our data into train and test\n",
    "- do data cleaning to fill in any null values\n",
    "- test that the assumptions needed for a linear regression model hold true\n",
    "- run a linear regression model\n",
    "- run a decision tree model\n",
    "- run a random forest model \n",
    "- compare the results of all 3 models."
   ]
  },
  {
   "cell_type": "markdown",
   "metadata": {},
   "source": [
    "## **If you haven't already, please run through Notebook 1 & 2!**  You need the final ouput df_abridged.csv.\n",
    "\n",
    "As a reminder, we had 3 raw data files (loans_full, loans_detail, and loans_partner_details). In Notebook 1 module_1_exploratory_analysis_with_solutions, we merged these data files and created new variables to form the data frame \"df_module_1\", we exported it as df_module_1.csv. Then in module 2, we engineered several features and removed outliers and exported this to df_abridged.csv. We will use this dataframe now. "
   ]
  },
  {
   "cell_type": "markdown",
   "metadata": {},
   "source": [
    "First step is to import the libraries we want to use. Notice there are many sklearn libraries to import, this is a\n",
    "suite of libraries that contain a range of machine learning tools. Today we are using various different sklearn packages. For more information on sklearn, check out their [diagram](http://scikit-learn.org/stable/tutorial/machine_learning_map/) for when and where to use difference machine learning methods."
   ]
  },
  {
   "cell_type": "code",
   "execution_count": 1,
   "metadata": {},
   "outputs": [
    {
     "name": "stderr",
     "output_type": "stream",
     "text": [
      "/Library/Frameworks/Python.framework/Versions/3.5/lib/python3.5/site-packages/ggplot/utils.py:81: FutureWarning: pandas.tslib is deprecated and will be removed in a future version.\n",
      "You can access Timestamp as pandas.Timestamp\n",
      "  pd.tslib.Timestamp,\n",
      "/Library/Frameworks/Python.framework/Versions/3.5/lib/python3.5/site-packages/ggplot/stats/smoothers.py:4: FutureWarning: The pandas.lib module is deprecated and will be removed in a future version. These are private functions and can be accessed from pandas._libs.lib instead\n",
      "  from pandas.lib import Timestamp\n",
      "/Library/Frameworks/Python.framework/Versions/3.5/lib/python3.5/site-packages/statsmodels/compat/pandas.py:56: FutureWarning: The pandas.core.datetools module is deprecated and will be removed in a future version. Please use the pandas.tseries module instead.\n",
      "  from pandas.core import datetools\n"
     ]
    }
   ],
   "source": [
    "import pandas as pd\n",
    "import matplotlib.pyplot as plt\n",
    "import matplotlib.cm as cm\n",
    "import numpy as np\n",
    "from ggplot import *\n",
    "import time\n",
    "import re\n",
    "import seaborn as sns\n",
    "plt.style.use('ggplot')\n",
    "%matplotlib inline\n",
    "\n",
    "# packages for checking assumptions\n",
    "from scipy import stats as stats\n",
    "\n",
    "# packages for linear regression and validation \n",
    "import statsmodels.formula.api as sm\n",
    "from sklearn import linear_model\n",
    "from sklearn.model_selection import train_test_split\n",
    "from sklearn.metrics import explained_variance_score\n",
    "from sklearn.metrics import mean_absolute_error\n",
    "from sklearn.metrics import mean_squared_error\n",
    "from sklearn import preprocessing\n",
    "from sklearn.preprocessing import OneHotEncoder\n",
    "from sklearn.ensemble import RandomForestRegressor, RandomForestClassifier\n",
    "from sklearn.model_selection import train_test_split\n",
    "from sklearn.metrics import mean_squared_error\n",
    "from sklearn.model_selection import cross_val_score\n",
    "\n",
    "# the command below means that the output of multiple commands in a cell will be output at once.\n",
    "\n",
    "from IPython.core.interactiveshell import InteractiveShell\n",
    "InteractiveShell.ast_node_interactivity = \"all\"\n",
    "\n",
    "# the command below tells jupyter to display up to 80 columns, this keeps everything visible\n",
    "pd.set_option('display.max_columns', 80)\n",
    "pd.set_option('expand_frame_repr', True)\n"
   ]
  },
  {
   "cell_type": "markdown",
   "metadata": {},
   "source": [
    "To get more information about a new modules you have imported, run the cell below. A window containing a description of the module will appear! This provides details on the module parameters and attributes and links for further references. Try it out!"
   ]
  },
  {
   "cell_type": "code",
   "execution_count": 2,
   "metadata": {
    "collapsed": true
   },
   "outputs": [],
   "source": [
    "RandomForestRegressor?"
   ]
  },
  {
   "cell_type": "markdown",
   "metadata": {},
   "source": [
    "You can do this for any module you import!"
   ]
  },
  {
   "cell_type": "markdown",
   "metadata": {},
   "source": [
    "Next we import our dataset from notebook 2."
   ]
  },
  {
   "cell_type": "code",
   "execution_count": 4,
   "metadata": {},
   "outputs": [],
   "source": [
    "# Read in data\n",
    "#data_path = '~/intro_course_data_science_for_good/data/'\n",
    "data_path = '/Users/anthonymiyoro/Documents/intro_to_machine_learning/data_copy/'\n",
    "df = pd.read_csv(data_path+'df_abridged.csv', low_memory=False)"
   ]
  },
  {
   "cell_type": "markdown",
   "metadata": {},
   "source": [
    "The code below tells us the number of rows in our dataset, it is a good sanity check to make sure the dataframe is what is what we expect as the output of notebook 2."
   ]
  },
  {
   "cell_type": "code",
   "execution_count": 6,
   "metadata": {},
   "outputs": [
    {
     "data": {
      "text/plain": [
       "118316"
      ]
     },
     "execution_count": 6,
     "metadata": {},
     "output_type": "execute_result"
    }
   ],
   "source": [
    "len(df)"
   ]
  },
  {
   "cell_type": "markdown",
   "metadata": {},
   "source": [
    "## Preparing Our Data Set for Modeling and Final Feature Selection"
   ]
  },
  {
   "cell_type": "markdown",
   "metadata": {},
   "source": [
    "Let's get out dataset ready for modeling! The first step is restricting our dataframe to the explanatory features we want to use in our model."
   ]
  },
  {
   "cell_type": "markdown",
   "metadata": {},
   "source": [
    " Let's first take a look at what features we have after our feature engineering."
   ]
  },
  {
   "cell_type": "code",
   "execution_count": 7,
   "metadata": {
    "scrolled": true
   },
   "outputs": [
    {
     "name": "stdout",
     "output_type": "stream",
     "text": [
      "Index(['Unnamed: 0', 'activity', 'borrowers', 'description.texts.en',\n",
      "       'funded_amount', 'funded_date', 'loan_amount', 'loan_amount.1', 'name',\n",
      "       'partner_id', 'planned_expiration_date', 'posted_date', 'sector',\n",
      "       'status', 'tags',\n",
      "       'terms.loss_liability.currency_exchange_coverage_rate',\n",
      "       'terms.repayment_term', 'terms.scheduled_payments', 'translator.byline',\n",
      "       'use', 'borrower_count', 'partner_delinquency_rate',\n",
      "       'partner_loans_posted', 'partner_loans_at_risk_rate',\n",
      "       'partner_delinquency_rate.1', 'partner_status', 'partner_name',\n",
      "       'posted_datetime', 'planned_expiration_datetime', 'dispursal_datetime',\n",
      "       'posted_year', 'posted_month', 'time_to_fund', 'gender', 'kids',\n",
      "       'num_tags', 'tag_#Woman Owned Biz', 'tag_#Repeat Borrower',\n",
      "       'tag_#Schooling', 'parent', 'married', 'age_int', 'children_int',\n",
      "       'age_bucket', 'county', 'province', 'capital', 'pct_female',\n",
      "       'num_partner_countries', 'more_one_partner_country', 'top_partners'],\n",
      "      dtype='object')\n"
     ]
    }
   ],
   "source": [
    "print(df.columns[0:120])"
   ]
  },
  {
   "cell_type": "markdown",
   "metadata": {},
   "source": [
    "The code below reduces the dataframe to the feature columns we want to include, creates a copy of this df which is the **training array**, pulls out the feature that we are trying to predict and stores this as a separate **training results** array."
   ]
  },
  {
   "cell_type": "code",
   "execution_count": 9,
   "metadata": {},
   "outputs": [],
   "source": [
    "# list of features that we think may be interested to include\n",
    "cols = df[['loan_amount', \n",
    "           'sector', \n",
    "           'partner_delinquency_rate',\n",
    "            'posted_year',\n",
    "           'posted_month',\n",
    "           'gender',\n",
    "           'num_tags',\n",
    "           'parent',\n",
    "           'tag_#Woman Owned Biz',\n",
    "           'province',\n",
    "           'county',\n",
    "           'age_int',\n",
    "           'tag_#Repeat Borrower',\n",
    "           'children_int',\n",
    "           'borrower_count',\n",
    "            'activity',\n",
    "          'more_one_partner_country',\n",
    "#           'days_to_fund',\n",
    "          'terms.repayment_term',\n",
    "           'tag_#Schooling',\n",
    "           'married',\n",
    "           'age_bucket',\n",
    "           'capital',\n",
    "           'pct_female',\n",
    "#            'exploratory_partner',\n",
    "#            'partner_dollar_amount',\n",
    "#            'top_partner_id',\n",
    "           'num_partner_countries',\n",
    "#            'days_to_fund',\n",
    "#        'hours_to_fund',\n",
    "           'top_partners'\n",
    "          ]]\n",
    "# create a copy of the dataframe\n",
    "df_a = cols.copy()"
   ]
  },
  {
   "cell_type": "markdown",
   "metadata": {},
   "source": [
    "In addition, there are some features which have a large range of possible responses. Instead of using each possible response as a features, we will just take the top 15. So example, lets look at the top activities:"
   ]
  },
  {
   "cell_type": "code",
   "execution_count": 10,
   "metadata": {
    "scrolled": false
   },
   "outputs": [
    {
     "data": {
      "text/plain": [
       "Index(['Farming', 'Dairy', 'General Store', 'Fruits & Vegetables', 'Retail',\n",
       "       'Clothing Sales', 'Agriculture', 'Poultry', 'Cereals', 'Grocery Store',\n",
       "       'Tailoring', 'Motorcycle Transport', 'Food Stall', 'Charcoal Sales',\n",
       "       'Beauty Salon', 'Fish Selling', 'Food Production/Sales', 'Food',\n",
       "       'Used Clothing', 'Home Energy', 'Food Market', 'Livestock', 'Services',\n",
       "       'Cafe', 'Primary/secondary school costs', 'Butcher Shop',\n",
       "       'Animal Sales', 'Restaurant', 'Fuel/Firewood', 'Clothing'],\n",
       "      dtype='object')"
      ]
     },
     "execution_count": 10,
     "metadata": {},
     "output_type": "execute_result"
    }
   ],
   "source": [
    "df_a['activity'].value_counts().index[0:30]"
   ]
  },
  {
   "cell_type": "code",
   "execution_count": 11,
   "metadata": {},
   "outputs": [
    {
     "data": {
      "text/plain": [
       "Index(['Farming', 'Dairy', 'General Store', 'Retail', 'Clothing Sales',\n",
       "       'Fruits & Vegetables', 'Poultry', 'Cereals', 'Motorcycle Transport',\n",
       "       'Agriculture', 'Tailoring', 'Grocery Store', 'Higher education costs',\n",
       "       'Food Stall', 'Beauty Salon', 'Charcoal Sales',\n",
       "       'Renewable Energy Products', 'Fish Selling', 'Used Clothing',\n",
       "       'Food Production/Sales', 'Food', 'Services', 'Food Market', 'Livestock',\n",
       "       'Butcher Shop', 'Cafe', 'Animal Sales', 'Restaurant',\n",
       "       'Primary/secondary school costs', 'Fuel/Firewood'],\n",
       "      dtype='object', name='activity')"
      ]
     },
     "execution_count": 11,
     "metadata": {},
     "output_type": "execute_result"
    }
   ],
   "source": [
    "df[(df['borrower_count'] == 1)].groupby('activity')['loan_amount'].sum().nlargest(30).index[:30]"
   ]
  },
  {
   "cell_type": "markdown",
   "metadata": {},
   "source": [
    "Sklearn models can only handle boolean or numeric variables, so we will need to one-hot encode\n",
    "some of the string variables that we have decided to include in our model.The following code takes the top 15 occurences for **activity, gender, province, country and sector** and creates hot coded features for both. \n",
    "\n",
    "What does one-hot encode mean? It means we are creating a binary explanatory feature for each category in the str. So, for example, when we one-hot encode activity we create a new column for Farming that is 1 or 0 depending on whether the loan was for a farming activity"
   ]
  },
  {
   "cell_type": "code",
   "execution_count": 12,
   "metadata": {},
   "outputs": [],
   "source": [
    "cols_to_separate = ['activity','sector','county','province','gender', 'age_bucket','capital', 'top_partners']\n",
    "for col in cols_to_separate:\n",
    "    # Find the top ten responses\n",
    "    col_vals = df.groupby(col)['loan_amount'].sum().nlargest(8).index[:8]\n",
    "    for col_val in col_vals:\n",
    "        # for each response, create a new feature column and assign binary responses: 1 for yes and 0 for no\n",
    "        if col_val not in df_a.columns:\n",
    "            df_a[col+'_'+str(col_val)] = df_a[col].apply(lambda x: 1 if x == col_val else 0)\n",
    "    df_a = df_a.drop(col, axis=1)"
   ]
  },
  {
   "cell_type": "code",
   "execution_count": 13,
   "metadata": {
    "scrolled": true
   },
   "outputs": [
    {
     "name": "stdout",
     "output_type": "stream",
     "text": [
      "Index(['loan_amount', 'partner_delinquency_rate', 'posted_year',\n",
      "       'posted_month', 'num_tags', 'parent', 'tag_#Woman Owned Biz', 'age_int',\n",
      "       'tag_#Repeat Borrower', 'children_int', 'borrower_count',\n",
      "       'more_one_partner_country', 'terms.repayment_term', 'tag_#Schooling',\n",
      "       'married', 'pct_female', 'num_partner_countries', 'activity_Farming',\n",
      "       'activity_Dairy', 'activity_Agriculture', 'activity_General Store',\n",
      "       'activity_Retail', 'activity_Clothing Sales',\n",
      "       'activity_Fruits & Vegetables', 'activity_Poultry',\n",
      "       'sector_Agriculture', 'sector_Food', 'sector_Retail', 'sector_Services',\n",
      "       'sector_Clothing', 'sector_Transportation', 'sector_Education',\n",
      "       'sector_Health', 'county_nairobi', 'county_mombasa', 'county_kwale',\n",
      "       'county_nakuru', 'county_bungoma', 'county_kisii', 'county_kiambu',\n",
      "       'county_trans nzoia', 'province_rift valley', 'province_coast',\n",
      "       'province_Missing', 'province_nyanza', 'province_nairobi',\n",
      "       'province_western', 'province_eastern', 'province_central',\n",
      "       'gender_Female', 'gender_Male', 'age_bucket_(30, 40]',\n",
      "       'age_bucket_(20, 30]', 'age_bucket_(40, 50]', 'age_bucket_(50, 60]',\n",
      "       'age_bucket_(60, 70]', 'age_bucket_(70, 80]', 'capital_Missing',\n",
      "       'capital_nairobi', 'capital_mombasa', 'capital_kwale', 'capital_nakuru',\n",
      "       'capital_bungoma', 'capital_kisii', 'capital_kiambu',\n",
      "       'top_partners_VisionFund Kenya', 'top_partners_One Acre Fund',\n",
      "       'top_partners_Juhudi Kilimo', 'top_partners_Yehu Microfinance Trust',\n",
      "       'top_partners_SMEP Microfinance Bank', 'top_partners_Other',\n",
      "       'top_partners_Faulu Kenya', 'top_partners_Milango Financial Services'],\n",
      "      dtype='object')\n"
     ]
    }
   ],
   "source": [
    "print(df_a.columns)"
   ]
  },
  {
   "cell_type": "code",
   "execution_count": 14,
   "metadata": {},
   "outputs": [],
   "source": [
    "df_a.columns=df_a.columns.str.replace('#','')\n",
    "df_a.columns=df_a.columns.str.replace(' ','_')\n",
    "df_a.columns=df_a.columns.str.replace('&','')\n",
    "df_a.columns=df_a.columns.str.replace(')','')\n",
    "df_a.columns=df_a.columns.str.replace('(','')\n",
    "df_a.columns=df_a.columns.str.replace(\"`\",'')\n",
    "df_a.columns=df_a.columns.str.replace(\"-\",'')\n",
    "df_a.columns=df_a.columns.str.replace(\".\",'_')"
   ]
  },
  {
   "cell_type": "code",
   "execution_count": 16,
   "metadata": {
    "scrolled": true
   },
   "outputs": [
    {
     "data": {
      "text/plain": [
       "73"
      ]
     },
     "execution_count": 16,
     "metadata": {},
     "output_type": "execute_result"
    }
   ],
   "source": [
    "len(df_a.columns)"
   ]
  },
  {
   "cell_type": "markdown",
   "metadata": {},
   "source": [
    "## Validating assumptions are held in our dataset"
   ]
  },
  {
   "cell_type": "markdown",
   "metadata": {},
   "source": [
    "Our first model we will use to map the relationship between x (our explanatory features) and the true Y is a linear regression. As you may remember from the theory, a linear regression is a fairly rigid model with strong assumptions. \n",
    "\n",
    "Namely, the following requirements must be met:\n",
    "\n",
    "**1) Linear relationship between x and Y**\n",
    "\n",
    "**2) Normal distribution of variables**\n",
    "\n",
    "**3) No autocorrelation (Independent variables)**\n",
    "\n",
    "**4) Homoscedasticity**\n",
    "\n",
    "**5) No multicollinearity**\n",
    "\n",
    "**6) Rule of thumb: at least 20 observations per independent variable in the analysis**\n",
    "\n",
    "In the section below, we check the validity of some of these assumptions before we run our model."
   ]
  },
  {
   "cell_type": "markdown",
   "metadata": {},
   "source": [
    "## Checking features for Multicollinearity"
   ]
  },
  {
   "cell_type": "markdown",
   "metadata": {},
   "source": [
    "Before we get run our model, let's make sure we are not including unnecessary features. A great way to do this is using a correlation plot, because for both linear regression and decision trees we do not want to include correlated features."
   ]
  },
  {
   "cell_type": "code",
   "execution_count": 17,
   "metadata": {},
   "outputs": [
    {
     "data": {
      "text/plain": [
       "<matplotlib.axes._subplots.AxesSubplot at 0x10d37edd8>"
      ]
     },
     "execution_count": 17,
     "metadata": {},
     "output_type": "execute_result"
    },
    {
     "data": {
      "image/png": "[encoded data removed]",
      "text/plain": [
       "<matplotlib.figure.Figure at 0x10d35d1d0>"
      ]
     },
     "metadata": {},
     "output_type": "display_data"
    }
   ],
   "source": [
    "# Compute the correlation matrix\n",
    "corrmat  = df_a.corr()\n",
    "\n",
    "# Set up the matplotlib figure\n",
    "f, ax = plt.subplots(figsize=(12, 9))\n",
    "\n",
    "cmap = sns.diverging_palette(220, 10, as_cmap=True)\n",
    "\n",
    "# Draw the heatmap using seaborn\n",
    "sns.heatmap(corrmat, cmap=cmap, vmax=.8, square=True)\n"
   ]
  },
  {
   "cell_type": "markdown",
   "metadata": {},
   "source": [
    "Woah, there is a lot of information above! However, the plot also immediately tells us some features we should cut:\n",
    "\n",
    "- gender_female and gender_male are perfectly correlated. We only need one.\n",
    "- sector_agriculture and activity_farming are correlated. In fact, this is true of many of the sectors and activities, which makes sense because we are taking the top 10 for both, so any activity that makes the top 10 in loan volume will likely dominate the associated sector.\n",
    "- country_kiamby and province_central are very correlated. In fact this is true of other counties and provinces, like Nairobi county and Nairobi province. We should probably only include the province feature.\n",
    "- number of tags is very correlated with any given tag. This makes sense because most lenders only have one tag. We should remove this feature.\n",
    "\n",
    "\n",
    "This has taught us alot!"
   ]
  },
  {
   "cell_type": "markdown",
   "metadata": {},
   "source": [
    "### When we build a correlation plot we are are checking for multicollinearity!"
   ]
  },
  {
   "cell_type": "markdown",
   "metadata": {},
   "source": [
    "The plot above is a way to check for multicollinearity. Multicollinearity is a problem when we have highly correlated explanatory features, as this makes it difficult for the model to try to differentitae between each feature's influence on the explanatory feature. "
   ]
  },
  {
   "cell_type": "markdown",
   "metadata": {},
   "source": [
    "In the code below, instead of plotting the correlation matrix, we filter to only the top abs correlations that are not one. This will help us isolate the interactions that are most problematic."
   ]
  },
  {
   "cell_type": "code",
   "execution_count": 18,
   "metadata": {},
   "outputs": [
    {
     "name": "stdout",
     "output_type": "stream",
     "text": [
      "Top Absolute Correlations\n",
      "county_kisii              capital_kisii                 1.000000\n",
      "gender_Female             gender_Male                   1.000000\n",
      "province_Missing          capital_Missing               0.999968\n",
      "county_nakuru             capital_nakuru                0.999920\n",
      "county_bungoma            capital_bungoma               0.999916\n",
      "province_nairobi          capital_nairobi               0.999894\n",
      "county_kiambu             capital_kiambu                0.999118\n",
      "county_kwale              capital_kwale                 0.998342\n",
      "county_nairobi            capital_nairobi               0.996772\n",
      "                          province_nairobi              0.996666\n",
      "county_mombasa            capital_mombasa               0.994778\n",
      "more_one_partner_country  num_partner_countries         0.946659\n",
      "                          top_partners_One_Acre_Fund    0.936058\n",
      "borrower_count            top_partners_One_Acre_Fund    0.914509\n",
      "pct_female                gender_Male                   0.895420\n",
      "                          gender_Female                 0.895420\n",
      "borrower_count            more_one_partner_country      0.856025\n",
      "num_partner_countries     top_partners_One_Acre_Fund    0.836863\n",
      "activity_Clothing_Sales   sector_Clothing               0.816356\n",
      "province_western          capital_bungoma               0.777638\n",
      "dtype: float64\n"
     ]
    }
   ],
   "source": [
    "def get_redundant_pairs(df):\n",
    "    '''Get diagonal and lower triangular pairs of correlation matrix'''\n",
    "    pairs_to_drop = set()\n",
    "    cols = df.columns\n",
    "    for i in range(0, df.shape[1]):\n",
    "        for j in range(0, i+1):\n",
    "            pairs_to_drop.add((cols[i], cols[j]))\n",
    "    return pairs_to_drop\n",
    "\n",
    "def get_top_abs_correlations(df, n=5):\n",
    "    au_corr = df.corr().abs().unstack()\n",
    "    labels_to_drop = get_redundant_pairs(df)\n",
    "    au_corr = au_corr.drop(labels=labels_to_drop).sort_values(ascending=False)\n",
    "    return au_corr[0:n]\n",
    "\n",
    "print(\"Top Absolute Correlations\")\n",
    "print(get_top_abs_correlations(df_a, 20))"
   ]
  },
  {
   "cell_type": "markdown",
   "metadata": {},
   "source": [
    "Of course, not every correlation in this list will be meaningful. This list is useful since it provides a visual shortcut to see what relationships might be problematic for multicollinearity. However, we should still use our judgement and do further validation when we see two higly correlated features whose relationship is not intuitive.\n",
    "\n",
    "The list confirms our decision to remove county, activity and gender_male. This makes intuitive sense, let's also do soem additional exploratory analysis before we remove additional features."
   ]
  },
  {
   "cell_type": "markdown",
   "metadata": {},
   "source": [
    "#### tag_Woman_Owned_Biz correlated with posted year"
   ]
  },
  {
   "cell_type": "markdown",
   "metadata": {},
   "source": [
    "Let's take a look at why the tag_Woman_Owned_Biz may be correlated with posted year. We can see in the chart below that the tag seems to be used more heavily in later years. This is probably a function of how the community of loan posters in KIVA has developed."
   ]
  },
  {
   "cell_type": "code",
   "execution_count": 19,
   "metadata": {
    "scrolled": true
   },
   "outputs": [
    {
     "data": {
      "text/plain": [
       "<matplotlib.axes._subplots.AxesSubplot at 0x10ed902e8>"
      ]
     },
     "execution_count": 19,
     "metadata": {},
     "output_type": "execute_result"
    },
    {
     "data": {
      "text/plain": [
       "(array([ 0,  1,  2,  3,  4,  5,  6,  7,  8,  9, 10, 11]),\n",
       " <a list of 12 Text xticklabel objects>)"
      ]
     },
     "execution_count": 19,
     "metadata": {},
     "output_type": "execute_result"
    },
    {
     "data": {
      "image/png": "[encoded data removed]",
      "text/plain": [
       "<matplotlib.figure.Figure at 0x10edc87b8>"
      ]
     },
     "metadata": {},
     "output_type": "display_data"
    }
   ],
   "source": [
    "df_a.groupby('posted_year')['tag_Woman_Owned_Biz'].sum().plot(kind=\"bar\", title='Number of loans from woman owned businesses on KIVA By Year')\n",
    "plt.xticks(rotation=90)"
   ]
  },
  {
   "cell_type": "markdown",
   "metadata": {},
   "source": [
    "In fact, we can see for the plot below of total number of tags associated with a loan by posted year that this trend is not isolated to women owned business tags. We decide to remove number of tags."
   ]
  },
  {
   "cell_type": "code",
   "execution_count": 20,
   "metadata": {},
   "outputs": [
    {
     "data": {
      "text/plain": [
       "<matplotlib.axes._subplots.AxesSubplot at 0x10edc82b0>"
      ]
     },
     "execution_count": 20,
     "metadata": {},
     "output_type": "execute_result"
    },
    {
     "data": {
      "text/plain": [
       "(array([ 0,  1,  2,  3,  4,  5,  6,  7,  8,  9, 10, 11]),\n",
       " <a list of 12 Text xticklabel objects>)"
      ]
     },
     "execution_count": 20,
     "metadata": {},
     "output_type": "execute_result"
    },
    {
     "data": {
      "image/png": "[encoded data removed]",
      "text/plain": [
       "<matplotlib.figure.Figure at 0x10d2e79e8>"
      ]
     },
     "metadata": {},
     "output_type": "display_data"
    }
   ],
   "source": [
    "df_a.groupby('posted_year')['num_tags'].sum().plot(kind=\"bar\", title='Number of loans from woman owned businesses on KIVA By Year')\n",
    "plt.xticks(rotation=90)"
   ]
  },
  {
   "cell_type": "markdown",
   "metadata": {},
   "source": [
    " We will go ahead and remove activitiy, county, gender_male, number_loans_posted, more_one_partner_country, num_tags."
   ]
  },
  {
   "cell_type": "code",
   "execution_count": 21,
   "metadata": {},
   "outputs": [
    {
     "name": "stdout",
     "output_type": "stream",
     "text": [
      "Index(['loan_amount', 'partner_delinquency_rate', 'posted_year',\n",
      "       'posted_month', 'num_tags', 'parent', 'tag_Woman_Owned_Biz', 'age_int',\n",
      "       'tag_Repeat_Borrower', 'children_int', 'borrower_count',\n",
      "       'more_one_partner_country', 'terms_repayment_term', 'tag_Schooling',\n",
      "       'married', 'pct_female', 'num_partner_countries', 'activity_Farming',\n",
      "       'activity_Dairy', 'activity_Agriculture', 'activity_General_Store',\n",
      "       'activity_Retail', 'activity_Clothing_Sales',\n",
      "       'activity_Fruits__Vegetables', 'activity_Poultry', 'sector_Agriculture',\n",
      "       'sector_Food', 'sector_Retail', 'sector_Services', 'sector_Clothing',\n",
      "       'sector_Transportation', 'sector_Education', 'sector_Health',\n",
      "       'county_nairobi', 'county_mombasa', 'county_kwale', 'county_nakuru',\n",
      "       'county_bungoma', 'county_kisii', 'county_kiambu', 'county_trans_nzoia',\n",
      "       'province_rift_valley', 'province_coast', 'province_Missing',\n",
      "       'province_nyanza', 'province_nairobi', 'province_western',\n",
      "       'province_eastern', 'province_central', 'gender_Female', 'gender_Male',\n",
      "       'age_bucket_30,_40]', 'age_bucket_20,_30]', 'age_bucket_40,_50]',\n",
      "       'age_bucket_50,_60]', 'age_bucket_60,_70]', 'age_bucket_70,_80]',\n",
      "       'capital_Missing', 'capital_nairobi', 'capital_mombasa',\n",
      "       'capital_kwale', 'capital_nakuru', 'capital_bungoma', 'capital_kisii',\n",
      "       'capital_kiambu', 'top_partners_VisionFund_Kenya',\n",
      "       'top_partners_One_Acre_Fund', 'top_partners_Juhudi_Kilimo',\n",
      "       'top_partners_Yehu_Microfinance_Trust',\n",
      "       'top_partners_SMEP_Microfinance_Bank', 'top_partners_Other',\n",
      "       'top_partners_Faulu_Kenya', 'top_partners_Milango_Financial_Services'],\n",
      "      dtype='object')\n"
     ]
    }
   ],
   "source": [
    "print(df_a.columns)"
   ]
  },
  {
   "cell_type": "code",
   "execution_count": 23,
   "metadata": {},
   "outputs": [],
   "source": [
    "df_a=df_a.drop(['gender_Male', 'province_Missing',  'activity_Farming', 'activity_Dairy', 'activity_General_Store',\n",
    "       'activity_Retail', 'activity_Clothing_Sales',\n",
    "       'activity_Fruits__Vegetables', 'activity_Poultry', 'county_nairobi',\n",
    "       'county_mombasa', 'county_nakuru', 'county_kisii', 'county_trans_nzoia',\n",
    "       'county_kiambu', 'county_bungoma' ], axis=1)"
   ]
  },
  {
   "cell_type": "markdown",
   "metadata": {},
   "source": [
    "### Normality\n",
    "In Module 3, we reviewed that normal distribution of variables is an assumption underlying linear regression. Let's look first at our outcome feature, loan_amount."
   ]
  },
  {
   "cell_type": "markdown",
   "metadata": {},
   "source": [
    "We already know our data is skewed by outliers, however before we begin modeling let's quantify the degree to which it is skewed.\n",
    "\n",
    "[Scipy's stats package](https://docs.scipy.org/doc/scipy-0.19.0/reference/generated/scipy.stats.skew.html) allows you to conduct a skew test. A normally distributed dataset would return about 0. A skewness value of greater than 0 means there are more loans in the left tail of the distribution. Typically, a skew score of +-5 is deemed acceptable."
   ]
  },
  {
   "cell_type": "code",
   "execution_count": 24,
   "metadata": {
    "scrolled": true
   },
   "outputs": [
    {
     "data": {
      "image/png": "[encoded data removed]",
      "text/plain": [
       "<matplotlib.figure.Figure at 0x10d20c048>"
      ]
     },
     "metadata": {},
     "output_type": "display_data"
    },
    {
     "data": {
      "text/plain": [
       "<ggplot: (-9223372036572596157)>"
      ]
     },
     "execution_count": 24,
     "metadata": {},
     "output_type": "execute_result"
    }
   ],
   "source": [
    "ggplot(df_a, aes(x='loan_amount')) + geom_density() + xlim(0,10000)"
   ]
  },
  {
   "cell_type": "code",
   "execution_count": 25,
   "metadata": {},
   "outputs": [
    {
     "name": "stdout",
     "output_type": "stream",
     "text": [
      "33.89270408065895\n"
     ]
    }
   ],
   "source": [
    "print(stats.skew(df_a.loan_amount, axis=None))"
   ]
  },
  {
   "cell_type": "markdown",
   "metadata": {},
   "source": [
    "This confirms our suspicion that the data is heavily skewed to the left. However, the degree to which it is skewed is not troubling. +-3 is fairly reasonable. In the cell below we describe a way to address this if you face a dataset with more severely skewed data."
   ]
  },
  {
   "cell_type": "markdown",
   "metadata": {},
   "source": [
    "## Additional context on how to deal with skewed data:\n",
    "\n",
    "\n",
    "One potential solution is to **log transform** your data. For a quick review of logarithms, look [here](https://www.mathsisfun.com/algebra/logarithms.html). \n",
    "\n",
    "Note that when we log transform data, we change our interpretation of the final regression output. Previously we had a simple linear equation... \n",
    "\n",
    "    y = a + bx \n",
    "\n",
    "This could be interpreted as, with every unit increase in x, we get a m increase in outcome feature y. \n",
    "\n",
    "Our interpretation of the regression depends upon what side of the equation we log transform:\n",
    "\n",
    "**log-level (transform the outcome variable):**\n",
    "\n",
    "Now we have a log equation: \n",
    "\n",
    "    log(y) = a + bx\n",
    "    \n",
    "This is less intuitive, as we have to solve for y. When we solve for y through exponentiation, we get the following equation: \n",
    "\n",
    "    y = 10^(mx + b)\n",
    "    y = 10^(mx) * 10^(b)\n",
    "\n",
    "The default base for log is 10. The takeaway here is that the impact x would have on y is much larger than linear - it is **exponentiated**. \n",
    "\n",
    "The model log(y) = mx + b is called a log-level equation because only the left hand side of the equation (the outcome variable) is logged. The interpretation is:\n",
    "\n",
    "“if we change x by 1 (unit), we’d expect our y variable to change by 100⋅β1 percent”\n",
    "\n",
    "\n",
    "**log-log (transform the outcome and the explanatory variable):**\n",
    "\n",
    "**What about if we need to log transform both sides of the data?**\n",
    "\n",
    "Often, we need to address skewed data in both the outcome variable and the explanatory features. This results in what we call a log-log model because both sides of the equation are logged.\n",
    "\n",
    "log(y) = a + blog(x)\n",
    "\n",
    "The interpretation of a log-log model is:\n",
    "\n",
    "“if we change x by one percent, we’d expect y to change by β1 percent”\n",
    "\n",
    "[This](http://www.cazaar.com/ta/econ113/interpreting-beta) website is a very thorough coverage of how to interpret your parameter b, after transforming the data through logging."
   ]
  },
  {
   "cell_type": "markdown",
   "metadata": {},
   "source": [
    "##  Final feature selection"
   ]
  },
  {
   "cell_type": "code",
   "execution_count": 27,
   "metadata": {},
   "outputs": [],
   "source": [
    "# final feature list\n",
    "cols = df_a[['loan_amount', 'partner_delinquency_rate', 'posted_year',\n",
    "       'posted_month', 'parent',\n",
    "       'tag_Repeat_Borrower', 'children_int', 'borrower_count', 'more_one_partner_country',\n",
    "       'terms_repayment_term', 'tag_Schooling', 'married', 'pct_female',\n",
    "      'sector_Agriculture', 'sector_Food', 'tag_Woman_Owned_Biz',\n",
    "       'sector_Retail', 'sector_Services', 'sector_Clothing',\n",
    "       'sector_Transportation', 'sector_Health', 'sector_Education', 'age_int', 'capital_nairobi', 'capital_mombasa', 'capital_bungoma',\n",
    "       'capital_nakuru', 'capital_kiambu', 'capital_kisii', 'top_partners_VisionFund_Kenya',\n",
    "      'top_partners_One_Acre_Fund',\n",
    "       'top_partners_Juhudi_Kilimo', 'top_partners_Yehu_Microfinance_Trust',\n",
    "       'top_partners_SMEP_Microfinance_Bank', 'top_partners_Other',\n",
    "       'top_partners_Faulu_Kenya', 'top_partners_Milango_Financial_Services']]\n",
    "# create a copy of the dataframe\n",
    "rf_trainArr = cols.copy()\n",
    "rf_trainArr=rf_trainArr[rf_trainArr['posted_year']>2009]"
   ]
  },
  {
   "cell_type": "markdown",
   "metadata": {},
   "source": [
    "## Checking for null values"
   ]
  },
  {
   "cell_type": "code",
   "execution_count": 30,
   "metadata": {},
   "outputs": [
    {
     "name": "stdout",
     "output_type": "stream",
     "text": [
      "Missing values per column:\n",
      "loan_amount                                0\n",
      "partner_delinquency_rate                   0\n",
      "posted_year                                0\n",
      "posted_month                               0\n",
      "parent                                     0\n",
      "tag_Repeat_Borrower                        0\n",
      "children_int                               0\n",
      "borrower_count                             0\n",
      "more_one_partner_country                   0\n",
      "terms_repayment_term                       0\n",
      "tag_Schooling                              0\n",
      "married                                    0\n",
      "pct_female                                 0\n",
      "sector_Agriculture                         0\n",
      "sector_Food                                0\n",
      "tag_Woman_Owned_Biz                        0\n",
      "sector_Retail                              0\n",
      "sector_Services                            0\n",
      "sector_Clothing                            0\n",
      "sector_Transportation                      0\n",
      "sector_Health                              0\n",
      "sector_Education                           0\n",
      "age_int                                    0\n",
      "capital_nairobi                            0\n",
      "capital_mombasa                            0\n",
      "capital_bungoma                            0\n",
      "capital_nakuru                             0\n",
      "capital_kiambu                             0\n",
      "capital_kisii                              0\n",
      "top_partners_VisionFund_Kenya              0\n",
      "top_partners_One_Acre_Fund                 0\n",
      "top_partners_Juhudi_Kilimo                 0\n",
      "top_partners_Yehu_Microfinance_Trust       0\n",
      "top_partners_SMEP_Microfinance_Bank        0\n",
      "top_partners_Other                         0\n",
      "top_partners_Faulu_Kenya                   0\n",
      "top_partners_Milango_Financial_Services    0\n",
      "dtype: int64\n",
      "\n",
      "Missing values per row:\n",
      "0    0\n",
      "1    0\n",
      "2    0\n",
      "3    0\n",
      "4    0\n",
      "dtype: int64\n"
     ]
    }
   ],
   "source": [
    "#Create a new function:\n",
    "def num_missing(x):\n",
    "  return sum(x.isnull())\n",
    "\n",
    "#Applying per column:\n",
    "print (\"Missing values per column:\")\n",
    "print (rf_trainArr.apply(num_missing, axis=0)) #axis=0 defines that function is to be applied on each column\n",
    "\n",
    "#Applying per row:\n",
    "print (\"\\nMissing values per row:\")\n",
    "print (rf_trainArr.apply(num_missing, axis=1).head()) #axis=1 defines that function is to be applied on each row"
   ]
  },
  {
   "cell_type": "markdown",
   "metadata": {},
   "source": [
    "There are no nulls! We did a good job in the prior notebook filling out all most of the explanatory fields with priors. If you did have nulls, the commented out code below would drop these rows. However, be aware that if you have many nulls in one field you should rather go back and fill with a good prior than lose many rows of valuable data. "
   ]
  },
  {
   "cell_type": "code",
   "execution_count": 31,
   "metadata": {
    "collapsed": true
   },
   "outputs": [],
   "source": [
    "rf_trainArr = rf_trainArr.dropna()"
   ]
  },
  {
   "cell_type": "markdown",
   "metadata": {},
   "source": [
    "## Splitting into train and test"
   ]
  },
  {
   "cell_type": "markdown",
   "metadata": {},
   "source": [
    "To understand how well our model generalizes, we need to split our data into a test and training set. In order to get a true prediction, we can't show our model the test labels. Instead we just ask the model to score based upon the test explanatory variables.\n",
    "\n",
    "In order to get to this, we split the dataframe into a test and train."
   ]
  },
  {
   "cell_type": "markdown",
   "metadata": {},
   "source": [
    "### train and test dataset"
   ]
  },
  {
   "cell_type": "markdown",
   "metadata": {},
   "source": [
    "## X_train, y_train, X_test, y_test\n",
    "\n",
    "However, we additionally need to seperate the explanatory features from our outcome feature.\n",
    "\n",
    "To do this we need to create four subsets of data:\n",
    "- X_train: the explanatory features to train the algorithm\n",
    "- y_train: the outcome feature associated with the training features - In this case, these are the loan amounts\n",
    "- X_test: the explanatory features to test the algorithm\n",
    "- y_test: the true Y of the target features associated with the testing geatures - again, in this case, these are the loan amounts\n",
    "\n",
    "To do this we will use the sklearn model selection function **train_test_split**. If you look back to the top of this page, we imported this function at the beginning of the notebook.\n",
    "\n",
    "The names used below (X_train, X_test, y_train, y_test) are the conventions used in industry for train and test data so you will continue to see them repeatedly."
   ]
  },
  {
   "cell_type": "code",
   "execution_count": 32,
   "metadata": {
    "scrolled": true
   },
   "outputs": [
    {
     "name": "stdout",
     "output_type": "stream",
     "text": [
      "Index(['loan_amount', 'partner_delinquency_rate', 'posted_year',\n",
      "       'posted_month', 'parent', 'tag_Repeat_Borrower', 'children_int',\n",
      "       'borrower_count', 'more_one_partner_country', 'terms_repayment_term',\n",
      "       'tag_Schooling', 'married', 'pct_female', 'sector_Agriculture',\n",
      "       'sector_Food', 'tag_Woman_Owned_Biz', 'sector_Retail',\n",
      "       'sector_Services', 'sector_Clothing', 'sector_Transportation',\n",
      "       'sector_Health', 'sector_Education', 'age_int', 'capital_nairobi',\n",
      "       'capital_mombasa', 'capital_bungoma', 'capital_nakuru',\n",
      "       'capital_kiambu', 'capital_kisii', 'top_partners_VisionFund_Kenya',\n",
      "       'top_partners_One_Acre_Fund', 'top_partners_Juhudi_Kilimo',\n",
      "       'top_partners_Yehu_Microfinance_Trust',\n",
      "       'top_partners_SMEP_Microfinance_Bank', 'top_partners_Other',\n",
      "       'top_partners_Faulu_Kenya', 'top_partners_Milango_Financial_Services'],\n",
      "      dtype='object')\n"
     ]
    }
   ],
   "source": [
    "print(rf_trainArr.columns)"
   ]
  },
  {
   "cell_type": "markdown",
   "metadata": {},
   "source": [
    "Our OLS package only requires the training data is split into train & test."
   ]
  },
  {
   "cell_type": "code",
   "execution_count": 33,
   "metadata": {},
   "outputs": [
    {
     "data": {
      "text/plain": [
       "90838"
      ]
     },
     "execution_count": 33,
     "metadata": {},
     "output_type": "execute_result"
    },
    {
     "data": {
      "text/plain": [
       "22710"
      ]
     },
     "execution_count": 33,
     "metadata": {},
     "output_type": "execute_result"
    }
   ],
   "source": [
    "train, test = train_test_split(rf_trainArr, test_size=0.2, random_state=42)\n",
    "len(train)\n",
    "len(test)"
   ]
  },
  {
   "cell_type": "markdown",
   "metadata": {},
   "source": [
    "Our scikit learn package requires that the explanatory variables are stored seperately from the outcome variables."
   ]
  },
  {
   "cell_type": "code",
   "execution_count": 34,
   "metadata": {},
   "outputs": [],
   "source": [
    "# create a training array = all the features but not the target and a training test array = the results of the target variable for the training array\n",
    "rf_trainY = rf_trainArr['loan_amount']\n",
    "rf_trainX = rf_trainArr.drop('loan_amount', axis=1)"
   ]
  },
  {
   "cell_type": "code",
   "execution_count": 35,
   "metadata": {},
   "outputs": [
    {
     "data": {
      "text/plain": [
       "90838"
      ]
     },
     "execution_count": 35,
     "metadata": {},
     "output_type": "execute_result"
    },
    {
     "data": {
      "text/plain": [
       "22710"
      ]
     },
     "execution_count": 35,
     "metadata": {},
     "output_type": "execute_result"
    },
    {
     "data": {
      "text/plain": [
       "90838"
      ]
     },
     "execution_count": 35,
     "metadata": {},
     "output_type": "execute_result"
    },
    {
     "data": {
      "text/plain": [
       "22710"
      ]
     },
     "execution_count": 35,
     "metadata": {},
     "output_type": "execute_result"
    }
   ],
   "source": [
    "X_train, X_test, y_train, y_test = train_test_split(rf_trainX, rf_trainY, test_size=0.2, random_state=42)\n",
    "\n",
    "len(X_train)\n",
    "len(X_test)\n",
    "len(y_train)\n",
    "len(y_test)"
   ]
  },
  {
   "cell_type": "markdown",
   "metadata": {},
   "source": [
    "# Linear Regression"
   ]
  },
  {
   "cell_type": "markdown",
   "metadata": {},
   "source": [
    "Now we have two separate datasets: train_set and test_set. We will run the regression on train_set\n",
    "using statsmodel's \"ols\" function since the output is more intuitive. Let's try a simple example to start: "
   ]
  },
  {
   "cell_type": "code",
   "execution_count": 36,
   "metadata": {},
   "outputs": [
    {
     "name": "stdout",
     "output_type": "stream",
     "text": [
      "                            OLS Regression Results                            \n",
      "==============================================================================\n",
      "Dep. Variable:            loan_amount   R-squared:                       0.003\n",
      "Model:                            OLS   Adj. R-squared:                  0.003\n",
      "Method:                 Least Squares   F-statistic:                     239.0\n",
      "Date:                Mon, 04 Sep 2017   Prob (F-statistic):           7.79e-54\n",
      "Time:                        11:13:27   Log-Likelihood:            -7.2251e+05\n",
      "No. Observations:               90838   AIC:                         1.445e+06\n",
      "Df Residuals:                   90836   BIC:                         1.445e+06\n",
      "Df Model:                           1                                         \n",
      "Covariance Type:            nonrobust                                         \n",
      "==============================================================================\n",
      "                 coef    std err          t      P>|t|      [0.025      0.975]\n",
      "------------------------------------------------------------------------------\n",
      "Intercept    541.3124      3.932    137.668      0.000     533.606     549.019\n",
      "pct_female    -0.8177      0.053    -15.458      0.000      -0.921      -0.714\n",
      "==============================================================================\n",
      "Omnibus:                   245755.081   Durbin-Watson:                   1.974\n",
      "Prob(Omnibus):                  0.000   Jarque-Bera (JB):      15145644707.622\n",
      "Skew:                          33.171   Prob(JB):                         0.00\n",
      "Kurtosis:                    2002.294   Cond. No.                         128.\n",
      "==============================================================================\n",
      "\n",
      "Warnings:\n",
      "[1] Standard Errors assume that the covariance matrix of the errors is correctly specified.\n"
     ]
    }
   ],
   "source": [
    "model0 = sm.ols(formula=\"loan_amount ~ pct_female\", data=train).fit()\n",
    "print(model0.summary())"
   ]
  },
  {
   "cell_type": "markdown",
   "metadata": {},
   "source": [
    "This is the typical regression output. It's a lot to digest! Remember that our simple model can be represented as a linear equation, like this: \n",
    "\n",
    "    loan_amount = intercept + coef*pct_female\n",
    "\n",
    "Therefore, these results can be translated as follows: \n",
    "\n",
    "    loan_amount = 525.29 -0.79*(pct_female)\n",
    "    \n",
    "Let's state the results. Regardless of gender the predicted loan amount is 526 dollars. However, if the lender group or individual is 100% female the loan amount decreases by 79 dollars. This is consistent with our earlier explanatory analysis. How do we know however, whether this is a significant result?\n",
    "\n",
    "We have a sufficient amount of confidence in this conclusion because the **p-value** is reported to be 0.000. In technical terms, the p-value is **the probability of getting results as extreme as the ones observed. **\n",
    "\n",
    "In statistics, we want our results to fall within the 95% confidence interval, or the p-value to be <= 0.05. This means, \"[i]f repeated samples were taken and the 95% confidence interval was computed for each sample, 95% of the intervals would contain the population mean. A 95% confidence interval has a 0.95 probability of containing the population mean. 95% of the population distribution is contained in the confidence interval.\" [Read more here.](http://www.investopedia.com/terms/s/standard-error.asp) The p-value is an indicator of where we fall in the confidence interval. In English, small p-value (<= 0.05) indicates strong evidence that the coefficient is different than 0. \n",
    "\n",
    "This is a relatively simplified explanation of p-values. Don't worry if it's not immediately intuitive - [not even professional statisticians can easily explain this concept.](http://fivethirtyeight.com/features/not-even-scientists-can-easily-explain-p-values/) To get a deeper understanding, we recommend grabbing the nearest textbook on statistics to review! \n"
   ]
  },
  {
   "cell_type": "markdown",
   "metadata": {},
   "source": [
    "## Multivariate Regression"
   ]
  },
  {
   "cell_type": "code",
   "execution_count": 37,
   "metadata": {},
   "outputs": [
    {
     "name": "stdout",
     "output_type": "stream",
     "text": [
      "Index(['loan_amount', 'partner_delinquency_rate', 'posted_year',\n",
      "       'posted_month', 'parent', 'tag_Repeat_Borrower', 'children_int',\n",
      "       'borrower_count', 'more_one_partner_country', 'terms_repayment_term',\n",
      "       'tag_Schooling', 'married', 'pct_female', 'sector_Agriculture',\n",
      "       'sector_Food', 'tag_Woman_Owned_Biz', 'sector_Retail',\n",
      "       'sector_Services', 'sector_Clothing', 'sector_Transportation',\n",
      "       'sector_Health', 'sector_Education', 'age_int', 'capital_nairobi',\n",
      "       'capital_mombasa', 'capital_bungoma', 'capital_nakuru',\n",
      "       'capital_kiambu', 'capital_kisii', 'top_partners_VisionFund_Kenya',\n",
      "       'top_partners_One_Acre_Fund', 'top_partners_Juhudi_Kilimo',\n",
      "       'top_partners_Yehu_Microfinance_Trust',\n",
      "       'top_partners_SMEP_Microfinance_Bank', 'top_partners_Other',\n",
      "       'top_partners_Faulu_Kenya', 'top_partners_Milango_Financial_Services'],\n",
      "      dtype='object')\n"
     ]
    }
   ],
   "source": [
    "print(train.columns)"
   ]
  },
  {
   "cell_type": "code",
   "execution_count": 40,
   "metadata": {
    "scrolled": true
   },
   "outputs": [
    {
     "name": "stdout",
     "output_type": "stream",
     "text": [
      "                            OLS Regression Results                            \n",
      "==============================================================================\n",
      "Dep. Variable:            loan_amount   R-squared:                       0.181\n",
      "Model:                            OLS   Adj. R-squared:                  0.181\n",
      "Method:                 Least Squares   F-statistic:                     607.8\n",
      "Date:                Mon, 04 Sep 2017   Prob (F-statistic):               0.00\n",
      "Time:                        11:14:24   Log-Likelihood:            -7.1356e+05\n",
      "No. Observations:               90838   AIC:                         1.427e+06\n",
      "Df Residuals:                   90804   BIC:                         1.428e+06\n",
      "Df Model:                          33                                         \n",
      "Covariance Type:            nonrobust                                         \n",
      "===========================================================================================================\n",
      "                                              coef    std err          t      P>|t|      [0.025      0.975]\n",
      "-----------------------------------------------------------------------------------------------------------\n",
      "Intercept                                7.421e+04   2868.972     25.867      0.000    6.86e+04    7.98e+04\n",
      "partner_delinquency_rate                   28.6304      0.571     50.166      0.000      27.512      29.749\n",
      "posted_year                               -36.8307      1.424    -25.873      0.000     -39.621     -34.041\n",
      "posted_month                               -4.2062      0.630     -6.673      0.000      -5.442      -2.971\n",
      "parent                                    -31.7751      6.913     -4.596      0.000     -45.325     -18.226\n",
      "tag_Repeat_Borrower                        66.2898      7.494      8.846      0.000      51.602      80.978\n",
      "children_int                               -1.6973      0.843     -2.014      0.044      -3.349      -0.045\n",
      "borrower_count                              9.6296      1.776      5.423      0.000       6.149      13.110\n",
      "more_one_partner_country                 -795.9771     22.261    -35.757      0.000    -839.608    -752.346\n",
      "terms_repayment_term                       28.8588      0.312     92.390      0.000      28.247      29.471\n",
      "tag_Schooling                              36.6059      7.541      4.854      0.000      21.825      51.387\n",
      "married                                     1.1675      4.983      0.234      0.815      -8.599      10.934\n",
      "pct_female                                 -0.4211      0.053     -7.888      0.000      -0.526      -0.316\n",
      "tag_Woman_Owned_Biz                        98.7565      6.493     15.209      0.000      86.030     111.483\n",
      "sector_Agriculture                          4.3118      9.871      0.437      0.662     -15.036      23.660\n",
      "sector_Food                                 7.4513     10.269      0.726      0.468     -12.675      27.578\n",
      "sector_Retail                              79.7918     10.595      7.531      0.000      59.027     100.557\n",
      "sector_Services                            29.2675     11.815      2.477      0.013       6.111      52.424\n",
      "sector_Clothing                            41.9444     12.425      3.376      0.001      17.592      66.296\n",
      "sector_Transportation                      94.1445     14.783      6.369      0.000      65.171     123.118\n",
      "sector_Education                          277.7528     19.257     14.423      0.000     240.009     315.497\n",
      "sector_Health                            -279.3608     25.261    -11.059      0.000    -328.872    -229.849\n",
      "capital_nairobi                           -12.2609      7.563     -1.621      0.105     -27.084       2.562\n",
      "capital_mombasa                            32.4384      7.653      4.238      0.000      17.438      47.439\n",
      "capital_bungoma                           -44.4401      9.627     -4.616      0.000     -63.309     -25.572\n",
      "capital_kisii                              37.8342     10.697      3.537      0.000      16.868      58.800\n",
      "capital_kiambu                             66.1501     11.301      5.853      0.000      44.000      88.300\n",
      "top_partners_VisionFund_Kenya            -188.8430     10.036    -18.817      0.000    -208.513    -169.173\n",
      "top_partners_One_Acre_Fund               1364.4419     29.599     46.097      0.000    1306.428    1422.456\n",
      "top_partners_Juhudi_Kilimo                -36.5006     10.324     -3.535      0.000     -56.736     -16.266\n",
      "top_partners_Yehu_Microfinance_Trust      -62.4230     10.815     -5.772      0.000     -83.620     -41.226\n",
      "top_partners_SMEP_Microfinance_Bank      -249.5779     10.690    -23.346      0.000    -270.531    -228.625\n",
      "top_partners_Faulu_Kenya                    1.8271     14.080      0.130      0.897     -25.769      29.424\n",
      "top_partners_Milango_Financial_Services    80.4893     16.148      4.984      0.000      48.839     112.140\n",
      "==============================================================================\n",
      "Omnibus:                   264072.989   Durbin-Watson:                   1.967\n",
      "Prob(Omnibus):                  0.000   Jarque-Bera (JB):      29507228321.308\n",
      "Skew:                          40.140   Prob(JB):                         0.00\n",
      "Kurtosis:                    2793.978   Cond. No.                     2.79e+06\n",
      "==============================================================================\n",
      "\n",
      "Warnings:\n",
      "[1] Standard Errors assume that the covariance matrix of the errors is correctly specified.\n",
      "[2] The condition number is large, 2.79e+06. This might indicate that there are\n",
      "strong multicollinearity or other numerical problems.\n"
     ]
    }
   ],
   "source": [
    "model1 = sm.ols(formula=\"loan_amount~ partner_delinquency_rate+ posted_year+posted_month+ \\\n",
    "parent + tag_Repeat_Borrower + children_int  + borrower_count + more_one_partner_country + terms_repayment_term + \\\n",
    "tag_Schooling + married + pct_female + tag_Woman_Owned_Biz + \\\n",
    "sector_Agriculture + sector_Food + sector_Retail + sector_Services + sector_Clothing +  +\\\n",
    "sector_Transportation + sector_Education + sector_Health + capital_nairobi +\\\n",
    "capital_mombasa + capital_bungoma + capital_kisii + capital_kiambu + top_partners_VisionFund_Kenya + \\\n",
    "top_partners_One_Acre_Fund + top_partners_Juhudi_Kilimo + top_partners_Yehu_Microfinance_Trust + top_partners_SMEP_Microfinance_Bank + \\\n",
    "top_partners_Faulu_Kenya + top_partners_Milango_Financial_Services\", data=train).fit()\n",
    "print(model1.summary())"
   ]
  },
  {
   "cell_type": "code",
   "execution_count": 41,
   "metadata": {},
   "outputs": [
    {
     "name": "stdout",
     "output_type": "stream",
     "text": [
      "GFT + Wiki / GT  R-squared 0.180935342725\n"
     ]
    }
   ],
   "source": [
    "print (\"GFT + Wiki / GT  R-squared\", model1.rsquared)"
   ]
  },
  {
   "cell_type": "markdown",
   "metadata": {},
   "source": [
    "## Analyzing the output of our multivariate regression"
   ]
  },
  {
   "cell_type": "markdown",
   "metadata": {},
   "source": [
    "### R2"
   ]
  },
  {
   "cell_type": "markdown",
   "metadata": {},
   "source": [
    "Note that the Adjusted R Squared in our multivariate regressionis extremely low. \n",
    "\n",
    "The Adjusted R Squared is an explanation of how much of the outcome feature can be explained by the model's explanatory features. This low Adj R Squared suggests that the predictive value of these combination of variables is pretty low in  predicting loan_amount. \n",
    "\n",
    "\n",
    "**So what do we do next? A low adjusted R2 can mean a few different things:**\n",
    "\n",
    "- we need better feature engineering (let's look at our p-values do understand better what is driving the current explanatory power of the model)\n",
    "- we need more data (we do have a lot of data so this is probably not the reason)\n",
    "- do better feature selection (we are throwing too many useless features at our model)\n",
    "- we need a more sophistocated model (we can check this by comparing the performance of a more complex model on the same features... we will do this later in this notebook by trying the same model with a decision tree)\n"
   ]
  },
  {
   "cell_type": "markdown",
   "metadata": {},
   "source": [
    "### P Values, Statistical Significance"
   ]
  },
  {
   "cell_type": "markdown",
   "metadata": {},
   "source": [
    "Remember that we want each features importance to fall within the 95% confidence interval, or the p-value to be <= 0.05. In the multivariate regression above, most of our features are important! However, there are a few that are not:\n",
    "\n",
    "- province_eastern  \n",
    "- sector_Agriculture \n",
    "- children_int \n",
    "- sector_Retail \n",
    "- province_eastern \n",
    "- province_nairobi\n",
    "- province_coast \n",
    "\n",
    "Let's not remove them immediately, but keep this in mind for when we do additional feature selection."
   ]
  },
  {
   "cell_type": "markdown",
   "metadata": {},
   "source": [
    "### Now let's see how our multivariate linear model scores unseen (test) data."
   ]
  },
  {
   "cell_type": "markdown",
   "metadata": {},
   "source": [
    "In the cell below we use the parameters we trained using our training data to score our unseen test data."
   ]
  },
  {
   "cell_type": "code",
   "execution_count": 42,
   "metadata": {},
   "outputs": [],
   "source": [
    "predicted_y=model0.predict(test)"
   ]
  },
  {
   "cell_type": "markdown",
   "metadata": {},
   "source": [
    "We are able to generate some exciting new metrics using our test_set that we created earlier on in the code. First, let's take a look at the predicted value of y, and the true y.  "
   ]
  },
  {
   "cell_type": "code",
   "execution_count": 43,
   "metadata": {},
   "outputs": [
    {
     "data": {
      "text/plain": [
       "65337    209.541443\n",
       "dtype: float64"
      ]
     },
     "execution_count": 43,
     "metadata": {},
     "output_type": "execute_result"
    }
   ],
   "source": [
    "#Let's calculate the difference! \n",
    "y_diff = abs(y_test - predicted_y)\n",
    "y_diff[:1]"
   ]
  },
  {
   "cell_type": "markdown",
   "metadata": {},
   "source": [
    "This is interesting, but the absolute value of the difference between predicted and true Y doesn't tell us too much on its own. However, it is used as an input in calculating many statistical measures of fit. Let's take a look: "
   ]
  },
  {
   "cell_type": "markdown",
   "metadata": {},
   "source": [
    "[Mean Absolute Error](https://www.kaggle.com/wiki/MeanAbsoluteError)\n",
    "\n",
    "The mean absolute error is calculated as the mean of the distance between predicted and true Y. We take the absolute value of (predicted Y - true Y) so we capture the concept of distance for each observation. Then we take the mean over all observations to get a sense of the entire model. The closer the final statistic is to 0, the better."
   ]
  },
  {
   "cell_type": "code",
   "execution_count": 44,
   "metadata": {},
   "outputs": [
    {
     "name": "stdout",
     "output_type": "stream",
     "text": [
      "Mean absolute error: 272.57\n"
     ]
    }
   ],
   "source": [
    "print(\"Mean absolute error: %.2f\"\n",
    "     % np.mean(y_diff))"
   ]
  },
  {
   "cell_type": "markdown",
   "metadata": {},
   "source": [
    "[Root Mean Squared Error](https://www.kaggle.com/wiki/RootMeanSquaredError)\n",
    "\n",
    "The root mean squared error is calculated as the square root of the mean of the difference between predicted and true Y squared. This is a little more complicated to interpret than the MAE, but a useful indication of fit. Like the MAE, the closer this final statistic is to 0, the better.  \n",
    "\n",
    "We use both RMSE and MAE in practice. See [this blog post](https://medium.com/human-in-a-machine-world/mae-and-rmse-which-metric-is-better-e60ac3bde13d) for a discussion of the difference between the two metrics."
   ]
  },
  {
   "cell_type": "markdown",
   "metadata": {},
   "source": [
    "Firstly, we calculate mean squared error. The closer to 0 the better. While MSE and RMSE are equally intuitive, RMSE is more intuitive to interprete because it is in the units of our outcome variable."
   ]
  },
  {
   "cell_type": "code",
   "execution_count": 45,
   "metadata": {},
   "outputs": [
    {
     "name": "stdout",
     "output_type": "stream",
     "text": [
      "Mean squared error: 635367.21\n"
     ]
    }
   ],
   "source": [
    "print(\"Mean squared error: %.2f\"\n",
    "      % (np.mean((y_diff) ** 2)))"
   ]
  },
  {
   "cell_type": "code",
   "execution_count": 46,
   "metadata": {},
   "outputs": [
    {
     "name": "stdout",
     "output_type": "stream",
     "text": [
      "Root mean squared error: 797.10\n"
     ]
    }
   ],
   "source": [
    "print(\"Root mean squared error: %.2f\"\n",
    "      % np.sqrt(np.mean((y_diff) ** 2)))"
   ]
  },
  {
   "cell_type": "markdown",
   "metadata": {},
   "source": [
    "### R2"
   ]
  },
  {
   "cell_type": "markdown",
   "metadata": {},
   "source": [
    "Unfortunately, STATSModel has no easy way to produce the adjusted R2 of our test set. So, we instead turn to another scikit learn package."
   ]
  },
  {
   "cell_type": "code",
   "execution_count": 47,
   "metadata": {},
   "outputs": [
    {
     "name": "stdout",
     "output_type": "stream",
     "text": [
      "LinearRegression(copy_X=True, fit_intercept=True, n_jobs=1, normalize=False)\n"
     ]
    },
    {
     "name": "stderr",
     "output_type": "stream",
     "text": [
      "/Library/Frameworks/Python.framework/Versions/3.5/lib/python3.5/site-packages/scipy/linalg/basic.py:1018: RuntimeWarning: internal gelsd driver lwork query error, required iwork dimension not returned. This is likely the result of LAPACK bug 0038, fixed in LAPACK 3.2.2 (released July 21, 2010). Falling back to 'gelss' driver.\n",
      "  warnings.warn(mesg, RuntimeWarning)\n"
     ]
    }
   ],
   "source": [
    "# Linear Regression\n",
    "\n",
    "# Create linear regression object\n",
    "regr = linear_model.LinearRegression()\n",
    "\n",
    "# Train the model using the training sets\n",
    "model1 = regr.fit(X_train, y_train)\n",
    "print(model1)"
   ]
  },
  {
   "cell_type": "code",
   "execution_count": 48,
   "metadata": {},
   "outputs": [
    {
     "name": "stdout",
     "output_type": "stream",
     "text": [
      "Train score: 0.180951137739\n",
      "Test score: 0.195830110351\n"
     ]
    }
   ],
   "source": [
    "# Step 3: Calculating the score of the predictive power on the training and testing dataset.\n",
    "linear_training_score = model1.score(X_train, y_train)\n",
    "linear_testing_score = model1.score(X_test, y_test)\n",
    "print(\"Train score: \" + str(linear_training_score))\n",
    "print(\"Test score: \" + str(linear_testing_score))"
   ]
  },
  {
   "cell_type": "markdown",
   "metadata": {},
   "source": [
    "Or we can use cross validation by leveraging the code below. This means we no longer have need for a test set."
   ]
  },
  {
   "cell_type": "code",
   "execution_count": 49,
   "metadata": {},
   "outputs": [
    {
     "name": "stdout",
     "output_type": "stream",
     "text": [
      "[ 0.00273086  0.24619673  0.10644526  0.49261275 -0.06108806 -0.00509655\n",
      "  0.24632878  0.06790646  0.31978824 -0.36661406]\n"
     ]
    }
   ],
   "source": [
    "# Create linear regression object\n",
    "regr = linear_model.LinearRegression()\n",
    "\n",
    "scores = cross_val_score(regr, rf_trainX, rf_trainY, cv=10, scoring='r2')\n",
    "print(scores)"
   ]
  },
  {
   "cell_type": "markdown",
   "metadata": {},
   "source": [
    "### What is this comparison between train and test telling this?"
   ]
  },
  {
   "cell_type": "markdown",
   "metadata": {},
   "source": [
    "Both the train and test score are low. This means we are not overfitting, and confirms our suspicion that we may be underfitting. Our model is not great at explaining loan_score, we suspect this is because a linear model does not fit this data well. We can also plot out the train and test predictions against the actual."
   ]
  },
  {
   "cell_type": "markdown",
   "metadata": {},
   "source": [
    "### Training dataset: Plotting Predicted Against Actual"
   ]
  },
  {
   "cell_type": "code",
   "execution_count": 50,
   "metadata": {
    "scrolled": true
   },
   "outputs": [
    {
     "data": {
      "text/plain": [
       "<matplotlib.collections.PathCollection at 0x10e8130b8>"
      ]
     },
     "execution_count": 50,
     "metadata": {},
     "output_type": "execute_result"
    },
    {
     "data": {
      "text/plain": [
       "<matplotlib.text.Text at 0x1246dd1d0>"
      ]
     },
     "execution_count": 50,
     "metadata": {},
     "output_type": "execute_result"
    },
    {
     "data": {
      "text/plain": [
       "<matplotlib.text.Text at 0x124719a90>"
      ]
     },
     "execution_count": 50,
     "metadata": {},
     "output_type": "execute_result"
    },
    {
     "data": {
      "text/plain": [
       "<matplotlib.text.Text at 0x118613eb8>"
      ]
     },
     "execution_count": 50,
     "metadata": {},
     "output_type": "execute_result"
    },
    {
     "data": {
      "image/png": "[encoded data removed]",
      "text/plain": [
       "<matplotlib.figure.Figure at 0x1246f0748>"
      ]
     },
     "metadata": {},
     "output_type": "display_data"
    }
   ],
   "source": [
    "# plotting a grpah of the true values vs the predicted values for the training and test datasets\n",
    "linear_y_predicted_train = model1.predict(X_train)\n",
    "fig = plt.figure(figsize=(5, 5))\n",
    "plt.scatter(y_train, linear_y_predicted_train, alpha=0.5)\n",
    "plt.xlabel('True value')\n",
    "plt.ylabel('Predicted value')\n",
    "plt.title(\"relationship between True Y and predicted Y* loan amount (training dataset)\")\n",
    "plt.show()"
   ]
  },
  {
   "cell_type": "markdown",
   "metadata": {},
   "source": [
    "### Test dataset: Plotting Predicted Against Actual"
   ]
  },
  {
   "cell_type": "code",
   "execution_count": 51,
   "metadata": {},
   "outputs": [
    {
     "data": {
      "text/plain": [
       "<matplotlib.collections.PathCollection at 0x11c176080>"
      ]
     },
     "execution_count": 51,
     "metadata": {},
     "output_type": "execute_result"
    },
    {
     "data": {
      "text/plain": [
       "<matplotlib.text.Text at 0x10e805470>"
      ]
     },
     "execution_count": 51,
     "metadata": {},
     "output_type": "execute_result"
    },
    {
     "data": {
      "text/plain": [
       "<matplotlib.text.Text at 0x11c13e0b8>"
      ]
     },
     "execution_count": 51,
     "metadata": {},
     "output_type": "execute_result"
    },
    {
     "data": {
      "text/plain": [
       "<matplotlib.text.Text at 0x11c152d68>"
      ]
     },
     "execution_count": 51,
     "metadata": {},
     "output_type": "execute_result"
    },
    {
     "data": {
      "image/png": "[encoded data removed]",
      "text/plain": [
       "<matplotlib.figure.Figure at 0x1246ec550>"
      ]
     },
     "metadata": {},
     "output_type": "display_data"
    }
   ],
   "source": [
    "# plotting a grpah of the true values vs the predicted values for the training and test datasets\n",
    "linear_y_predicted_test = model1.predict(X_test)\n",
    "fig = plt.figure(figsize=(7, 7))\n",
    "plt.scatter(y_test, linear_y_predicted_test, alpha=0.5)\n",
    "plt.xlabel('True value')\n",
    "plt.ylabel('Predicted value')\n",
    "plt.title(\"relationship between True Y and predicted Y* loan amount (test dataset)\")\n",
    "plt.show()"
   ]
  },
  {
   "cell_type": "markdown",
   "metadata": {},
   "source": [
    "## Decision Tree and Random Forest\n",
    "\n",
    "\n",
    "As you learned in the class, decision trees can be used to predict and classify data features. To improve on the simple decision tree, we can use ensemble methods such as Bagging and Random Forest. In an Ensemble approach, the algorithm acts as a group of experts analysing your data and the results is the aggregation of those individual analyses. \n",
    "\n",
    "A quick refresher on Bagging\n",
    "- Grow multiple decisions of random subsets of the data\n",
    "- All features are considered at every split in the decision tree\n",
    "- The result is the average prediction of all trees\n",
    "\n",
    "A quick refresher on the Random Forest theory:\n",
    "- Random Forest is based on Decision Trees -> many trees = a forest!\n",
    "- Grows multiple trees on random subsets of the parent dataset\n",
    "- **At every split, a new random subset of features is chosen**\n",
    "- This leads to \"decorrelated\" trees which leads to a large increase in performance!\n",
    "\n",
    "\n",
    "Now we will compare linear regressions to decision trees and random forest. We will use the same features and will be predicting the same outcome feature loan_amount.\n",
    "\n",
    "** we will be looking at how we can predict the loan amount using decision trees, bagged decisions trees and the random forest algorithm.**\n",
    "\n",
    "However, it is worth mentioning that these methods can also be used to classify data, for example some interesting classification questions we could investigate are:\n",
    "- Can we classify which loans expired and which one got funded?\n",
    "- Is a loan posted by a male or female?\n",
    "\n",
    "Feel free to investigate these on your own time! Here is a very simple example of how the RandomForestClassifier works: https://bicorner.com/2015/10/26/random-forest-using-ipython/"
   ]
  },
  {
   "cell_type": "markdown",
   "metadata": {},
   "source": [
    "One of the advantages of the RandomForest algorithms is that we can pass through a whole range of features, regardless of whether we believe there is a linear relationship between the target (loan amount) and the feature and then find out which features have the highest influence. Remember from the course notes, the RandomForest Algorithms are based on the concept of decision trees where the set of all possible values are split into non-overlapping groups. \n",
    "\n",
    "This can be really powerful tool as it requires less initial investigation and analysis than a regression analysis."
   ]
  },
  {
   "cell_type": "markdown",
   "metadata": {},
   "source": [
    "Step by Step approach to modeling:\n",
    "\n",
    "For the following methods used, there is some standard steps used to implement the algorithms. A simple overvew of these steps are:\n",
    "- **Step 1: Initiate the algorithm** This is where we define the parameters (& hyperparameters of the algorithm) of the algorithm. For example, this is where we would define the maximum depth, the minimum samples in a leaf etc. To learn more about the parameters for each algorithm, either check the module documentation on the internet or run a cell with the algorithm name followed by ? as we did at the beginning of this notebook for the RandomForestRegressor. These resources will also tell you the default values used for each parameter. \n",
    "- **Step 2: Train the algorithm** This is where we train the algorithm by fitting it to the X_train and y_train datasets. \n",
    "- **Step 3: Evaluating the algorithm** This is where we evaluate the predictive power of the algorithm by comparing the predictive loan amount values to the true values. We can do this for the training and testing dataset."
   ]
  },
  {
   "cell_type": "markdown",
   "metadata": {},
   "source": [
    "Let's start with **loan amount** and see if we can predict how much is requested to be funded using the decision trees and ensemble methods! "
   ]
  },
  {
   "cell_type": "markdown",
   "metadata": {},
   "source": [
    "### Decision Tree\n",
    "Before we get into some of the more sophisticated models, let's first try an individual Decision Tree and see how it performs.  After training the model, we will be able to assess it's performance by using sklearns useful method .score, which calculates the r2 value for the data provided.  We will first print out the r2 score for the training data, and then will print out the r2 score for the test data."
   ]
  },
  {
   "cell_type": "code",
   "execution_count": 52,
   "metadata": {},
   "outputs": [
    {
     "data": {
      "text/plain": [
       "DecisionTreeRegressor(criterion='mse', max_depth=None, max_features=None,\n",
       "           max_leaf_nodes=None, min_impurity_split=1e-07,\n",
       "           min_samples_leaf=1, min_samples_split=2,\n",
       "           min_weight_fraction_leaf=0.0, presort=False, random_state=0,\n",
       "           splitter='best')"
      ]
     },
     "execution_count": 52,
     "metadata": {},
     "output_type": "execute_result"
    },
    {
     "name": "stdout",
     "output_type": "stream",
     "text": [
      "Train score: 0.99458159891\n",
      "Test score: 0.278183853177\n"
     ]
    }
   ],
   "source": [
    "from sklearn.tree import DecisionTreeRegressor\n",
    "# Step 1: Initiating the DecisionTreeRegressor algorithm\n",
    "decision_regressor = DecisionTreeRegressor(random_state=0)\n",
    "# Step 2: Training the algorithm using the X_train dataset of features and y_train, the associated target features\n",
    "decision_regressor.fit(X_train, y_train)\n",
    "# Step 3: Calculating the score of the predictive power on the training and testing dataset.\n",
    "dt_training_score = decision_regressor.score(X_train, y_train)\n",
    "dt_testing_score = decision_regressor.score(X_test, y_test)\n",
    "print(\"Train score: \" + str(dt_training_score))\n",
    "print(\"Test score: \" + str(dt_testing_score))"
   ]
  },
  {
   "cell_type": "markdown",
   "metadata": {},
   "source": [
    "From the scores above (the R^2 of the regression between true and predicted loan amounts), we can see that the decision tree works very well on the training dataset, as expected. However, when applied to the testing dataset, it performs much worse. \n",
    "\n",
    "The R^2 number above are pretty telling but it is always nice to visualise how these look in a scattor plot. This allows us to visualise the variation between the predicted loan amount and the true loan amount values. "
   ]
  },
  {
   "cell_type": "code",
   "execution_count": 53,
   "metadata": {},
   "outputs": [
    {
     "data": {
      "text/plain": [
       "<matplotlib.collections.PathCollection at 0x1207fc2e8>"
      ]
     },
     "execution_count": 53,
     "metadata": {},
     "output_type": "execute_result"
    },
    {
     "data": {
      "text/plain": [
       "<matplotlib.text.Text at 0x11c17b0f0>"
      ]
     },
     "execution_count": 53,
     "metadata": {},
     "output_type": "execute_result"
    },
    {
     "data": {
      "text/plain": [
       "<matplotlib.text.Text at 0x11c199160>"
      ]
     },
     "execution_count": 53,
     "metadata": {},
     "output_type": "execute_result"
    },
    {
     "data": {
      "text/plain": [
       "<matplotlib.text.Text at 0x120706ef0>"
      ]
     },
     "execution_count": 53,
     "metadata": {},
     "output_type": "execute_result"
    },
    {
     "data": {
      "image/png": "[encoded data removed]",
      "text/plain": [
       "<matplotlib.figure.Figure at 0x1246ec9e8>"
      ]
     },
     "metadata": {},
     "output_type": "display_data"
    }
   ],
   "source": [
    "# plotting a grpah of the true values vs the predicted values for the training and test datasets\n",
    "dt_y_predicted_train = decision_regressor.predict(X_train)\n",
    "fig = plt.figure(figsize=(7, 7))\n",
    "plt.scatter(y_train, dt_y_predicted_train, alpha=0.5)\n",
    "plt.xlabel('True value')\n",
    "plt.ylabel('Predicted value')\n",
    "plt.title(\"relationship between True Y and predicted Y* loan amount (training dataset)\")\n",
    "plt.show()"
   ]
  },
  {
   "cell_type": "code",
   "execution_count": 54,
   "metadata": {},
   "outputs": [
    {
     "data": {
      "text/plain": [
       "<matplotlib.collections.PathCollection at 0x120ad12b0>"
      ]
     },
     "execution_count": 54,
     "metadata": {},
     "output_type": "execute_result"
    },
    {
     "data": {
      "text/plain": [
       "<matplotlib.text.Text at 0x11c176d30>"
      ]
     },
     "execution_count": 54,
     "metadata": {},
     "output_type": "execute_result"
    },
    {
     "data": {
      "text/plain": [
       "<matplotlib.text.Text at 0x10dead160>"
      ]
     },
     "execution_count": 54,
     "metadata": {},
     "output_type": "execute_result"
    },
    {
     "data": {
      "text/plain": [
       "<matplotlib.text.Text at 0x12082e470>"
      ]
     },
     "execution_count": 54,
     "metadata": {},
     "output_type": "execute_result"
    },
    {
     "data": {
      "image/png": "[encoded data removed]",
      "text/plain": [
       "<matplotlib.figure.Figure at 0x1246f03c8>"
      ]
     },
     "metadata": {},
     "output_type": "display_data"
    }
   ],
   "source": [
    "# plotting a grpah of the true values vs the predicted values for the training and test datasets\n",
    "dt_y_predicted_test = decision_regressor.predict(X_test)\n",
    "fig = plt.figure(figsize=(7, 7))\n",
    "plt.scatter(y_test, dt_y_predicted_test, alpha=0.5)\n",
    "plt.xlabel('True value')\n",
    "plt.ylabel('Predicted value')\n",
    "plt.title(\"relationship between True Y and predicted Y* loan amount (test dataset)\")\n",
    "plt.show()"
   ]
  },
  {
   "cell_type": "markdown",
   "metadata": {},
   "source": [
    "The decison tree regressor is near perfect on the training data; however, much worse on the test data.  This is largely due to the likelihood an individual trees  of overfitting to the data. Remember overfitting can occur when the tree goes too deep, the minimum leaf sample if too small or the maximum number number of terminal nodes is too high. We can mitigate the impact of overfitting by tuning and optimising these hyperparameters. However, often it is very time consuming and difficult to find the optimal hyperparameters and therefore we look towards ensemble approaches for an easier, more general solution. \n",
    "\n",
    "## Bagging\n",
    "\n",
    "Another approach to overcome this is to build a collection of trees with sklearn's BaggingRegressor.  A bagging regressor builds some specified number of trees and trains each tree with a random subset of the data and then averages the forecast of each individual tree. \n",
    "\n",
    "This is an **Ensemble approach** where we use the results of several random analyses to find an average response. For each tree, there will be a sample of data which was not used to train the algorithm. This means that we can also measure the **out-of-bag** score ( or oob_score). This score calculates the error rate of the predictions on the sample not used while training an individual tree. (Remember a random ~2/3 of data are used to train a given tree)."
   ]
  },
  {
   "cell_type": "code",
   "execution_count": 55,
   "metadata": {},
   "outputs": [
    {
     "name": "stderr",
     "output_type": "stream",
     "text": [
      "/Library/Frameworks/Python.framework/Versions/3.5/lib/python3.5/site-packages/sklearn/ensemble/bagging.py:986: UserWarning: Some inputs do not have OOB scores. This probably means too few estimators were used to compute any reliable oob estimates.\n",
      "  warn(\"Some inputs do not have OOB scores. \"\n"
     ]
    },
    {
     "data": {
      "text/plain": [
       "BaggingRegressor(base_estimator=None, bootstrap=True,\n",
       "         bootstrap_features=False, max_features=1.0, max_samples=1.0,\n",
       "         n_estimators=10, n_jobs=1, oob_score=True, random_state=None,\n",
       "         verbose=0, warm_start=False)"
      ]
     },
     "execution_count": 55,
     "metadata": {},
     "output_type": "execute_result"
    },
    {
     "name": "stdout",
     "output_type": "stream",
     "text": [
      "Train score: 0.899800029247\n",
      "Test score: 0.656525189561\n",
      "Oob score: 0.544081796076\n"
     ]
    }
   ],
   "source": [
    "from sklearn.ensemble import BaggingRegressor\n",
    "# Step 1: Initiating the bagging regressor algorithm\n",
    "bagging_regressor = BaggingRegressor(oob_score=True)\n",
    "# Step 2: Training the bagging regressor algorithm\n",
    "bagging_regressor.fit(X_train, y_train)\n",
    "# Step 3: Calculating the score of the predictive power on the training and testing dataset.\n",
    "br_training_score = bagging_regressor.score(X_train, y_train)\n",
    "br_testing_score = bagging_regressor.score(X_test, y_test)\n",
    "br_oob_score = bagging_regressor.oob_score_\n",
    "print(\"Train score: \" + str(br_training_score))\n",
    "print(\"Test score: \" + str(br_testing_score))\n",
    "print(\"Oob score: \" + str(br_oob_score))"
   ]
  },
  {
   "cell_type": "markdown",
   "metadata": {},
   "source": [
    "The results above show that the train R^2 score has reduced but the test R^2 score has increased. This is a good sign as it means that the algorithm is overfitting the training less and therefore improving its ability to predict the loan amounts on unseen samples. "
   ]
  },
  {
   "cell_type": "code",
   "execution_count": 56,
   "metadata": {},
   "outputs": [
    {
     "data": {
      "text/plain": [
       "<matplotlib.collections.PathCollection at 0x117a22c88>"
      ]
     },
     "execution_count": 56,
     "metadata": {},
     "output_type": "execute_result"
    },
    {
     "data": {
      "text/plain": [
       "<matplotlib.text.Text at 0x120ad1f28>"
      ]
     },
     "execution_count": 56,
     "metadata": {},
     "output_type": "execute_result"
    },
    {
     "data": {
      "text/plain": [
       "<matplotlib.text.Text at 0x120b036d8>"
      ]
     },
     "execution_count": 56,
     "metadata": {},
     "output_type": "execute_result"
    },
    {
     "data": {
      "text/plain": [
       "<matplotlib.text.Text at 0x117a052e8>"
      ]
     },
     "execution_count": 56,
     "metadata": {},
     "output_type": "execute_result"
    },
    {
     "data": {
      "image/png": "[encoded data removed]",
      "text/plain": [
       "<matplotlib.figure.Figure at 0x1246f0438>"
      ]
     },
     "metadata": {},
     "output_type": "display_data"
    }
   ],
   "source": [
    "# plotting a grpah of the true values vs the predicted values for the training and test datasets\n",
    "br_predicted_train = bagging_regressor.predict(X_train)\n",
    "fig = plt.figure(figsize=(7, 7))\n",
    "plt.scatter(y_train, br_predicted_train, alpha=0.5)\n",
    "plt.xlabel('True value')\n",
    "plt.ylabel('Predicted value')\n",
    "plt.title(\"relationship between True Y and predicted Y* loan amount (training dataset)\")\n",
    "plt.show()"
   ]
  },
  {
   "cell_type": "code",
   "execution_count": 57,
   "metadata": {},
   "outputs": [
    {
     "data": {
      "text/plain": [
       "<matplotlib.collections.PathCollection at 0x11c5616d8>"
      ]
     },
     "execution_count": 57,
     "metadata": {},
     "output_type": "execute_result"
    },
    {
     "data": {
      "text/plain": [
       "<matplotlib.text.Text at 0x1246f0cf8>"
      ]
     },
     "execution_count": 57,
     "metadata": {},
     "output_type": "execute_result"
    },
    {
     "data": {
      "text/plain": [
       "<matplotlib.text.Text at 0x120ae6cc0>"
      ]
     },
     "execution_count": 57,
     "metadata": {},
     "output_type": "execute_result"
    },
    {
     "data": {
      "text/plain": [
       "<matplotlib.text.Text at 0x11c543208>"
      ]
     },
     "execution_count": 57,
     "metadata": {},
     "output_type": "execute_result"
    },
    {
     "data": {
      "image/png": "[encoded data removed]",
      "text/plain": [
       "<matplotlib.figure.Figure at 0x1179c0a58>"
      ]
     },
     "metadata": {},
     "output_type": "display_data"
    }
   ],
   "source": [
    "# plotting a grpah of the true values vs the predicted values for the training and test datasets\n",
    "br_predicted_test = bagging_regressor.predict(X_test)\n",
    "fig = plt.figure(figsize=(7, 7))\n",
    "plt.scatter(y_test, br_predicted_test, alpha=0.5)\n",
    "plt.xlabel('True value')\n",
    "plt.ylabel('Predicted value')\n",
    "plt.title(\"relationship between True Y and predicted Y* loan amount (test dataset)\")\n",
    "plt.show()"
   ]
  },
  {
   "cell_type": "markdown",
   "metadata": {},
   "source": [
    "When comparing the different regression models, we will be looking at three main outputs:\n",
    "- Train score = R^2 between the predicted and true values for the training dataset\n",
    "- Test score = R^2 between the predicted and true values for the test dataset\n",
    "- Oob_score = the error rate of predicted values for data not used whilst training an individual tree\n",
    "\n",
    "Therefore, we are defining a function below that prints out these score's us"
   ]
  },
  {
   "cell_type": "code",
   "execution_count": 58,
   "metadata": {
    "collapsed": true
   },
   "outputs": [],
   "source": [
    "# Since we will evaluate a few models, let's define a function that prints out the scores we care about\n",
    "def print_scores(regressor, X_train, y_train, X_test, y_test, oob_score=True):\n",
    "    print(\"Train score: \" + str(regressor.score(X_train, y_train)))\n",
    "    print(\"Test score: \" + str(regressor.score(X_test, y_test)))\n",
    "    print(\"OOB score: \" + str(regressor.oob_score_))"
   ]
  },
  {
   "cell_type": "markdown",
   "metadata": {},
   "source": [
    "### Changing some model parameters"
   ]
  },
  {
   "cell_type": "markdown",
   "metadata": {},
   "source": [
    "The default number of trees used in the bagging regressor is 10. This means that the algorithms splits the dataset into 10 different tress, trains each one individually, predicts the result from each one individually and then averages the result. \n",
    "\n",
    "Let's see how performance changes when we increase the number of trees from 10 to 100."
   ]
  },
  {
   "cell_type": "code",
   "execution_count": 59,
   "metadata": {},
   "outputs": [
    {
     "data": {
      "text/plain": [
       "BaggingRegressor(base_estimator=None, bootstrap=True,\n",
       "         bootstrap_features=False, max_features=1.0, max_samples=1.0,\n",
       "         n_estimators=100, n_jobs=1, oob_score=True, random_state=None,\n",
       "         verbose=0, warm_start=False)"
      ]
     },
     "execution_count": 59,
     "metadata": {},
     "output_type": "execute_result"
    },
    {
     "name": "stdout",
     "output_type": "stream",
     "text": [
      "Train score: 0.935453958719\n",
      "Test score: 0.671602758452\n",
      "OOB score: 0.530345016777\n"
     ]
    }
   ],
   "source": [
    "# Step 1: Initiating the bagging regressor algorithm\n",
    "bagging_regressor = BaggingRegressor(n_estimators=100, oob_score=True)\n",
    "# Step 2: Training the bagging regressor algorithm\n",
    "bagging_regressor.fit(X_train, y_train)\n",
    "# Step 3: Calculating the score of the predictive power on the training and testing dataset.\n",
    "print_scores(bagging_regressor, X_train, y_train, X_test, y_test, oob_score=True)"
   ]
  },
  {
   "cell_type": "markdown",
   "metadata": {},
   "source": [
    "Here we see an improvement in all score and in particular the oob_score. This is telling us that splitting the dataset into more tree leads to a more accurate average predicton of the loan_amount. "
   ]
  },
  {
   "cell_type": "code",
   "execution_count": 60,
   "metadata": {},
   "outputs": [
    {
     "data": {
      "text/plain": [
       "<matplotlib.collections.PathCollection at 0x11e6b0b70>"
      ]
     },
     "execution_count": 60,
     "metadata": {},
     "output_type": "execute_result"
    },
    {
     "data": {
      "text/plain": [
       "<matplotlib.text.Text at 0x12081cb70>"
      ]
     },
     "execution_count": 60,
     "metadata": {},
     "output_type": "execute_result"
    },
    {
     "data": {
      "text/plain": [
       "<matplotlib.text.Text at 0x11c96b438>"
      ]
     },
     "execution_count": 60,
     "metadata": {},
     "output_type": "execute_result"
    },
    {
     "data": {
      "text/plain": [
       "<matplotlib.text.Text at 0x11e6900f0>"
      ]
     },
     "execution_count": 60,
     "metadata": {},
     "output_type": "execute_result"
    },
    {
     "data": {
      "image/png": "[encoded data removed]",
      "text/plain": [
       "<matplotlib.figure.Figure at 0x11c56a160>"
      ]
     },
     "metadata": {},
     "output_type": "display_data"
    }
   ],
   "source": [
    "# plotting a graph of the true values vs the predicted values for the training and test datasets\n",
    "br_y_predicted_test = bagging_regressor.predict(X_test)\n",
    "fig = plt.figure(figsize=(7, 7))\n",
    "plt.scatter(y_test, br_y_predicted_test, alpha=0.5)\n",
    "plt.xlabel('True value')\n",
    "plt.ylabel('Predicted value')\n",
    "plt.title(\"Graph showing the relationship between the true loan amount and the predicted loan amount for the testing dataset\")\n",
    "plt.show()"
   ]
  },
  {
   "cell_type": "markdown",
   "metadata": {},
   "source": [
    "## Random Forest\n",
    "We still observe a large discrepancy between the training data and the test data.  This is largely because the decision trees are largely correlated, meaning that Subsets of the same data are probably going to split on the same features and result in very similar predictions.\n",
    "\n",
    "To de-correlate the trees, we can use a Random Forest Regressor, which only considers a random subsample of the features at each split."
   ]
  },
  {
   "cell_type": "code",
   "execution_count": 61,
   "metadata": {},
   "outputs": [
    {
     "data": {
      "text/plain": [
       "RandomForestRegressor(bootstrap=True, criterion='mse', max_depth=None,\n",
       "           max_features='auto', max_leaf_nodes=None,\n",
       "           min_impurity_split=1e-07, min_samples_leaf=1,\n",
       "           min_samples_split=2, min_weight_fraction_leaf=0.0,\n",
       "           n_estimators=100, n_jobs=1, oob_score=True, random_state=None,\n",
       "           verbose=0, warm_start=False)"
      ]
     },
     "execution_count": 61,
     "metadata": {},
     "output_type": "execute_result"
    },
    {
     "name": "stdout",
     "output_type": "stream",
     "text": [
      "Train score: 0.922549104274\n",
      "Test score: 0.677838863564\n",
      "OOB score: 0.535759312574\n"
     ]
    }
   ],
   "source": [
    "# Step 1: Initiating the bagging regressor algorithm\n",
    "rf_regressor = RandomForestRegressor(n_estimators=100, oob_score=True)\n",
    "# Step 2: Training the bagging regressor algorithm\n",
    "rf_regressor.fit(X_train,y_train)\n",
    "# Step 3: Calculating the score of the predictive power on the training and testing dataset.\n",
    "print_scores(rf_regressor, X_train, y_train, X_test, y_test, oob_score=True)"
   ]
  },
  {
   "cell_type": "markdown",
   "metadata": {},
   "source": [
    "We can see that the random forest algorithm has improved the generalization performance relative to the bagging regressor. This indicates that the features we are using are already highly uncorrelated."
   ]
  },
  {
   "cell_type": "code",
   "execution_count": 62,
   "metadata": {},
   "outputs": [
    {
     "name": "stdout",
     "output_type": "stream",
     "text": [
      "Mean squared error between the predicted and true loan amounts: 36837 \n"
     ]
    },
    {
     "data": {
      "text/plain": [
       "<matplotlib.collections.PathCollection at 0x11e81a1d0>"
      ]
     },
     "execution_count": 62,
     "metadata": {},
     "output_type": "execute_result"
    },
    {
     "data": {
      "text/plain": [
       "<matplotlib.text.Text at 0x11e811c88>"
      ]
     },
     "execution_count": 62,
     "metadata": {},
     "output_type": "execute_result"
    },
    {
     "data": {
      "text/plain": [
       "<matplotlib.text.Text at 0x11e82de80>"
      ]
     },
     "execution_count": 62,
     "metadata": {},
     "output_type": "execute_result"
    },
    {
     "data": {
      "text/plain": [
       "<matplotlib.text.Text at 0x11e842358>"
      ]
     },
     "execution_count": 62,
     "metadata": {},
     "output_type": "execute_result"
    },
    {
     "data": {
      "image/png": "[encoded data removed]",
      "text/plain": [
       "<matplotlib.figure.Figure at 0x11e81a048>"
      ]
     },
     "metadata": {},
     "output_type": "display_data"
    }
   ],
   "source": [
    "rf_y_predicted_train = rf_regressor.predict(X_train)\n",
    "print(\"Mean squared error between the predicted and true loan amounts: %d \" % round(mean_squared_error(y_train, rf_y_predicted_train)))\n",
    "\n",
    "fig = plt.figure(figsize=(7, 7))\n",
    "plt.scatter(y_train, rf_y_predicted_train, alpha=0.5)\n",
    "plt.xlabel('True value')\n",
    "plt.ylabel('Predicted value')\n",
    "plt.title(\"relationship between True Y and predicted Y* loan amount (train dataset)\")\n",
    "plt.show()"
   ]
  },
  {
   "cell_type": "code",
   "execution_count": 63,
   "metadata": {},
   "outputs": [
    {
     "name": "stdout",
     "output_type": "stream",
     "text": [
      "Mean squared error between the predicted and true loan amounts: 205165 \n"
     ]
    },
    {
     "data": {
      "text/plain": [
       "<matplotlib.collections.PathCollection at 0x11ca56860>"
      ]
     },
     "execution_count": 63,
     "metadata": {},
     "output_type": "execute_result"
    },
    {
     "data": {
      "text/plain": [
       "<matplotlib.text.Text at 0x11e82d278>"
      ]
     },
     "execution_count": 63,
     "metadata": {},
     "output_type": "execute_result"
    },
    {
     "data": {
      "text/plain": [
       "<matplotlib.text.Text at 0x11e815748>"
      ]
     },
     "execution_count": 63,
     "metadata": {},
     "output_type": "execute_result"
    },
    {
     "data": {
      "text/plain": [
       "<matplotlib.text.Text at 0x11dc734a8>"
      ]
     },
     "execution_count": 63,
     "metadata": {},
     "output_type": "execute_result"
    },
    {
     "data": {
      "image/png": "[encoded data removed]",
      "text/plain": [
       "<matplotlib.figure.Figure at 0x11e82f5c0>"
      ]
     },
     "metadata": {},
     "output_type": "display_data"
    }
   ],
   "source": [
    "rf_y_predicted_test = rf_regressor.predict(X_test)\n",
    "print(\"Mean squared error between the predicted and true loan amounts: %d \" % round(mean_squared_error(y_test, rf_y_predicted_test)))\n",
    "\n",
    "fig = plt.figure(figsize=(7, 7))\n",
    "plt.scatter(y_test, rf_y_predicted_test, alpha=0.5)\n",
    "plt.xlabel('True value')\n",
    "plt.ylabel('Predicted value')\n",
    "plt.title(\"relationship between True Y and predicted Y* loan amount (test dataset)\")\n",
    "plt.show()"
   ]
  },
  {
   "cell_type": "markdown",
   "metadata": {},
   "source": [
    "## Further Hyperparameter Tuning"
   ]
  },
  {
   "cell_type": "markdown",
   "metadata": {},
   "source": [
    "Since, we are relying of OOB score we do not in fact need to have a seperate test set. We can use our full dataset for training with a small subset held to the side for each model to comput the OOB score. "
   ]
  },
  {
   "cell_type": "code",
   "execution_count": 64,
   "metadata": {
    "collapsed": true
   },
   "outputs": [],
   "source": [
    "# Since we will evaluate a few models, let's define a function that prints out the scores we care about\n",
    "def print_scores_full(regressor, rf_trainX,rf_trainY , oob_score=True):\n",
    "    print(\"Train score: \" + str(regressor.score(rf_trainX, rf_trainY)))\n",
    "    print(\"OOB score: \" + str(regressor.oob_score_))"
   ]
  },
  {
   "cell_type": "markdown",
   "metadata": {},
   "source": [
    "We also increase the number of estimators in our model to 400 and set the min_samples_leaft to 20 to improve upon overfitting."
   ]
  },
  {
   "cell_type": "code",
   "execution_count": 65,
   "metadata": {
    "scrolled": true
   },
   "outputs": [
    {
     "data": {
      "text/plain": [
       "RandomForestRegressor(bootstrap=True, criterion='mse', max_depth=None,\n",
       "           max_features='auto', max_leaf_nodes=None,\n",
       "           min_impurity_split=1e-07, min_samples_leaf=20,\n",
       "           min_samples_split=2, min_weight_fraction_leaf=0.0,\n",
       "           n_estimators=400, n_jobs=1, oob_score=True, random_state=42,\n",
       "           verbose=0, warm_start=False)"
      ]
     },
     "execution_count": 65,
     "metadata": {},
     "output_type": "execute_result"
    },
    {
     "name": "stdout",
     "output_type": "stream",
     "text": [
      "Train score: 0.508374953303\n",
      "OOB score: 0.4625015491\n"
     ]
    }
   ],
   "source": [
    "# Step 1: Initiating the bagging regressor algorithm\n",
    "rf_regressor = RandomForestRegressor(n_estimators=400, random_state=42, min_samples_leaf=20,oob_score=True)\n",
    "# Step 2: Training the bagging regressor algorithm\n",
    "rf_regressor.fit(rf_trainX,rf_trainY)\n",
    "# Step 3: Calculating the score of the predictive power on the training and testing dataset.\n",
    "print_scores_full(rf_regressor, rf_trainX,rf_trainY , oob_score=True)"
   ]
  },
  {
   "cell_type": "markdown",
   "metadata": {},
   "source": [
    "Recall that the difference between the Bagging Regressor and the RandomForest is that in the RandomForest, at each split, a random subset of features is considered. The reducing the chance of correlation between the different trees. "
   ]
  },
  {
   "cell_type": "markdown",
   "metadata": {},
   "source": [
    "Now, let's try to figure out which features are driving our model's predictions.  Although we do not have the coefficients provided by a linear regression, we can analyze what percentage of the overall variance was explained by a given feature."
   ]
  },
  {
   "cell_type": "code",
   "execution_count": 66,
   "metadata": {},
   "outputs": [
    {
     "name": "stdout",
     "output_type": "stream",
     "text": [
      "Feature Ranking:\n",
      "1. feature terms_repayment_term (0.213524)\n",
      "2. feature borrower_count (0.165211)\n",
      "3. feature sector_Agriculture (0.164018)\n",
      "4. feature posted_year (0.097488)\n",
      "5. feature partner_delinquency_rate (0.095454)\n",
      "6. feature posted_month (0.073570)\n",
      "7. feature sector_Education (0.051385)\n",
      "8. feature married (0.024077)\n",
      "9. feature parent (0.018825)\n",
      "10. feature sector_Retail (0.015355)\n",
      "11. feature top_partners_One_Acre_Fund (0.014747)\n",
      "12. feature more_one_partner_country (0.014569)\n",
      "13. feature top_partners_Other (0.009775)\n",
      "14. feature children_int (0.004961)\n",
      "15. feature pct_female (0.004593)\n",
      "16. feature top_partners_Yehu_Microfinance_Trust (0.003908)\n",
      "17. feature age_int (0.003340)\n",
      "18. feature tag_Repeat_Borrower (0.003312)\n",
      "19. feature capital_mombasa (0.002931)\n",
      "20. feature top_partners_VisionFund_Kenya (0.002875)\n",
      "21. feature tag_Woman_Owned_Biz (0.002629)\n",
      "22. feature top_partners_SMEP_Microfinance_Bank (0.002365)\n",
      "23. feature top_partners_Juhudi_Kilimo (0.002358)\n",
      "24. feature top_partners_Milango_Financial_Services (0.002354)\n",
      "25. feature sector_Health (0.001686)\n",
      "26. feature top_partners_Faulu_Kenya (0.001034)\n",
      "27. feature sector_Food (0.001000)\n",
      "28. feature capital_kiambu (0.000605)\n",
      "29. feature sector_Transportation (0.000560)\n",
      "30. feature tag_Schooling (0.000486)\n",
      "31. feature sector_Services (0.000281)\n",
      "32. feature capital_kisii (0.000214)\n",
      "33. feature capital_nairobi (0.000165)\n",
      "34. feature sector_Clothing (0.000161)\n",
      "35. feature capital_bungoma (0.000096)\n",
      "36. feature capital_nakuru (0.000089)\n"
     ]
    }
   ],
   "source": [
    "importances = rf_regressor.feature_importances_\n",
    "indices = np.argsort(importances)[::-1]\n",
    "\n",
    "print('Feature Ranking:')\n",
    "for f in range(len(importances)):\n",
    "    print(\"%d. feature %s (%f)\" % (f + 1, rf_trainX.columns[indices[f]], importances[indices[f]]))"
   ]
  },
  {
   "cell_type": "code",
   "execution_count": 67,
   "metadata": {},
   "outputs": [
    {
     "data": {
      "text/plain": [
       "<matplotlib.figure.Figure at 0x12060af60>"
      ]
     },
     "execution_count": 67,
     "metadata": {},
     "output_type": "execute_result"
    },
    {
     "data": {
      "text/plain": [
       "<matplotlib.text.Text at 0x1205f89b0>"
      ]
     },
     "execution_count": 67,
     "metadata": {},
     "output_type": "execute_result"
    },
    {
     "data": {
      "text/plain": [
       "<Container object of 36 artists>"
      ]
     },
     "execution_count": 67,
     "metadata": {},
     "output_type": "execute_result"
    },
    {
     "data": {
      "text/plain": [
       "([<matplotlib.axis.XTick at 0x11ca6a470>,\n",
       "  <matplotlib.axis.XTick at 0x1205f9550>,\n",
       "  <matplotlib.axis.XTick at 0x120617048>,\n",
       "  <matplotlib.axis.XTick at 0x12064e518>,\n",
       "  <matplotlib.axis.XTick at 0x12064efd0>,\n",
       "  <matplotlib.axis.XTick at 0x120649ac8>,\n",
       "  <matplotlib.axis.XTick at 0x12064d5c0>,\n",
       "  <matplotlib.axis.XTick at 0x1206540b8>,\n",
       "  <matplotlib.axis.XTick at 0x120654b70>,\n",
       "  <matplotlib.axis.XTick at 0x120657668>,\n",
       "  <matplotlib.axis.XTick at 0x12065d160>,\n",
       "  <matplotlib.axis.XTick at 0x12065dc18>,\n",
       "  <matplotlib.axis.XTick at 0x120661710>,\n",
       "  <matplotlib.axis.XTick at 0x120664208>,\n",
       "  <matplotlib.axis.XTick at 0x120664cc0>,\n",
       "  <matplotlib.axis.XTick at 0x1206697b8>,\n",
       "  <matplotlib.axis.XTick at 0x12066c2b0>,\n",
       "  <matplotlib.axis.XTick at 0x12066cd68>,\n",
       "  <matplotlib.axis.XTick at 0x120672860>,\n",
       "  <matplotlib.axis.XTick at 0x120676358>,\n",
       "  <matplotlib.axis.XTick at 0x120676e10>,\n",
       "  <matplotlib.axis.XTick at 0x12067a908>,\n",
       "  <matplotlib.axis.XTick at 0x12067d400>,\n",
       "  <matplotlib.axis.XTick at 0x12067deb8>,\n",
       "  <matplotlib.axis.XTick at 0x1206829b0>,\n",
       "  <matplotlib.axis.XTick at 0x1206844a8>,\n",
       "  <matplotlib.axis.XTick at 0x120684f60>,\n",
       "  <matplotlib.axis.XTick at 0x12068ba58>,\n",
       "  <matplotlib.axis.XTick at 0x12068e550>,\n",
       "  <matplotlib.axis.XTick at 0x120693048>,\n",
       "  <matplotlib.axis.XTick at 0x120693b00>,\n",
       "  <matplotlib.axis.XTick at 0x1206965f8>,\n",
       "  <matplotlib.axis.XTick at 0x12069b0f0>,\n",
       "  <matplotlib.axis.XTick at 0x12069bba8>,\n",
       "  <matplotlib.axis.XTick at 0x1206a06a0>,\n",
       "  <matplotlib.axis.XTick at 0x1206a4198>],\n",
       " <a list of 36 Text xticklabel objects>)"
      ]
     },
     "execution_count": 67,
     "metadata": {},
     "output_type": "execute_result"
    },
    {
     "data": {
      "text/plain": [
       "(-1, 36)"
      ]
     },
     "execution_count": 67,
     "metadata": {},
     "output_type": "execute_result"
    },
    {
     "data": {
      "text/plain": [
       "(array([ 0,  1,  2,  3,  4,  5,  6,  7,  8,  9, 10, 11, 12, 13, 14, 15, 16,\n",
       "        17, 18, 19, 20, 21, 22, 23, 24, 25, 26, 27, 28, 29, 30, 31, 32, 33,\n",
       "        34, 35]), <a list of 36 Text xticklabel objects>)"
      ]
     },
     "execution_count": 67,
     "metadata": {},
     "output_type": "execute_result"
    },
    {
     "data": {
      "image/png": "[encoded data removed]",
      "text/plain": [
       "<matplotlib.figure.Figure at 0x12060af60>"
      ]
     },
     "metadata": {},
     "output_type": "display_data"
    },
    {
     "ename": "FileNotFoundError",
     "evalue": "[Errno 2] No such file or directory: 'module_3_images/feature_importance.png'",
     "output_type": "error",
     "traceback": [
      "\u001b[0;31m---------------------------------------------------------------------------\u001b[0m",
      "\u001b[0;31mFileNotFoundError\u001b[0m                         Traceback (most recent call last)",
      "\u001b[0;32m<ipython-input-67-c6f69086034c>\u001b[0m in \u001b[0;36m<module>\u001b[0;34m()\u001b[0m\n\u001b[1;32m     14\u001b[0m \u001b[0mplt\u001b[0m\u001b[0;34m.\u001b[0m\u001b[0mshow\u001b[0m\u001b[0;34m(\u001b[0m\u001b[0;34m)\u001b[0m\u001b[0;34m\u001b[0m\u001b[0m\n\u001b[1;32m     15\u001b[0m \u001b[0;34m\u001b[0m\u001b[0m\n\u001b[0;32m---> 16\u001b[0;31m \u001b[0mplt\u001b[0m\u001b[0;34m.\u001b[0m\u001b[0msavefig\u001b[0m\u001b[0;34m(\u001b[0m\u001b[0;34m'module_3_images/feature_importance.png'\u001b[0m\u001b[0;34m)\u001b[0m\u001b[0;34m\u001b[0m\u001b[0m\n\u001b[0m",
      "\u001b[0;32m/Library/Frameworks/Python.framework/Versions/3.5/lib/python3.5/site-packages/matplotlib/pyplot.py\u001b[0m in \u001b[0;36msavefig\u001b[0;34m(*args, **kwargs)\u001b[0m\n\u001b[1;32m    695\u001b[0m \u001b[0;32mdef\u001b[0m \u001b[0msavefig\u001b[0m\u001b[0;34m(\u001b[0m\u001b[0;34m*\u001b[0m\u001b[0margs\u001b[0m\u001b[0;34m,\u001b[0m \u001b[0;34m**\u001b[0m\u001b[0mkwargs\u001b[0m\u001b[0;34m)\u001b[0m\u001b[0;34m:\u001b[0m\u001b[0;34m\u001b[0m\u001b[0m\n\u001b[1;32m    696\u001b[0m     \u001b[0mfig\u001b[0m \u001b[0;34m=\u001b[0m \u001b[0mgcf\u001b[0m\u001b[0;34m(\u001b[0m\u001b[0;34m)\u001b[0m\u001b[0;34m\u001b[0m\u001b[0m\n\u001b[0;32m--> 697\u001b[0;31m     \u001b[0mres\u001b[0m \u001b[0;34m=\u001b[0m \u001b[0mfig\u001b[0m\u001b[0;34m.\u001b[0m\u001b[0msavefig\u001b[0m\u001b[0;34m(\u001b[0m\u001b[0;34m*\u001b[0m\u001b[0margs\u001b[0m\u001b[0;34m,\u001b[0m \u001b[0;34m**\u001b[0m\u001b[0mkwargs\u001b[0m\u001b[0;34m)\u001b[0m\u001b[0;34m\u001b[0m\u001b[0m\n\u001b[0m\u001b[1;32m    698\u001b[0m     \u001b[0mfig\u001b[0m\u001b[0;34m.\u001b[0m\u001b[0mcanvas\u001b[0m\u001b[0;34m.\u001b[0m\u001b[0mdraw_idle\u001b[0m\u001b[0;34m(\u001b[0m\u001b[0;34m)\u001b[0m   \u001b[0;31m# need this if 'transparent=True' to reset colors\u001b[0m\u001b[0;34m\u001b[0m\u001b[0m\n\u001b[1;32m    699\u001b[0m     \u001b[0;32mreturn\u001b[0m \u001b[0mres\u001b[0m\u001b[0;34m\u001b[0m\u001b[0m\n",
      "\u001b[0;32m/Library/Frameworks/Python.framework/Versions/3.5/lib/python3.5/site-packages/matplotlib/figure.py\u001b[0m in \u001b[0;36msavefig\u001b[0;34m(self, *args, **kwargs)\u001b[0m\n\u001b[1;32m   1571\u001b[0m             \u001b[0mself\u001b[0m\u001b[0;34m.\u001b[0m\u001b[0mset_frameon\u001b[0m\u001b[0;34m(\u001b[0m\u001b[0mframeon\u001b[0m\u001b[0;34m)\u001b[0m\u001b[0;34m\u001b[0m\u001b[0m\n\u001b[1;32m   1572\u001b[0m \u001b[0;34m\u001b[0m\u001b[0m\n\u001b[0;32m-> 1573\u001b[0;31m         \u001b[0mself\u001b[0m\u001b[0;34m.\u001b[0m\u001b[0mcanvas\u001b[0m\u001b[0;34m.\u001b[0m\u001b[0mprint_figure\u001b[0m\u001b[0;34m(\u001b[0m\u001b[0;34m*\u001b[0m\u001b[0margs\u001b[0m\u001b[0;34m,\u001b[0m \u001b[0;34m**\u001b[0m\u001b[0mkwargs\u001b[0m\u001b[0;34m)\u001b[0m\u001b[0;34m\u001b[0m\u001b[0m\n\u001b[0m\u001b[1;32m   1574\u001b[0m \u001b[0;34m\u001b[0m\u001b[0m\n\u001b[1;32m   1575\u001b[0m         \u001b[0;32mif\u001b[0m \u001b[0mframeon\u001b[0m\u001b[0;34m:\u001b[0m\u001b[0;34m\u001b[0m\u001b[0m\n",
      "\u001b[0;32m/Library/Frameworks/Python.framework/Versions/3.5/lib/python3.5/site-packages/matplotlib/backend_bases.py\u001b[0m in \u001b[0;36mprint_figure\u001b[0;34m(self, filename, dpi, facecolor, edgecolor, orientation, format, **kwargs)\u001b[0m\n\u001b[1;32m   2250\u001b[0m                 \u001b[0morientation\u001b[0m\u001b[0;34m=\u001b[0m\u001b[0morientation\u001b[0m\u001b[0;34m,\u001b[0m\u001b[0;34m\u001b[0m\u001b[0m\n\u001b[1;32m   2251\u001b[0m                 \u001b[0mbbox_inches_restore\u001b[0m\u001b[0;34m=\u001b[0m\u001b[0m_bbox_inches_restore\u001b[0m\u001b[0;34m,\u001b[0m\u001b[0;34m\u001b[0m\u001b[0m\n\u001b[0;32m-> 2252\u001b[0;31m                 **kwargs)\n\u001b[0m\u001b[1;32m   2253\u001b[0m         \u001b[0;32mfinally\u001b[0m\u001b[0;34m:\u001b[0m\u001b[0;34m\u001b[0m\u001b[0m\n\u001b[1;32m   2254\u001b[0m             \u001b[0;32mif\u001b[0m \u001b[0mbbox_inches\u001b[0m \u001b[0;32mand\u001b[0m \u001b[0mrestore_bbox\u001b[0m\u001b[0;34m:\u001b[0m\u001b[0;34m\u001b[0m\u001b[0m\n",
      "\u001b[0;32m/Library/Frameworks/Python.framework/Versions/3.5/lib/python3.5/site-packages/matplotlib/backends/backend_agg.py\u001b[0m in \u001b[0;36mprint_png\u001b[0;34m(self, filename_or_obj, *args, **kwargs)\u001b[0m\n\u001b[1;32m    548\u001b[0m         \u001b[0mrenderer\u001b[0m\u001b[0;34m.\u001b[0m\u001b[0mdpi\u001b[0m \u001b[0;34m=\u001b[0m \u001b[0mself\u001b[0m\u001b[0;34m.\u001b[0m\u001b[0mfigure\u001b[0m\u001b[0;34m.\u001b[0m\u001b[0mdpi\u001b[0m\u001b[0;34m\u001b[0m\u001b[0m\n\u001b[1;32m    549\u001b[0m         \u001b[0;32mif\u001b[0m \u001b[0mis_string_like\u001b[0m\u001b[0;34m(\u001b[0m\u001b[0mfilename_or_obj\u001b[0m\u001b[0;34m)\u001b[0m\u001b[0;34m:\u001b[0m\u001b[0;34m\u001b[0m\u001b[0m\n\u001b[0;32m--> 550\u001b[0;31m             \u001b[0mfilename_or_obj\u001b[0m \u001b[0;34m=\u001b[0m \u001b[0mopen\u001b[0m\u001b[0;34m(\u001b[0m\u001b[0mfilename_or_obj\u001b[0m\u001b[0;34m,\u001b[0m \u001b[0;34m'wb'\u001b[0m\u001b[0;34m)\u001b[0m\u001b[0;34m\u001b[0m\u001b[0m\n\u001b[0m\u001b[1;32m    551\u001b[0m             \u001b[0mclose\u001b[0m \u001b[0;34m=\u001b[0m \u001b[0;32mTrue\u001b[0m\u001b[0;34m\u001b[0m\u001b[0m\n\u001b[1;32m    552\u001b[0m         \u001b[0;32melse\u001b[0m\u001b[0;34m:\u001b[0m\u001b[0;34m\u001b[0m\u001b[0m\n",
      "\u001b[0;31mFileNotFoundError\u001b[0m: [Errno 2] No such file or directory: 'module_3_images/feature_importance.png'"
     ]
    },
    {
     "data": {
      "text/plain": [
       "<matplotlib.figure.Figure at 0x11c1d7748>"
      ]
     },
     "metadata": {},
     "output_type": "display_data"
    }
   ],
   "source": [
    "importances = rf_regressor.feature_importances_\n",
    "std = np.std([tree.feature_importances_ for tree in rf_regressor.estimators_],\n",
    "             axis=0)\n",
    "indices = np.argsort(importances)[::-1]\n",
    "\n",
    "feature_names = rf_trainX.columns \n",
    "plt.figure(figsize=(10,10))\n",
    "plt.title(\"Feature importances\")\n",
    "plt.bar(range(rf_trainX.shape[1]), importances[indices],\n",
    "       color=\"r\", yerr=std[indices], align=\"center\")\n",
    "plt.xticks(range(rf_trainX.shape[1]),feature_names)\n",
    "plt.xlim([-1, rf_trainX.shape[1]])\n",
    "plt.xticks(rotation=90)\n",
    "plt.show()\n",
    "\n",
    "plt.savefig('module_3_images/feature_importance.png')"
   ]
  },
  {
   "cell_type": "markdown",
   "metadata": {},
   "source": [
    "What is interesting here is that there is not a very clear relationship between any single feature and the loan_amount. However the aggregat these features together into either the bagged regressor or the random forest algorithm leads to very effective predictions (R^2 ~ 0.74). This is a testament to the predictive power of decisions trees and ensemble methods!"
   ]
  },
  {
   "cell_type": "markdown",
   "metadata": {},
   "source": [
    "Let's try taking the top 20 features and observe it's impact on performance"
   ]
  },
  {
   "cell_type": "code",
   "execution_count": 68,
   "metadata": {
    "collapsed": true
   },
   "outputs": [],
   "source": [
    "relevant_cols = [rf_trainX.columns[indices[f]] for f in range(20)]\n",
    "X_train2 = rf_trainX[relevant_cols]"
   ]
  },
  {
   "cell_type": "code",
   "execution_count": 69,
   "metadata": {},
   "outputs": [
    {
     "data": {
      "text/plain": [
       "RandomForestRegressor(bootstrap=True, criterion='mse', max_depth=None,\n",
       "           max_features='auto', max_leaf_nodes=None,\n",
       "           min_impurity_split=1e-07, min_samples_leaf=20,\n",
       "           min_samples_split=2, min_weight_fraction_leaf=0.0,\n",
       "           n_estimators=400, n_jobs=1, oob_score=True, random_state=42,\n",
       "           verbose=0, warm_start=False)"
      ]
     },
     "execution_count": 69,
     "metadata": {},
     "output_type": "execute_result"
    },
    {
     "name": "stdout",
     "output_type": "stream",
     "text": [
      "Train score: 0.505675540494\n",
      "OOB score: 0.460352139397\n"
     ]
    }
   ],
   "source": [
    "# Step 1: Initiating the bagging regressor algorithm\n",
    "rf_regressor = RandomForestRegressor(n_estimators=400, random_state=42, min_samples_leaf=20,oob_score=True)\n",
    "# Step 2: Training the bagging regressor algorithm\n",
    "rf_regressor.fit(X_train2,rf_trainY)\n",
    "# Step 3: Calculating the score of the predictive power on the training and testing dataset.\n",
    "print_scores_full(rf_regressor, X_train2,rf_trainY, oob_score=True)"
   ]
  },
  {
   "cell_type": "code",
   "execution_count": 70,
   "metadata": {},
   "outputs": [
    {
     "data": {
      "text/plain": [
       "90838"
      ]
     },
     "execution_count": 70,
     "metadata": {},
     "output_type": "execute_result"
    },
    {
     "data": {
      "text/plain": [
       "22710"
      ]
     },
     "execution_count": 70,
     "metadata": {},
     "output_type": "execute_result"
    },
    {
     "data": {
      "text/plain": [
       "90838"
      ]
     },
     "execution_count": 70,
     "metadata": {},
     "output_type": "execute_result"
    },
    {
     "data": {
      "text/plain": [
       "22710"
      ]
     },
     "execution_count": 70,
     "metadata": {},
     "output_type": "execute_result"
    }
   ],
   "source": [
    "X_train, X_test, y_train, y_test = train_test_split(X_train2, rf_trainY, test_size=0.2, random_state=42)\n",
    "\n",
    "len(X_train)\n",
    "len(X_test)\n",
    "len(y_train)\n",
    "len(y_test)"
   ]
  },
  {
   "cell_type": "code",
   "execution_count": 71,
   "metadata": {},
   "outputs": [
    {
     "data": {
      "text/plain": [
       "RandomForestRegressor(bootstrap=True, criterion='mse', max_depth=None,\n",
       "           max_features='auto', max_leaf_nodes=None,\n",
       "           min_impurity_split=1e-07, min_samples_leaf=20,\n",
       "           min_samples_split=2, min_weight_fraction_leaf=0.0,\n",
       "           n_estimators=400, n_jobs=1, oob_score=True, random_state=42,\n",
       "           verbose=0, warm_start=False)"
      ]
     },
     "execution_count": 71,
     "metadata": {},
     "output_type": "execute_result"
    },
    {
     "name": "stdout",
     "output_type": "stream",
     "text": [
      "Train score: 0.494225764431\n",
      "Test score: 0.436572520821\n",
      "OOB score: 0.447428776636\n"
     ]
    }
   ],
   "source": [
    "# Step 1: Initiating the bagging regressor algorithm\n",
    "rf_regressor = RandomForestRegressor(n_estimators=400, random_state=42, min_samples_leaf=20,oob_score=True)\n",
    "# Step 2: Training the bagging regressor algorithm\n",
    "rf_regressor.fit(X_train,y_train)\n",
    "# Step 3: Calculating the score of the predictive power on the training and testing dataset.\n",
    "print_scores(rf_regressor, X_train, y_train, X_test, y_test, oob_score=True)"
   ]
  },
  {
   "cell_type": "code",
   "execution_count": 72,
   "metadata": {},
   "outputs": [
    {
     "name": "stdout",
     "output_type": "stream",
     "text": [
      "Mean squared error between the predicted and true loan amounts: 240554 \n"
     ]
    },
    {
     "data": {
      "text/plain": [
       "<matplotlib.collections.PathCollection at 0x12080b470>"
      ]
     },
     "execution_count": 72,
     "metadata": {},
     "output_type": "execute_result"
    },
    {
     "data": {
      "text/plain": [
       "<matplotlib.text.Text at 0x1a35aacc0>"
      ]
     },
     "execution_count": 72,
     "metadata": {},
     "output_type": "execute_result"
    },
    {
     "data": {
      "text/plain": [
       "<matplotlib.text.Text at 0x1a35c3898>"
      ]
     },
     "execution_count": 72,
     "metadata": {},
     "output_type": "execute_result"
    },
    {
     "data": {
      "text/plain": [
       "<matplotlib.text.Text at 0x1a35ca710>"
      ]
     },
     "execution_count": 72,
     "metadata": {},
     "output_type": "execute_result"
    },
    {
     "data": {
      "image/png": "[encoded data removed]",
      "text/plain": [
       "<matplotlib.figure.Figure at 0x1a35b30b8>"
      ]
     },
     "metadata": {},
     "output_type": "display_data"
    }
   ],
   "source": [
    "rf_y_predicted_train = rf_regressor.predict(X_train)\n",
    "print(\"Mean squared error between the predicted and true loan amounts: %d \" % round(mean_squared_error(y_train, rf_y_predicted_train)))\n",
    "\n",
    "fig = plt.figure(figsize=(7, 7))\n",
    "plt.scatter(y_train, rf_y_predicted_train, alpha=0.5)\n",
    "plt.xlabel('True value')\n",
    "plt.ylabel('Predicted value')\n",
    "plt.title(\"relationship between True Y and predicted Y* loan amount (train dataset)\")\n",
    "plt.show()"
   ]
  },
  {
   "cell_type": "code",
   "execution_count": 73,
   "metadata": {},
   "outputs": [
    {
     "name": "stdout",
     "output_type": "stream",
     "text": [
      "Mean squared error between the predicted and true loan amounts: 358813 \n"
     ]
    },
    {
     "data": {
      "text/plain": [
       "<matplotlib.collections.PathCollection at 0x1186be898>"
      ]
     },
     "execution_count": 73,
     "metadata": {},
     "output_type": "execute_result"
    },
    {
     "data": {
      "text/plain": [
       "<matplotlib.text.Text at 0x1217b1e80>"
      ]
     },
     "execution_count": 73,
     "metadata": {},
     "output_type": "execute_result"
    },
    {
     "data": {
      "text/plain": [
       "<matplotlib.text.Text at 0x1c1925320>"
      ]
     },
     "execution_count": 73,
     "metadata": {},
     "output_type": "execute_result"
    },
    {
     "data": {
      "text/plain": [
       "<matplotlib.text.Text at 0x1c193e5c0>"
      ]
     },
     "execution_count": 73,
     "metadata": {},
     "output_type": "execute_result"
    },
    {
     "data": {
      "image/png": "[encoded data removed]",
      "text/plain": [
       "<matplotlib.figure.Figure at 0x1c191feb8>"
      ]
     },
     "metadata": {},
     "output_type": "display_data"
    }
   ],
   "source": [
    "rf_y_predicted_test = rf_regressor.predict(X_test)\n",
    "print(\"Mean squared error between the predicted and true loan amounts: %d \" % round(mean_squared_error(y_test, rf_y_predicted_test)))\n",
    "\n",
    "fig = plt.figure(figsize=(7, 7))\n",
    "plt.scatter(y_test, rf_y_predicted_test, alpha=0.5)\n",
    "plt.xlabel('True value')\n",
    "plt.ylabel('Predicted value')\n",
    "plt.title(\"relationship between True Y and predicted Y* loan amount (test dataset)\")\n",
    "plt.show()"
   ]
  },
  {
   "cell_type": "markdown",
   "metadata": {},
   "source": [
    "The scores haven't changed significantly which means that we can continue just using the top 20 features. This means the algorithms is much faster and gives us a clearer idea of which features affect the loan amount"
   ]
  },
  {
   "cell_type": "code",
   "execution_count": 74,
   "metadata": {},
   "outputs": [
    {
     "name": "stdout",
     "output_type": "stream",
     "text": [
      "Feature Ranking:\n",
      "1. feature terms_repayment_term (0.238025)\n",
      "2. feature borrower_count (0.177542)\n",
      "3. feature sector_Agriculture (0.144823)\n",
      "4. feature posted_year (0.114404)\n",
      "5. feature partner_delinquency_rate (0.088398)\n",
      "6. feature posted_month (0.083735)\n",
      "7. feature married (0.035842)\n",
      "8. feature sector_Education (0.026120)\n",
      "9. feature sector_Retail (0.015315)\n",
      "10. feature more_one_partner_country (0.011995)\n",
      "11. feature top_partners_Other (0.011799)\n",
      "12. feature top_partners_One_Acre_Fund (0.009989)\n",
      "13. feature parent (0.009843)\n",
      "14. feature pct_female (0.007135)\n",
      "15. feature top_partners_Yehu_Microfinance_Trust (0.005567)\n",
      "16. feature children_int (0.005391)\n",
      "17. feature top_partners_VisionFund_Kenya (0.004414)\n",
      "18. feature age_int (0.004304)\n",
      "19. feature tag_Repeat_Borrower (0.003784)\n",
      "20. feature capital_mombasa (0.001576)\n"
     ]
    }
   ],
   "source": [
    "importances = rf_regressor.feature_importances_\n",
    "indices = np.argsort(importances)[::-1]\n",
    "\n",
    "print('Feature Ranking:')\n",
    "for f in range(len(importances)):\n",
    "    print(\"%d. feature %s (%f)\" % (f + 1, X_train2.columns[indices[f]], importances[indices[f]]))"
   ]
  },
  {
   "cell_type": "code",
   "execution_count": 75,
   "metadata": {},
   "outputs": [
    {
     "data": {
      "text/plain": [
       "<matplotlib.figure.Figure at 0x11bf0cf60>"
      ]
     },
     "execution_count": 75,
     "metadata": {},
     "output_type": "execute_result"
    },
    {
     "data": {
      "text/plain": [
       "<matplotlib.text.Text at 0x11bf08710>"
      ]
     },
     "execution_count": 75,
     "metadata": {},
     "output_type": "execute_result"
    },
    {
     "data": {
      "text/plain": [
       "<Container object of 20 artists>"
      ]
     },
     "execution_count": 75,
     "metadata": {},
     "output_type": "execute_result"
    },
    {
     "data": {
      "text/plain": [
       "([<matplotlib.axis.XTick at 0x1203246a0>,\n",
       "  <matplotlib.axis.XTick at 0x1c191f780>,\n",
       "  <matplotlib.axis.XTick at 0x1186e1fd0>,\n",
       "  <matplotlib.axis.XTick at 0x11bf807f0>,\n",
       "  <matplotlib.axis.XTick at 0x11bf7d2e8>,\n",
       "  <matplotlib.axis.XTick at 0x11bf7dda0>,\n",
       "  <matplotlib.axis.XTick at 0x11bf83898>,\n",
       "  <matplotlib.axis.XTick at 0x11bf88390>,\n",
       "  <matplotlib.axis.XTick at 0x11bf88e48>,\n",
       "  <matplotlib.axis.XTick at 0x11bf8b940>,\n",
       "  <matplotlib.axis.XTick at 0x11bf8e438>,\n",
       "  <matplotlib.axis.XTick at 0x11bf8eef0>,\n",
       "  <matplotlib.axis.XTick at 0x11bf939e8>,\n",
       "  <matplotlib.axis.XTick at 0x11bf974e0>,\n",
       "  <matplotlib.axis.XTick at 0x11bf97f98>,\n",
       "  <matplotlib.axis.XTick at 0x11bf9da90>,\n",
       "  <matplotlib.axis.XTick at 0x11bf9f588>,\n",
       "  <matplotlib.axis.XTick at 0x11bfa5080>,\n",
       "  <matplotlib.axis.XTick at 0x11bfa5b38>,\n",
       "  <matplotlib.axis.XTick at 0x11bfa8630>],\n",
       " <a list of 20 Text xticklabel objects>)"
      ]
     },
     "execution_count": 75,
     "metadata": {},
     "output_type": "execute_result"
    },
    {
     "data": {
      "text/plain": [
       "(-1, 20)"
      ]
     },
     "execution_count": 75,
     "metadata": {},
     "output_type": "execute_result"
    },
    {
     "data": {
      "text/plain": [
       "(array([ 0,  1,  2,  3,  4,  5,  6,  7,  8,  9, 10, 11, 12, 13, 14, 15, 16,\n",
       "        17, 18, 19]), <a list of 20 Text xticklabel objects>)"
      ]
     },
     "execution_count": 75,
     "metadata": {},
     "output_type": "execute_result"
    },
    {
     "data": {
      "image/png": "[encoded data removed]",
      "text/plain": [
       "<matplotlib.figure.Figure at 0x11bf0cf60>"
      ]
     },
     "metadata": {},
     "output_type": "display_data"
    },
    {
     "ename": "FileNotFoundError",
     "evalue": "[Errno 2] No such file or directory: 'module_3_images/feature_importance.png'",
     "output_type": "error",
     "traceback": [
      "\u001b[0;31m---------------------------------------------------------------------------\u001b[0m",
      "\u001b[0;31mFileNotFoundError\u001b[0m                         Traceback (most recent call last)",
      "\u001b[0;32m<ipython-input-75-7c4d45890237>\u001b[0m in \u001b[0;36m<module>\u001b[0;34m()\u001b[0m\n\u001b[1;32m     14\u001b[0m \u001b[0mplt\u001b[0m\u001b[0;34m.\u001b[0m\u001b[0mshow\u001b[0m\u001b[0;34m(\u001b[0m\u001b[0;34m)\u001b[0m\u001b[0;34m\u001b[0m\u001b[0m\n\u001b[1;32m     15\u001b[0m \u001b[0;34m\u001b[0m\u001b[0m\n\u001b[0;32m---> 16\u001b[0;31m \u001b[0mplt\u001b[0m\u001b[0;34m.\u001b[0m\u001b[0msavefig\u001b[0m\u001b[0;34m(\u001b[0m\u001b[0;34m'module_3_images/feature_importance.png'\u001b[0m\u001b[0;34m)\u001b[0m\u001b[0;34m\u001b[0m\u001b[0m\n\u001b[0m",
      "\u001b[0;32m/Library/Frameworks/Python.framework/Versions/3.5/lib/python3.5/site-packages/matplotlib/pyplot.py\u001b[0m in \u001b[0;36msavefig\u001b[0;34m(*args, **kwargs)\u001b[0m\n\u001b[1;32m    695\u001b[0m \u001b[0;32mdef\u001b[0m \u001b[0msavefig\u001b[0m\u001b[0;34m(\u001b[0m\u001b[0;34m*\u001b[0m\u001b[0margs\u001b[0m\u001b[0;34m,\u001b[0m \u001b[0;34m**\u001b[0m\u001b[0mkwargs\u001b[0m\u001b[0;34m)\u001b[0m\u001b[0;34m:\u001b[0m\u001b[0;34m\u001b[0m\u001b[0m\n\u001b[1;32m    696\u001b[0m     \u001b[0mfig\u001b[0m \u001b[0;34m=\u001b[0m \u001b[0mgcf\u001b[0m\u001b[0;34m(\u001b[0m\u001b[0;34m)\u001b[0m\u001b[0;34m\u001b[0m\u001b[0m\n\u001b[0;32m--> 697\u001b[0;31m     \u001b[0mres\u001b[0m \u001b[0;34m=\u001b[0m \u001b[0mfig\u001b[0m\u001b[0;34m.\u001b[0m\u001b[0msavefig\u001b[0m\u001b[0;34m(\u001b[0m\u001b[0;34m*\u001b[0m\u001b[0margs\u001b[0m\u001b[0;34m,\u001b[0m \u001b[0;34m**\u001b[0m\u001b[0mkwargs\u001b[0m\u001b[0;34m)\u001b[0m\u001b[0;34m\u001b[0m\u001b[0m\n\u001b[0m\u001b[1;32m    698\u001b[0m     \u001b[0mfig\u001b[0m\u001b[0;34m.\u001b[0m\u001b[0mcanvas\u001b[0m\u001b[0;34m.\u001b[0m\u001b[0mdraw_idle\u001b[0m\u001b[0;34m(\u001b[0m\u001b[0;34m)\u001b[0m   \u001b[0;31m# need this if 'transparent=True' to reset colors\u001b[0m\u001b[0;34m\u001b[0m\u001b[0m\n\u001b[1;32m    699\u001b[0m     \u001b[0;32mreturn\u001b[0m \u001b[0mres\u001b[0m\u001b[0;34m\u001b[0m\u001b[0m\n",
      "\u001b[0;32m/Library/Frameworks/Python.framework/Versions/3.5/lib/python3.5/site-packages/matplotlib/figure.py\u001b[0m in \u001b[0;36msavefig\u001b[0;34m(self, *args, **kwargs)\u001b[0m\n\u001b[1;32m   1571\u001b[0m             \u001b[0mself\u001b[0m\u001b[0;34m.\u001b[0m\u001b[0mset_frameon\u001b[0m\u001b[0;34m(\u001b[0m\u001b[0mframeon\u001b[0m\u001b[0;34m)\u001b[0m\u001b[0;34m\u001b[0m\u001b[0m\n\u001b[1;32m   1572\u001b[0m \u001b[0;34m\u001b[0m\u001b[0m\n\u001b[0;32m-> 1573\u001b[0;31m         \u001b[0mself\u001b[0m\u001b[0;34m.\u001b[0m\u001b[0mcanvas\u001b[0m\u001b[0;34m.\u001b[0m\u001b[0mprint_figure\u001b[0m\u001b[0;34m(\u001b[0m\u001b[0;34m*\u001b[0m\u001b[0margs\u001b[0m\u001b[0;34m,\u001b[0m \u001b[0;34m**\u001b[0m\u001b[0mkwargs\u001b[0m\u001b[0;34m)\u001b[0m\u001b[0;34m\u001b[0m\u001b[0m\n\u001b[0m\u001b[1;32m   1574\u001b[0m \u001b[0;34m\u001b[0m\u001b[0m\n\u001b[1;32m   1575\u001b[0m         \u001b[0;32mif\u001b[0m \u001b[0mframeon\u001b[0m\u001b[0;34m:\u001b[0m\u001b[0;34m\u001b[0m\u001b[0m\n",
      "\u001b[0;32m/Library/Frameworks/Python.framework/Versions/3.5/lib/python3.5/site-packages/matplotlib/backend_bases.py\u001b[0m in \u001b[0;36mprint_figure\u001b[0;34m(self, filename, dpi, facecolor, edgecolor, orientation, format, **kwargs)\u001b[0m\n\u001b[1;32m   2250\u001b[0m                 \u001b[0morientation\u001b[0m\u001b[0;34m=\u001b[0m\u001b[0morientation\u001b[0m\u001b[0;34m,\u001b[0m\u001b[0;34m\u001b[0m\u001b[0m\n\u001b[1;32m   2251\u001b[0m                 \u001b[0mbbox_inches_restore\u001b[0m\u001b[0;34m=\u001b[0m\u001b[0m_bbox_inches_restore\u001b[0m\u001b[0;34m,\u001b[0m\u001b[0;34m\u001b[0m\u001b[0m\n\u001b[0;32m-> 2252\u001b[0;31m                 **kwargs)\n\u001b[0m\u001b[1;32m   2253\u001b[0m         \u001b[0;32mfinally\u001b[0m\u001b[0;34m:\u001b[0m\u001b[0;34m\u001b[0m\u001b[0m\n\u001b[1;32m   2254\u001b[0m             \u001b[0;32mif\u001b[0m \u001b[0mbbox_inches\u001b[0m \u001b[0;32mand\u001b[0m \u001b[0mrestore_bbox\u001b[0m\u001b[0;34m:\u001b[0m\u001b[0;34m\u001b[0m\u001b[0m\n",
      "\u001b[0;32m/Library/Frameworks/Python.framework/Versions/3.5/lib/python3.5/site-packages/matplotlib/backends/backend_agg.py\u001b[0m in \u001b[0;36mprint_png\u001b[0;34m(self, filename_or_obj, *args, **kwargs)\u001b[0m\n\u001b[1;32m    548\u001b[0m         \u001b[0mrenderer\u001b[0m\u001b[0;34m.\u001b[0m\u001b[0mdpi\u001b[0m \u001b[0;34m=\u001b[0m \u001b[0mself\u001b[0m\u001b[0;34m.\u001b[0m\u001b[0mfigure\u001b[0m\u001b[0;34m.\u001b[0m\u001b[0mdpi\u001b[0m\u001b[0;34m\u001b[0m\u001b[0m\n\u001b[1;32m    549\u001b[0m         \u001b[0;32mif\u001b[0m \u001b[0mis_string_like\u001b[0m\u001b[0;34m(\u001b[0m\u001b[0mfilename_or_obj\u001b[0m\u001b[0;34m)\u001b[0m\u001b[0;34m:\u001b[0m\u001b[0;34m\u001b[0m\u001b[0m\n\u001b[0;32m--> 550\u001b[0;31m             \u001b[0mfilename_or_obj\u001b[0m \u001b[0;34m=\u001b[0m \u001b[0mopen\u001b[0m\u001b[0;34m(\u001b[0m\u001b[0mfilename_or_obj\u001b[0m\u001b[0;34m,\u001b[0m \u001b[0;34m'wb'\u001b[0m\u001b[0;34m)\u001b[0m\u001b[0;34m\u001b[0m\u001b[0m\n\u001b[0m\u001b[1;32m    551\u001b[0m             \u001b[0mclose\u001b[0m \u001b[0;34m=\u001b[0m \u001b[0;32mTrue\u001b[0m\u001b[0;34m\u001b[0m\u001b[0m\n\u001b[1;32m    552\u001b[0m         \u001b[0;32melse\u001b[0m\u001b[0;34m:\u001b[0m\u001b[0;34m\u001b[0m\u001b[0m\n",
      "\u001b[0;31mFileNotFoundError\u001b[0m: [Errno 2] No such file or directory: 'module_3_images/feature_importance.png'"
     ]
    },
    {
     "data": {
      "text/plain": [
       "<matplotlib.figure.Figure at 0x11bef9128>"
      ]
     },
     "metadata": {},
     "output_type": "display_data"
    }
   ],
   "source": [
    "importances = rf_regressor.feature_importances_\n",
    "std = np.std([tree.feature_importances_ for tree in rf_regressor.estimators_],\n",
    "             axis=0)\n",
    "indices = np.argsort(importances)[::-1]\n",
    "\n",
    "feature_names = rf_trainX.columns \n",
    "plt.figure(figsize=(10,10))\n",
    "plt.title(\"Feature importances\")\n",
    "plt.bar(range(X_train2.shape[1]), importances[indices],\n",
    "       color=\"r\", yerr=std[indices], align=\"center\")\n",
    "plt.xticks(range(X_train2.shape[1]),feature_names)\n",
    "plt.xlim([-1, X_train2.shape[1]])\n",
    "plt.xticks(rotation=90)\n",
    "plt.show()\n",
    "\n",
    "plt.savefig('module_3_images/feature_importance.png')"
   ]
  },
  {
   "cell_type": "markdown",
   "metadata": {},
   "source": [
    "Before we move onto homework, remember to output your final dataframe so you don't have to rerun it."
   ]
  },
  {
   "cell_type": "code",
   "execution_count": 76,
   "metadata": {
    "collapsed": true
   },
   "outputs": [],
   "source": [
    "df.to_csv(data_path+'df_module_3.csv')"
   ]
  },
  {
   "cell_type": "markdown",
   "metadata": {},
   "source": [
    "## Predicting Days to Fund"
   ]
  },
  {
   "cell_type": "markdown",
   "metadata": {},
   "source": [
    "Repeat the BaggingRegressor and the RandomForestRegressor method with a new target feature: days_to_fund. Determine the monst important features and discuss which features are intuitive or a surprise and why. \n"
   ]
  },
  {
   "cell_type": "code",
   "execution_count": null,
   "metadata": {},
   "outputs": [],
   "source": [
    "# adding the loan_amount feature back into the rf_trainArr dataset\n",
    "rf_trainArr['loan_amount'] = rf_trainRes\n",
    "# The new target feature result is the days_to_fund so pull that out and drop it from the training array\n",
    "rf_trainRes = rf_trainArr['days_to_fund']\n",
    "rf_trainArr = rf_trainArr.drop('days_to_fund', axis=1)"
   ]
  },
  {
   "cell_type": "code",
   "execution_count": null,
   "metadata": {
    "collapsed": true
   },
   "outputs": [],
   "source": [
    "# Create X_train, y_train, X_test and y_test where the y value is the days_to_fund feature. \n",
    "# Try using test_train_split function imported from sklearn"
   ]
  },
  {
   "cell_type": "markdown",
   "metadata": {},
   "source": [
    "Remember the three basic steps:\n",
    "- step 1: Initiate the algorithm\n",
    "- step 2: Fit the algorithm to the training data\n",
    "- step 3: Evaluate the algorithm performance"
   ]
  },
  {
   "cell_type": "code",
   "execution_count": null,
   "metadata": {
    "collapsed": true
   },
   "outputs": [],
   "source": [
    "# Use the BaggingRegressor method to predict the days_to_fund"
   ]
  },
  {
   "cell_type": "code",
   "execution_count": null,
   "metadata": {
    "collapsed": true
   },
   "outputs": [],
   "source": [
    "# Use the RandomForest Regressor method to predict the days_to_fund"
   ]
  },
  {
   "cell_type": "code",
   "execution_count": null,
   "metadata": {
    "collapsed": true
   },
   "outputs": [],
   "source": [
    "# Find the most important features"
   ]
  },
  {
   "cell_type": "markdown",
   "metadata": {},
   "source": [
    "## Advanced Homework (optional)"
   ]
  },
  {
   "cell_type": "markdown",
   "metadata": {},
   "source": [
    "The sklearn RandomForest library also has a classifier method, which rather than predicting a continuous numerical value such as loan amount or days to fund, it attempted to classify data on existing labels, eg: male or female. \n",
    "\n",
    "We imported this method at the beginning and you can read more about it here using the following cell or by going the sklearn [RandomForestClassifier](http://scikit-learn.org/stable/modules/generated/sklearn.ensemble.RandomForestClassifier.html) webpage."
   ]
  },
  {
   "cell_type": "code",
   "execution_count": null,
   "metadata": {
    "collapsed": true
   },
   "outputs": [],
   "source": [
    "RandomForestClassifier?"
   ]
  },
  {
   "cell_type": "markdown",
   "metadata": {},
   "source": [
    "Using this module and the original feature gender, see how well we can classify loans by the gender. The procedure for training and testing data is practically the same as the RandomForestRegressor and the score is the mean accuracy of the predictions rather than the R^2 of the regression. "
   ]
  },
  {
   "cell_type": "markdown",
   "metadata": {},
   "source": [
    "## Advanced Material: Optimising the algorithm"
   ]
  },
  {
   "cell_type": "markdown",
   "metadata": {},
   "source": [
    "Up to this point, we have been largely been using the default values for all of the hyper-parameters.  To increase perfromance we should try adjusting these parameters.  Sklearn's GridSearchCV uses cross-validation to assess the performance of each possible permutation of the hyper-parameters that you specify."
   ]
  },
  {
   "cell_type": "code",
   "execution_count": 77,
   "metadata": {
    "collapsed": true
   },
   "outputs": [],
   "source": [
    "from sklearn.model_selection import GridSearchCV\n",
    "parameters = {'n_estimators': [100, 300, 500],\n",
    "             'max_features': ['auto', 'sqrt', 'log2'],\n",
    "              'max_depth': [None, 5, 10]\n",
    "             }\n",
    "gridrf = RandomForestRegressor()\n",
    "grid_rf = GridSearchCV(gridrf, parameters)"
   ]
  },
  {
   "cell_type": "code",
   "execution_count": null,
   "metadata": {},
   "outputs": [],
   "source": [
    "grid_rf.fit(X_train, y_train)"
   ]
  },
  {
   "cell_type": "markdown",
   "metadata": {},
   "source": [
    "To find out which set of parameters performed best, we can use the .best\\_pramas\\_ method"
   ]
  },
  {
   "cell_type": "code",
   "execution_count": null,
   "metadata": {
    "collapsed": true
   },
   "outputs": [],
   "source": [
    "grid_rf.best_params_"
   ]
  },
  {
   "cell_type": "markdown",
   "metadata": {},
   "source": [
    "Next, let's check out the variation in performance."
   ]
  },
  {
   "cell_type": "code",
   "execution_count": null,
   "metadata": {
    "collapsed": true
   },
   "outputs": [],
   "source": [
    "means = grid_rf.cv_results_['mean_test_score']\n",
    "stds = grid_rf.cv_results_['std_test_score']\n",
    "for mean, std, params in zip(means, stds, grid_rf.cv_results_['params']):\n",
    "    print(\"%0.3f (+/-%0.03f) for %r\"\n",
    "          % (mean, std * 2, params))"
   ]
  },
  {
   "cell_type": "markdown",
   "metadata": {},
   "source": []
  }
 ],
 "metadata": {
  "kernelspec": {
   "display_name": "Python 3",
   "language": "python",
   "name": "python3"
  },
  "language_info": {
   "codemirror_mode": {
    "name": "ipython",
    "version": 3
   },
   "file_extension": ".py",
   "mimetype": "text/x-python",
   "name": "python",
   "nbconvert_exporter": "python",
   "pygments_lexer": "ipython3",
   "version": "3.5.2"
  }
 },
 "nbformat": 4,
 "nbformat_minor": 2
}
